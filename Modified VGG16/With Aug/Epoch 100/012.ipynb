{
  "nbformat": 4,
  "nbformat_minor": 0,
  "metadata": {
    "accelerator": "GPU",
    "colab": {
      "name": "FINAL.ipynb",
      "provenance": [],
      "collapsed_sections": [],
      "include_colab_link": true
    },
    "kernelspec": {
      "display_name": "Python 3",
      "name": "python3"
    },
    "language_info": {
      "name": "python"
    }
  },
  "cells": [
    {
      "cell_type": "markdown",
      "metadata": {
        "id": "view-in-github",
        "colab_type": "text"
      },
      "source": [
        "<a href=\"https://colab.research.google.com/github/rizqyjoe/FER2013_VGG16_Modified/blob/main/Modified%20VGG16/With%20Aug/Epoch%20100/012.ipynb\" target=\"_parent\"><img src=\"https://colab.research.google.com/assets/colab-badge.svg\" alt=\"Open In Colab\"/></a>"
      ]
    },
    {
      "cell_type": "code",
      "metadata": {
        "id": "sX-0w3h_sh6U",
        "colab": {
          "base_uri": "https://localhost:8080/"
        },
        "outputId": "753f803b-a8e5-494a-85df-3b8da888eb2b"
      },
      "source": [
        "#mount drive\n",
        "from google.colab import drive\n",
        "drive.mount('/content/drive')"
      ],
      "execution_count": 1,
      "outputs": [
        {
          "output_type": "stream",
          "text": [
            "Mounted at /content/drive\n"
          ],
          "name": "stdout"
        }
      ]
    },
    {
      "cell_type": "markdown",
      "metadata": {
        "id": "58jrp8yObBBA"
      },
      "source": [
        "# Pre-processing"
      ]
    },
    {
      "cell_type": "code",
      "metadata": {
        "id": "7nrYTmGLrD2A"
      },
      "source": [
        "import tensorflow as tf\n",
        "import keras\n",
        "from keras import backend as K\n",
        "import pandas as pd\n",
        "import numpy as np\n",
        "import matplotlib.pyplot as plt\n",
        "from keras.preprocessing import image\n",
        "from keras.preprocessing.image import ImageDataGenerator\n",
        "from keras import regularizers\n",
        "from keras.utils import np_utils\n",
        "\n",
        "import random\n",
        "\n",
        "tf.random.set_seed(1234)\n",
        "np.random.seed(1234)\n",
        "\n",
        "from keras.initializers import glorot_uniform"
      ],
      "execution_count": 1,
      "outputs": []
    },
    {
      "cell_type": "code",
      "metadata": {
        "colab": {
          "base_uri": "https://localhost:8080/",
          "height": 204
        },
        "id": "0vTjzHIRrW53",
        "outputId": "199c8b77-834a-48b6-f8b9-a09efec1be75"
      },
      "source": [
        "#load file\n",
        "data= pd.read_csv('/content/drive/MyDrive/dataset/fer2013 dataset/fer2013/fer2013.csv')\n",
        "data.head()"
      ],
      "execution_count": 2,
      "outputs": [
        {
          "output_type": "execute_result",
          "data": {
            "text/html": [
              "<div>\n",
              "<style scoped>\n",
              "    .dataframe tbody tr th:only-of-type {\n",
              "        vertical-align: middle;\n",
              "    }\n",
              "\n",
              "    .dataframe tbody tr th {\n",
              "        vertical-align: top;\n",
              "    }\n",
              "\n",
              "    .dataframe thead th {\n",
              "        text-align: right;\n",
              "    }\n",
              "</style>\n",
              "<table border=\"1\" class=\"dataframe\">\n",
              "  <thead>\n",
              "    <tr style=\"text-align: right;\">\n",
              "      <th></th>\n",
              "      <th>emotion</th>\n",
              "      <th>pixels</th>\n",
              "      <th>Usage</th>\n",
              "    </tr>\n",
              "  </thead>\n",
              "  <tbody>\n",
              "    <tr>\n",
              "      <th>0</th>\n",
              "      <td>0</td>\n",
              "      <td>70 80 82 72 58 58 60 63 54 58 60 48 89 115 121...</td>\n",
              "      <td>Training</td>\n",
              "    </tr>\n",
              "    <tr>\n",
              "      <th>1</th>\n",
              "      <td>0</td>\n",
              "      <td>151 150 147 155 148 133 111 140 170 174 182 15...</td>\n",
              "      <td>Training</td>\n",
              "    </tr>\n",
              "    <tr>\n",
              "      <th>2</th>\n",
              "      <td>2</td>\n",
              "      <td>231 212 156 164 174 138 161 173 182 200 106 38...</td>\n",
              "      <td>Training</td>\n",
              "    </tr>\n",
              "    <tr>\n",
              "      <th>3</th>\n",
              "      <td>4</td>\n",
              "      <td>24 32 36 30 32 23 19 20 30 41 21 22 32 34 21 1...</td>\n",
              "      <td>Training</td>\n",
              "    </tr>\n",
              "    <tr>\n",
              "      <th>4</th>\n",
              "      <td>6</td>\n",
              "      <td>4 0 0 0 0 0 0 0 0 0 0 0 3 15 23 28 48 50 58 84...</td>\n",
              "      <td>Training</td>\n",
              "    </tr>\n",
              "  </tbody>\n",
              "</table>\n",
              "</div>"
            ],
            "text/plain": [
              "   emotion                                             pixels     Usage\n",
              "0        0  70 80 82 72 58 58 60 63 54 58 60 48 89 115 121...  Training\n",
              "1        0  151 150 147 155 148 133 111 140 170 174 182 15...  Training\n",
              "2        2  231 212 156 164 174 138 161 173 182 200 106 38...  Training\n",
              "3        4  24 32 36 30 32 23 19 20 30 41 21 22 32 34 21 1...  Training\n",
              "4        6  4 0 0 0 0 0 0 0 0 0 0 0 3 15 23 28 48 50 58 84...  Training"
            ]
          },
          "metadata": {
            "tags": []
          },
          "execution_count": 2
        }
      ]
    },
    {
      "cell_type": "code",
      "metadata": {
        "colab": {
          "base_uri": "https://localhost:8080/"
        },
        "id": "NU40Z0ynrau2",
        "outputId": "a6599c85-7b89-412b-c278-2aac3db8cd0f"
      },
      "source": [
        "data.emotion.value_counts()"
      ],
      "execution_count": 3,
      "outputs": [
        {
          "output_type": "execute_result",
          "data": {
            "text/plain": [
              "3    8989\n",
              "6    6198\n",
              "4    6077\n",
              "2    5121\n",
              "0    4953\n",
              "5    4002\n",
              "1     547\n",
              "Name: emotion, dtype: int64"
            ]
          },
          "metadata": {
            "tags": []
          },
          "execution_count": 3
        }
      ]
    },
    {
      "cell_type": "code",
      "metadata": {
        "colab": {
          "base_uri": "https://localhost:8080/"
        },
        "id": "8MQKKFDare4e",
        "outputId": "3e8746b3-6271-452e-a551-62957abd5028"
      },
      "source": [
        "data.Usage.value_counts()"
      ],
      "execution_count": 4,
      "outputs": [
        {
          "output_type": "execute_result",
          "data": {
            "text/plain": [
              "Training       28709\n",
              "PublicTest      3589\n",
              "PrivateTest     3589\n",
              "Name: Usage, dtype: int64"
            ]
          },
          "metadata": {
            "tags": []
          },
          "execution_count": 4
        }
      ]
    },
    {
      "cell_type": "code",
      "metadata": {
        "id": "H1M2PtN54iSK"
      },
      "source": [
        "emotion_labels = [\"Angry\", \"Disgust\", \"Fear\", \"Happy\", \"Sad\", \"Surprise\", \"Neutral\"]\n",
        "labels=np.array((\"Angry\", \"Disgust\", \"Fear\", \"Happy\", \"Sad\", \"Surprise\", \"Neutral\"))"
      ],
      "execution_count": 5,
      "outputs": []
    },
    {
      "cell_type": "code",
      "metadata": {
        "id": "RQlblEnwrgkW"
      },
      "source": [
        "#split data \n",
        "train_set = data[(data.Usage == 'Training')] \n",
        "val_set = data[(data.Usage == 'PublicTest')]\n",
        "test_set = data[(data.Usage == 'PrivateTest')] \n",
        "X_train = np.array(list(map(str.split, train_set.pixels)), np.float32) \n",
        "X_val = np.array(list(map(str.split, val_set.pixels)), np.float32) \n",
        "X_test = np.array(list(map(str.split, test_set.pixels)), np.float32) \n",
        "X_train = X_train.reshape(X_train.shape[0], 48, 48, 1) \n",
        "X_val = X_val.reshape(X_val.shape[0], 48, 48, 1)\n",
        "X_test = X_test.reshape(X_test.shape[0], 48, 48, 1)"
      ],
      "execution_count": 6,
      "outputs": []
    },
    {
      "cell_type": "code",
      "metadata": {
        "id": "MVqY8ftoriHW"
      },
      "source": [
        "num_classes = 7\n",
        "\n",
        "y_train = train_set.emotion \n",
        "y_train = np_utils.to_categorical(y_train, num_classes) \n",
        "y_val = val_set.emotion \n",
        "y_val = np_utils.to_categorical(y_val, num_classes) \n",
        "y_test = test_set.emotion \n",
        "y_test = np_utils.to_categorical(y_test, num_classes)"
      ],
      "execution_count": 7,
      "outputs": []
    },
    {
      "cell_type": "code",
      "metadata": {
        "colab": {
          "base_uri": "https://localhost:8080/"
        },
        "id": "WaMwvF5vrju-",
        "outputId": "a5fc1ac9-1afd-4a73-e27b-36fac1870173"
      },
      "source": [
        "print(\"x_train:\",X_train.shape)\n",
        "print(\"y_train:\",y_train.shape)\n",
        "print(\"x_val:\",X_val.shape)\n",
        "print(\"y_val:\",y_val.shape)\n",
        "print(\"x_test:\",X_test.shape)\n",
        "print(\"y_test:\",y_test.shape)"
      ],
      "execution_count": 8,
      "outputs": [
        {
          "output_type": "stream",
          "text": [
            "x_train: (28709, 48, 48, 1)\n",
            "y_train: (28709, 7)\n",
            "x_val: (3589, 48, 48, 1)\n",
            "y_val: (3589, 7)\n",
            "x_test: (3589, 48, 48, 1)\n",
            "y_test: (3589, 7)\n"
          ],
          "name": "stdout"
        }
      ]
    },
    {
      "cell_type": "code",
      "metadata": {
        "id": "DzChH8hGrldw"
      },
      "source": [
        "#data augmentation\n",
        "datagen = ImageDataGenerator(rescale=1./255,\n",
        "                             rotation_range=10,\n",
        "                             width_shift_range=0.2,\n",
        "                             height_shift_range=0.2, \n",
        "                             zoom_range=0.2,\n",
        "                             horizontal_flip=True)\n",
        "\n",
        "#datagen = ImageDataGenerator(rescale=1./255)\n",
        "\n",
        "testgen = ImageDataGenerator(rescale=1./255)\n",
        "\n",
        "\n",
        "datagen.fit(X_train)\n",
        "batch_size = 64"
      ],
      "execution_count": 9,
      "outputs": []
    },
    {
      "cell_type": "code",
      "metadata": {
        "id": "d-nkOZUfrm_e"
      },
      "source": [
        "train_flow = datagen.flow(X_train, y_train, batch_size=batch_size) \n",
        "val_flow = testgen.flow(X_val, y_val, batch_size=batch_size) \n",
        "test_flow = testgen.flow(X_test, y_test, batch_size=batch_size)"
      ],
      "execution_count": 10,
      "outputs": []
    },
    {
      "cell_type": "code",
      "metadata": {
        "id": "3u6vR_8CroMG"
      },
      "source": [
        "from tensorflow.keras.utils import plot_model\n",
        "from matplotlib import pyplot"
      ],
      "execution_count": 11,
      "outputs": []
    },
    {
      "cell_type": "code",
      "metadata": {
        "colab": {
          "base_uri": "https://localhost:8080/",
          "height": 248
        },
        "id": "HZ6sB7a0rp0O",
        "outputId": "dd0c90f7-a6d3-4899-9bda-efca4a90588c"
      },
      "source": [
        "#displaying sample images\n",
        "for X_batch, y_batch in datagen.flow(X_train, y_train, batch_size=9):\n",
        "    for i in range(0, 9): \n",
        "        pyplot.axis('off') \n",
        "        pyplot.subplot(330 + 1 + i) \n",
        "        pyplot.imshow(X_batch[i].reshape(48, 48), cmap=pyplot.get_cmap('gray'))\n",
        "    pyplot.axis('off') \n",
        "    pyplot.show() \n",
        "    break"
      ],
      "execution_count": 12,
      "outputs": [
        {
          "output_type": "display_data",
          "data": {
            "image/png": "[encoded data removed]",
            "text/plain": [
              "<Figure size 432x288 with 9 Axes>"
            ]
          },
          "metadata": {
            "tags": [],
            "needs_background": "light"
          }
        }
      ]
    },
    {
      "cell_type": "markdown",
      "metadata": {
        "id": "mH061hQUbJsv"
      },
      "source": [
        "# Training Model"
      ]
    },
    {
      "cell_type": "code",
      "metadata": {
        "id": "rxqJ_jM_mSTg",
        "colab": {
          "base_uri": "https://localhost:8080/"
        },
        "outputId": "cecfcd25-7180-43b6-884f-50c7a4632dd4"
      },
      "source": [
        "#Model Fix\n",
        "from keras.models import Sequential\n",
        "from keras.layers import Input, Dense, Flatten, Dropout, Conv2D, MaxPool2D, BatchNormalization, GlobalAveragePooling2D\n",
        "\n",
        "input_shape = (48, 48, 1)\n",
        "\n",
        "model = Sequential()\n",
        "\n",
        "model.add(Conv2D(filters=64,input_shape=(input_shape),kernel_size=(3,3),padding=\"same\", activation=\"relu\", kernel_initializer = glorot_uniform(seed=0)))\n",
        "model.add(BatchNormalization())\n",
        "model.add(Conv2D(filters=64,kernel_size=(3,3),padding=\"same\", activation=\"relu\", kernel_initializer = glorot_uniform(seed=0)))\n",
        "model.add(BatchNormalization())\n",
        "model.add(MaxPool2D(pool_size=(2,2),strides=(2,2)))\n",
        "model.add(Dropout(0.2))\n",
        "\n",
        "model.add(Conv2D(filters=128, kernel_size=(3,3), padding=\"same\", activation=\"relu\", kernel_initializer = glorot_uniform(seed=0)))\n",
        "model.add(BatchNormalization())\n",
        "model.add(Conv2D(filters=128, kernel_size=(3,3), padding=\"same\", activation=\"relu\", kernel_initializer = glorot_uniform(seed=0)))\n",
        "model.add(BatchNormalization())\n",
        "model.add(MaxPool2D(pool_size=(2,2),strides=(2,2)))\n",
        "model.add(Dropout(0.3))\n",
        "\n",
        "model.add(Conv2D(filters=256, kernel_size=(3,3), padding=\"same\", activation=\"relu\", kernel_initializer = glorot_uniform(seed=0)))\n",
        "model.add(BatchNormalization())\n",
        "model.add(Conv2D(filters=256, kernel_size=(3,3), padding=\"same\", activation=\"relu\", kernel_initializer = glorot_uniform(seed=0)))\n",
        "model.add(BatchNormalization())\n",
        "model.add(Conv2D(filters=256, kernel_size=(3,3), padding=\"same\", activation=\"relu\", kernel_initializer = glorot_uniform(seed=0)))\n",
        "model.add(BatchNormalization())\n",
        "model.add(MaxPool2D(pool_size=(2,2),strides=(2,2)))\n",
        "model.add(Dropout(0.4))\n",
        "\n",
        "model.add(Conv2D(filters=512, kernel_size=(3,3), padding=\"same\", activation=\"relu\", kernel_initializer = glorot_uniform(seed=0)))\n",
        "model.add(BatchNormalization())\n",
        "model.add(Conv2D(filters=512, kernel_size=(3,3), padding=\"same\", activation=\"relu\", kernel_initializer = glorot_uniform(seed=0)))\n",
        "model.add(BatchNormalization())\n",
        "model.add(Conv2D(filters=512, kernel_size=(3,3), padding=\"same\", activation=\"relu\", kernel_initializer = glorot_uniform(seed=0)))\n",
        "model.add(BatchNormalization())\n",
        "model.add(MaxPool2D(pool_size=(2,2),strides=(2,2)))\n",
        "model.add(Dropout(0.5))\n",
        "\n",
        "model.add(Conv2D(filters=512, kernel_size=(3,3), padding=\"same\", activation=\"relu\", kernel_initializer = glorot_uniform(seed=0)))\n",
        "model.add(BatchNormalization())\n",
        "model.add(Conv2D(filters=512, kernel_size=(3,3), padding=\"same\", activation=\"relu\", kernel_initializer = glorot_uniform(seed=0)))\n",
        "model.add(BatchNormalization())\n",
        "model.add(Conv2D(filters=512, kernel_size=(3,3), padding=\"same\", activation=\"relu\", kernel_initializer = glorot_uniform(seed=0)))\n",
        "model.add(BatchNormalization())\n",
        "model.add(MaxPool2D(pool_size=(2,2),strides=(2,2)))\n",
        "model.add(Dropout(0.6))\n",
        "\n",
        "#model.add(Flatten())\n",
        "model.add(GlobalAveragePooling2D())\n",
        "\n",
        "model.add(Dense(512,activation='relu'))\n",
        "model.add(Dropout(0.5))\n",
        "model.add(Dense(512,activation='relu'))\n",
        "model.add(Dropout(0.5))\n",
        "\n",
        "model.add(Dense(units=num_classes, activation='softmax'))\n",
        "\n",
        "# print the model summary\n",
        "model.summary()"
      ],
      "execution_count": 13,
      "outputs": [
        {
          "output_type": "stream",
          "text": [
            "Model: \"sequential\"\n",
            "_________________________________________________________________\n",
            "Layer (type)                 Output Shape              Param #   \n",
            "=================================================================\n",
            "conv2d (Conv2D)              (None, 48, 48, 64)        640       \n",
            "_________________________________________________________________\n",
            "batch_normalization (BatchNo (None, 48, 48, 64)        256       \n",
            "_________________________________________________________________\n",
            "conv2d_1 (Conv2D)            (None, 48, 48, 64)        36928     \n",
            "_________________________________________________________________\n",
            "batch_normalization_1 (Batch (None, 48, 48, 64)        256       \n",
            "_________________________________________________________________\n",
            "max_pooling2d (MaxPooling2D) (None, 24, 24, 64)        0         \n",
            "_________________________________________________________________\n",
            "dropout (Dropout)            (None, 24, 24, 64)        0         \n",
            "_________________________________________________________________\n",
            "conv2d_2 (Conv2D)            (None, 24, 24, 128)       73856     \n",
            "_________________________________________________________________\n",
            "batch_normalization_2 (Batch (None, 24, 24, 128)       512       \n",
            "_________________________________________________________________\n",
            "conv2d_3 (Conv2D)            (None, 24, 24, 128)       147584    \n",
            "_________________________________________________________________\n",
            "batch_normalization_3 (Batch (None, 24, 24, 128)       512       \n",
            "_________________________________________________________________\n",
            "max_pooling2d_1 (MaxPooling2 (None, 12, 12, 128)       0         \n",
            "_________________________________________________________________\n",
            "dropout_1 (Dropout)          (None, 12, 12, 128)       0         \n",
            "_________________________________________________________________\n",
            "conv2d_4 (Conv2D)            (None, 12, 12, 256)       295168    \n",
            "_________________________________________________________________\n",
            "batch_normalization_4 (Batch (None, 12, 12, 256)       1024      \n",
            "_________________________________________________________________\n",
            "conv2d_5 (Conv2D)            (None, 12, 12, 256)       590080    \n",
            "_________________________________________________________________\n",
            "batch_normalization_5 (Batch (None, 12, 12, 256)       1024      \n",
            "_________________________________________________________________\n",
            "conv2d_6 (Conv2D)            (None, 12, 12, 256)       590080    \n",
            "_________________________________________________________________\n",
            "batch_normalization_6 (Batch (None, 12, 12, 256)       1024      \n",
            "_________________________________________________________________\n",
            "max_pooling2d_2 (MaxPooling2 (None, 6, 6, 256)         0         \n",
            "_________________________________________________________________\n",
            "dropout_2 (Dropout)          (None, 6, 6, 256)         0         \n",
            "_________________________________________________________________\n",
            "conv2d_7 (Conv2D)            (None, 6, 6, 512)         1180160   \n",
            "_________________________________________________________________\n",
            "batch_normalization_7 (Batch (None, 6, 6, 512)         2048      \n",
            "_________________________________________________________________\n",
            "conv2d_8 (Conv2D)            (None, 6, 6, 512)         2359808   \n",
            "_________________________________________________________________\n",
            "batch_normalization_8 (Batch (None, 6, 6, 512)         2048      \n",
            "_________________________________________________________________\n",
            "conv2d_9 (Conv2D)            (None, 6, 6, 512)         2359808   \n",
            "_________________________________________________________________\n",
            "batch_normalization_9 (Batch (None, 6, 6, 512)         2048      \n",
            "_________________________________________________________________\n",
            "max_pooling2d_3 (MaxPooling2 (None, 3, 3, 512)         0         \n",
            "_________________________________________________________________\n",
            "dropout_3 (Dropout)          (None, 3, 3, 512)         0         \n",
            "_________________________________________________________________\n",
            "conv2d_10 (Conv2D)           (None, 3, 3, 512)         2359808   \n",
            "_________________________________________________________________\n",
            "batch_normalization_10 (Batc (None, 3, 3, 512)         2048      \n",
            "_________________________________________________________________\n",
            "conv2d_11 (Conv2D)           (None, 3, 3, 512)         2359808   \n",
            "_________________________________________________________________\n",
            "batch_normalization_11 (Batc (None, 3, 3, 512)         2048      \n",
            "_________________________________________________________________\n",
            "conv2d_12 (Conv2D)           (None, 3, 3, 512)         2359808   \n",
            "_________________________________________________________________\n",
            "batch_normalization_12 (Batc (None, 3, 3, 512)         2048      \n",
            "_________________________________________________________________\n",
            "max_pooling2d_4 (MaxPooling2 (None, 1, 1, 512)         0         \n",
            "_________________________________________________________________\n",
            "dropout_4 (Dropout)          (None, 1, 1, 512)         0         \n",
            "_________________________________________________________________\n",
            "global_average_pooling2d (Gl (None, 512)               0         \n",
            "_________________________________________________________________\n",
            "dense (Dense)                (None, 512)               262656    \n",
            "_________________________________________________________________\n",
            "dropout_5 (Dropout)          (None, 512)               0         \n",
            "_________________________________________________________________\n",
            "dense_1 (Dense)              (None, 512)               262656    \n",
            "_________________________________________________________________\n",
            "dropout_6 (Dropout)          (None, 512)               0         \n",
            "_________________________________________________________________\n",
            "dense_2 (Dense)              (None, 7)                 3591      \n",
            "=================================================================\n",
            "Total params: 15,259,335\n",
            "Trainable params: 15,250,887\n",
            "Non-trainable params: 8,448\n",
            "_________________________________________________________________\n"
          ],
          "name": "stdout"
        }
      ]
    },
    {
      "cell_type": "code",
      "metadata": {
        "id": "6xCtG0jqFgve"
      },
      "source": [
        "#Model ori\n",
        "'''from keras.models import Sequential\n",
        "from keras.layers import Input, Dense, Flatten, Dropout, Conv2D, MaxPool2D, BatchNormalization, Activation\n",
        "\n",
        "input_shape = (48, 48, 1)\n",
        "\n",
        "model = Sequential()\n",
        "\n",
        "model.add(Conv2D(filters=64,input_shape=(input_shape),kernel_size=(3,3),padding=\"same\", activation=\"relu\", kernel_initializer = glorot_uniform(seed=0)))\n",
        "model.add(Conv2D(filters=64,kernel_size=(3,3),padding=\"same\", activation=\"relu\", kernel_initializer = glorot_uniform(seed=0)))\n",
        "model.add(MaxPool2D(pool_size=(2,2),strides=(2,2)))\n",
        "\n",
        "model.add(Conv2D(filters=128, kernel_size=(3,3), padding=\"same\", activation=\"relu\", kernel_initializer = glorot_uniform(seed=0)))\n",
        "model.add(Conv2D(filters=128, kernel_size=(3,3), padding=\"same\", activation=\"relu\", kernel_initializer = glorot_uniform(seed=0)))\n",
        "model.add(MaxPool2D(pool_size=(2,2),strides=(2,2)))\n",
        "\n",
        "model.add(Conv2D(filters=256, kernel_size=(3,3), padding=\"same\", activation=\"relu\", kernel_initializer = glorot_uniform(seed=0)))\n",
        "model.add(Conv2D(filters=256, kernel_size=(3,3), padding=\"same\", activation=\"relu\", kernel_initializer = glorot_uniform(seed=0)))\n",
        "model.add(Conv2D(filters=256, kernel_size=(3,3), padding=\"same\", activation=\"relu\", kernel_initializer = glorot_uniform(seed=1)))\n",
        "model.add(MaxPool2D(pool_size=(2,2),strides=(2,2)))\n",
        "\n",
        "model.add(Conv2D(filters=512, kernel_size=(3,3), padding=\"same\", activation=\"relu\", kernel_initializer = glorot_uniform(seed=0)))\n",
        "model.add(Conv2D(filters=512, kernel_size=(3,3), padding=\"same\", activation=\"relu\", kernel_initializer = glorot_uniform(seed=0)))\n",
        "model.add(Conv2D(filters=512, kernel_size=(3,3), padding=\"same\", activation=\"relu\", kernel_initializer = glorot_uniform(seed=0)))\n",
        "model.add(MaxPool2D(pool_size=(2,2),strides=(2,2)))\n",
        "\n",
        "model.add(Conv2D(filters=512, kernel_size=(3,3), padding=\"same\", activation=\"relu\", kernel_initializer = glorot_uniform(seed=0)))\n",
        "model.add(Conv2D(filters=512, kernel_size=(3,3), padding=\"same\", activation=\"relu\", kernel_initializer = glorot_uniform(seed=0)))\n",
        "model.add(Conv2D(filters=512, kernel_size=(3,3), padding=\"same\", activation=\"relu\", kernel_initializer = glorot_uniform(seed=0)))\n",
        "model.add(MaxPool2D(pool_size=(2,2),strides=(2,2)))\n",
        "\n",
        "model.add(Flatten())\n",
        "\n",
        "model.add(Dense(4096,activation='relu'))\n",
        "model.add(Dense(4096,activation='relu'))\n",
        "model.add(Dense(units=num_classes, activation='softmax'))\n",
        "\n",
        "# print the model summary\n",
        "model.summary()"
      ],
      "execution_count": null,
      "outputs": []
    },
    {
      "cell_type": "code",
      "metadata": {
        "id": "0S679DUacsgI"
      },
      "source": [
        "#save plot model to file\n",
        "from keras.utils.vis_utils import plot_model\n",
        "plot_model(model, to_file=\"model_fix.png\", show_shapes=True, show_layer_names=False)"
      ],
      "execution_count": null,
      "outputs": []
    },
    {
      "cell_type": "code",
      "metadata": {
        "id": "LhxgJX3brul-"
      },
      "source": [
        "#compile model\n",
        "from keras.optimizers import Adam,SGD,RMSprop\n",
        "\n",
        "opt = RMSprop(learning_rate=0.00001)\n",
        "model.compile(loss='categorical_crossentropy', optimizer=opt, metrics=['accuracy'])"
      ],
      "execution_count": 14,
      "outputs": []
    },
    {
      "cell_type": "code",
      "metadata": {
        "colab": {
          "base_uri": "https://localhost:8080/"
        },
        "id": "ljPuPM2iryKG",
        "outputId": "864ce63b-c30c-4009-a3c7-24ec76131729"
      },
      "source": [
        "# fit the model\n",
        "num_epochs = 100\n",
        "history = model.fit(train_flow, \n",
        "                    steps_per_epoch=len(X_train) // batch_size, \n",
        "                    epochs=num_epochs,  \n",
        "                    verbose=1,  \n",
        "                    validation_data=val_flow,  \n",
        "                    validation_steps=len(X_val) // batch_size)"
      ],
      "execution_count": 15,
      "outputs": [
        {
          "output_type": "stream",
          "text": [
            "Epoch 1/100\n",
            "448/448 [==============================] - 60s 84ms/step - loss: 4.4200 - accuracy: 0.1464 - val_loss: 1.9102 - val_accuracy: 0.1861\n",
            "Epoch 2/100\n",
            "448/448 [==============================] - 34s 76ms/step - loss: 3.0466 - accuracy: 0.1817 - val_loss: 1.8626 - val_accuracy: 0.1825\n",
            "Epoch 3/100\n",
            "448/448 [==============================] - 34s 77ms/step - loss: 2.4242 - accuracy: 0.1830 - val_loss: 1.8411 - val_accuracy: 0.2352\n",
            "Epoch 4/100\n",
            "448/448 [==============================] - 34s 76ms/step - loss: 2.1382 - accuracy: 0.1916 - val_loss: 1.8305 - val_accuracy: 0.2511\n",
            "Epoch 5/100\n",
            "448/448 [==============================] - 34s 77ms/step - loss: 1.9896 - accuracy: 0.2021 - val_loss: 1.8279 - val_accuracy: 0.2550\n",
            "Epoch 6/100\n",
            "448/448 [==============================] - 34s 77ms/step - loss: 1.9385 - accuracy: 0.2103 - val_loss: 1.8282 - val_accuracy: 0.2506\n",
            "Epoch 7/100\n",
            "448/448 [==============================] - 34s 76ms/step - loss: 1.8971 - accuracy: 0.2127 - val_loss: 1.8217 - val_accuracy: 0.2497\n",
            "Epoch 8/100\n",
            "448/448 [==============================] - 34s 76ms/step - loss: 1.8723 - accuracy: 0.2151 - val_loss: 1.8207 - val_accuracy: 0.2500\n",
            "Epoch 9/100\n",
            "448/448 [==============================] - 34s 76ms/step - loss: 1.8601 - accuracy: 0.2227 - val_loss: 1.8143 - val_accuracy: 0.2520\n",
            "Epoch 10/100\n",
            "448/448 [==============================] - 34s 77ms/step - loss: 1.8482 - accuracy: 0.2227 - val_loss: 1.8116 - val_accuracy: 0.2506\n",
            "Epoch 11/100\n",
            "448/448 [==============================] - 34s 76ms/step - loss: 1.8413 - accuracy: 0.2234 - val_loss: 1.8098 - val_accuracy: 0.2506\n",
            "Epoch 12/100\n",
            "448/448 [==============================] - 34s 76ms/step - loss: 1.8294 - accuracy: 0.2304 - val_loss: 1.8045 - val_accuracy: 0.2497\n",
            "Epoch 13/100\n",
            "448/448 [==============================] - 34s 76ms/step - loss: 1.8267 - accuracy: 0.2366 - val_loss: 1.8042 - val_accuracy: 0.2500\n",
            "Epoch 14/100\n",
            "448/448 [==============================] - 34s 76ms/step - loss: 1.8202 - accuracy: 0.2332 - val_loss: 1.8041 - val_accuracy: 0.2497\n",
            "Epoch 15/100\n",
            "448/448 [==============================] - 34s 77ms/step - loss: 1.8218 - accuracy: 0.2372 - val_loss: 1.8003 - val_accuracy: 0.2494\n",
            "Epoch 16/100\n",
            "448/448 [==============================] - 34s 77ms/step - loss: 1.8189 - accuracy: 0.2356 - val_loss: 1.8018 - val_accuracy: 0.2508\n",
            "Epoch 17/100\n",
            "448/448 [==============================] - 34s 76ms/step - loss: 1.8177 - accuracy: 0.2361 - val_loss: 1.7978 - val_accuracy: 0.2503\n",
            "Epoch 18/100\n",
            "448/448 [==============================] - 34s 76ms/step - loss: 1.8090 - accuracy: 0.2394 - val_loss: 1.7902 - val_accuracy: 0.2500\n",
            "Epoch 19/100\n",
            "448/448 [==============================] - 34s 77ms/step - loss: 1.8059 - accuracy: 0.2425 - val_loss: 1.7825 - val_accuracy: 0.2520\n",
            "Epoch 20/100\n",
            "448/448 [==============================] - 34s 76ms/step - loss: 1.7971 - accuracy: 0.2509 - val_loss: 1.7849 - val_accuracy: 0.2517\n",
            "Epoch 21/100\n",
            "448/448 [==============================] - 34s 77ms/step - loss: 1.7984 - accuracy: 0.2475 - val_loss: 1.7711 - val_accuracy: 0.2609\n",
            "Epoch 22/100\n",
            "448/448 [==============================] - 34s 77ms/step - loss: 1.7842 - accuracy: 0.2540 - val_loss: 1.7682 - val_accuracy: 0.2637\n",
            "Epoch 23/100\n",
            "448/448 [==============================] - 34s 77ms/step - loss: 1.7900 - accuracy: 0.2469 - val_loss: 1.7683 - val_accuracy: 0.2637\n",
            "Epoch 24/100\n",
            "448/448 [==============================] - 34s 77ms/step - loss: 1.7812 - accuracy: 0.2503 - val_loss: 1.7670 - val_accuracy: 0.2612\n",
            "Epoch 25/100\n",
            "448/448 [==============================] - 34s 76ms/step - loss: 1.7780 - accuracy: 0.2590 - val_loss: 1.7587 - val_accuracy: 0.2712\n",
            "Epoch 26/100\n",
            "448/448 [==============================] - 34s 76ms/step - loss: 1.7777 - accuracy: 0.2561 - val_loss: 1.7694 - val_accuracy: 0.2715\n",
            "Epoch 27/100\n",
            "448/448 [==============================] - 34s 77ms/step - loss: 1.7618 - accuracy: 0.2651 - val_loss: 1.7712 - val_accuracy: 0.2824\n",
            "Epoch 28/100\n",
            "448/448 [==============================] - 34s 77ms/step - loss: 1.7565 - accuracy: 0.2660 - val_loss: 1.7852 - val_accuracy: 0.2854\n",
            "Epoch 29/100\n",
            "448/448 [==============================] - 34s 76ms/step - loss: 1.7498 - accuracy: 0.2703 - val_loss: 1.8461 - val_accuracy: 0.2754\n",
            "Epoch 30/100\n",
            "448/448 [==============================] - 34s 77ms/step - loss: 1.7329 - accuracy: 0.2847 - val_loss: 1.7717 - val_accuracy: 0.2921\n",
            "Epoch 31/100\n",
            "448/448 [==============================] - 34s 77ms/step - loss: 1.7326 - accuracy: 0.2861 - val_loss: 1.8147 - val_accuracy: 0.2913\n",
            "Epoch 32/100\n",
            "448/448 [==============================] - 34s 77ms/step - loss: 1.7270 - accuracy: 0.2904 - val_loss: 1.8269 - val_accuracy: 0.3002\n",
            "Epoch 33/100\n",
            "448/448 [==============================] - 34s 77ms/step - loss: 1.7182 - accuracy: 0.2976 - val_loss: 1.7549 - val_accuracy: 0.3092\n",
            "Epoch 34/100\n",
            "448/448 [==============================] - 34s 76ms/step - loss: 1.7018 - accuracy: 0.2997 - val_loss: 1.7555 - val_accuracy: 0.3147\n",
            "Epoch 35/100\n",
            "448/448 [==============================] - 35s 77ms/step - loss: 1.6971 - accuracy: 0.3013 - val_loss: 1.7610 - val_accuracy: 0.3161\n",
            "Epoch 36/100\n",
            "448/448 [==============================] - 34s 77ms/step - loss: 1.6889 - accuracy: 0.3108 - val_loss: 1.8135 - val_accuracy: 0.3145\n",
            "Epoch 37/100\n",
            "448/448 [==============================] - 34s 77ms/step - loss: 1.6838 - accuracy: 0.3151 - val_loss: 1.7803 - val_accuracy: 0.3234\n",
            "Epoch 38/100\n",
            "448/448 [==============================] - 34s 77ms/step - loss: 1.6857 - accuracy: 0.3118 - val_loss: 1.7395 - val_accuracy: 0.3331\n",
            "Epoch 39/100\n",
            "448/448 [==============================] - 34s 77ms/step - loss: 1.6705 - accuracy: 0.3256 - val_loss: 1.7603 - val_accuracy: 0.3393\n",
            "Epoch 40/100\n",
            "448/448 [==============================] - 34s 77ms/step - loss: 1.6628 - accuracy: 0.3248 - val_loss: 1.7225 - val_accuracy: 0.3504\n",
            "Epoch 41/100\n",
            "448/448 [==============================] - 34s 77ms/step - loss: 1.6571 - accuracy: 0.3378 - val_loss: 1.7602 - val_accuracy: 0.3493\n",
            "Epoch 42/100\n",
            "448/448 [==============================] - 34s 77ms/step - loss: 1.6413 - accuracy: 0.3404 - val_loss: 1.6798 - val_accuracy: 0.3638\n",
            "Epoch 43/100\n",
            "448/448 [==============================] - 34s 77ms/step - loss: 1.6337 - accuracy: 0.3490 - val_loss: 1.7012 - val_accuracy: 0.3650\n",
            "Epoch 44/100\n",
            "448/448 [==============================] - 34s 77ms/step - loss: 1.6240 - accuracy: 0.3526 - val_loss: 1.7093 - val_accuracy: 0.3797\n",
            "Epoch 45/100\n",
            "448/448 [==============================] - 34s 76ms/step - loss: 1.6121 - accuracy: 0.3552 - val_loss: 1.6687 - val_accuracy: 0.3864\n",
            "Epoch 46/100\n",
            "448/448 [==============================] - 35s 77ms/step - loss: 1.6060 - accuracy: 0.3616 - val_loss: 1.6823 - val_accuracy: 0.3892\n",
            "Epoch 47/100\n",
            "448/448 [==============================] - 34s 77ms/step - loss: 1.5838 - accuracy: 0.3782 - val_loss: 1.6508 - val_accuracy: 0.3996\n",
            "Epoch 48/100\n",
            "448/448 [==============================] - 35s 77ms/step - loss: 1.5807 - accuracy: 0.3755 - val_loss: 1.6282 - val_accuracy: 0.4062\n",
            "Epoch 49/100\n",
            "448/448 [==============================] - 34s 76ms/step - loss: 1.5762 - accuracy: 0.3747 - val_loss: 1.5934 - val_accuracy: 0.4110\n",
            "Epoch 50/100\n",
            "448/448 [==============================] - 35s 77ms/step - loss: 1.5710 - accuracy: 0.3880 - val_loss: 1.5441 - val_accuracy: 0.4258\n",
            "Epoch 51/100\n",
            "448/448 [==============================] - 34s 77ms/step - loss: 1.5451 - accuracy: 0.3898 - val_loss: 1.5319 - val_accuracy: 0.4289\n",
            "Epoch 52/100\n",
            "448/448 [==============================] - 34s 77ms/step - loss: 1.5343 - accuracy: 0.3970 - val_loss: 1.5029 - val_accuracy: 0.4378\n",
            "Epoch 53/100\n",
            "448/448 [==============================] - 35s 77ms/step - loss: 1.5275 - accuracy: 0.3998 - val_loss: 1.4561 - val_accuracy: 0.4420\n",
            "Epoch 54/100\n",
            "448/448 [==============================] - 34s 77ms/step - loss: 1.5158 - accuracy: 0.4060 - val_loss: 1.4524 - val_accuracy: 0.4509\n",
            "Epoch 55/100\n",
            "448/448 [==============================] - 35s 77ms/step - loss: 1.5202 - accuracy: 0.4074 - val_loss: 1.4133 - val_accuracy: 0.4568\n",
            "Epoch 56/100\n",
            "448/448 [==============================] - 34s 77ms/step - loss: 1.5033 - accuracy: 0.4211 - val_loss: 1.4404 - val_accuracy: 0.4595\n",
            "Epoch 57/100\n",
            "448/448 [==============================] - 34s 77ms/step - loss: 1.4938 - accuracy: 0.4219 - val_loss: 1.3882 - val_accuracy: 0.4688\n",
            "Epoch 58/100\n",
            "448/448 [==============================] - 34s 77ms/step - loss: 1.4857 - accuracy: 0.4250 - val_loss: 1.3755 - val_accuracy: 0.4757\n",
            "Epoch 59/100\n",
            "448/448 [==============================] - 34s 77ms/step - loss: 1.4839 - accuracy: 0.4268 - val_loss: 1.3703 - val_accuracy: 0.4835\n",
            "Epoch 60/100\n",
            "448/448 [==============================] - 34s 77ms/step - loss: 1.4660 - accuracy: 0.4363 - val_loss: 1.3555 - val_accuracy: 0.4844\n",
            "Epoch 61/100\n",
            "448/448 [==============================] - 35s 77ms/step - loss: 1.4570 - accuracy: 0.4425 - val_loss: 1.3472 - val_accuracy: 0.4886\n",
            "Epoch 62/100\n",
            "448/448 [==============================] - 34s 77ms/step - loss: 1.4477 - accuracy: 0.4394 - val_loss: 1.3376 - val_accuracy: 0.4900\n",
            "Epoch 63/100\n",
            "448/448 [==============================] - 34s 77ms/step - loss: 1.4593 - accuracy: 0.4405 - val_loss: 1.3311 - val_accuracy: 0.4939\n",
            "Epoch 64/100\n",
            "448/448 [==============================] - 34s 77ms/step - loss: 1.4394 - accuracy: 0.4498 - val_loss: 1.3157 - val_accuracy: 0.5022\n",
            "Epoch 65/100\n",
            "448/448 [==============================] - 35s 77ms/step - loss: 1.4376 - accuracy: 0.4470 - val_loss: 1.3121 - val_accuracy: 0.5053\n",
            "Epoch 66/100\n",
            "448/448 [==============================] - 34s 77ms/step - loss: 1.4262 - accuracy: 0.4539 - val_loss: 1.3065 - val_accuracy: 0.5028\n",
            "Epoch 67/100\n",
            "448/448 [==============================] - 34s 76ms/step - loss: 1.4237 - accuracy: 0.4553 - val_loss: 1.3015 - val_accuracy: 0.5056\n",
            "Epoch 68/100\n",
            "448/448 [==============================] - 34s 77ms/step - loss: 1.4036 - accuracy: 0.4686 - val_loss: 1.2910 - val_accuracy: 0.5095\n",
            "Epoch 69/100\n",
            "448/448 [==============================] - 35s 77ms/step - loss: 1.4054 - accuracy: 0.4608 - val_loss: 1.2819 - val_accuracy: 0.5047\n",
            "Epoch 70/100\n",
            "448/448 [==============================] - 35s 77ms/step - loss: 1.4027 - accuracy: 0.4651 - val_loss: 1.2748 - val_accuracy: 0.5070\n",
            "Epoch 71/100\n",
            "448/448 [==============================] - 35s 77ms/step - loss: 1.3810 - accuracy: 0.4709 - val_loss: 1.2708 - val_accuracy: 0.5095\n",
            "Epoch 72/100\n",
            "448/448 [==============================] - 34s 77ms/step - loss: 1.4040 - accuracy: 0.4622 - val_loss: 1.2689 - val_accuracy: 0.5070\n",
            "Epoch 73/100\n",
            "448/448 [==============================] - 34s 77ms/step - loss: 1.3887 - accuracy: 0.4704 - val_loss: 1.2601 - val_accuracy: 0.5123\n",
            "Epoch 74/100\n",
            "448/448 [==============================] - 35s 77ms/step - loss: 1.3821 - accuracy: 0.4697 - val_loss: 1.2533 - val_accuracy: 0.5120\n",
            "Epoch 75/100\n",
            "448/448 [==============================] - 34s 77ms/step - loss: 1.3753 - accuracy: 0.4761 - val_loss: 1.2533 - val_accuracy: 0.5181\n",
            "Epoch 76/100\n",
            "448/448 [==============================] - 35s 77ms/step - loss: 1.3691 - accuracy: 0.4821 - val_loss: 1.2505 - val_accuracy: 0.5201\n",
            "Epoch 77/100\n",
            "448/448 [==============================] - 35s 77ms/step - loss: 1.3540 - accuracy: 0.4852 - val_loss: 1.2425 - val_accuracy: 0.5184\n",
            "Epoch 78/100\n",
            "448/448 [==============================] - 35s 77ms/step - loss: 1.3566 - accuracy: 0.4828 - val_loss: 1.2415 - val_accuracy: 0.5212\n",
            "Epoch 79/100\n",
            "448/448 [==============================] - 34s 77ms/step - loss: 1.3433 - accuracy: 0.4928 - val_loss: 1.2317 - val_accuracy: 0.5276\n",
            "Epoch 80/100\n",
            "448/448 [==============================] - 35s 77ms/step - loss: 1.3482 - accuracy: 0.4892 - val_loss: 1.2288 - val_accuracy: 0.5229\n",
            "Epoch 81/100\n",
            "448/448 [==============================] - 34s 77ms/step - loss: 1.3426 - accuracy: 0.4882 - val_loss: 1.2353 - val_accuracy: 0.5246\n",
            "Epoch 82/100\n",
            "448/448 [==============================] - 35s 77ms/step - loss: 1.3299 - accuracy: 0.4944 - val_loss: 1.2122 - val_accuracy: 0.5301\n",
            "Epoch 83/100\n",
            "448/448 [==============================] - 34s 77ms/step - loss: 1.3263 - accuracy: 0.4937 - val_loss: 1.2075 - val_accuracy: 0.5354\n",
            "Epoch 84/100\n",
            "448/448 [==============================] - 34s 77ms/step - loss: 1.3269 - accuracy: 0.4993 - val_loss: 1.2227 - val_accuracy: 0.5338\n",
            "Epoch 85/100\n",
            "448/448 [==============================] - 35s 77ms/step - loss: 1.3165 - accuracy: 0.4970 - val_loss: 1.2147 - val_accuracy: 0.5321\n",
            "Epoch 86/100\n",
            "448/448 [==============================] - 35s 77ms/step - loss: 1.3056 - accuracy: 0.5060 - val_loss: 1.1936 - val_accuracy: 0.5385\n",
            "Epoch 87/100\n",
            "448/448 [==============================] - 34s 77ms/step - loss: 1.3013 - accuracy: 0.5048 - val_loss: 1.2008 - val_accuracy: 0.5360\n",
            "Epoch 88/100\n",
            "448/448 [==============================] - 34s 77ms/step - loss: 1.3037 - accuracy: 0.5063 - val_loss: 1.1901 - val_accuracy: 0.5427\n",
            "Epoch 89/100\n",
            "448/448 [==============================] - 35s 77ms/step - loss: 1.3025 - accuracy: 0.5102 - val_loss: 1.1888 - val_accuracy: 0.5477\n",
            "Epoch 90/100\n",
            "448/448 [==============================] - 35s 77ms/step - loss: 1.2956 - accuracy: 0.5106 - val_loss: 1.1926 - val_accuracy: 0.5430\n",
            "Epoch 91/100\n",
            "448/448 [==============================] - 34s 77ms/step - loss: 1.2809 - accuracy: 0.5155 - val_loss: 1.1953 - val_accuracy: 0.5419\n",
            "Epoch 92/100\n",
            "448/448 [==============================] - 35s 77ms/step - loss: 1.2835 - accuracy: 0.5161 - val_loss: 1.1954 - val_accuracy: 0.5374\n",
            "Epoch 93/100\n",
            "448/448 [==============================] - 35s 77ms/step - loss: 1.2824 - accuracy: 0.5156 - val_loss: 1.1830 - val_accuracy: 0.5460\n",
            "Epoch 94/100\n",
            "448/448 [==============================] - 34s 77ms/step - loss: 1.2878 - accuracy: 0.5122 - val_loss: 1.2033 - val_accuracy: 0.5446\n",
            "Epoch 95/100\n",
            "448/448 [==============================] - 35s 77ms/step - loss: 1.2581 - accuracy: 0.5234 - val_loss: 1.1796 - val_accuracy: 0.5477\n",
            "Epoch 96/100\n",
            "448/448 [==============================] - 35s 77ms/step - loss: 1.2655 - accuracy: 0.5226 - val_loss: 1.1681 - val_accuracy: 0.5505\n",
            "Epoch 97/100\n",
            "448/448 [==============================] - 34s 77ms/step - loss: 1.2699 - accuracy: 0.5234 - val_loss: 1.1721 - val_accuracy: 0.5522\n",
            "Epoch 98/100\n",
            "448/448 [==============================] - 35s 77ms/step - loss: 1.2568 - accuracy: 0.5254 - val_loss: 1.1806 - val_accuracy: 0.5458\n",
            "Epoch 99/100\n",
            "448/448 [==============================] - 34s 77ms/step - loss: 1.2602 - accuracy: 0.5257 - val_loss: 1.1514 - val_accuracy: 0.5608\n",
            "Epoch 100/100\n",
            "448/448 [==============================] - 35s 77ms/step - loss: 1.2501 - accuracy: 0.5296 - val_loss: 1.1641 - val_accuracy: 0.5555\n"
          ],
          "name": "stdout"
        }
      ]
    },
    {
      "cell_type": "markdown",
      "metadata": {
        "id": "zdn-Ud-Ca4LG"
      },
      "source": [
        "# Evaluate"
      ]
    },
    {
      "cell_type": "code",
      "metadata": {
        "id": "d8D97Qq4bUxn",
        "colab": {
          "base_uri": "https://localhost:8080/",
          "height": 573
        },
        "outputId": "c6019e05-3668-4f5d-9f75-1f3ceda3f4f5"
      },
      "source": [
        "accuracy = history.history['accuracy']\n",
        "val_accuracy = history.history['val_accuracy']\n",
        "loss = history.history['loss']\n",
        "val_loss = history.history['val_loss']\n",
        "num_epochs = range(len(accuracy))\n",
        "plt.plot(num_epochs, accuracy, 'r', label='Training acc')\n",
        "plt.plot(num_epochs, val_accuracy, 'b', label='Validation acc')\n",
        "plt.title('Training and validation accuracy')\n",
        "plt.ylabel('accuracy')  \n",
        "plt.xlabel('epoch')\n",
        "plt.legend()\n",
        "plt.figure()\n",
        "plt.plot(num_epochs, loss, 'r', label='Training loss')\n",
        "plt.plot(num_epochs, val_loss, 'b', label='Validation loss')\n",
        "plt.title('Training and validation loss')\n",
        "plt.ylabel('loss')  \n",
        "plt.xlabel('epoch')\n",
        "plt.legend()\n",
        "plt.show()"
      ],
      "execution_count": 16,
      "outputs": [
        {
          "output_type": "display_data",
          "data": {
            "image/png": "[encoded data removed]",
            "text/plain": [
              "<Figure size 432x288 with 1 Axes>"
            ]
          },
          "metadata": {
            "tags": [],
            "needs_background": "light"
          }
        },
        {
          "output_type": "display_data",
          "data": {
            "image/png": "[encoded data removed]",
            "text/plain": [
              "<Figure size 432x288 with 1 Axes>"
            ]
          },
          "metadata": {
            "tags": [],
            "needs_background": "light"
          }
        }
      ]
    },
    {
      "cell_type": "code",
      "metadata": {
        "id": "v2FEkE4pr8vN",
        "colab": {
          "base_uri": "https://localhost:8080/"
        },
        "outputId": "358ed125-3742-4f1f-ef2e-2fb88d164a36"
      },
      "source": [
        "trainloss = model.evaluate(train_flow, steps=len(X_train) / batch_size) \n",
        "print(\"Train Loss \" + str(trainloss[0]))\n",
        "print(\"Train Acc: \" + str(trainloss[1]))\n",
        "valloss = model.evaluate(val_flow, steps=len(X_val) / batch_size) \n",
        "print(\"Val Loss \" + str(valloss[0]))\n",
        "print(\"Val Acc: \" + str(valloss[1]))\n",
        "testloss = model.evaluate(test_flow, steps=len(X_test) / batch_size) \n",
        "print(\"Test Loss \" + str(testloss[0]))\n",
        "print(\"Test Acc: \" + str(testloss[1]))"
      ],
      "execution_count": 17,
      "outputs": [
        {
          "output_type": "stream",
          "text": [
            "448/448 [==============================] - 14s 31ms/step - loss: 1.1682 - accuracy: 0.5563\n",
            "Train Loss 1.168157935142517\n",
            "Train Acc: 0.5563063621520996\n",
            "56/56 [==============================] - 1s 25ms/step - loss: 1.1644 - accuracy: 0.5556\n",
            "Val Loss 1.1644132137298584\n",
            "Val Acc: 0.5555865168571472\n",
            "56/56 [==============================] - 1s 21ms/step - loss: 1.1322 - accuracy: 0.5687\n",
            "Test Loss 1.1322214603424072\n",
            "Test Acc: 0.568682074546814\n"
          ],
          "name": "stdout"
        }
      ]
    },
    {
      "cell_type": "code",
      "metadata": {
        "id": "rjVsIoZ-kCve"
      },
      "source": [
        "def plot_confusion_matrix(y_test, y_pred, classes,\n",
        "                          normalize=False,\n",
        "                          title='Unnormalized confusion matrix',\n",
        "                          cmap=plt.cm.Blues):\n",
        "    cm = confusion_matrix(y_test, y_pred)\n",
        "    \n",
        "    if normalize:\n",
        "        cm = np.round(cm.astype('float') / cm.sum(axis=1)[:, np.newaxis], 2)\n",
        "        \n",
        "    np.set_printoptions(precision=2)\n",
        "    \n",
        "    plt.rcParams[\"figure.figsize\"] = (8,8)  \n",
        "    plt.imshow(cm, interpolation='nearest', cmap=cmap)\n",
        "    plt.title(title)\n",
        "    plt.colorbar()\n",
        "    tick_marks = np.arange(len(classes))\n",
        "    plt.xticks(tick_marks, classes, rotation=45)\n",
        "    plt.yticks(tick_marks, classes)\n",
        "\n",
        "    thresh = cm.min() + (cm.max() - cm.min()) / 2.\n",
        "    for i, j in itertools.product(range(cm.shape[0]), range(cm.shape[1])):\n",
        "        plt.text(j, i, cm[i, j],\n",
        "                 horizontalalignment=\"center\",\n",
        "                 color=\"white\" if cm[i, j] > thresh else \"black\")\n",
        "\n",
        "    plt.tight_layout()\n",
        "    plt.ylabel('True expression')\n",
        "    plt.xlabel('Predicted expression')\n",
        "    plt.show()"
      ],
      "execution_count": 18,
      "outputs": []
    },
    {
      "cell_type": "code",
      "metadata": {
        "id": "VDNVCwW6kFHH",
        "colab": {
          "base_uri": "https://localhost:8080/"
        },
        "outputId": "1d6887c0-d5f2-47c5-a7d3-c2186a205513"
      },
      "source": [
        "y_pred_ = model.predict(X_test/255., verbose=1)\n",
        "y_pred = np.argmax(y_pred_, axis=1)\n",
        "t_te = np.argmax(y_test, axis=1)"
      ],
      "execution_count": 19,
      "outputs": [
        {
          "output_type": "stream",
          "text": [
            "113/113 [==============================] - 2s 11ms/step\n"
          ],
          "name": "stdout"
        }
      ]
    },
    {
      "cell_type": "code",
      "metadata": {
        "id": "sEOkhnDL9Tca",
        "colab": {
          "base_uri": "https://localhost:8080/",
          "height": 567
        },
        "outputId": "120cc182-a816-4219-d35d-eeb78a0310c4"
      },
      "source": [
        "from sklearn.metrics import confusion_matrix, classification_report\n",
        "import itertools\n",
        "\n",
        "fig = plot_confusion_matrix(y_test=t_te, y_pred=y_pred,\n",
        "                      classes=labels,\n",
        "                      normalize=True,\n",
        "                      cmap=plt.cm.Blues,\n",
        "                      title='Normalized Confusion Matrix'+'\\n\\n'+'Average accuracy: ' + str(np.sum(y_pred == t_te)/len(t_te)) + '\\n')"
      ],
      "execution_count": 20,
      "outputs": [
        {
          "output_type": "display_data",
          "data": {
            "image/png": "[encoded data removed]",
            "text/plain": [
              "<Figure size 576x576 with 2 Axes>"
            ]
          },
          "metadata": {
            "tags": [],
            "needs_background": "light"
          }
        }
      ]
    },
    {
      "cell_type": "code",
      "metadata": {
        "id": "Htxy5cMZ9Tcb",
        "colab": {
          "base_uri": "https://localhost:8080/",
          "height": 563
        },
        "outputId": "853e7f04-15c4-4bbe-97f1-022b640944f8"
      },
      "source": [
        "fig = plot_confusion_matrix(y_test=t_te, y_pred=y_pred,\n",
        "                      classes=labels,\n",
        "                      normalize=False,\n",
        "                      cmap=plt.cm.Blues,\n",
        "                      title='Unnormalized Confusion Matrix'+'\\n\\n'+'Average accuracy: ' + str(np.sum(y_pred == t_te)/len(t_te)) + '\\n')"
      ],
      "execution_count": 21,
      "outputs": [
        {
          "output_type": "display_data",
          "data": {
            "image/png": "[encoded data removed]",
            "text/plain": [
              "<Figure size 576x576 with 2 Axes>"
            ]
          },
          "metadata": {
            "tags": [],
            "needs_background": "light"
          }
        }
      ]
    },
    {
      "cell_type": "code",
      "metadata": {
        "id": "4vauS7IKbqNG",
        "colab": {
          "base_uri": "https://localhost:8080/"
        },
        "outputId": "d89eeddf-6ea4-4a9b-cdc2-0f97944eae02"
      },
      "source": [
        "emotions = {0: 'Angry', 1: 'Disgust', 2: 'Fear', 3: 'Happy', 4: 'Sad', 5: 'Surprise', 6: 'Neutral'}\n",
        "print(classification_report(t_te, y_pred, target_names=emotions.values()))"
      ],
      "execution_count": 22,
      "outputs": [
        {
          "output_type": "stream",
          "text": [
            "              precision    recall  f1-score   support\n",
            "\n",
            "       Angry       0.00      0.00      0.00       491\n",
            "     Disgust       0.00      0.00      0.00        55\n",
            "        Fear       0.00      0.00      0.00       528\n",
            "       Happy       0.24      1.00      0.39       879\n",
            "         Sad       0.00      0.00      0.00       594\n",
            "    Surprise       0.00      0.00      0.00       416\n",
            "     Neutral       0.00      0.00      0.00       626\n",
            "\n",
            "    accuracy                           0.24      3589\n",
            "   macro avg       0.03      0.14      0.06      3589\n",
            "weighted avg       0.06      0.24      0.10      3589\n",
            "\n"
          ],
          "name": "stdout"
        },
        {
          "output_type": "stream",
          "text": [
            "/usr/local/lib/python3.7/dist-packages/sklearn/metrics/_classification.py:1272: UndefinedMetricWarning: Precision and F-score are ill-defined and being set to 0.0 in labels with no predicted samples. Use `zero_division` parameter to control this behavior.\n",
            "  _warn_prf(average, modifier, msg_start, len(result))\n"
          ],
          "name": "stderr"
        }
      ]
    },
    {
      "cell_type": "code",
      "metadata": {
        "id": "KKWxaaYRba3j",
        "colab": {
          "base_uri": "https://localhost:8080/"
        },
        "outputId": "db696929-39a0-4237-f329-4edc9c0bc293"
      },
      "source": [
        "model.save(\"/content/drive/MyDrive/Colab Notebooks/Model/ModelVGG16_RMSprop0.0005_epoch50_noAug.h5\")\n",
        "print(\"saved\")"
      ],
      "execution_count": 23,
      "outputs": [
        {
          "output_type": "stream",
          "text": [
            "saved\n"
          ],
          "name": "stdout"
        }
      ]
    },
    {
      "cell_type": "markdown",
      "metadata": {
        "id": "aqLRhlr4b7t5"
      },
      "source": [
        "#Load Model"
      ]
    },
    {
      "cell_type": "code",
      "metadata": {
        "id": "J45lyUtcJ-6F",
        "colab": {
          "base_uri": "https://localhost:8080/"
        },
        "outputId": "3dda86a3-ad93-4b1c-8082-1e02596949cb"
      },
      "source": [
        "from keras.models import load_model\n",
        "model_load = load_model('/content/drive/MyDrive/Colab Notebooks/Model/ModelVGG16_RMSprop0.0005_epoch50_noAug.h5')\n",
        "\n",
        "model_load.summary()"
      ],
      "execution_count": 24,
      "outputs": [
        {
          "output_type": "stream",
          "text": [
            "Model: \"sequential\"\n",
            "_________________________________________________________________\n",
            "Layer (type)                 Output Shape              Param #   \n",
            "=================================================================\n",
            "conv2d (Conv2D)              (None, 48, 48, 64)        640       \n",
            "_________________________________________________________________\n",
            "conv2d_1 (Conv2D)            (None, 48, 48, 64)        36928     \n",
            "_________________________________________________________________\n",
            "max_pooling2d (MaxPooling2D) (None, 24, 24, 64)        0         \n",
            "_________________________________________________________________\n",
            "conv2d_2 (Conv2D)            (None, 24, 24, 128)       73856     \n",
            "_________________________________________________________________\n",
            "conv2d_3 (Conv2D)            (None, 24, 24, 128)       147584    \n",
            "_________________________________________________________________\n",
            "max_pooling2d_1 (MaxPooling2 (None, 12, 12, 128)       0         \n",
            "_________________________________________________________________\n",
            "conv2d_4 (Conv2D)            (None, 12, 12, 256)       295168    \n",
            "_________________________________________________________________\n",
            "conv2d_5 (Conv2D)            (None, 12, 12, 256)       590080    \n",
            "_________________________________________________________________\n",
            "conv2d_6 (Conv2D)            (None, 12, 12, 256)       590080    \n",
            "_________________________________________________________________\n",
            "max_pooling2d_2 (MaxPooling2 (None, 6, 6, 256)         0         \n",
            "_________________________________________________________________\n",
            "conv2d_7 (Conv2D)            (None, 6, 6, 512)         1180160   \n",
            "_________________________________________________________________\n",
            "conv2d_8 (Conv2D)            (None, 6, 6, 512)         2359808   \n",
            "_________________________________________________________________\n",
            "conv2d_9 (Conv2D)            (None, 6, 6, 512)         2359808   \n",
            "_________________________________________________________________\n",
            "max_pooling2d_3 (MaxPooling2 (None, 3, 3, 512)         0         \n",
            "_________________________________________________________________\n",
            "conv2d_10 (Conv2D)           (None, 3, 3, 512)         2359808   \n",
            "_________________________________________________________________\n",
            "conv2d_11 (Conv2D)           (None, 3, 3, 512)         2359808   \n",
            "_________________________________________________________________\n",
            "conv2d_12 (Conv2D)           (None, 3, 3, 512)         2359808   \n",
            "_________________________________________________________________\n",
            "max_pooling2d_4 (MaxPooling2 (None, 1, 1, 512)         0         \n",
            "_________________________________________________________________\n",
            "flatten (Flatten)            (None, 512)               0         \n",
            "_________________________________________________________________\n",
            "dense (Dense)                (None, 4096)              2101248   \n",
            "_________________________________________________________________\n",
            "dense_1 (Dense)              (None, 4096)              16781312  \n",
            "_________________________________________________________________\n",
            "dense_2 (Dense)              (None, 7)                 28679     \n",
            "=================================================================\n",
            "Total params: 33,624,775\n",
            "Trainable params: 33,624,775\n",
            "Non-trainable params: 0\n",
            "_________________________________________________________________\n"
          ],
          "name": "stdout"
        }
      ]
    },
    {
      "cell_type": "code",
      "metadata": {
        "id": "nQd7m45qfWBW",
        "colab": {
          "base_uri": "https://localhost:8080/"
        },
        "outputId": "6e7a338f-938a-43e0-8eb9-350a0d92825b"
      },
      "source": [
        "trainloss = model_load.evaluate(train_flow, steps=len(X_train) / batch_size) \n",
        "print(\"Train Loss \" + str(trainloss[0]))\n",
        "print(\"Train Acc: \" + str(trainloss[1]))\n",
        "valloss = model_load.evaluate(val_flow, steps=len(X_val) / batch_size) \n",
        "print(\"Val Loss \" + str(valloss[0]))\n",
        "print(\"Val Acc: \" + str(valloss[1]))\n",
        "testloss = model_load.evaluate(test_flow, steps=len(X_test) / batch_size) \n",
        "print(\"Test Loss \" + str(testloss[0]))\n",
        "print(\"Test Acc: \" + str(testloss[1]))"
      ],
      "execution_count": 25,
      "outputs": [
        {
          "output_type": "stream",
          "text": [
            "448/448 [==============================] - 9s 20ms/step - loss: 1.8100 - accuracy: 0.2513\n",
            "Train Loss 1.8100308179855347\n",
            "Train Acc: 0.2513149082660675\n",
            "56/56 [==============================] - 1s 20ms/step - loss: 1.8121 - accuracy: 0.2494\n",
            "Val Loss 1.8120907545089722\n",
            "Val Acc: 0.24937307834625244\n",
            "56/56 [==============================] - 1s 19ms/step - loss: 1.8160 - accuracy: 0.2449\n",
            "Test Loss 1.8160383701324463\n",
            "Test Acc: 0.24491502344608307\n"
          ],
          "name": "stdout"
        }
      ]
    },
    {
      "cell_type": "code",
      "metadata": {
        "id": "AgxW2wNbkLTw"
      },
      "source": [
        "def plot_confusion_matrix(y_test, y_pred, classes,\n",
        "                          normalize=False,\n",
        "                          title='Unnormalized confusion matrix',\n",
        "                          cmap=plt.cm.Blues):\n",
        "    cm = confusion_matrix(y_test, y_pred)\n",
        "    \n",
        "    if normalize:\n",
        "        cm = np.round(cm.astype('float') / cm.sum(axis=1)[:, np.newaxis], 2)\n",
        "        \n",
        "    np.set_printoptions(precision=2)\n",
        "        \n",
        "    plt.rcParams[\"figure.figsize\"] = (8,8)\n",
        "    plt.imshow(cm, interpolation='nearest', cmap=cmap)\n",
        "    plt.title(title)\n",
        "    plt.colorbar()\n",
        "    tick_marks = np.arange(len(classes))\n",
        "    plt.xticks(tick_marks, classes, rotation=45)\n",
        "    plt.yticks(tick_marks, classes)\n",
        "\n",
        "    thresh = cm.min() + (cm.max() - cm.min()) / 2.\n",
        "    for i, j in itertools.product(range(cm.shape[0]), range(cm.shape[1])):\n",
        "        plt.text(j, i, cm[i, j],\n",
        "                 horizontalalignment=\"center\",\n",
        "                 color=\"white\" if cm[i, j] > thresh else \"black\")\n",
        "\n",
        "    plt.tight_layout()\n",
        "    plt.ylabel('True expression')\n",
        "    plt.xlabel('Predicted expression')\n",
        "    plt.show()"
      ],
      "execution_count": 26,
      "outputs": []
    },
    {
      "cell_type": "code",
      "metadata": {
        "id": "rc9jxsudkMOd",
        "colab": {
          "base_uri": "https://localhost:8080/"
        },
        "outputId": "fafb5fea-be85-47d4-aba2-0cb8f1da4378"
      },
      "source": [
        "y_pred_ = model_load.predict(X_test/255., verbose=1)\n",
        "y_pred = np.argmax(y_pred_, axis=1)\n",
        "t_te = np.argmax(y_test, axis=1)"
      ],
      "execution_count": 27,
      "outputs": [
        {
          "output_type": "stream",
          "text": [
            "113/113 [==============================] - 2s 11ms/step\n"
          ],
          "name": "stdout"
        }
      ]
    },
    {
      "cell_type": "code",
      "metadata": {
        "colab": {
          "base_uri": "https://localhost:8080/",
          "height": 567
        },
        "id": "c8-L0-4-97hq",
        "outputId": "9b12d01b-8dc2-4978-ab27-21ce48133763"
      },
      "source": [
        "from sklearn.metrics import confusion_matrix, classification_report\n",
        "import itertools\n",
        "\n",
        "fig = plot_confusion_matrix(y_test=t_te, y_pred=y_pred,\n",
        "                      classes=labels,\n",
        "                      normalize=True,\n",
        "                      cmap=plt.cm.Blues,\n",
        "                      title='Normalized Confusion Matrix'+'\\n\\n'+'Average accuracy: ' + str(np.sum(y_pred == t_te)/len(t_te)) + '\\n')"
      ],
      "execution_count": 28,
      "outputs": [
        {
          "output_type": "display_data",
          "data": {
            "image/png": "[encoded data removed]",
            "text/plain": [
              "<Figure size 576x576 with 2 Axes>"
            ]
          },
          "metadata": {
            "tags": [],
            "needs_background": "light"
          }
        }
      ]
    },
    {
      "cell_type": "code",
      "metadata": {
        "colab": {
          "base_uri": "https://localhost:8080/",
          "height": 563
        },
        "id": "v0SP1K1h97hr",
        "outputId": "68eac70a-9b1d-4a4f-d3a1-5ac58d82b2f9"
      },
      "source": [
        "fig = plot_confusion_matrix(y_test=t_te, y_pred=y_pred,\n",
        "                      classes=labels,\n",
        "                      normalize=False,\n",
        "                      cmap=plt.cm.Blues,\n",
        "                      title='Unnormalized Confusion Matrix'+'\\n\\n'+'Average accuracy: ' + str(np.sum(y_pred == t_te)/len(t_te)) + '\\n')"
      ],
      "execution_count": 29,
      "outputs": [
        {
          "output_type": "display_data",
          "data": {
            "image/png": "[encoded data removed]",
            "text/plain": [
              "<Figure size 576x576 with 2 Axes>"
            ]
          },
          "metadata": {
            "tags": [],
            "needs_background": "light"
          }
        }
      ]
    },
    {
      "cell_type": "code",
      "metadata": {
        "id": "iVI_yPxokSY3",
        "colab": {
          "base_uri": "https://localhost:8080/"
        },
        "outputId": "50b92c64-b1f5-4661-99bf-6a120adf1b07"
      },
      "source": [
        "emotions = {0: 'Angry', 1: 'Disgust', 2: 'Fear', 3: 'Happy', 4: 'Sad', 5: 'Surprise', 6: 'Neutral'}\n",
        "print(classification_report(t_te, y_pred, target_names=emotions.values()))"
      ],
      "execution_count": 30,
      "outputs": [
        {
          "output_type": "stream",
          "text": [
            "              precision    recall  f1-score   support\n",
            "\n",
            "       Angry       0.00      0.00      0.00       491\n",
            "     Disgust       0.00      0.00      0.00        55\n",
            "        Fear       0.00      0.00      0.00       528\n",
            "       Happy       0.24      1.00      0.39       879\n",
            "         Sad       0.00      0.00      0.00       594\n",
            "    Surprise       0.00      0.00      0.00       416\n",
            "     Neutral       0.00      0.00      0.00       626\n",
            "\n",
            "    accuracy                           0.24      3589\n",
            "   macro avg       0.03      0.14      0.06      3589\n",
            "weighted avg       0.06      0.24      0.10      3589\n",
            "\n"
          ],
          "name": "stdout"
        },
        {
          "output_type": "stream",
          "text": [
            "/usr/local/lib/python3.7/dist-packages/sklearn/metrics/_classification.py:1272: UndefinedMetricWarning: Precision and F-score are ill-defined and being set to 0.0 in labels with no predicted samples. Use `zero_division` parameter to control this behavior.\n",
            "  _warn_prf(average, modifier, msg_start, len(result))\n"
          ],
          "name": "stderr"
        }
      ]
    }
  ]
}