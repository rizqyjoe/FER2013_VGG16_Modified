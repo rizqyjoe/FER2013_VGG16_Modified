{
  "nbformat": 4,
  "nbformat_minor": 0,
  "metadata": {
    "accelerator": "GPU",
    "colab": {
      "name": "FINAL.ipynb",
      "provenance": [],
      "collapsed_sections": [],
      "include_colab_link": true
    },
    "kernelspec": {
      "display_name": "Python 3",
      "name": "python3"
    },
    "language_info": {
      "name": "python"
    }
  },
  "cells": [
    {
      "cell_type": "markdown",
      "metadata": {
        "id": "view-in-github",
        "colab_type": "text"
      },
      "source": [
        "<a href=\"https://colab.research.google.com/github/rizqyjoe/FER2013_VGG16_Modified/blob/main/Modified%20VGG16/With%20Aug/Epoch%20100/005.ipynb\" target=\"_parent\"><img src=\"https://colab.research.google.com/assets/colab-badge.svg\" alt=\"Open In Colab\"/></a>"
      ]
    },
    {
      "cell_type": "code",
      "metadata": {
        "colab": {
          "base_uri": "https://localhost:8080/"
        },
        "id": "sX-0w3h_sh6U",
        "outputId": "0c7c6764-9015-4951-d5e3-476b9c162a58"
      },
      "source": [
        "#mount drive\n",
        "from google.colab import drive\n",
        "drive.mount('/content/drive')"
      ],
      "execution_count": 1,
      "outputs": [
        {
          "output_type": "stream",
          "text": [
            "Mounted at /content/drive\n"
          ],
          "name": "stdout"
        }
      ]
    },
    {
      "cell_type": "markdown",
      "metadata": {
        "id": "58jrp8yObBBA"
      },
      "source": [
        "# Pre-processing"
      ]
    },
    {
      "cell_type": "code",
      "metadata": {
        "id": "7nrYTmGLrD2A"
      },
      "source": [
        "import tensorflow as tf\n",
        "import keras\n",
        "from keras import backend as K\n",
        "import pandas as pd\n",
        "import numpy as np\n",
        "import matplotlib.pyplot as plt\n",
        "from keras.preprocessing import image\n",
        "from keras.preprocessing.image import ImageDataGenerator\n",
        "from keras import regularizers\n",
        "from keras.utils import np_utils\n",
        "\n",
        "import random\n",
        "\n",
        "tf.random.set_seed(1234)\n",
        "np.random.seed(1234)\n",
        "\n",
        "from keras.initializers import glorot_uniform"
      ],
      "execution_count": 2,
      "outputs": []
    },
    {
      "cell_type": "code",
      "metadata": {
        "colab": {
          "base_uri": "https://localhost:8080/",
          "height": 204
        },
        "id": "0vTjzHIRrW53",
        "outputId": "86336280-4cfb-46ba-c59b-09ac7e13db3e"
      },
      "source": [
        "#load file\n",
        "data= pd.read_csv('/content/drive/MyDrive/Dataset/fer2013 dataset/fer2013/fer2013.csv')\n",
        "data.head()"
      ],
      "execution_count": 3,
      "outputs": [
        {
          "output_type": "execute_result",
          "data": {
            "text/html": [
              "<div>\n",
              "<style scoped>\n",
              "    .dataframe tbody tr th:only-of-type {\n",
              "        vertical-align: middle;\n",
              "    }\n",
              "\n",
              "    .dataframe tbody tr th {\n",
              "        vertical-align: top;\n",
              "    }\n",
              "\n",
              "    .dataframe thead th {\n",
              "        text-align: right;\n",
              "    }\n",
              "</style>\n",
              "<table border=\"1\" class=\"dataframe\">\n",
              "  <thead>\n",
              "    <tr style=\"text-align: right;\">\n",
              "      <th></th>\n",
              "      <th>emotion</th>\n",
              "      <th>pixels</th>\n",
              "      <th>Usage</th>\n",
              "    </tr>\n",
              "  </thead>\n",
              "  <tbody>\n",
              "    <tr>\n",
              "      <th>0</th>\n",
              "      <td>0</td>\n",
              "      <td>70 80 82 72 58 58 60 63 54 58 60 48 89 115 121...</td>\n",
              "      <td>Training</td>\n",
              "    </tr>\n",
              "    <tr>\n",
              "      <th>1</th>\n",
              "      <td>0</td>\n",
              "      <td>151 150 147 155 148 133 111 140 170 174 182 15...</td>\n",
              "      <td>Training</td>\n",
              "    </tr>\n",
              "    <tr>\n",
              "      <th>2</th>\n",
              "      <td>2</td>\n",
              "      <td>231 212 156 164 174 138 161 173 182 200 106 38...</td>\n",
              "      <td>Training</td>\n",
              "    </tr>\n",
              "    <tr>\n",
              "      <th>3</th>\n",
              "      <td>4</td>\n",
              "      <td>24 32 36 30 32 23 19 20 30 41 21 22 32 34 21 1...</td>\n",
              "      <td>Training</td>\n",
              "    </tr>\n",
              "    <tr>\n",
              "      <th>4</th>\n",
              "      <td>6</td>\n",
              "      <td>4 0 0 0 0 0 0 0 0 0 0 0 3 15 23 28 48 50 58 84...</td>\n",
              "      <td>Training</td>\n",
              "    </tr>\n",
              "  </tbody>\n",
              "</table>\n",
              "</div>"
            ],
            "text/plain": [
              "   emotion                                             pixels     Usage\n",
              "0        0  70 80 82 72 58 58 60 63 54 58 60 48 89 115 121...  Training\n",
              "1        0  151 150 147 155 148 133 111 140 170 174 182 15...  Training\n",
              "2        2  231 212 156 164 174 138 161 173 182 200 106 38...  Training\n",
              "3        4  24 32 36 30 32 23 19 20 30 41 21 22 32 34 21 1...  Training\n",
              "4        6  4 0 0 0 0 0 0 0 0 0 0 0 3 15 23 28 48 50 58 84...  Training"
            ]
          },
          "metadata": {
            "tags": []
          },
          "execution_count": 3
        }
      ]
    },
    {
      "cell_type": "code",
      "metadata": {
        "colab": {
          "base_uri": "https://localhost:8080/"
        },
        "id": "NU40Z0ynrau2",
        "outputId": "30324b83-06f3-4c2e-84b2-05ecf667c17b"
      },
      "source": [
        "data.emotion.value_counts()"
      ],
      "execution_count": 4,
      "outputs": [
        {
          "output_type": "execute_result",
          "data": {
            "text/plain": [
              "3    8989\n",
              "6    6198\n",
              "4    6077\n",
              "2    5121\n",
              "0    4953\n",
              "5    4002\n",
              "1     547\n",
              "Name: emotion, dtype: int64"
            ]
          },
          "metadata": {
            "tags": []
          },
          "execution_count": 4
        }
      ]
    },
    {
      "cell_type": "code",
      "metadata": {
        "colab": {
          "base_uri": "https://localhost:8080/"
        },
        "id": "8MQKKFDare4e",
        "outputId": "c0fb8400-0716-4965-bc85-0a747696f9a3"
      },
      "source": [
        "data.Usage.value_counts()"
      ],
      "execution_count": 5,
      "outputs": [
        {
          "output_type": "execute_result",
          "data": {
            "text/plain": [
              "Training       28709\n",
              "PublicTest      3589\n",
              "PrivateTest     3589\n",
              "Name: Usage, dtype: int64"
            ]
          },
          "metadata": {
            "tags": []
          },
          "execution_count": 5
        }
      ]
    },
    {
      "cell_type": "code",
      "metadata": {
        "id": "H1M2PtN54iSK"
      },
      "source": [
        "emotion_labels = [\"Angry\", \"Disgust\", \"Fear\", \"Happy\", \"Sad\", \"Surprise\", \"Neutral\"]\n",
        "labels=np.array((\"Angry\", \"Disgust\", \"Fear\", \"Happy\", \"Sad\", \"Surprise\", \"Neutral\"))"
      ],
      "execution_count": 6,
      "outputs": []
    },
    {
      "cell_type": "code",
      "metadata": {
        "id": "RQlblEnwrgkW"
      },
      "source": [
        "#split data \n",
        "train_set = data[(data.Usage == 'Training')] \n",
        "val_set = data[(data.Usage == 'PublicTest')]\n",
        "test_set = data[(data.Usage == 'PrivateTest')] \n",
        "X_train = np.array(list(map(str.split, train_set.pixels)), np.float32) \n",
        "X_val = np.array(list(map(str.split, val_set.pixels)), np.float32) \n",
        "X_test = np.array(list(map(str.split, test_set.pixels)), np.float32) \n",
        "X_train = X_train.reshape(X_train.shape[0], 48, 48, 1) \n",
        "X_val = X_val.reshape(X_val.shape[0], 48, 48, 1)\n",
        "X_test = X_test.reshape(X_test.shape[0], 48, 48, 1)"
      ],
      "execution_count": 7,
      "outputs": []
    },
    {
      "cell_type": "code",
      "metadata": {
        "id": "MVqY8ftoriHW"
      },
      "source": [
        "num_classes = 7\n",
        "\n",
        "y_train = train_set.emotion \n",
        "y_train = np_utils.to_categorical(y_train, num_classes) \n",
        "y_val = val_set.emotion \n",
        "y_val = np_utils.to_categorical(y_val, num_classes) \n",
        "y_test = test_set.emotion \n",
        "y_test = np_utils.to_categorical(y_test, num_classes)"
      ],
      "execution_count": 8,
      "outputs": []
    },
    {
      "cell_type": "code",
      "metadata": {
        "colab": {
          "base_uri": "https://localhost:8080/"
        },
        "id": "WaMwvF5vrju-",
        "outputId": "35af7e0e-456c-4f63-8bb3-bc18a9604853"
      },
      "source": [
        "print(\"x_train:\",X_train.shape)\n",
        "print(\"y_train:\",y_train.shape)\n",
        "print(\"x_val:\",X_val.shape)\n",
        "print(\"y_val:\",y_val.shape)\n",
        "print(\"x_test:\",X_test.shape)\n",
        "print(\"y_test:\",y_test.shape)"
      ],
      "execution_count": 9,
      "outputs": [
        {
          "output_type": "stream",
          "text": [
            "x_train: (28709, 48, 48, 1)\n",
            "y_train: (28709, 7)\n",
            "x_val: (3589, 48, 48, 1)\n",
            "y_val: (3589, 7)\n",
            "x_test: (3589, 48, 48, 1)\n",
            "y_test: (3589, 7)\n"
          ],
          "name": "stdout"
        }
      ]
    },
    {
      "cell_type": "code",
      "metadata": {
        "id": "DzChH8hGrldw"
      },
      "source": [
        "#data augmentation\n",
        "datagen = ImageDataGenerator(rescale=1./255,\n",
        "                             rotation_range=10,\n",
        "                             width_shift_range=0.2,\n",
        "                             height_shift_range=0.2, \n",
        "                             zoom_range=0.2,\n",
        "                             horizontal_flip=True)\n",
        "\n",
        "#datagen = ImageDataGenerator(rescale=1./255)\n",
        "\n",
        "testgen = ImageDataGenerator(rescale=1./255)\n",
        "\n",
        "datagen.fit(X_train)\n",
        "batch_size = 64"
      ],
      "execution_count": 10,
      "outputs": []
    },
    {
      "cell_type": "code",
      "metadata": {
        "id": "d-nkOZUfrm_e"
      },
      "source": [
        "train_flow = datagen.flow(X_train, y_train, batch_size=batch_size) \n",
        "val_flow = testgen.flow(X_val, y_val, batch_size=batch_size) \n",
        "test_flow = testgen.flow(X_test, y_test, batch_size=batch_size)"
      ],
      "execution_count": 11,
      "outputs": []
    },
    {
      "cell_type": "code",
      "metadata": {
        "id": "3u6vR_8CroMG"
      },
      "source": [
        "from tensorflow.keras.utils import plot_model\n",
        "from matplotlib import pyplot"
      ],
      "execution_count": 12,
      "outputs": []
    },
    {
      "cell_type": "code",
      "metadata": {
        "colab": {
          "base_uri": "https://localhost:8080/",
          "height": 248
        },
        "id": "HZ6sB7a0rp0O",
        "outputId": "e091db10-bd25-4da6-9b38-a6e6eefd22da"
      },
      "source": [
        "#displaying sample images\n",
        "for X_batch, y_batch in datagen.flow(X_train, y_train, batch_size=9):\n",
        "    for i in range(0, 9): \n",
        "        pyplot.axis('off') \n",
        "        pyplot.subplot(330 + 1 + i) \n",
        "        pyplot.imshow(X_batch[i].reshape(48, 48), cmap=pyplot.get_cmap('gray'))\n",
        "    pyplot.axis('off') \n",
        "    pyplot.show() \n",
        "    break"
      ],
      "execution_count": 13,
      "outputs": [
        {
          "output_type": "display_data",
          "data": {
            "image/png": "[encoded data removed]",
            "text/plain": [
              "<Figure size 432x288 with 9 Axes>"
            ]
          },
          "metadata": {
            "tags": [],
            "needs_background": "light"
          }
        }
      ]
    },
    {
      "cell_type": "markdown",
      "metadata": {
        "id": "mH061hQUbJsv"
      },
      "source": [
        "# Training Model"
      ]
    },
    {
      "cell_type": "code",
      "metadata": {
        "id": "rxqJ_jM_mSTg",
        "colab": {
          "base_uri": "https://localhost:8080/"
        },
        "outputId": "4b816af2-7857-4091-e54a-94bd684afdca"
      },
      "source": [
        "#Model 3\n",
        "from keras.models import Sequential\n",
        "from keras.layers import Input, Dense, Flatten, Dropout, Conv2D, MaxPool2D, BatchNormalization, GlobalAveragePooling2D\n",
        "\n",
        "input_shape = (48, 48, 1)\n",
        "\n",
        "model = Sequential()\n",
        "\n",
        "model.add(Conv2D(filters=64,input_shape=(input_shape),kernel_size=(3,3),padding=\"same\", activation=\"relu\", kernel_initializer = glorot_uniform(seed=0)))\n",
        "model.add(BatchNormalization())\n",
        "model.add(Conv2D(filters=64,kernel_size=(3,3),padding=\"same\", activation=\"relu\", kernel_initializer = glorot_uniform(seed=0)))\n",
        "model.add(BatchNormalization())\n",
        "model.add(MaxPool2D(pool_size=(2,2),strides=(2,2)))\n",
        "model.add(Dropout(0.2))\n",
        "\n",
        "model.add(Conv2D(filters=128, kernel_size=(3,3), padding=\"same\", activation=\"relu\", kernel_initializer = glorot_uniform(seed=0)))\n",
        "model.add(BatchNormalization())\n",
        "model.add(Conv2D(filters=128, kernel_size=(3,3), padding=\"same\", activation=\"relu\", kernel_initializer = glorot_uniform(seed=0)))\n",
        "model.add(BatchNormalization())\n",
        "model.add(MaxPool2D(pool_size=(2,2),strides=(2,2)))\n",
        "model.add(Dropout(0.3))\n",
        "\n",
        "model.add(Conv2D(filters=256, kernel_size=(3,3), padding=\"same\", activation=\"relu\", kernel_initializer = glorot_uniform(seed=0)))\n",
        "model.add(BatchNormalization())\n",
        "model.add(Conv2D(filters=256, kernel_size=(3,3), padding=\"same\", activation=\"relu\", kernel_initializer = glorot_uniform(seed=0)))\n",
        "model.add(BatchNormalization())\n",
        "model.add(Conv2D(filters=256, kernel_size=(3,3), padding=\"same\", activation=\"relu\", kernel_initializer = glorot_uniform(seed=0)))\n",
        "model.add(BatchNormalization())\n",
        "model.add(MaxPool2D(pool_size=(2,2),strides=(2,2)))\n",
        "model.add(Dropout(0.4))\n",
        "\n",
        "model.add(Conv2D(filters=512, kernel_size=(3,3), padding=\"same\", activation=\"relu\", kernel_initializer = glorot_uniform(seed=0)))\n",
        "model.add(BatchNormalization())\n",
        "model.add(Conv2D(filters=512, kernel_size=(3,3), padding=\"same\", activation=\"relu\", kernel_initializer = glorot_uniform(seed=0)))\n",
        "model.add(BatchNormalization())\n",
        "model.add(Conv2D(filters=512, kernel_size=(3,3), padding=\"same\", activation=\"relu\", kernel_initializer = glorot_uniform(seed=0)))\n",
        "model.add(BatchNormalization())\n",
        "model.add(MaxPool2D(pool_size=(2,2),strides=(2,2)))\n",
        "model.add(Dropout(0.5))\n",
        "\n",
        "model.add(Conv2D(filters=512, kernel_size=(3,3), padding=\"same\", activation=\"relu\", kernel_initializer = glorot_uniform(seed=0)))\n",
        "model.add(BatchNormalization())\n",
        "model.add(Conv2D(filters=512, kernel_size=(3,3), padding=\"same\", activation=\"relu\", kernel_initializer = glorot_uniform(seed=0)))\n",
        "model.add(BatchNormalization())\n",
        "model.add(Conv2D(filters=512, kernel_size=(3,3), padding=\"same\", activation=\"relu\", kernel_initializer = glorot_uniform(seed=0)))\n",
        "model.add(BatchNormalization())\n",
        "model.add(MaxPool2D(pool_size=(2,2),strides=(2,2)))\n",
        "model.add(Dropout(0.6))\n",
        "\n",
        "#model.add(Flatten())\n",
        "model.add(GlobalAveragePooling2D())\n",
        "\n",
        "model.add(Dense(512,activation='relu'))\n",
        "model.add(Dropout(0.5))\n",
        "model.add(Dense(512,activation='relu'))\n",
        "model.add(Dropout(0.5))\n",
        "\n",
        "model.add(Dense(units=num_classes, activation='softmax'))\n",
        "\n",
        "# print the model summary\n",
        "model.summary()"
      ],
      "execution_count": 14,
      "outputs": [
        {
          "output_type": "stream",
          "text": [
            "Model: \"sequential\"\n",
            "_________________________________________________________________\n",
            "Layer (type)                 Output Shape              Param #   \n",
            "=================================================================\n",
            "conv2d (Conv2D)              (None, 48, 48, 64)        640       \n",
            "_________________________________________________________________\n",
            "batch_normalization (BatchNo (None, 48, 48, 64)        256       \n",
            "_________________________________________________________________\n",
            "conv2d_1 (Conv2D)            (None, 48, 48, 64)        36928     \n",
            "_________________________________________________________________\n",
            "batch_normalization_1 (Batch (None, 48, 48, 64)        256       \n",
            "_________________________________________________________________\n",
            "max_pooling2d (MaxPooling2D) (None, 24, 24, 64)        0         \n",
            "_________________________________________________________________\n",
            "dropout (Dropout)            (None, 24, 24, 64)        0         \n",
            "_________________________________________________________________\n",
            "conv2d_2 (Conv2D)            (None, 24, 24, 128)       73856     \n",
            "_________________________________________________________________\n",
            "batch_normalization_2 (Batch (None, 24, 24, 128)       512       \n",
            "_________________________________________________________________\n",
            "conv2d_3 (Conv2D)            (None, 24, 24, 128)       147584    \n",
            "_________________________________________________________________\n",
            "batch_normalization_3 (Batch (None, 24, 24, 128)       512       \n",
            "_________________________________________________________________\n",
            "max_pooling2d_1 (MaxPooling2 (None, 12, 12, 128)       0         \n",
            "_________________________________________________________________\n",
            "dropout_1 (Dropout)          (None, 12, 12, 128)       0         \n",
            "_________________________________________________________________\n",
            "conv2d_4 (Conv2D)            (None, 12, 12, 256)       295168    \n",
            "_________________________________________________________________\n",
            "batch_normalization_4 (Batch (None, 12, 12, 256)       1024      \n",
            "_________________________________________________________________\n",
            "conv2d_5 (Conv2D)            (None, 12, 12, 256)       590080    \n",
            "_________________________________________________________________\n",
            "batch_normalization_5 (Batch (None, 12, 12, 256)       1024      \n",
            "_________________________________________________________________\n",
            "conv2d_6 (Conv2D)            (None, 12, 12, 256)       590080    \n",
            "_________________________________________________________________\n",
            "batch_normalization_6 (Batch (None, 12, 12, 256)       1024      \n",
            "_________________________________________________________________\n",
            "max_pooling2d_2 (MaxPooling2 (None, 6, 6, 256)         0         \n",
            "_________________________________________________________________\n",
            "dropout_2 (Dropout)          (None, 6, 6, 256)         0         \n",
            "_________________________________________________________________\n",
            "conv2d_7 (Conv2D)            (None, 6, 6, 512)         1180160   \n",
            "_________________________________________________________________\n",
            "batch_normalization_7 (Batch (None, 6, 6, 512)         2048      \n",
            "_________________________________________________________________\n",
            "conv2d_8 (Conv2D)            (None, 6, 6, 512)         2359808   \n",
            "_________________________________________________________________\n",
            "batch_normalization_8 (Batch (None, 6, 6, 512)         2048      \n",
            "_________________________________________________________________\n",
            "conv2d_9 (Conv2D)            (None, 6, 6, 512)         2359808   \n",
            "_________________________________________________________________\n",
            "batch_normalization_9 (Batch (None, 6, 6, 512)         2048      \n",
            "_________________________________________________________________\n",
            "max_pooling2d_3 (MaxPooling2 (None, 3, 3, 512)         0         \n",
            "_________________________________________________________________\n",
            "dropout_3 (Dropout)          (None, 3, 3, 512)         0         \n",
            "_________________________________________________________________\n",
            "conv2d_10 (Conv2D)           (None, 3, 3, 512)         2359808   \n",
            "_________________________________________________________________\n",
            "batch_normalization_10 (Batc (None, 3, 3, 512)         2048      \n",
            "_________________________________________________________________\n",
            "conv2d_11 (Conv2D)           (None, 3, 3, 512)         2359808   \n",
            "_________________________________________________________________\n",
            "batch_normalization_11 (Batc (None, 3, 3, 512)         2048      \n",
            "_________________________________________________________________\n",
            "conv2d_12 (Conv2D)           (None, 3, 3, 512)         2359808   \n",
            "_________________________________________________________________\n",
            "batch_normalization_12 (Batc (None, 3, 3, 512)         2048      \n",
            "_________________________________________________________________\n",
            "max_pooling2d_4 (MaxPooling2 (None, 1, 1, 512)         0         \n",
            "_________________________________________________________________\n",
            "dropout_4 (Dropout)          (None, 1, 1, 512)         0         \n",
            "_________________________________________________________________\n",
            "global_average_pooling2d (Gl (None, 512)               0         \n",
            "_________________________________________________________________\n",
            "dense (Dense)                (None, 512)               262656    \n",
            "_________________________________________________________________\n",
            "dropout_5 (Dropout)          (None, 512)               0         \n",
            "_________________________________________________________________\n",
            "dense_1 (Dense)              (None, 512)               262656    \n",
            "_________________________________________________________________\n",
            "dropout_6 (Dropout)          (None, 512)               0         \n",
            "_________________________________________________________________\n",
            "dense_2 (Dense)              (None, 7)                 3591      \n",
            "=================================================================\n",
            "Total params: 15,259,335\n",
            "Trainable params: 15,250,887\n",
            "Non-trainable params: 8,448\n",
            "_________________________________________________________________\n"
          ],
          "name": "stdout"
        }
      ]
    },
    {
      "cell_type": "code",
      "metadata": {
        "colab": {
          "base_uri": "https://localhost:8080/"
        },
        "id": "jUu0KuzlIBMR",
        "outputId": "86cffbb0-7c8c-4f96-96d2-c11c6e195c5f"
      },
      "source": [
        "#Model ori\n",
        "'''from keras.models import Sequential\n",
        "from keras.layers import Input, Dense, Flatten, Conv2D, MaxPool2D\n",
        "\n",
        "input_shape = (48, 48, 1)\n",
        "\n",
        "model = Sequential()\n",
        "\n",
        "model.add(Conv2D(filters=64,input_shape=(input_shape),kernel_size=(3,3),padding=\"same\", activation=\"relu\", kernel_initializer = glorot_uniform(seed=0)))\n",
        "model.add(Conv2D(filters=64,kernel_size=(3,3),padding=\"same\", activation=\"relu\", kernel_initializer = glorot_uniform(seed=0)))\n",
        "model.add(MaxPool2D(pool_size=(2,2),strides=(2,2)))\n",
        "\n",
        "model.add(Conv2D(filters=128, kernel_size=(3,3), padding=\"same\", activation=\"relu\", kernel_initializer = glorot_uniform(seed=0)))\n",
        "model.add(Conv2D(filters=128, kernel_size=(3,3), padding=\"same\", activation=\"relu\", kernel_initializer = glorot_uniform(seed=0)))\n",
        "model.add(MaxPool2D(pool_size=(2,2),strides=(2,2)))\n",
        "\n",
        "model.add(Conv2D(filters=256, kernel_size=(3,3), padding=\"same\", activation=\"relu\", kernel_initializer = glorot_uniform(seed=0)))\n",
        "model.add(Conv2D(filters=256, kernel_size=(3,3), padding=\"same\", activation=\"relu\", kernel_initializer = glorot_uniform(seed=0)))\n",
        "model.add(Conv2D(filters=256, kernel_size=(3,3), padding=\"same\", activation=\"relu\", kernel_initializer = glorot_uniform(seed=1)))\n",
        "model.add(MaxPool2D(pool_size=(2,2),strides=(2,2)))\n",
        "\n",
        "model.add(Conv2D(filters=512, kernel_size=(3,3), padding=\"same\", activation=\"relu\", kernel_initializer = glorot_uniform(seed=0)))\n",
        "model.add(Conv2D(filters=512, kernel_size=(3,3), padding=\"same\", activation=\"relu\", kernel_initializer = glorot_uniform(seed=0)))\n",
        "model.add(Conv2D(filters=512, kernel_size=(3,3), padding=\"same\", activation=\"relu\", kernel_initializer = glorot_uniform(seed=0)))\n",
        "model.add(MaxPool2D(pool_size=(2,2),strides=(2,2)))\n",
        "\n",
        "model.add(Conv2D(filters=512, kernel_size=(3,3), padding=\"same\", activation=\"relu\", kernel_initializer = glorot_uniform(seed=0)))\n",
        "model.add(Conv2D(filters=512, kernel_size=(3,3), padding=\"same\", activation=\"relu\", kernel_initializer = glorot_uniform(seed=0)))\n",
        "model.add(Conv2D(filters=512, kernel_size=(3,3), padding=\"same\", activation=\"relu\", kernel_initializer = glorot_uniform(seed=0)))\n",
        "model.add(MaxPool2D(pool_size=(2,2),strides=(2,2)))\n",
        "\n",
        "model.add(Flatten())\n",
        "\n",
        "model.add(Dense(4096,activation='relu'))\n",
        "model.add(Dense(4096,activation='relu'))\n",
        "model.add(Dense(units=num_classes, activation='softmax'))\n",
        "\n",
        "# print the model summary\n",
        "model.summary()"
      ],
      "execution_count": null,
      "outputs": [
        {
          "output_type": "stream",
          "text": [
            "Model: \"sequential\"\n",
            "_________________________________________________________________\n",
            "Layer (type)                 Output Shape              Param #   \n",
            "=================================================================\n",
            "conv2d (Conv2D)              (None, 48, 48, 64)        640       \n",
            "_________________________________________________________________\n",
            "conv2d_1 (Conv2D)            (None, 48, 48, 64)        36928     \n",
            "_________________________________________________________________\n",
            "max_pooling2d (MaxPooling2D) (None, 24, 24, 64)        0         \n",
            "_________________________________________________________________\n",
            "conv2d_2 (Conv2D)            (None, 24, 24, 128)       73856     \n",
            "_________________________________________________________________\n",
            "conv2d_3 (Conv2D)            (None, 24, 24, 128)       147584    \n",
            "_________________________________________________________________\n",
            "max_pooling2d_1 (MaxPooling2 (None, 12, 12, 128)       0         \n",
            "_________________________________________________________________\n",
            "conv2d_4 (Conv2D)            (None, 12, 12, 256)       295168    \n",
            "_________________________________________________________________\n",
            "conv2d_5 (Conv2D)            (None, 12, 12, 256)       590080    \n",
            "_________________________________________________________________\n",
            "conv2d_6 (Conv2D)            (None, 12, 12, 256)       590080    \n",
            "_________________________________________________________________\n",
            "max_pooling2d_2 (MaxPooling2 (None, 6, 6, 256)         0         \n",
            "_________________________________________________________________\n",
            "conv2d_7 (Conv2D)            (None, 6, 6, 512)         1180160   \n",
            "_________________________________________________________________\n",
            "conv2d_8 (Conv2D)            (None, 6, 6, 512)         2359808   \n",
            "_________________________________________________________________\n",
            "conv2d_9 (Conv2D)            (None, 6, 6, 512)         2359808   \n",
            "_________________________________________________________________\n",
            "max_pooling2d_3 (MaxPooling2 (None, 3, 3, 512)         0         \n",
            "_________________________________________________________________\n",
            "conv2d_10 (Conv2D)           (None, 3, 3, 512)         2359808   \n",
            "_________________________________________________________________\n",
            "conv2d_11 (Conv2D)           (None, 3, 3, 512)         2359808   \n",
            "_________________________________________________________________\n",
            "conv2d_12 (Conv2D)           (None, 3, 3, 512)         2359808   \n",
            "_________________________________________________________________\n",
            "max_pooling2d_4 (MaxPooling2 (None, 1, 1, 512)         0         \n",
            "_________________________________________________________________\n",
            "flatten (Flatten)            (None, 512)               0         \n",
            "_________________________________________________________________\n",
            "dense (Dense)                (None, 4096)              2101248   \n",
            "_________________________________________________________________\n",
            "dense_1 (Dense)              (None, 4096)              16781312  \n",
            "_________________________________________________________________\n",
            "dense_2 (Dense)              (None, 7)                 28679     \n",
            "=================================================================\n",
            "Total params: 33,624,775\n",
            "Trainable params: 33,624,775\n",
            "Non-trainable params: 0\n",
            "_________________________________________________________________\n"
          ],
          "name": "stdout"
        }
      ]
    },
    {
      "cell_type": "code",
      "metadata": {
        "id": "0S679DUacsgI"
      },
      "source": [
        "#save plot model to file\n",
        "from keras.utils.vis_utils import plot_model\n",
        "plot_model(model, to_file=\"model.png\", show_shapes=True, show_layer_names=False)"
      ],
      "execution_count": null,
      "outputs": []
    },
    {
      "cell_type": "code",
      "metadata": {
        "id": "LhxgJX3brul-"
      },
      "source": [
        "#compile model\n",
        "from keras.optimizers import Adam,SGD,RMSprop\n",
        "\n",
        "opt = Adam(learning_rate=0.0009)\n",
        "model.compile(loss='categorical_crossentropy', optimizer=opt, metrics=['accuracy'])"
      ],
      "execution_count": 16,
      "outputs": []
    },
    {
      "cell_type": "code",
      "metadata": {
        "colab": {
          "base_uri": "https://localhost:8080/"
        },
        "id": "ljPuPM2iryKG",
        "outputId": "4c03b951-6083-4e8e-e54d-03f37282b044"
      },
      "source": [
        "# fit the model\n",
        "num_epochs = 100\n",
        "history = model.fit(train_flow, \n",
        "                    steps_per_epoch=len(X_train) // batch_size, \n",
        "                    epochs=num_epochs,  \n",
        "                    verbose=1,  \n",
        "                    validation_data=val_flow,  \n",
        "                    validation_steps=len(X_val) // batch_size)"
      ],
      "execution_count": 17,
      "outputs": [
        {
          "output_type": "stream",
          "text": [
            "Epoch 1/100\n",
            "448/448 [==============================] - 85s 78ms/step - loss: 2.4034 - accuracy: 0.1981 - val_loss: 1.8226 - val_accuracy: 0.2494\n",
            "Epoch 2/100\n",
            "448/448 [==============================] - 34s 75ms/step - loss: 1.8312 - accuracy: 0.2332 - val_loss: 1.7970 - val_accuracy: 0.2480\n",
            "Epoch 3/100\n",
            "448/448 [==============================] - 33s 73ms/step - loss: 1.8125 - accuracy: 0.2439 - val_loss: 1.7801 - val_accuracy: 0.2679\n",
            "Epoch 4/100\n",
            "448/448 [==============================] - 33s 73ms/step - loss: 1.7572 - accuracy: 0.2805 - val_loss: 1.6688 - val_accuracy: 0.3092\n",
            "Epoch 5/100\n",
            "448/448 [==============================] - 33s 74ms/step - loss: 1.6263 - accuracy: 0.3475 - val_loss: 1.6299 - val_accuracy: 0.3610\n",
            "Epoch 6/100\n",
            "448/448 [==============================] - 33s 74ms/step - loss: 1.5021 - accuracy: 0.4170 - val_loss: 1.3615 - val_accuracy: 0.4665\n",
            "Epoch 7/100\n",
            "448/448 [==============================] - 33s 74ms/step - loss: 1.4574 - accuracy: 0.4410 - val_loss: 1.3292 - val_accuracy: 0.4807\n",
            "Epoch 8/100\n",
            "448/448 [==============================] - 33s 73ms/step - loss: 1.4165 - accuracy: 0.4623 - val_loss: 1.3656 - val_accuracy: 0.4562\n",
            "Epoch 9/100\n",
            "448/448 [==============================] - 33s 74ms/step - loss: 1.3710 - accuracy: 0.4828 - val_loss: 1.3893 - val_accuracy: 0.4802\n",
            "Epoch 10/100\n",
            "448/448 [==============================] - 33s 74ms/step - loss: 1.3335 - accuracy: 0.4974 - val_loss: 1.2591 - val_accuracy: 0.5179\n",
            "Epoch 11/100\n",
            "448/448 [==============================] - 33s 73ms/step - loss: 1.3060 - accuracy: 0.5116 - val_loss: 1.2026 - val_accuracy: 0.5307\n",
            "Epoch 12/100\n",
            "448/448 [==============================] - 33s 73ms/step - loss: 1.2814 - accuracy: 0.5238 - val_loss: 1.2148 - val_accuracy: 0.5352\n",
            "Epoch 13/100\n",
            "448/448 [==============================] - 33s 73ms/step - loss: 1.2421 - accuracy: 0.5365 - val_loss: 1.1497 - val_accuracy: 0.5569\n",
            "Epoch 14/100\n",
            "448/448 [==============================] - 33s 73ms/step - loss: 1.2285 - accuracy: 0.5463 - val_loss: 1.1645 - val_accuracy: 0.5566\n",
            "Epoch 15/100\n",
            "448/448 [==============================] - 33s 73ms/step - loss: 1.2122 - accuracy: 0.5611 - val_loss: 1.2623 - val_accuracy: 0.5276\n",
            "Epoch 16/100\n",
            "448/448 [==============================] - 33s 73ms/step - loss: 1.1926 - accuracy: 0.5623 - val_loss: 1.1959 - val_accuracy: 0.5410\n",
            "Epoch 17/100\n",
            "448/448 [==============================] - 33s 73ms/step - loss: 1.1934 - accuracy: 0.5642 - val_loss: 1.1590 - val_accuracy: 0.5642\n",
            "Epoch 18/100\n",
            "448/448 [==============================] - 33s 74ms/step - loss: 1.1710 - accuracy: 0.5709 - val_loss: 1.0971 - val_accuracy: 0.5784\n",
            "Epoch 19/100\n",
            "448/448 [==============================] - 33s 74ms/step - loss: 1.1584 - accuracy: 0.5757 - val_loss: 1.1009 - val_accuracy: 0.5862\n",
            "Epoch 20/100\n",
            "448/448 [==============================] - 33s 73ms/step - loss: 1.1280 - accuracy: 0.5889 - val_loss: 1.1176 - val_accuracy: 0.5862\n",
            "Epoch 21/100\n",
            "448/448 [==============================] - 33s 73ms/step - loss: 1.1175 - accuracy: 0.5978 - val_loss: 1.0958 - val_accuracy: 0.5963\n",
            "Epoch 22/100\n",
            "448/448 [==============================] - 33s 73ms/step - loss: 1.1137 - accuracy: 0.5934 - val_loss: 1.0787 - val_accuracy: 0.5938\n",
            "Epoch 23/100\n",
            "448/448 [==============================] - 33s 73ms/step - loss: 1.0908 - accuracy: 0.6038 - val_loss: 1.0315 - val_accuracy: 0.6205\n",
            "Epoch 24/100\n",
            "448/448 [==============================] - 33s 73ms/step - loss: 1.0638 - accuracy: 0.6132 - val_loss: 1.0421 - val_accuracy: 0.6077\n",
            "Epoch 25/100\n",
            "448/448 [==============================] - 33s 73ms/step - loss: 1.0599 - accuracy: 0.6175 - val_loss: 1.0293 - val_accuracy: 0.6205\n",
            "Epoch 26/100\n",
            "448/448 [==============================] - 32s 72ms/step - loss: 1.0519 - accuracy: 0.6160 - val_loss: 1.1752 - val_accuracy: 0.5592\n",
            "Epoch 27/100\n",
            "448/448 [==============================] - 33s 73ms/step - loss: 1.0332 - accuracy: 0.6243 - val_loss: 1.0255 - val_accuracy: 0.6175\n",
            "Epoch 28/100\n",
            "448/448 [==============================] - 32s 72ms/step - loss: 1.0284 - accuracy: 0.6240 - val_loss: 0.9864 - val_accuracy: 0.6370\n",
            "Epoch 29/100\n",
            "448/448 [==============================] - 32s 72ms/step - loss: 1.0173 - accuracy: 0.6297 - val_loss: 1.0131 - val_accuracy: 0.6203\n",
            "Epoch 30/100\n",
            "448/448 [==============================] - 32s 72ms/step - loss: 1.0209 - accuracy: 0.6335 - val_loss: 1.0124 - val_accuracy: 0.6267\n",
            "Epoch 31/100\n",
            "448/448 [==============================] - 33s 73ms/step - loss: 0.9901 - accuracy: 0.6419 - val_loss: 1.0018 - val_accuracy: 0.6186\n",
            "Epoch 32/100\n",
            "448/448 [==============================] - 33s 73ms/step - loss: 0.9951 - accuracy: 0.6382 - val_loss: 0.9985 - val_accuracy: 0.6295\n",
            "Epoch 33/100\n",
            "448/448 [==============================] - 33s 73ms/step - loss: 0.9780 - accuracy: 0.6420 - val_loss: 1.0387 - val_accuracy: 0.6272\n",
            "Epoch 34/100\n",
            "448/448 [==============================] - 33s 73ms/step - loss: 0.9624 - accuracy: 0.6544 - val_loss: 0.9837 - val_accuracy: 0.6392\n",
            "Epoch 35/100\n",
            "448/448 [==============================] - 33s 73ms/step - loss: 0.9634 - accuracy: 0.6517 - val_loss: 0.9931 - val_accuracy: 0.6373\n",
            "Epoch 36/100\n",
            "448/448 [==============================] - 32s 72ms/step - loss: 0.9609 - accuracy: 0.6502 - val_loss: 0.9925 - val_accuracy: 0.6437\n",
            "Epoch 37/100\n",
            "448/448 [==============================] - 33s 73ms/step - loss: 0.9409 - accuracy: 0.6634 - val_loss: 1.0184 - val_accuracy: 0.6348\n",
            "Epoch 38/100\n",
            "448/448 [==============================] - 33s 73ms/step - loss: 0.9302 - accuracy: 0.6633 - val_loss: 1.0225 - val_accuracy: 0.6253\n",
            "Epoch 39/100\n",
            "448/448 [==============================] - 33s 73ms/step - loss: 0.9068 - accuracy: 0.6755 - val_loss: 1.0119 - val_accuracy: 0.6225\n",
            "Epoch 40/100\n",
            "448/448 [==============================] - 33s 73ms/step - loss: 0.9275 - accuracy: 0.6673 - val_loss: 0.9945 - val_accuracy: 0.6345\n",
            "Epoch 41/100\n",
            "448/448 [==============================] - 33s 73ms/step - loss: 0.9172 - accuracy: 0.6712 - val_loss: 0.9948 - val_accuracy: 0.6362\n",
            "Epoch 42/100\n",
            "448/448 [==============================] - 33s 73ms/step - loss: 0.9285 - accuracy: 0.6714 - val_loss: 0.9780 - val_accuracy: 0.6540\n",
            "Epoch 43/100\n",
            "448/448 [==============================] - 33s 73ms/step - loss: 0.8968 - accuracy: 0.6808 - val_loss: 1.1111 - val_accuracy: 0.5968\n",
            "Epoch 44/100\n",
            "448/448 [==============================] - 32s 72ms/step - loss: 0.9570 - accuracy: 0.6564 - val_loss: 0.9541 - val_accuracy: 0.6646\n",
            "Epoch 45/100\n",
            "448/448 [==============================] - 33s 73ms/step - loss: 0.8881 - accuracy: 0.6782 - val_loss: 0.9578 - val_accuracy: 0.6705\n",
            "Epoch 46/100\n",
            "448/448 [==============================] - 33s 73ms/step - loss: 0.8929 - accuracy: 0.6858 - val_loss: 0.9544 - val_accuracy: 0.6576\n",
            "Epoch 47/100\n",
            "448/448 [==============================] - 33s 73ms/step - loss: 0.8716 - accuracy: 0.6871 - val_loss: 1.0393 - val_accuracy: 0.6370\n",
            "Epoch 48/100\n",
            "448/448 [==============================] - 33s 73ms/step - loss: 0.8674 - accuracy: 0.6871 - val_loss: 0.9593 - val_accuracy: 0.6523\n",
            "Epoch 49/100\n",
            "448/448 [==============================] - 33s 73ms/step - loss: 0.8741 - accuracy: 0.6873 - val_loss: 0.9834 - val_accuracy: 0.6588\n",
            "Epoch 50/100\n",
            "448/448 [==============================] - 33s 73ms/step - loss: 0.8550 - accuracy: 0.6956 - val_loss: 0.9514 - val_accuracy: 0.6487\n",
            "Epoch 51/100\n",
            "448/448 [==============================] - 32s 72ms/step - loss: 0.8749 - accuracy: 0.6887 - val_loss: 0.9599 - val_accuracy: 0.6610\n",
            "Epoch 52/100\n",
            "448/448 [==============================] - 33s 73ms/step - loss: 0.8409 - accuracy: 0.6996 - val_loss: 0.9298 - val_accuracy: 0.6719\n",
            "Epoch 53/100\n",
            "448/448 [==============================] - 33s 73ms/step - loss: 0.8452 - accuracy: 0.7009 - val_loss: 0.9578 - val_accuracy: 0.6593\n",
            "Epoch 54/100\n",
            "448/448 [==============================] - 32s 72ms/step - loss: 0.8183 - accuracy: 0.7105 - val_loss: 0.9488 - val_accuracy: 0.6624\n",
            "Epoch 55/100\n",
            "448/448 [==============================] - 33s 73ms/step - loss: 0.8244 - accuracy: 0.7067 - val_loss: 0.9263 - val_accuracy: 0.6713\n",
            "Epoch 56/100\n",
            "448/448 [==============================] - 33s 73ms/step - loss: 0.8146 - accuracy: 0.7116 - val_loss: 0.9297 - val_accuracy: 0.6719\n",
            "Epoch 57/100\n",
            "448/448 [==============================] - 33s 73ms/step - loss: 0.8194 - accuracy: 0.7066 - val_loss: 1.0025 - val_accuracy: 0.6537\n",
            "Epoch 58/100\n",
            "448/448 [==============================] - 33s 73ms/step - loss: 0.8082 - accuracy: 0.7120 - val_loss: 0.9188 - val_accuracy: 0.6691\n",
            "Epoch 59/100\n",
            "448/448 [==============================] - 32s 72ms/step - loss: 0.8144 - accuracy: 0.7075 - val_loss: 1.0300 - val_accuracy: 0.6431\n",
            "Epoch 60/100\n",
            "448/448 [==============================] - 33s 73ms/step - loss: 0.8105 - accuracy: 0.7147 - val_loss: 0.9600 - val_accuracy: 0.6722\n",
            "Epoch 61/100\n",
            "448/448 [==============================] - 33s 73ms/step - loss: 0.8089 - accuracy: 0.7153 - val_loss: 0.9696 - val_accuracy: 0.6660\n",
            "Epoch 62/100\n",
            "448/448 [==============================] - 33s 73ms/step - loss: 0.7925 - accuracy: 0.7175 - val_loss: 0.9707 - val_accuracy: 0.6610\n",
            "Epoch 63/100\n",
            "448/448 [==============================] - 33s 73ms/step - loss: 0.8024 - accuracy: 0.7167 - val_loss: 0.9366 - val_accuracy: 0.6705\n",
            "Epoch 64/100\n",
            "448/448 [==============================] - 33s 73ms/step - loss: 0.7953 - accuracy: 0.7173 - val_loss: 0.9654 - val_accuracy: 0.6613\n",
            "Epoch 65/100\n",
            "448/448 [==============================] - 33s 73ms/step - loss: 0.7780 - accuracy: 0.7195 - val_loss: 0.9492 - val_accuracy: 0.6705\n",
            "Epoch 66/100\n",
            "448/448 [==============================] - 33s 73ms/step - loss: 0.7822 - accuracy: 0.7177 - val_loss: 0.9491 - val_accuracy: 0.6669\n",
            "Epoch 67/100\n",
            "448/448 [==============================] - 33s 73ms/step - loss: 0.7734 - accuracy: 0.7211 - val_loss: 0.9619 - val_accuracy: 0.6705\n",
            "Epoch 68/100\n",
            "448/448 [==============================] - 33s 73ms/step - loss: 0.7616 - accuracy: 0.7299 - val_loss: 0.9417 - val_accuracy: 0.6805\n",
            "Epoch 69/100\n",
            "448/448 [==============================] - 33s 73ms/step - loss: 0.7488 - accuracy: 0.7308 - val_loss: 0.9724 - val_accuracy: 0.6604\n",
            "Epoch 70/100\n",
            "448/448 [==============================] - 33s 73ms/step - loss: 0.7666 - accuracy: 0.7318 - val_loss: 0.9706 - val_accuracy: 0.6722\n",
            "Epoch 71/100\n",
            "448/448 [==============================] - 33s 73ms/step - loss: 0.7473 - accuracy: 0.7354 - val_loss: 1.0004 - val_accuracy: 0.6627\n",
            "Epoch 72/100\n",
            "448/448 [==============================] - 33s 73ms/step - loss: 0.7479 - accuracy: 0.7345 - val_loss: 1.0046 - val_accuracy: 0.6641\n",
            "Epoch 73/100\n",
            "448/448 [==============================] - 33s 73ms/step - loss: 0.7423 - accuracy: 0.7362 - val_loss: 0.9672 - val_accuracy: 0.6730\n",
            "Epoch 74/100\n",
            "448/448 [==============================] - 33s 73ms/step - loss: 0.7485 - accuracy: 0.7335 - val_loss: 0.9209 - val_accuracy: 0.6802\n",
            "Epoch 75/100\n",
            "448/448 [==============================] - 32s 72ms/step - loss: 0.7264 - accuracy: 0.7400 - val_loss: 1.0174 - val_accuracy: 0.6694\n",
            "Epoch 76/100\n",
            "448/448 [==============================] - 33s 73ms/step - loss: 0.7243 - accuracy: 0.7442 - val_loss: 0.9846 - val_accuracy: 0.6741\n",
            "Epoch 77/100\n",
            "448/448 [==============================] - 33s 73ms/step - loss: 0.7142 - accuracy: 0.7488 - val_loss: 0.9481 - val_accuracy: 0.6607\n",
            "Epoch 78/100\n",
            "448/448 [==============================] - 33s 73ms/step - loss: 0.7310 - accuracy: 0.7411 - val_loss: 0.9703 - val_accuracy: 0.6576\n",
            "Epoch 79/100\n",
            "448/448 [==============================] - 33s 73ms/step - loss: 0.7724 - accuracy: 0.7247 - val_loss: 0.9397 - val_accuracy: 0.6858\n",
            "Epoch 80/100\n",
            "448/448 [==============================] - 33s 73ms/step - loss: 0.7307 - accuracy: 0.7396 - val_loss: 0.9346 - val_accuracy: 0.6808\n",
            "Epoch 81/100\n",
            "448/448 [==============================] - 33s 73ms/step - loss: 0.7116 - accuracy: 0.7452 - val_loss: 0.9685 - val_accuracy: 0.6730\n",
            "Epoch 82/100\n",
            "448/448 [==============================] - 33s 73ms/step - loss: 0.7016 - accuracy: 0.7529 - val_loss: 0.9504 - val_accuracy: 0.6738\n",
            "Epoch 83/100\n",
            "448/448 [==============================] - 33s 73ms/step - loss: 0.6937 - accuracy: 0.7506 - val_loss: 0.9622 - val_accuracy: 0.6825\n",
            "Epoch 84/100\n",
            "448/448 [==============================] - 32s 72ms/step - loss: 0.6893 - accuracy: 0.7575 - val_loss: 0.9368 - val_accuracy: 0.6738\n",
            "Epoch 85/100\n",
            "448/448 [==============================] - 33s 73ms/step - loss: 0.6942 - accuracy: 0.7543 - val_loss: 0.9662 - val_accuracy: 0.6685\n",
            "Epoch 86/100\n",
            "448/448 [==============================] - 33s 73ms/step - loss: 0.6814 - accuracy: 0.7568 - val_loss: 0.9531 - val_accuracy: 0.6825\n",
            "Epoch 87/100\n",
            "448/448 [==============================] - 33s 73ms/step - loss: 0.7001 - accuracy: 0.7523 - val_loss: 0.9870 - val_accuracy: 0.6722\n",
            "Epoch 88/100\n",
            "448/448 [==============================] - 33s 73ms/step - loss: 0.6839 - accuracy: 0.7533 - val_loss: 1.0178 - val_accuracy: 0.6621\n",
            "Epoch 89/100\n",
            "448/448 [==============================] - 33s 73ms/step - loss: 0.6952 - accuracy: 0.7555 - val_loss: 0.9581 - val_accuracy: 0.6850\n",
            "Epoch 90/100\n",
            "448/448 [==============================] - 33s 73ms/step - loss: 0.6743 - accuracy: 0.7631 - val_loss: 0.9565 - val_accuracy: 0.6794\n",
            "Epoch 91/100\n",
            "448/448 [==============================] - 33s 73ms/step - loss: 0.6826 - accuracy: 0.7598 - val_loss: 0.9879 - val_accuracy: 0.6844\n",
            "Epoch 92/100\n",
            "448/448 [==============================] - 33s 73ms/step - loss: 0.6810 - accuracy: 0.7626 - val_loss: 0.9629 - val_accuracy: 0.6716\n",
            "Epoch 93/100\n",
            "448/448 [==============================] - 33s 73ms/step - loss: 0.6731 - accuracy: 0.7631 - val_loss: 1.1045 - val_accuracy: 0.6496\n",
            "Epoch 94/100\n",
            "448/448 [==============================] - 33s 73ms/step - loss: 0.6712 - accuracy: 0.7643 - val_loss: 1.0019 - val_accuracy: 0.6702\n",
            "Epoch 95/100\n",
            "448/448 [==============================] - 33s 73ms/step - loss: 0.6520 - accuracy: 0.7672 - val_loss: 0.9894 - val_accuracy: 0.6747\n",
            "Epoch 96/100\n",
            "448/448 [==============================] - 33s 73ms/step - loss: 0.6574 - accuracy: 0.7674 - val_loss: 1.5989 - val_accuracy: 0.5910\n",
            "Epoch 97/100\n",
            "448/448 [==============================] - 33s 74ms/step - loss: 0.6638 - accuracy: 0.7672 - val_loss: 0.9637 - val_accuracy: 0.6808\n",
            "Epoch 98/100\n",
            "448/448 [==============================] - 33s 73ms/step - loss: 0.6511 - accuracy: 0.7687 - val_loss: 1.0117 - val_accuracy: 0.6660\n",
            "Epoch 99/100\n",
            "448/448 [==============================] - 33s 73ms/step - loss: 0.6534 - accuracy: 0.7688 - val_loss: 1.0030 - val_accuracy: 0.6839\n",
            "Epoch 100/100\n",
            "448/448 [==============================] - 33s 74ms/step - loss: 0.6682 - accuracy: 0.7648 - val_loss: 0.9886 - val_accuracy: 0.6825\n"
          ],
          "name": "stdout"
        }
      ]
    },
    {
      "cell_type": "markdown",
      "metadata": {
        "id": "zdn-Ud-Ca4LG"
      },
      "source": [
        "# Evaluate"
      ]
    },
    {
      "cell_type": "code",
      "metadata": {
        "colab": {
          "base_uri": "https://localhost:8080/",
          "height": 573
        },
        "id": "d8D97Qq4bUxn",
        "outputId": "480e5652-bdf3-42c2-ce6f-5b8f6be75bd8"
      },
      "source": [
        "accuracy = history.history['accuracy']\n",
        "val_accuracy = history.history['val_accuracy']\n",
        "loss = history.history['loss']\n",
        "val_loss = history.history['val_loss']\n",
        "num_epochs = range(len(accuracy))\n",
        "plt.plot(num_epochs, accuracy, 'r', label='Training acc')\n",
        "plt.plot(num_epochs, val_accuracy, 'b', label='Validation acc')\n",
        "plt.title('Training and validation accuracy')\n",
        "plt.ylabel('accuracy')  \n",
        "plt.xlabel('epoch')\n",
        "plt.legend()\n",
        "plt.figure()\n",
        "plt.plot(num_epochs, loss, 'r', label='Training loss')\n",
        "plt.plot(num_epochs, val_loss, 'b', label='Validation loss')\n",
        "plt.title('Training and validation loss')\n",
        "plt.ylabel('loss')  \n",
        "plt.xlabel('epoch')\n",
        "plt.legend()\n",
        "plt.show()"
      ],
      "execution_count": 19,
      "outputs": [
        {
          "output_type": "display_data",
          "data": {
            "image/png": "[encoded data removed]",
            "text/plain": [
              "<Figure size 432x288 with 1 Axes>"
            ]
          },
          "metadata": {
            "tags": [],
            "needs_background": "light"
          }
        },
        {
          "output_type": "display_data",
          "data": {
            "image/png": "[encoded data removed]",
            "text/plain": [
              "<Figure size 432x288 with 1 Axes>"
            ]
          },
          "metadata": {
            "tags": [],
            "needs_background": "light"
          }
        }
      ]
    },
    {
      "cell_type": "code",
      "metadata": {
        "id": "v2FEkE4pr8vN",
        "colab": {
          "base_uri": "https://localhost:8080/"
        },
        "outputId": "fe68b56c-c2a2-4dfa-901b-a4c66697fe2b"
      },
      "source": [
        "trainloss = model.evaluate(train_flow, steps=len(X_train) / batch_size) \n",
        "print(\"Train Loss \" + str(trainloss[0]))\n",
        "print(\"Train Acc: \" + str(trainloss[1]))\n",
        "valloss = model.evaluate(val_flow, steps=len(X_val) / batch_size) \n",
        "print(\"Val Loss \" + str(valloss[0]))\n",
        "print(\"Val Acc: \" + str(valloss[1]))\n",
        "testloss = model.evaluate(test_flow, steps=len(X_test) / batch_size) \n",
        "print(\"Test Loss \" + str(testloss[0]))\n",
        "print(\"Test Acc: \" + str(testloss[1]))"
      ],
      "execution_count": 20,
      "outputs": [
        {
          "output_type": "stream",
          "text": [
            "448/448 [==============================] - 15s 33ms/step - loss: 0.5827 - accuracy: 0.7902\n",
            "Train Loss 0.582683801651001\n",
            "Train Acc: 0.790205180644989\n",
            "56/56 [==============================] - 1s 26ms/step - loss: 0.9879 - accuracy: 0.6826\n",
            "Val Loss 0.9878810048103333\n",
            "Val Acc: 0.6826413869857788\n",
            "56/56 [==============================] - 1s 20ms/step - loss: 0.9247 - accuracy: 0.6879\n",
            "Test Loss 0.924700140953064\n",
            "Test Acc: 0.6879353523254395\n"
          ],
          "name": "stdout"
        }
      ]
    },
    {
      "cell_type": "code",
      "metadata": {
        "id": "ChuRTIjeFBXJ"
      },
      "source": [
        "def plot_confusion_matrix(y_test, y_pred, classes,\n",
        "                          normalize=False,\n",
        "                          title='Unnormalized confusion matrix',\n",
        "                          cmap=plt.cm.Blues):\n",
        "    cm = confusion_matrix(y_test, y_pred)\n",
        "    \n",
        "    if normalize:\n",
        "        cm = np.round(cm.astype('float') / cm.sum(axis=1)[:, np.newaxis], 2)\n",
        "        \n",
        "    np.set_printoptions(precision=2)\n",
        "    \n",
        "    plt.rcParams[\"figure.figsize\"] = (8,8)  \n",
        "    plt.imshow(cm, interpolation='nearest', cmap=cmap)\n",
        "    plt.title(title)\n",
        "    plt.colorbar()\n",
        "    tick_marks = np.arange(len(classes))\n",
        "    plt.xticks(tick_marks, classes, rotation=45)\n",
        "    plt.yticks(tick_marks, classes)\n",
        "\n",
        "    thresh = cm.min() + (cm.max() - cm.min()) / 2.\n",
        "    for i, j in itertools.product(range(cm.shape[0]), range(cm.shape[1])):\n",
        "        plt.text(j, i, cm[i, j],\n",
        "                 horizontalalignment=\"center\",\n",
        "                 color=\"white\" if cm[i, j] > thresh else \"black\")\n",
        "\n",
        "    plt.tight_layout()\n",
        "    plt.ylabel('True expression')\n",
        "    plt.xlabel('Predicted expression')\n",
        "    plt.show()"
      ],
      "execution_count": 21,
      "outputs": []
    },
    {
      "cell_type": "code",
      "metadata": {
        "colab": {
          "base_uri": "https://localhost:8080/"
        },
        "id": "hAiFwTR_FCpW",
        "outputId": "bffbd018-39ca-4d0b-fad1-03e43ac19b96"
      },
      "source": [
        "y_pred_ = model.predict(X_test/255., verbose=1)\n",
        "y_pred = np.argmax(y_pred_, axis=1)\n",
        "t_te = np.argmax(y_test, axis=1)"
      ],
      "execution_count": 22,
      "outputs": [
        {
          "output_type": "stream",
          "text": [
            "113/113 [==============================] - 3s 13ms/step\n"
          ],
          "name": "stdout"
        }
      ]
    },
    {
      "cell_type": "code",
      "metadata": {
        "colab": {
          "base_uri": "https://localhost:8080/",
          "height": 585
        },
        "id": "CZiiWYfQ7yVt",
        "outputId": "8b6bad48-2ff4-4801-846f-e67300ba4219"
      },
      "source": [
        "from sklearn.metrics import confusion_matrix, classification_report\n",
        "import itertools\n",
        "\n",
        "fig = plot_confusion_matrix(y_test=t_te, y_pred=y_pred,\n",
        "                      classes=labels,\n",
        "                      normalize=True,\n",
        "                      cmap=plt.cm.Blues,\n",
        "                      title='Average accuracy: ' + str(np.sum(y_pred == t_te)/len(t_te)) + '\\n')"
      ],
      "execution_count": 23,
      "outputs": [
        {
          "output_type": "display_data",
          "data": {
            "image/png": "[encoded data removed]",
            "text/plain": [
              "<Figure size 576x576 with 2 Axes>"
            ]
          },
          "metadata": {
            "tags": [],
            "needs_background": "light"
          }
        }
      ]
    },
    {
      "cell_type": "code",
      "metadata": {
        "id": "4vauS7IKbqNG",
        "colab": {
          "base_uri": "https://localhost:8080/"
        },
        "outputId": "f8db336c-8cf1-4ee5-ddf3-07a15b386f5f"
      },
      "source": [
        "emotions = {0: 'Angry', 1: 'Disgust', 2: 'Fear', 3: 'Happy', 4: 'Sad', 5: 'Surprise', 6: 'Neutral'}\n",
        "print(classification_report(t_te, y_pred, target_names=emotions.values()))"
      ],
      "execution_count": 24,
      "outputs": [
        {
          "output_type": "stream",
          "text": [
            "              precision    recall  f1-score   support\n",
            "\n",
            "       Angry       0.60      0.65      0.62       491\n",
            "     Disgust       0.81      0.62      0.70        55\n",
            "        Fear       0.61      0.45      0.52       528\n",
            "       Happy       0.91      0.85      0.88       879\n",
            "         Sad       0.58      0.50      0.54       594\n",
            "    Surprise       0.81      0.81      0.81       416\n",
            "     Neutral       0.56      0.79      0.66       626\n",
            "\n",
            "    accuracy                           0.69      3589\n",
            "   macro avg       0.70      0.67      0.68      3589\n",
            "weighted avg       0.70      0.69      0.69      3589\n",
            "\n"
          ],
          "name": "stdout"
        }
      ]
    },
    {
      "cell_type": "code",
      "metadata": {
        "id": "KKWxaaYRba3j",
        "colab": {
          "base_uri": "https://localhost:8080/"
        },
        "outputId": "b5bc1b78-b818-46f2-ea97-09f1321f428e"
      },
      "source": [
        "model.save(\"/content/drive/MyDrive/Colab Notebooks/Model/ModelFix_Adam0.0009_epoch100_Aug.h5\")\n",
        "print(\"saved\")"
      ],
      "execution_count": 25,
      "outputs": [
        {
          "output_type": "stream",
          "text": [
            "saved\n"
          ],
          "name": "stdout"
        }
      ]
    },
    {
      "cell_type": "markdown",
      "metadata": {
        "id": "aqLRhlr4b7t5"
      },
      "source": [
        "#Load Model"
      ]
    },
    {
      "cell_type": "code",
      "metadata": {
        "id": "J45lyUtcJ-6F",
        "colab": {
          "base_uri": "https://localhost:8080/"
        },
        "outputId": "52036191-f1cc-433c-9642-8f6d088e89ef"
      },
      "source": [
        "from keras.models import load_model\n",
        "model_load = load_model('/content/drive/MyDrive/Colab Notebooks/Model/ModelFix_Adam0.0009_epoch100_Aug.h5')\n",
        "\n",
        "model_load.summary()"
      ],
      "execution_count": 26,
      "outputs": [
        {
          "output_type": "stream",
          "text": [
            "Model: \"sequential\"\n",
            "_________________________________________________________________\n",
            "Layer (type)                 Output Shape              Param #   \n",
            "=================================================================\n",
            "conv2d (Conv2D)              (None, 48, 48, 64)        640       \n",
            "_________________________________________________________________\n",
            "batch_normalization (BatchNo (None, 48, 48, 64)        256       \n",
            "_________________________________________________________________\n",
            "conv2d_1 (Conv2D)            (None, 48, 48, 64)        36928     \n",
            "_________________________________________________________________\n",
            "batch_normalization_1 (Batch (None, 48, 48, 64)        256       \n",
            "_________________________________________________________________\n",
            "max_pooling2d (MaxPooling2D) (None, 24, 24, 64)        0         \n",
            "_________________________________________________________________\n",
            "dropout (Dropout)            (None, 24, 24, 64)        0         \n",
            "_________________________________________________________________\n",
            "conv2d_2 (Conv2D)            (None, 24, 24, 128)       73856     \n",
            "_________________________________________________________________\n",
            "batch_normalization_2 (Batch (None, 24, 24, 128)       512       \n",
            "_________________________________________________________________\n",
            "conv2d_3 (Conv2D)            (None, 24, 24, 128)       147584    \n",
            "_________________________________________________________________\n",
            "batch_normalization_3 (Batch (None, 24, 24, 128)       512       \n",
            "_________________________________________________________________\n",
            "max_pooling2d_1 (MaxPooling2 (None, 12, 12, 128)       0         \n",
            "_________________________________________________________________\n",
            "dropout_1 (Dropout)          (None, 12, 12, 128)       0         \n",
            "_________________________________________________________________\n",
            "conv2d_4 (Conv2D)            (None, 12, 12, 256)       295168    \n",
            "_________________________________________________________________\n",
            "batch_normalization_4 (Batch (None, 12, 12, 256)       1024      \n",
            "_________________________________________________________________\n",
            "conv2d_5 (Conv2D)            (None, 12, 12, 256)       590080    \n",
            "_________________________________________________________________\n",
            "batch_normalization_5 (Batch (None, 12, 12, 256)       1024      \n",
            "_________________________________________________________________\n",
            "conv2d_6 (Conv2D)            (None, 12, 12, 256)       590080    \n",
            "_________________________________________________________________\n",
            "batch_normalization_6 (Batch (None, 12, 12, 256)       1024      \n",
            "_________________________________________________________________\n",
            "max_pooling2d_2 (MaxPooling2 (None, 6, 6, 256)         0         \n",
            "_________________________________________________________________\n",
            "dropout_2 (Dropout)          (None, 6, 6, 256)         0         \n",
            "_________________________________________________________________\n",
            "conv2d_7 (Conv2D)            (None, 6, 6, 512)         1180160   \n",
            "_________________________________________________________________\n",
            "batch_normalization_7 (Batch (None, 6, 6, 512)         2048      \n",
            "_________________________________________________________________\n",
            "conv2d_8 (Conv2D)            (None, 6, 6, 512)         2359808   \n",
            "_________________________________________________________________\n",
            "batch_normalization_8 (Batch (None, 6, 6, 512)         2048      \n",
            "_________________________________________________________________\n",
            "conv2d_9 (Conv2D)            (None, 6, 6, 512)         2359808   \n",
            "_________________________________________________________________\n",
            "batch_normalization_9 (Batch (None, 6, 6, 512)         2048      \n",
            "_________________________________________________________________\n",
            "max_pooling2d_3 (MaxPooling2 (None, 3, 3, 512)         0         \n",
            "_________________________________________________________________\n",
            "dropout_3 (Dropout)          (None, 3, 3, 512)         0         \n",
            "_________________________________________________________________\n",
            "conv2d_10 (Conv2D)           (None, 3, 3, 512)         2359808   \n",
            "_________________________________________________________________\n",
            "batch_normalization_10 (Batc (None, 3, 3, 512)         2048      \n",
            "_________________________________________________________________\n",
            "conv2d_11 (Conv2D)           (None, 3, 3, 512)         2359808   \n",
            "_________________________________________________________________\n",
            "batch_normalization_11 (Batc (None, 3, 3, 512)         2048      \n",
            "_________________________________________________________________\n",
            "conv2d_12 (Conv2D)           (None, 3, 3, 512)         2359808   \n",
            "_________________________________________________________________\n",
            "batch_normalization_12 (Batc (None, 3, 3, 512)         2048      \n",
            "_________________________________________________________________\n",
            "max_pooling2d_4 (MaxPooling2 (None, 1, 1, 512)         0         \n",
            "_________________________________________________________________\n",
            "dropout_4 (Dropout)          (None, 1, 1, 512)         0         \n",
            "_________________________________________________________________\n",
            "global_average_pooling2d (Gl (None, 512)               0         \n",
            "_________________________________________________________________\n",
            "dense (Dense)                (None, 512)               262656    \n",
            "_________________________________________________________________\n",
            "dropout_5 (Dropout)          (None, 512)               0         \n",
            "_________________________________________________________________\n",
            "dense_1 (Dense)              (None, 512)               262656    \n",
            "_________________________________________________________________\n",
            "dropout_6 (Dropout)          (None, 512)               0         \n",
            "_________________________________________________________________\n",
            "dense_2 (Dense)              (None, 7)                 3591      \n",
            "=================================================================\n",
            "Total params: 15,259,335\n",
            "Trainable params: 15,250,887\n",
            "Non-trainable params: 8,448\n",
            "_________________________________________________________________\n"
          ],
          "name": "stdout"
        }
      ]
    },
    {
      "cell_type": "code",
      "metadata": {
        "id": "nQd7m45qfWBW",
        "colab": {
          "base_uri": "https://localhost:8080/"
        },
        "outputId": "9331d724-6d09-4c4e-aeef-71da8b1de561"
      },
      "source": [
        "trainloss = model_load.evaluate(train_flow, steps=len(X_train) / batch_size) \n",
        "print(\"Train Loss \" + str(trainloss[0]))\n",
        "print(\"Train Acc: \" + str(trainloss[1]))\n",
        "valloss = model_load.evaluate(val_flow, steps=len(X_val) / batch_size) \n",
        "print(\"Val Loss \" + str(valloss[0]))\n",
        "print(\"Val Acc: \" + str(valloss[1]))\n",
        "testloss = model_load.evaluate(test_flow, steps=len(X_test) / batch_size) \n",
        "print(\"Test Loss \" + str(testloss[0]))\n",
        "print(\"Test Acc: \" + str(testloss[1]))"
      ],
      "execution_count": 27,
      "outputs": [
        {
          "output_type": "stream",
          "text": [
            "448/448 [==============================] - 17s 35ms/step - loss: 0.5885 - accuracy: 0.7883\n",
            "Train Loss 0.5884997844696045\n",
            "Train Acc: 0.7882893681526184\n",
            "56/56 [==============================] - 1s 20ms/step - loss: 0.9879 - accuracy: 0.6826\n",
            "Val Loss 0.987881064414978\n",
            "Val Acc: 0.6826413869857788\n",
            "56/56 [==============================] - 1s 21ms/step - loss: 0.9247 - accuracy: 0.6879\n",
            "Test Loss 0.924700140953064\n",
            "Test Acc: 0.6879353523254395\n"
          ],
          "name": "stdout"
        }
      ]
    },
    {
      "cell_type": "code",
      "metadata": {
        "id": "kSd2i1YBFFJ2"
      },
      "source": [
        "def plot_confusion_matrix(y_test, y_pred, classes,\n",
        "                          normalize=False,\n",
        "                          title='Unnormalized confusion matrix',\n",
        "                          cmap=plt.cm.Blues):\n",
        "    cm = confusion_matrix(y_test, y_pred)\n",
        "    \n",
        "    if normalize:\n",
        "        cm = np.round(cm.astype('float') / cm.sum(axis=1)[:, np.newaxis], 2)\n",
        "        \n",
        "    np.set_printoptions(precision=2)\n",
        "        \n",
        "    plt.rcParams[\"figure.figsize\"] = (8,8)\n",
        "    plt.imshow(cm, interpolation='nearest', cmap=cmap)\n",
        "    plt.title(title)\n",
        "    plt.colorbar()\n",
        "    tick_marks = np.arange(len(classes))\n",
        "    plt.xticks(tick_marks, classes, rotation=45)\n",
        "    plt.yticks(tick_marks, classes)\n",
        "\n",
        "    thresh = cm.min() + (cm.max() - cm.min()) / 2.\n",
        "    for i, j in itertools.product(range(cm.shape[0]), range(cm.shape[1])):\n",
        "        plt.text(j, i, cm[i, j],\n",
        "                 horizontalalignment=\"center\",\n",
        "                 color=\"white\" if cm[i, j] > thresh else \"black\")\n",
        "\n",
        "    plt.tight_layout()\n",
        "    plt.ylabel('True expression')\n",
        "    plt.xlabel('Predicted expression')\n",
        "    plt.show()"
      ],
      "execution_count": 28,
      "outputs": []
    },
    {
      "cell_type": "code",
      "metadata": {
        "id": "1XLskQQMFGOX",
        "colab": {
          "base_uri": "https://localhost:8080/"
        },
        "outputId": "3166e48c-cd05-4a69-f2ac-a59a39de1c14"
      },
      "source": [
        "y_pred_ = model_load.predict(X_test/255., verbose=1)\n",
        "y_pred = np.argmax(y_pred_, axis=1)\n",
        "t_te = np.argmax(y_test, axis=1)"
      ],
      "execution_count": 29,
      "outputs": [
        {
          "output_type": "stream",
          "text": [
            "113/113 [==============================] - 2s 13ms/step\n"
          ],
          "name": "stdout"
        }
      ]
    },
    {
      "cell_type": "code",
      "metadata": {
        "id": "k0FjKZ6IFHat",
        "colab": {
          "base_uri": "https://localhost:8080/",
          "height": 585
        },
        "outputId": "03cf4d52-7202-48b1-a111-bd825b8bcd98"
      },
      "source": [
        "from sklearn.metrics import confusion_matrix, classification_report\n",
        "import itertools\n",
        "\n",
        "fig = plot_confusion_matrix(y_test=t_te, y_pred=y_pred,\n",
        "                      classes=labels,\n",
        "                      normalize=True,\n",
        "                      cmap=plt.cm.Blues,\n",
        "                      title='Average accuracy: ' + str(np.sum(y_pred == t_te)/len(t_te)) + '\\n')"
      ],
      "execution_count": 30,
      "outputs": [
        {
          "output_type": "display_data",
          "data": {
            "image/png": "[encoded data removed]",
            "text/plain": [
              "<Figure size 576x576 with 2 Axes>"
            ]
          },
          "metadata": {
            "tags": [],
            "needs_background": "light"
          }
        }
      ]
    },
    {
      "cell_type": "code",
      "metadata": {
        "id": "NaoOE0okFIUd",
        "colab": {
          "base_uri": "https://localhost:8080/"
        },
        "outputId": "d439298f-3341-487e-aed7-13a07dc4bc07"
      },
      "source": [
        "emotions = {0: 'Angry', 1: 'Disgust', 2: 'Fear', 3: 'Happy', 4: 'Sad', 5: 'Surprise', 6: 'Neutral'}\n",
        "print(classification_report(t_te, y_pred, target_names=emotions.values()))"
      ],
      "execution_count": 31,
      "outputs": [
        {
          "output_type": "stream",
          "text": [
            "              precision    recall  f1-score   support\n",
            "\n",
            "       Angry       0.60      0.65      0.62       491\n",
            "     Disgust       0.81      0.62      0.70        55\n",
            "        Fear       0.61      0.45      0.52       528\n",
            "       Happy       0.91      0.85      0.88       879\n",
            "         Sad       0.58      0.50      0.54       594\n",
            "    Surprise       0.81      0.81      0.81       416\n",
            "     Neutral       0.56      0.79      0.66       626\n",
            "\n",
            "    accuracy                           0.69      3589\n",
            "   macro avg       0.70      0.67      0.68      3589\n",
            "weighted avg       0.70      0.69      0.69      3589\n",
            "\n"
          ],
          "name": "stdout"
        }
      ]
    }
  ]
}