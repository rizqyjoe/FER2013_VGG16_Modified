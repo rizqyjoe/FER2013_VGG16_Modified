{
  "nbformat": 4,
  "nbformat_minor": 0,
  "metadata": {
    "accelerator": "GPU",
    "colab": {
      "name": "FINAL.ipynb",
      "provenance": [],
      "collapsed_sections": [],
      "include_colab_link": true
    },
    "kernelspec": {
      "display_name": "Python 3",
      "name": "python3"
    },
    "language_info": {
      "name": "python"
    }
  },
  "cells": [
    {
      "cell_type": "markdown",
      "metadata": {
        "id": "view-in-github",
        "colab_type": "text"
      },
      "source": [
        "<a href=\"https://colab.research.google.com/github/rizqyjoe/FER2013_VGG16_Modified/blob/main/Modified%20VGG16/With%20Aug/Epoch%20100/009.ipynb\" target=\"_parent\"><img src=\"https://colab.research.google.com/assets/colab-badge.svg\" alt=\"Open In Colab\"/></a>"
      ]
    },
    {
      "cell_type": "code",
      "metadata": {
        "colab": {
          "base_uri": "https://localhost:8080/"
        },
        "id": "sX-0w3h_sh6U",
        "outputId": "d6372fea-6c0b-47c7-9b09-c4647497adda"
      },
      "source": [
        "#mount drive\n",
        "from google.colab import drive\n",
        "drive.mount('/content/drive')"
      ],
      "execution_count": 1,
      "outputs": [
        {
          "output_type": "stream",
          "text": [
            "Mounted at /content/drive\n"
          ],
          "name": "stdout"
        }
      ]
    },
    {
      "cell_type": "markdown",
      "metadata": {
        "id": "58jrp8yObBBA"
      },
      "source": [
        "# Pre-processing"
      ]
    },
    {
      "cell_type": "code",
      "metadata": {
        "id": "7nrYTmGLrD2A"
      },
      "source": [
        "import tensorflow as tf\n",
        "import keras\n",
        "from keras import backend as K\n",
        "import pandas as pd\n",
        "import numpy as np\n",
        "import matplotlib.pyplot as plt\n",
        "from keras.preprocessing import image\n",
        "from keras.preprocessing.image import ImageDataGenerator\n",
        "from keras import regularizers\n",
        "from keras.utils import np_utils\n",
        "\n",
        "import random\n",
        "\n",
        "tf.random.set_seed(1234)\n",
        "np.random.seed(1234)\n",
        "\n",
        "from keras.initializers import glorot_uniform"
      ],
      "execution_count": 1,
      "outputs": []
    },
    {
      "cell_type": "code",
      "metadata": {
        "colab": {
          "base_uri": "https://localhost:8080/",
          "height": 204
        },
        "id": "0vTjzHIRrW53",
        "outputId": "6bcc9a73-4b72-4712-8d40-e1e088f01e9b"
      },
      "source": [
        "#load file\n",
        "data= pd.read_csv('/content/drive/MyDrive/dataset/fer2013 dataset/fer2013/fer2013.csv')\n",
        "data.head()"
      ],
      "execution_count": 2,
      "outputs": [
        {
          "output_type": "execute_result",
          "data": {
            "text/html": [
              "<div>\n",
              "<style scoped>\n",
              "    .dataframe tbody tr th:only-of-type {\n",
              "        vertical-align: middle;\n",
              "    }\n",
              "\n",
              "    .dataframe tbody tr th {\n",
              "        vertical-align: top;\n",
              "    }\n",
              "\n",
              "    .dataframe thead th {\n",
              "        text-align: right;\n",
              "    }\n",
              "</style>\n",
              "<table border=\"1\" class=\"dataframe\">\n",
              "  <thead>\n",
              "    <tr style=\"text-align: right;\">\n",
              "      <th></th>\n",
              "      <th>emotion</th>\n",
              "      <th>pixels</th>\n",
              "      <th>Usage</th>\n",
              "    </tr>\n",
              "  </thead>\n",
              "  <tbody>\n",
              "    <tr>\n",
              "      <th>0</th>\n",
              "      <td>0</td>\n",
              "      <td>70 80 82 72 58 58 60 63 54 58 60 48 89 115 121...</td>\n",
              "      <td>Training</td>\n",
              "    </tr>\n",
              "    <tr>\n",
              "      <th>1</th>\n",
              "      <td>0</td>\n",
              "      <td>151 150 147 155 148 133 111 140 170 174 182 15...</td>\n",
              "      <td>Training</td>\n",
              "    </tr>\n",
              "    <tr>\n",
              "      <th>2</th>\n",
              "      <td>2</td>\n",
              "      <td>231 212 156 164 174 138 161 173 182 200 106 38...</td>\n",
              "      <td>Training</td>\n",
              "    </tr>\n",
              "    <tr>\n",
              "      <th>3</th>\n",
              "      <td>4</td>\n",
              "      <td>24 32 36 30 32 23 19 20 30 41 21 22 32 34 21 1...</td>\n",
              "      <td>Training</td>\n",
              "    </tr>\n",
              "    <tr>\n",
              "      <th>4</th>\n",
              "      <td>6</td>\n",
              "      <td>4 0 0 0 0 0 0 0 0 0 0 0 3 15 23 28 48 50 58 84...</td>\n",
              "      <td>Training</td>\n",
              "    </tr>\n",
              "  </tbody>\n",
              "</table>\n",
              "</div>"
            ],
            "text/plain": [
              "   emotion                                             pixels     Usage\n",
              "0        0  70 80 82 72 58 58 60 63 54 58 60 48 89 115 121...  Training\n",
              "1        0  151 150 147 155 148 133 111 140 170 174 182 15...  Training\n",
              "2        2  231 212 156 164 174 138 161 173 182 200 106 38...  Training\n",
              "3        4  24 32 36 30 32 23 19 20 30 41 21 22 32 34 21 1...  Training\n",
              "4        6  4 0 0 0 0 0 0 0 0 0 0 0 3 15 23 28 48 50 58 84...  Training"
            ]
          },
          "metadata": {
            "tags": []
          },
          "execution_count": 2
        }
      ]
    },
    {
      "cell_type": "code",
      "metadata": {
        "colab": {
          "base_uri": "https://localhost:8080/"
        },
        "id": "NU40Z0ynrau2",
        "outputId": "1a38113c-8ff5-4ad4-a769-496d2dea3039"
      },
      "source": [
        "data.emotion.value_counts()"
      ],
      "execution_count": 3,
      "outputs": [
        {
          "output_type": "execute_result",
          "data": {
            "text/plain": [
              "3    8989\n",
              "6    6198\n",
              "4    6077\n",
              "2    5121\n",
              "0    4953\n",
              "5    4002\n",
              "1     547\n",
              "Name: emotion, dtype: int64"
            ]
          },
          "metadata": {
            "tags": []
          },
          "execution_count": 3
        }
      ]
    },
    {
      "cell_type": "code",
      "metadata": {
        "id": "IeBaq6_7rdMu"
      },
      "source": [
        "emotion_labels = [\"Angry\", \"Disgust\", \"Fear\", \"Happy\", \"Sad\", \"Surprise\", \"Neutral\"]\n",
        "labels=np.array((\"Angry\", \"Disgust\", \"Fear\", \"Happy\", \"Sad\", \"Surprise\", \"Neutral\"))"
      ],
      "execution_count": 4,
      "outputs": []
    },
    {
      "cell_type": "code",
      "metadata": {
        "colab": {
          "base_uri": "https://localhost:8080/"
        },
        "id": "8MQKKFDare4e",
        "outputId": "fbcf71eb-5a60-49d9-cc90-710655bb457a"
      },
      "source": [
        "data.Usage.value_counts()"
      ],
      "execution_count": 5,
      "outputs": [
        {
          "output_type": "execute_result",
          "data": {
            "text/plain": [
              "Training       28709\n",
              "PublicTest      3589\n",
              "PrivateTest     3589\n",
              "Name: Usage, dtype: int64"
            ]
          },
          "metadata": {
            "tags": []
          },
          "execution_count": 5
        }
      ]
    },
    {
      "cell_type": "code",
      "metadata": {
        "id": "RQlblEnwrgkW"
      },
      "source": [
        "#split data \n",
        "train_set = data[(data.Usage == 'Training')] \n",
        "val_set = data[(data.Usage == 'PublicTest')]\n",
        "test_set = data[(data.Usage == 'PrivateTest')] \n",
        "X_train = np.array(list(map(str.split, train_set.pixels)), np.float32) \n",
        "X_val = np.array(list(map(str.split, val_set.pixels)), np.float32) \n",
        "X_test = np.array(list(map(str.split, test_set.pixels)), np.float32) \n",
        "X_train = X_train.reshape(X_train.shape[0], 48, 48, 1) \n",
        "X_val = X_val.reshape(X_val.shape[0], 48, 48, 1)\n",
        "X_test = X_test.reshape(X_test.shape[0], 48, 48, 1)"
      ],
      "execution_count": 6,
      "outputs": []
    },
    {
      "cell_type": "code",
      "metadata": {
        "id": "MVqY8ftoriHW"
      },
      "source": [
        "num_classes = 7\n",
        "\n",
        "y_train = train_set.emotion \n",
        "y_train = np_utils.to_categorical(y_train, num_classes) \n",
        "y_val = val_set.emotion \n",
        "y_val = np_utils.to_categorical(y_val, num_classes) \n",
        "y_test = test_set.emotion \n",
        "y_test = np_utils.to_categorical(y_test, num_classes)"
      ],
      "execution_count": 7,
      "outputs": []
    },
    {
      "cell_type": "code",
      "metadata": {
        "colab": {
          "base_uri": "https://localhost:8080/"
        },
        "id": "WaMwvF5vrju-",
        "outputId": "1c191132-2fa6-4d60-b023-5cff3e328202"
      },
      "source": [
        "print(\"x_train:\",X_train.shape)\n",
        "print(\"y_train:\",y_train.shape)\n",
        "print(\"x_val:\",X_val.shape)\n",
        "print(\"y_val:\",y_val.shape)\n",
        "print(\"x_test:\",X_test.shape)\n",
        "print(\"y_test:\",y_test.shape)"
      ],
      "execution_count": 8,
      "outputs": [
        {
          "output_type": "stream",
          "text": [
            "x_train: (28709, 48, 48, 1)\n",
            "y_train: (28709, 7)\n",
            "x_val: (3589, 48, 48, 1)\n",
            "y_val: (3589, 7)\n",
            "x_test: (3589, 48, 48, 1)\n",
            "y_test: (3589, 7)\n"
          ],
          "name": "stdout"
        }
      ]
    },
    {
      "cell_type": "code",
      "metadata": {
        "id": "DzChH8hGrldw"
      },
      "source": [
        "#data augmentation\n",
        "datagen = ImageDataGenerator(rescale=1./255,\n",
        "                             rotation_range=10,\n",
        "                             width_shift_range=0.2,\n",
        "                             height_shift_range=0.2, \n",
        "                             zoom_range=0.2,\n",
        "                             horizontal_flip=True)\n",
        "\n",
        "#datagen = ImageDataGenerator(rescale=1./255)\n",
        "\n",
        "testgen = ImageDataGenerator(rescale=1./255)\n",
        "\n",
        "datagen.fit(X_train)\n",
        "batch_size = 64"
      ],
      "execution_count": 9,
      "outputs": []
    },
    {
      "cell_type": "code",
      "metadata": {
        "id": "d-nkOZUfrm_e"
      },
      "source": [
        "train_flow = datagen.flow(X_train, y_train, batch_size=batch_size) \n",
        "val_flow = testgen.flow(X_val, y_val, batch_size=batch_size) \n",
        "test_flow = testgen.flow(X_test, y_test, batch_size=batch_size)"
      ],
      "execution_count": 10,
      "outputs": []
    },
    {
      "cell_type": "code",
      "metadata": {
        "id": "3u6vR_8CroMG"
      },
      "source": [
        "from tensorflow.keras.utils import plot_model\n",
        "from matplotlib import pyplot"
      ],
      "execution_count": 11,
      "outputs": []
    },
    {
      "cell_type": "code",
      "metadata": {
        "colab": {
          "base_uri": "https://localhost:8080/",
          "height": 248
        },
        "id": "HZ6sB7a0rp0O",
        "outputId": "20f1e7f1-d8fa-445b-c3de-567ac36ee611"
      },
      "source": [
        "#displaying sample images\n",
        "for X_batch, y_batch in datagen.flow(X_train, y_train, batch_size=9):\n",
        "    for i in range(0, 9): \n",
        "        pyplot.axis('off') \n",
        "        pyplot.subplot(330 + 1 + i) \n",
        "        pyplot.imshow(X_batch[i].reshape(48, 48), cmap=pyplot.get_cmap('gray'))\n",
        "    pyplot.axis('off') \n",
        "    pyplot.show() \n",
        "    break"
      ],
      "execution_count": 12,
      "outputs": [
        {
          "output_type": "display_data",
          "data": {
            "image/png": "[encoded data removed]",
            "text/plain": [
              "<Figure size 432x288 with 9 Axes>"
            ]
          },
          "metadata": {
            "tags": [],
            "needs_background": "light"
          }
        }
      ]
    },
    {
      "cell_type": "markdown",
      "metadata": {
        "id": "mH061hQUbJsv"
      },
      "source": [
        "# Training Model"
      ]
    },
    {
      "cell_type": "code",
      "metadata": {
        "id": "rxqJ_jM_mSTg",
        "colab": {
          "base_uri": "https://localhost:8080/"
        },
        "outputId": "48501961-c29c-4b0b-ec90-c7b04b587675"
      },
      "source": [
        "#Model Fix\n",
        "from keras.models import Sequential\n",
        "from keras.layers import Input, Dense, Flatten, Dropout, Conv2D, MaxPool2D, BatchNormalization, GlobalAveragePooling2D\n",
        "\n",
        "input_shape = (48, 48, 1)\n",
        "\n",
        "model = Sequential()\n",
        "\n",
        "model.add(Conv2D(filters=64,input_shape=(input_shape),kernel_size=(3,3),padding=\"same\", activation=\"relu\", kernel_initializer = glorot_uniform(seed=0)))\n",
        "model.add(BatchNormalization())\n",
        "model.add(Conv2D(filters=64,kernel_size=(3,3),padding=\"same\", activation=\"relu\", kernel_initializer = glorot_uniform(seed=0)))\n",
        "model.add(BatchNormalization())\n",
        "model.add(MaxPool2D(pool_size=(2,2),strides=(2,2)))\n",
        "model.add(Dropout(0.2))\n",
        "\n",
        "model.add(Conv2D(filters=128, kernel_size=(3,3), padding=\"same\", activation=\"relu\", kernel_initializer = glorot_uniform(seed=0)))\n",
        "model.add(BatchNormalization())\n",
        "model.add(Conv2D(filters=128, kernel_size=(3,3), padding=\"same\", activation=\"relu\", kernel_initializer = glorot_uniform(seed=0)))\n",
        "model.add(BatchNormalization())\n",
        "model.add(MaxPool2D(pool_size=(2,2),strides=(2,2)))\n",
        "model.add(Dropout(0.3))\n",
        "\n",
        "model.add(Conv2D(filters=256, kernel_size=(3,3), padding=\"same\", activation=\"relu\", kernel_initializer = glorot_uniform(seed=0)))\n",
        "model.add(BatchNormalization())\n",
        "model.add(Conv2D(filters=256, kernel_size=(3,3), padding=\"same\", activation=\"relu\", kernel_initializer = glorot_uniform(seed=0)))\n",
        "model.add(BatchNormalization())\n",
        "model.add(Conv2D(filters=256, kernel_size=(3,3), padding=\"same\", activation=\"relu\", kernel_initializer = glorot_uniform(seed=0)))\n",
        "model.add(BatchNormalization())\n",
        "model.add(MaxPool2D(pool_size=(2,2),strides=(2,2)))\n",
        "model.add(Dropout(0.4))\n",
        "\n",
        "model.add(Conv2D(filters=512, kernel_size=(3,3), padding=\"same\", activation=\"relu\", kernel_initializer = glorot_uniform(seed=0)))\n",
        "model.add(BatchNormalization())\n",
        "model.add(Conv2D(filters=512, kernel_size=(3,3), padding=\"same\", activation=\"relu\", kernel_initializer = glorot_uniform(seed=0)))\n",
        "model.add(BatchNormalization())\n",
        "model.add(Conv2D(filters=512, kernel_size=(3,3), padding=\"same\", activation=\"relu\", kernel_initializer = glorot_uniform(seed=0)))\n",
        "model.add(BatchNormalization())\n",
        "model.add(MaxPool2D(pool_size=(2,2),strides=(2,2)))\n",
        "model.add(Dropout(0.5))\n",
        "\n",
        "model.add(Conv2D(filters=512, kernel_size=(3,3), padding=\"same\", activation=\"relu\", kernel_initializer = glorot_uniform(seed=0)))\n",
        "model.add(BatchNormalization())\n",
        "model.add(Conv2D(filters=512, kernel_size=(3,3), padding=\"same\", activation=\"relu\", kernel_initializer = glorot_uniform(seed=0)))\n",
        "model.add(BatchNormalization())\n",
        "model.add(Conv2D(filters=512, kernel_size=(3,3), padding=\"same\", activation=\"relu\", kernel_initializer = glorot_uniform(seed=0)))\n",
        "model.add(BatchNormalization())\n",
        "model.add(MaxPool2D(pool_size=(2,2),strides=(2,2)))\n",
        "model.add(Dropout(0.6))\n",
        "\n",
        "#model.add(Flatten())\n",
        "model.add(GlobalAveragePooling2D())\n",
        "\n",
        "model.add(Dense(512,activation='relu'))\n",
        "model.add(Dropout(0.5))\n",
        "model.add(Dense(512,activation='relu'))\n",
        "model.add(Dropout(0.5))\n",
        "\n",
        "model.add(Dense(units=num_classes, activation='softmax'))\n",
        "\n",
        "# print the model summary\n",
        "model.summary()"
      ],
      "execution_count": 13,
      "outputs": [
        {
          "output_type": "stream",
          "text": [
            "Model: \"sequential\"\n",
            "_________________________________________________________________\n",
            "Layer (type)                 Output Shape              Param #   \n",
            "=================================================================\n",
            "conv2d (Conv2D)              (None, 48, 48, 64)        640       \n",
            "_________________________________________________________________\n",
            "batch_normalization (BatchNo (None, 48, 48, 64)        256       \n",
            "_________________________________________________________________\n",
            "conv2d_1 (Conv2D)            (None, 48, 48, 64)        36928     \n",
            "_________________________________________________________________\n",
            "batch_normalization_1 (Batch (None, 48, 48, 64)        256       \n",
            "_________________________________________________________________\n",
            "max_pooling2d (MaxPooling2D) (None, 24, 24, 64)        0         \n",
            "_________________________________________________________________\n",
            "dropout (Dropout)            (None, 24, 24, 64)        0         \n",
            "_________________________________________________________________\n",
            "conv2d_2 (Conv2D)            (None, 24, 24, 128)       73856     \n",
            "_________________________________________________________________\n",
            "batch_normalization_2 (Batch (None, 24, 24, 128)       512       \n",
            "_________________________________________________________________\n",
            "conv2d_3 (Conv2D)            (None, 24, 24, 128)       147584    \n",
            "_________________________________________________________________\n",
            "batch_normalization_3 (Batch (None, 24, 24, 128)       512       \n",
            "_________________________________________________________________\n",
            "max_pooling2d_1 (MaxPooling2 (None, 12, 12, 128)       0         \n",
            "_________________________________________________________________\n",
            "dropout_1 (Dropout)          (None, 12, 12, 128)       0         \n",
            "_________________________________________________________________\n",
            "conv2d_4 (Conv2D)            (None, 12, 12, 256)       295168    \n",
            "_________________________________________________________________\n",
            "batch_normalization_4 (Batch (None, 12, 12, 256)       1024      \n",
            "_________________________________________________________________\n",
            "conv2d_5 (Conv2D)            (None, 12, 12, 256)       590080    \n",
            "_________________________________________________________________\n",
            "batch_normalization_5 (Batch (None, 12, 12, 256)       1024      \n",
            "_________________________________________________________________\n",
            "conv2d_6 (Conv2D)            (None, 12, 12, 256)       590080    \n",
            "_________________________________________________________________\n",
            "batch_normalization_6 (Batch (None, 12, 12, 256)       1024      \n",
            "_________________________________________________________________\n",
            "max_pooling2d_2 (MaxPooling2 (None, 6, 6, 256)         0         \n",
            "_________________________________________________________________\n",
            "dropout_2 (Dropout)          (None, 6, 6, 256)         0         \n",
            "_________________________________________________________________\n",
            "conv2d_7 (Conv2D)            (None, 6, 6, 512)         1180160   \n",
            "_________________________________________________________________\n",
            "batch_normalization_7 (Batch (None, 6, 6, 512)         2048      \n",
            "_________________________________________________________________\n",
            "conv2d_8 (Conv2D)            (None, 6, 6, 512)         2359808   \n",
            "_________________________________________________________________\n",
            "batch_normalization_8 (Batch (None, 6, 6, 512)         2048      \n",
            "_________________________________________________________________\n",
            "conv2d_9 (Conv2D)            (None, 6, 6, 512)         2359808   \n",
            "_________________________________________________________________\n",
            "batch_normalization_9 (Batch (None, 6, 6, 512)         2048      \n",
            "_________________________________________________________________\n",
            "max_pooling2d_3 (MaxPooling2 (None, 3, 3, 512)         0         \n",
            "_________________________________________________________________\n",
            "dropout_3 (Dropout)          (None, 3, 3, 512)         0         \n",
            "_________________________________________________________________\n",
            "conv2d_10 (Conv2D)           (None, 3, 3, 512)         2359808   \n",
            "_________________________________________________________________\n",
            "batch_normalization_10 (Batc (None, 3, 3, 512)         2048      \n",
            "_________________________________________________________________\n",
            "conv2d_11 (Conv2D)           (None, 3, 3, 512)         2359808   \n",
            "_________________________________________________________________\n",
            "batch_normalization_11 (Batc (None, 3, 3, 512)         2048      \n",
            "_________________________________________________________________\n",
            "conv2d_12 (Conv2D)           (None, 3, 3, 512)         2359808   \n",
            "_________________________________________________________________\n",
            "batch_normalization_12 (Batc (None, 3, 3, 512)         2048      \n",
            "_________________________________________________________________\n",
            "max_pooling2d_4 (MaxPooling2 (None, 1, 1, 512)         0         \n",
            "_________________________________________________________________\n",
            "dropout_4 (Dropout)          (None, 1, 1, 512)         0         \n",
            "_________________________________________________________________\n",
            "global_average_pooling2d (Gl (None, 512)               0         \n",
            "_________________________________________________________________\n",
            "dense (Dense)                (None, 512)               262656    \n",
            "_________________________________________________________________\n",
            "dropout_5 (Dropout)          (None, 512)               0         \n",
            "_________________________________________________________________\n",
            "dense_1 (Dense)              (None, 512)               262656    \n",
            "_________________________________________________________________\n",
            "dropout_6 (Dropout)          (None, 512)               0         \n",
            "_________________________________________________________________\n",
            "dense_2 (Dense)              (None, 7)                 3591      \n",
            "=================================================================\n",
            "Total params: 15,259,335\n",
            "Trainable params: 15,250,887\n",
            "Non-trainable params: 8,448\n",
            "_________________________________________________________________\n"
          ],
          "name": "stdout"
        }
      ]
    },
    {
      "cell_type": "code",
      "metadata": {
        "id": "BhY-kPssJ-RW"
      },
      "source": [
        "#Model ori\n",
        "'''from keras.models import Sequential\n",
        "from keras.layers import Input, Dense, Flatten, Conv2D, MaxPool2D\n",
        "\n",
        "input_shape = (48, 48, 1)\n",
        "\n",
        "model = Sequential()\n",
        "\n",
        "model.add(Conv2D(filters=64,input_shape=(input_shape),kernel_size=(3,3),padding=\"same\", activation=\"relu\", kernel_initializer = glorot_uniform(seed=0)))\n",
        "model.add(Conv2D(filters=64,kernel_size=(3,3),padding=\"same\", activation=\"relu\", kernel_initializer = glorot_uniform(seed=0)))\n",
        "model.add(MaxPool2D(pool_size=(2,2),strides=(2,2)))\n",
        "\n",
        "model.add(Conv2D(filters=128, kernel_size=(3,3), padding=\"same\", activation=\"relu\", kernel_initializer = glorot_uniform(seed=0)))\n",
        "model.add(Conv2D(filters=128, kernel_size=(3,3), padding=\"same\", activation=\"relu\", kernel_initializer = glorot_uniform(seed=0)))\n",
        "model.add(MaxPool2D(pool_size=(2,2),strides=(2,2)))\n",
        "\n",
        "model.add(Conv2D(filters=256, kernel_size=(3,3), padding=\"same\", activation=\"relu\", kernel_initializer = glorot_uniform(seed=0)))\n",
        "model.add(Conv2D(filters=256, kernel_size=(3,3), padding=\"same\", activation=\"relu\", kernel_initializer = glorot_uniform(seed=0)))\n",
        "model.add(Conv2D(filters=256, kernel_size=(3,3), padding=\"same\", activation=\"relu\", kernel_initializer = glorot_uniform(seed=1)))\n",
        "model.add(MaxPool2D(pool_size=(2,2),strides=(2,2)))\n",
        "\n",
        "model.add(Conv2D(filters=512, kernel_size=(3,3), padding=\"same\", activation=\"relu\", kernel_initializer = glorot_uniform(seed=0)))\n",
        "model.add(Conv2D(filters=512, kernel_size=(3,3), padding=\"same\", activation=\"relu\", kernel_initializer = glorot_uniform(seed=0)))\n",
        "model.add(Conv2D(filters=512, kernel_size=(3,3), padding=\"same\", activation=\"relu\", kernel_initializer = glorot_uniform(seed=0)))\n",
        "model.add(MaxPool2D(pool_size=(2,2),strides=(2,2)))\n",
        "\n",
        "model.add(Conv2D(filters=512, kernel_size=(3,3), padding=\"same\", activation=\"relu\", kernel_initializer = glorot_uniform(seed=0)))\n",
        "model.add(Conv2D(filters=512, kernel_size=(3,3), padding=\"same\", activation=\"relu\", kernel_initializer = glorot_uniform(seed=0)))\n",
        "model.add(Conv2D(filters=512, kernel_size=(3,3), padding=\"same\", activation=\"relu\", kernel_initializer = glorot_uniform(seed=0)))\n",
        "model.add(MaxPool2D(pool_size=(2,2),strides=(2,2)))\n",
        "\n",
        "model.add(Flatten())\n",
        "\n",
        "model.add(Dense(4096,activation='relu'))\n",
        "model.add(Dense(4096,activation='relu'))\n",
        "model.add(Dense(units=num_classes, activation='softmax'))\n",
        "\n",
        "# print the model summary\n",
        "model.summary()"
      ],
      "execution_count": null,
      "outputs": []
    },
    {
      "cell_type": "code",
      "metadata": {
        "id": "0S679DUacsgI"
      },
      "source": [
        "#save plot model to file\n",
        "from keras.utils.vis_utils import plot_model\n",
        "plot_model(model, to_file=\"model.png\", show_shapes=True, show_layer_names=False)"
      ],
      "execution_count": null,
      "outputs": []
    },
    {
      "cell_type": "code",
      "metadata": {
        "id": "LhxgJX3brul-"
      },
      "source": [
        "#compile model\n",
        "from keras.optimizers import Adam,SGD,RMSprop\n",
        "\n",
        "opt = RMSprop(learning_rate=0.0001)\n",
        "model.compile(loss='categorical_crossentropy', optimizer=opt, metrics=['accuracy'])"
      ],
      "execution_count": 14,
      "outputs": []
    },
    {
      "cell_type": "code",
      "metadata": {
        "colab": {
          "base_uri": "https://localhost:8080/"
        },
        "id": "ljPuPM2iryKG",
        "outputId": "32287ae8-8034-4754-bf4f-5236b867f300"
      },
      "source": [
        "# fit the model\n",
        "num_epochs = 100\n",
        "history = model.fit(train_flow, \n",
        "                    steps_per_epoch=len(X_train) // batch_size, \n",
        "                    epochs=num_epochs,  \n",
        "                    verbose=1,  \n",
        "                    validation_data=val_flow,  \n",
        "                    validation_steps=len(X_val) // batch_size)"
      ],
      "execution_count": 15,
      "outputs": [
        {
          "output_type": "stream",
          "text": [
            "Epoch 1/100\n",
            "448/448 [==============================] - 60s 81ms/step - loss: 2.9107 - accuracy: 0.1808 - val_loss: 1.8339 - val_accuracy: 0.2494\n",
            "Epoch 2/100\n",
            "448/448 [==============================] - 34s 75ms/step - loss: 1.9130 - accuracy: 0.2161 - val_loss: 1.8106 - val_accuracy: 0.2547\n",
            "Epoch 3/100\n",
            "448/448 [==============================] - 34s 75ms/step - loss: 1.8458 - accuracy: 0.2381 - val_loss: 1.7325 - val_accuracy: 0.2985\n",
            "Epoch 4/100\n",
            "448/448 [==============================] - 34s 75ms/step - loss: 1.7620 - accuracy: 0.2774 - val_loss: 1.6296 - val_accuracy: 0.3357\n",
            "Epoch 5/100\n",
            "448/448 [==============================] - 34s 75ms/step - loss: 1.6774 - accuracy: 0.3266 - val_loss: 1.5507 - val_accuracy: 0.3890\n",
            "Epoch 6/100\n",
            "448/448 [==============================] - 34s 75ms/step - loss: 1.5665 - accuracy: 0.3754 - val_loss: 1.4321 - val_accuracy: 0.4297\n",
            "Epoch 7/100\n",
            "448/448 [==============================] - 34s 75ms/step - loss: 1.4783 - accuracy: 0.4219 - val_loss: 1.3368 - val_accuracy: 0.4674\n",
            "Epoch 8/100\n",
            "448/448 [==============================] - 34s 75ms/step - loss: 1.4184 - accuracy: 0.4555 - val_loss: 1.3025 - val_accuracy: 0.5078\n",
            "Epoch 9/100\n",
            "448/448 [==============================] - 34s 76ms/step - loss: 1.3865 - accuracy: 0.4663 - val_loss: 1.2923 - val_accuracy: 0.4953\n",
            "Epoch 10/100\n",
            "448/448 [==============================] - 34s 75ms/step - loss: 1.3475 - accuracy: 0.4889 - val_loss: 1.2675 - val_accuracy: 0.5167\n",
            "Epoch 11/100\n",
            "448/448 [==============================] - 34s 75ms/step - loss: 1.3140 - accuracy: 0.5045 - val_loss: 1.2434 - val_accuracy: 0.5195\n",
            "Epoch 12/100\n",
            "448/448 [==============================] - 34s 75ms/step - loss: 1.2751 - accuracy: 0.5202 - val_loss: 1.2220 - val_accuracy: 0.5382\n",
            "Epoch 13/100\n",
            "448/448 [==============================] - 34s 75ms/step - loss: 1.2521 - accuracy: 0.5304 - val_loss: 1.1973 - val_accuracy: 0.5491\n",
            "Epoch 14/100\n",
            "448/448 [==============================] - 34s 75ms/step - loss: 1.2332 - accuracy: 0.5372 - val_loss: 1.2013 - val_accuracy: 0.5497\n",
            "Epoch 15/100\n",
            "448/448 [==============================] - 34s 75ms/step - loss: 1.1994 - accuracy: 0.5543 - val_loss: 1.1428 - val_accuracy: 0.5544\n",
            "Epoch 16/100\n",
            "448/448 [==============================] - 34s 75ms/step - loss: 1.1824 - accuracy: 0.5565 - val_loss: 1.1253 - val_accuracy: 0.5778\n",
            "Epoch 17/100\n",
            "448/448 [==============================] - 34s 75ms/step - loss: 1.1747 - accuracy: 0.5641 - val_loss: 1.1250 - val_accuracy: 0.5695\n",
            "Epoch 18/100\n",
            "448/448 [==============================] - 34s 76ms/step - loss: 1.1679 - accuracy: 0.5717 - val_loss: 1.1325 - val_accuracy: 0.5812\n",
            "Epoch 19/100\n",
            "448/448 [==============================] - 34s 75ms/step - loss: 1.1487 - accuracy: 0.5752 - val_loss: 1.0982 - val_accuracy: 0.5806\n",
            "Epoch 20/100\n",
            "448/448 [==============================] - 34s 76ms/step - loss: 1.1431 - accuracy: 0.5813 - val_loss: 1.1086 - val_accuracy: 0.5910\n",
            "Epoch 21/100\n",
            "448/448 [==============================] - 34s 75ms/step - loss: 1.1246 - accuracy: 0.5865 - val_loss: 1.0667 - val_accuracy: 0.6108\n",
            "Epoch 22/100\n",
            "448/448 [==============================] - 34s 75ms/step - loss: 1.1044 - accuracy: 0.5910 - val_loss: 1.0493 - val_accuracy: 0.6071\n",
            "Epoch 23/100\n",
            "448/448 [==============================] - 34s 76ms/step - loss: 1.0934 - accuracy: 0.5962 - val_loss: 1.0424 - val_accuracy: 0.6105\n",
            "Epoch 24/100\n",
            "448/448 [==============================] - 34s 75ms/step - loss: 1.0752 - accuracy: 0.6071 - val_loss: 1.0738 - val_accuracy: 0.6041\n",
            "Epoch 25/100\n",
            "448/448 [==============================] - 34s 75ms/step - loss: 1.0715 - accuracy: 0.6059 - val_loss: 1.0409 - val_accuracy: 0.6144\n",
            "Epoch 26/100\n",
            "448/448 [==============================] - 34s 75ms/step - loss: 1.0537 - accuracy: 0.6186 - val_loss: 1.0057 - val_accuracy: 0.6175\n",
            "Epoch 27/100\n",
            "448/448 [==============================] - 34s 76ms/step - loss: 1.0503 - accuracy: 0.6184 - val_loss: 1.0879 - val_accuracy: 0.6052\n",
            "Epoch 28/100\n",
            "448/448 [==============================] - 34s 75ms/step - loss: 1.0456 - accuracy: 0.6165 - val_loss: 0.9929 - val_accuracy: 0.6320\n",
            "Epoch 29/100\n",
            "448/448 [==============================] - 34s 75ms/step - loss: 1.0278 - accuracy: 0.6228 - val_loss: 1.0349 - val_accuracy: 0.6183\n",
            "Epoch 30/100\n",
            "448/448 [==============================] - 34s 75ms/step - loss: 1.0237 - accuracy: 0.6242 - val_loss: 1.0583 - val_accuracy: 0.6080\n",
            "Epoch 31/100\n",
            "448/448 [==============================] - 34s 75ms/step - loss: 1.0137 - accuracy: 0.6301 - val_loss: 1.1498 - val_accuracy: 0.6085\n",
            "Epoch 32/100\n",
            "448/448 [==============================] - 34s 75ms/step - loss: 1.0200 - accuracy: 0.6250 - val_loss: 1.0773 - val_accuracy: 0.6208\n",
            "Epoch 33/100\n",
            "448/448 [==============================] - 34s 75ms/step - loss: 1.0128 - accuracy: 0.6269 - val_loss: 1.0766 - val_accuracy: 0.6158\n",
            "Epoch 34/100\n",
            "448/448 [==============================] - 34s 75ms/step - loss: 0.9977 - accuracy: 0.6366 - val_loss: 1.0599 - val_accuracy: 0.6239\n",
            "Epoch 35/100\n",
            "448/448 [==============================] - 34s 75ms/step - loss: 0.9806 - accuracy: 0.6432 - val_loss: 1.0253 - val_accuracy: 0.6264\n",
            "Epoch 36/100\n",
            "448/448 [==============================] - 34s 76ms/step - loss: 0.9801 - accuracy: 0.6392 - val_loss: 1.0668 - val_accuracy: 0.6323\n",
            "Epoch 37/100\n",
            "448/448 [==============================] - 34s 75ms/step - loss: 0.9795 - accuracy: 0.6388 - val_loss: 1.1001 - val_accuracy: 0.6203\n",
            "Epoch 38/100\n",
            "448/448 [==============================] - 34s 75ms/step - loss: 0.9830 - accuracy: 0.6399 - val_loss: 1.1595 - val_accuracy: 0.6191\n",
            "Epoch 39/100\n",
            "448/448 [==============================] - 34s 75ms/step - loss: 0.9779 - accuracy: 0.6411 - val_loss: 1.2977 - val_accuracy: 0.6412\n",
            "Epoch 40/100\n",
            "448/448 [==============================] - 34s 75ms/step - loss: 0.9617 - accuracy: 0.6508 - val_loss: 1.0663 - val_accuracy: 0.6384\n",
            "Epoch 41/100\n",
            "448/448 [==============================] - 34s 75ms/step - loss: 0.9557 - accuracy: 0.6523 - val_loss: 1.1557 - val_accuracy: 0.6364\n",
            "Epoch 42/100\n",
            "448/448 [==============================] - 34s 75ms/step - loss: 0.9537 - accuracy: 0.6537 - val_loss: 1.1063 - val_accuracy: 0.6323\n",
            "Epoch 43/100\n",
            "448/448 [==============================] - 34s 75ms/step - loss: 0.9494 - accuracy: 0.6535 - val_loss: 1.1173 - val_accuracy: 0.6529\n",
            "Epoch 44/100\n",
            "448/448 [==============================] - 33s 74ms/step - loss: 0.9517 - accuracy: 0.6560 - val_loss: 1.1995 - val_accuracy: 0.6283\n",
            "Epoch 45/100\n",
            "448/448 [==============================] - 33s 74ms/step - loss: 0.9387 - accuracy: 0.6629 - val_loss: 1.1014 - val_accuracy: 0.6437\n",
            "Epoch 46/100\n",
            "448/448 [==============================] - 33s 74ms/step - loss: 0.9457 - accuracy: 0.6654 - val_loss: 1.0230 - val_accuracy: 0.6490\n",
            "Epoch 47/100\n",
            "448/448 [==============================] - 33s 75ms/step - loss: 0.9285 - accuracy: 0.6670 - val_loss: 0.9844 - val_accuracy: 0.6529\n",
            "Epoch 48/100\n",
            "448/448 [==============================] - 33s 74ms/step - loss: 0.9204 - accuracy: 0.6675 - val_loss: 1.0472 - val_accuracy: 0.6490\n",
            "Epoch 49/100\n",
            "448/448 [==============================] - 33s 74ms/step - loss: 0.9069 - accuracy: 0.6730 - val_loss: 1.0658 - val_accuracy: 0.6540\n",
            "Epoch 50/100\n",
            "448/448 [==============================] - 33s 74ms/step - loss: 0.9023 - accuracy: 0.6718 - val_loss: 1.0969 - val_accuracy: 0.6336\n",
            "Epoch 51/100\n",
            "448/448 [==============================] - 33s 75ms/step - loss: 0.9050 - accuracy: 0.6707 - val_loss: 1.0390 - val_accuracy: 0.6526\n",
            "Epoch 52/100\n",
            "448/448 [==============================] - 34s 75ms/step - loss: 0.9074 - accuracy: 0.6736 - val_loss: 1.1657 - val_accuracy: 0.6551\n",
            "Epoch 53/100\n",
            "448/448 [==============================] - 33s 75ms/step - loss: 0.8771 - accuracy: 0.6834 - val_loss: 1.0286 - val_accuracy: 0.6507\n",
            "Epoch 54/100\n",
            "448/448 [==============================] - 33s 74ms/step - loss: 0.8877 - accuracy: 0.6817 - val_loss: 1.0487 - val_accuracy: 0.6543\n",
            "Epoch 55/100\n",
            "448/448 [==============================] - 34s 75ms/step - loss: 0.8859 - accuracy: 0.6800 - val_loss: 1.0254 - val_accuracy: 0.6576\n",
            "Epoch 56/100\n",
            "448/448 [==============================] - 33s 74ms/step - loss: 0.8785 - accuracy: 0.6846 - val_loss: 1.1666 - val_accuracy: 0.6585\n",
            "Epoch 57/100\n",
            "448/448 [==============================] - 33s 74ms/step - loss: 0.8814 - accuracy: 0.6860 - val_loss: 1.1320 - val_accuracy: 0.6579\n",
            "Epoch 58/100\n",
            "448/448 [==============================] - 34s 75ms/step - loss: 0.8763 - accuracy: 0.6841 - val_loss: 1.0793 - val_accuracy: 0.6602\n",
            "Epoch 59/100\n",
            "448/448 [==============================] - 34s 75ms/step - loss: 0.8734 - accuracy: 0.6851 - val_loss: 1.1690 - val_accuracy: 0.6537\n",
            "Epoch 60/100\n",
            "448/448 [==============================] - 34s 75ms/step - loss: 0.8730 - accuracy: 0.6876 - val_loss: 1.0983 - val_accuracy: 0.6627\n",
            "Epoch 61/100\n",
            "448/448 [==============================] - 34s 75ms/step - loss: 0.8640 - accuracy: 0.6887 - val_loss: 1.1508 - val_accuracy: 0.6535\n",
            "Epoch 62/100\n",
            "448/448 [==============================] - 34s 75ms/step - loss: 0.8584 - accuracy: 0.6904 - val_loss: 1.1529 - val_accuracy: 0.6643\n",
            "Epoch 63/100\n",
            "448/448 [==============================] - 34s 75ms/step - loss: 0.8598 - accuracy: 0.6971 - val_loss: 1.0188 - val_accuracy: 0.6624\n",
            "Epoch 64/100\n",
            "448/448 [==============================] - 34s 75ms/step - loss: 0.8501 - accuracy: 0.6962 - val_loss: 1.0080 - val_accuracy: 0.6582\n",
            "Epoch 65/100\n",
            "448/448 [==============================] - 34s 75ms/step - loss: 0.8497 - accuracy: 0.6968 - val_loss: 1.3362 - val_accuracy: 0.6627\n",
            "Epoch 66/100\n",
            "448/448 [==============================] - 34s 75ms/step - loss: 0.8413 - accuracy: 0.6970 - val_loss: 1.0366 - val_accuracy: 0.6610\n",
            "Epoch 67/100\n",
            "448/448 [==============================] - 34s 75ms/step - loss: 0.8364 - accuracy: 0.7044 - val_loss: 1.1428 - val_accuracy: 0.6593\n",
            "Epoch 68/100\n",
            "448/448 [==============================] - 34s 75ms/step - loss: 0.8440 - accuracy: 0.6971 - val_loss: 0.9835 - val_accuracy: 0.6671\n",
            "Epoch 69/100\n",
            "448/448 [==============================] - 34s 75ms/step - loss: 0.8316 - accuracy: 0.7064 - val_loss: 1.6942 - val_accuracy: 0.6526\n",
            "Epoch 70/100\n",
            "448/448 [==============================] - 34s 75ms/step - loss: 0.8399 - accuracy: 0.7017 - val_loss: 1.0732 - val_accuracy: 0.6456\n",
            "Epoch 71/100\n",
            "448/448 [==============================] - 34s 75ms/step - loss: 0.8108 - accuracy: 0.7115 - val_loss: 1.3400 - val_accuracy: 0.6378\n",
            "Epoch 72/100\n",
            "448/448 [==============================] - 34s 75ms/step - loss: 0.8176 - accuracy: 0.7096 - val_loss: 1.9542 - val_accuracy: 0.6409\n",
            "Epoch 73/100\n",
            "448/448 [==============================] - 34s 75ms/step - loss: 0.8237 - accuracy: 0.7077 - val_loss: 1.5164 - val_accuracy: 0.6576\n",
            "Epoch 74/100\n",
            "448/448 [==============================] - 34s 75ms/step - loss: 0.8188 - accuracy: 0.7109 - val_loss: 1.1121 - val_accuracy: 0.6568\n",
            "Epoch 75/100\n",
            "448/448 [==============================] - 34s 75ms/step - loss: 0.8161 - accuracy: 0.7098 - val_loss: 1.8158 - val_accuracy: 0.6493\n",
            "Epoch 76/100\n",
            "448/448 [==============================] - 34s 75ms/step - loss: 0.7986 - accuracy: 0.7213 - val_loss: 1.1707 - val_accuracy: 0.6401\n",
            "Epoch 77/100\n",
            "448/448 [==============================] - 34s 75ms/step - loss: 0.8067 - accuracy: 0.7145 - val_loss: 1.5846 - val_accuracy: 0.6641\n",
            "Epoch 78/100\n",
            "448/448 [==============================] - 34s 76ms/step - loss: 0.7952 - accuracy: 0.7153 - val_loss: 1.0947 - val_accuracy: 0.6493\n",
            "Epoch 79/100\n",
            "448/448 [==============================] - 34s 75ms/step - loss: 0.8066 - accuracy: 0.7149 - val_loss: 1.2909 - val_accuracy: 0.6663\n",
            "Epoch 80/100\n",
            "448/448 [==============================] - 34s 75ms/step - loss: 0.7835 - accuracy: 0.7229 - val_loss: 1.5737 - val_accuracy: 0.6616\n",
            "Epoch 81/100\n",
            "448/448 [==============================] - 34s 75ms/step - loss: 0.7809 - accuracy: 0.7216 - val_loss: 2.3138 - val_accuracy: 0.6549\n",
            "Epoch 82/100\n",
            "448/448 [==============================] - 34s 75ms/step - loss: 0.7992 - accuracy: 0.7200 - val_loss: 0.9965 - val_accuracy: 0.6669\n",
            "Epoch 83/100\n",
            "448/448 [==============================] - 34s 75ms/step - loss: 0.7857 - accuracy: 0.7235 - val_loss: 1.8719 - val_accuracy: 0.6638\n",
            "Epoch 84/100\n",
            "448/448 [==============================] - 34s 75ms/step - loss: 0.7995 - accuracy: 0.7280 - val_loss: 2.6708 - val_accuracy: 0.6677\n",
            "Epoch 85/100\n",
            "448/448 [==============================] - 34s 75ms/step - loss: 0.7731 - accuracy: 0.7239 - val_loss: 1.0824 - val_accuracy: 0.6582\n",
            "Epoch 86/100\n",
            "448/448 [==============================] - 34s 76ms/step - loss: 0.7854 - accuracy: 0.7211 - val_loss: 1.0860 - val_accuracy: 0.6677\n",
            "Epoch 87/100\n",
            "448/448 [==============================] - 34s 75ms/step - loss: 0.7884 - accuracy: 0.7261 - val_loss: 1.0693 - val_accuracy: 0.6621\n",
            "Epoch 88/100\n",
            "448/448 [==============================] - 34s 75ms/step - loss: 0.7724 - accuracy: 0.7282 - val_loss: 1.1961 - val_accuracy: 0.6618\n",
            "Epoch 89/100\n",
            "448/448 [==============================] - 34s 75ms/step - loss: 0.7680 - accuracy: 0.7271 - val_loss: 1.3672 - val_accuracy: 0.6632\n",
            "Epoch 90/100\n",
            "448/448 [==============================] - 34s 75ms/step - loss: 0.8477 - accuracy: 0.7271 - val_loss: 0.9711 - val_accuracy: 0.6688\n",
            "Epoch 91/100\n",
            "448/448 [==============================] - 34s 76ms/step - loss: 0.7661 - accuracy: 0.7278 - val_loss: 1.1890 - val_accuracy: 0.6632\n",
            "Epoch 92/100\n",
            "448/448 [==============================] - 34s 76ms/step - loss: 0.8320 - accuracy: 0.7389 - val_loss: 1.2288 - val_accuracy: 0.6643\n",
            "Epoch 93/100\n",
            "448/448 [==============================] - 34s 75ms/step - loss: 0.7607 - accuracy: 0.7321 - val_loss: 1.0886 - val_accuracy: 0.6705\n",
            "Epoch 94/100\n",
            "448/448 [==============================] - 34s 75ms/step - loss: 0.7546 - accuracy: 0.7394 - val_loss: 1.4594 - val_accuracy: 0.6677\n",
            "Epoch 95/100\n",
            "448/448 [==============================] - 34s 75ms/step - loss: 0.7570 - accuracy: 0.7343 - val_loss: 2.5238 - val_accuracy: 0.6535\n",
            "Epoch 96/100\n",
            "448/448 [==============================] - 34s 75ms/step - loss: 0.7662 - accuracy: 0.7369 - val_loss: 1.5684 - val_accuracy: 0.6680\n",
            "Epoch 97/100\n",
            "448/448 [==============================] - 34s 75ms/step - loss: 0.7448 - accuracy: 0.7391 - val_loss: 1.5023 - val_accuracy: 0.6616\n",
            "Epoch 98/100\n",
            "448/448 [==============================] - 34s 75ms/step - loss: 0.7798 - accuracy: 0.7309 - val_loss: 1.0863 - val_accuracy: 0.6593\n",
            "Epoch 99/100\n",
            "448/448 [==============================] - 34s 75ms/step - loss: 0.7534 - accuracy: 0.7459 - val_loss: 1.1028 - val_accuracy: 0.6657\n",
            "Epoch 100/100\n",
            "448/448 [==============================] - 34s 75ms/step - loss: 0.7339 - accuracy: 0.7437 - val_loss: 1.4782 - val_accuracy: 0.6599\n"
          ],
          "name": "stdout"
        }
      ]
    },
    {
      "cell_type": "markdown",
      "metadata": {
        "id": "zdn-Ud-Ca4LG"
      },
      "source": [
        "# Evaluate"
      ]
    },
    {
      "cell_type": "code",
      "metadata": {
        "colab": {
          "base_uri": "https://localhost:8080/",
          "height": 573
        },
        "id": "d8D97Qq4bUxn",
        "outputId": "fee7030d-d868-4f0a-8635-e35b6cbb0ceb"
      },
      "source": [
        "accuracy = history.history['accuracy']\n",
        "val_accuracy = history.history['val_accuracy']\n",
        "loss = history.history['loss']\n",
        "val_loss = history.history['val_loss']\n",
        "num_epochs = range(len(accuracy))\n",
        "plt.plot(num_epochs, accuracy, 'r', label='Training acc')\n",
        "plt.plot(num_epochs, val_accuracy, 'b', label='Validation acc')\n",
        "plt.title('Training and validation accuracy')\n",
        "plt.ylabel('accuracy')  \n",
        "plt.xlabel('epoch')\n",
        "plt.legend()\n",
        "plt.figure()\n",
        "plt.plot(num_epochs, loss, 'r', label='Training loss')\n",
        "plt.plot(num_epochs, val_loss, 'b', label='Validation loss')\n",
        "plt.title('Training and validation loss')\n",
        "plt.ylabel('loss')  \n",
        "plt.xlabel('epoch')\n",
        "plt.legend()\n",
        "plt.show()"
      ],
      "execution_count": 16,
      "outputs": [
        {
          "output_type": "display_data",
          "data": {
            "image/png": "[encoded data removed]",
            "text/plain": [
              "<Figure size 432x288 with 1 Axes>"
            ]
          },
          "metadata": {
            "tags": [],
            "needs_background": "light"
          }
        },
        {
          "output_type": "display_data",
          "data": {
            "image/png": "[encoded data removed]",
            "text/plain": [
              "<Figure size 432x288 with 1 Axes>"
            ]
          },
          "metadata": {
            "tags": [],
            "needs_background": "light"
          }
        }
      ]
    },
    {
      "cell_type": "code",
      "metadata": {
        "id": "v2FEkE4pr8vN",
        "colab": {
          "base_uri": "https://localhost:8080/"
        },
        "outputId": "7d9f37e9-11f7-4600-e2c8-5d0cdb05274a"
      },
      "source": [
        "trainloss = model.evaluate(train_flow, steps=len(X_train) / batch_size) \n",
        "print(\"Train Loss \" + str(trainloss[0]))\n",
        "print(\"Train Acc: \" + str(trainloss[1]))\n",
        "valloss = model.evaluate(val_flow, steps=len(X_val) / batch_size) \n",
        "print(\"Val Loss \" + str(valloss[0]))\n",
        "print(\"Val Acc: \" + str(valloss[1]))\n",
        "testloss = model.evaluate(test_flow, steps=len(X_test) / batch_size) \n",
        "print(\"Test Loss \" + str(testloss[0]))\n",
        "print(\"Test Acc: \" + str(testloss[1]))"
      ],
      "execution_count": 17,
      "outputs": [
        {
          "output_type": "stream",
          "text": [
            "448/448 [==============================] - 13s 30ms/step - loss: 1.0258 - accuracy: 0.7744\n",
            "Train Loss 1.0257998704910278\n",
            "Train Acc: 0.774356484413147\n",
            "56/56 [==============================] - 1s 25ms/step - loss: 1.4771 - accuracy: 0.6598\n",
            "Val Loss 1.4770874977111816\n",
            "Val Acc: 0.6597937941551208\n",
            "56/56 [==============================] - 1s 20ms/step - loss: 1.0543 - accuracy: 0.6871\n",
            "Test Loss 1.0543144941329956\n",
            "Test Acc: 0.6870994567871094\n"
          ],
          "name": "stdout"
        }
      ]
    },
    {
      "cell_type": "code",
      "metadata": {
        "id": "tNA-6z6orM3E"
      },
      "source": [
        "def plot_confusion_matrix(y_test, y_pred, classes,\n",
        "                          normalize=False,\n",
        "                          title='Unnormalized confusion matrix',\n",
        "                          cmap=plt.cm.Blues):\n",
        "    cm = confusion_matrix(y_test, y_pred)\n",
        "    \n",
        "    if normalize:\n",
        "        cm = np.round(cm.astype('float') / cm.sum(axis=1)[:, np.newaxis], 2)\n",
        "        \n",
        "    np.set_printoptions(precision=2)\n",
        "\n",
        "    plt.rcParams[\"figure.figsize\"] = (8,8)        \n",
        "    plt.imshow(cm, interpolation='nearest', cmap=cmap)\n",
        "    plt.title(title)\n",
        "    plt.colorbar()\n",
        "    tick_marks = np.arange(len(classes))\n",
        "    plt.xticks(tick_marks, classes, rotation=45)\n",
        "    plt.yticks(tick_marks, classes)\n",
        "\n",
        "    thresh = cm.min() + (cm.max() - cm.min()) / 2.\n",
        "    for i, j in itertools.product(range(cm.shape[0]), range(cm.shape[1])):\n",
        "        plt.text(j, i, cm[i, j],\n",
        "                 horizontalalignment=\"center\",\n",
        "                 color=\"white\" if cm[i, j] > thresh else \"black\")\n",
        "\n",
        "    plt.tight_layout()\n",
        "    plt.ylabel('True expression')\n",
        "    plt.xlabel('Predicted expression')\n",
        "    plt.show()"
      ],
      "execution_count": 22,
      "outputs": []
    },
    {
      "cell_type": "code",
      "metadata": {
        "colab": {
          "base_uri": "https://localhost:8080/"
        },
        "id": "e6fSOmnkrOcG",
        "outputId": "3cc24bf3-499b-4255-fbe9-cf3a0298718a"
      },
      "source": [
        "y_pred_ = model.predict(X_test/255., verbose=1)\n",
        "y_pred = np.argmax(y_pred_, axis=1)\n",
        "t_te = np.argmax(y_test, axis=1)"
      ],
      "execution_count": 23,
      "outputs": [
        {
          "output_type": "stream",
          "text": [
            "113/113 [==============================] - 1s 12ms/step\n"
          ],
          "name": "stdout"
        }
      ]
    },
    {
      "cell_type": "code",
      "metadata": {
        "colab": {
          "base_uri": "https://localhost:8080/",
          "height": 585
        },
        "id": "espEQdo8bqNG",
        "outputId": "1f36e4c5-9d29-4e52-d6d5-95a97dc00b21"
      },
      "source": [
        "from sklearn.metrics import confusion_matrix, classification_report\n",
        "import itertools\n",
        "\n",
        "fig = plot_confusion_matrix(y_test=t_te, y_pred=y_pred,\n",
        "                      classes=labels,\n",
        "                      normalize=True,\n",
        "                      cmap=plt.cm.Blues,\n",
        "                      title='Average accuracy: ' + str(np.sum(y_pred == t_te)/len(t_te)) + '\\n')"
      ],
      "execution_count": 24,
      "outputs": [
        {
          "output_type": "display_data",
          "data": {
            "image/png": "[encoded data removed]",
            "text/plain": [
              "<Figure size 576x576 with 2 Axes>"
            ]
          },
          "metadata": {
            "tags": [],
            "needs_background": "light"
          }
        }
      ]
    },
    {
      "cell_type": "code",
      "metadata": {
        "id": "4vauS7IKbqNG",
        "colab": {
          "base_uri": "https://localhost:8080/"
        },
        "outputId": "6e30d00d-9a69-440f-c7ba-c1f5e34e437f"
      },
      "source": [
        "emotions = {0: 'Angry', 1: 'Disgust', 2: 'Fear', 3: 'Happy', 4: 'Sad', 5: 'Surprise', 6: 'Neutral'}\n",
        "print(classification_report(t_te, y_pred, target_names=emotions.values()))"
      ],
      "execution_count": 25,
      "outputs": [
        {
          "output_type": "stream",
          "text": [
            "              precision    recall  f1-score   support\n",
            "\n",
            "       Angry       0.53      0.71      0.61       491\n",
            "     Disgust       0.57      0.76      0.65        55\n",
            "        Fear       0.64      0.39      0.48       528\n",
            "       Happy       0.90      0.87      0.88       879\n",
            "         Sad       0.61      0.47      0.53       594\n",
            "    Surprise       0.84      0.78      0.81       416\n",
            "     Neutral       0.60      0.80      0.68       626\n",
            "\n",
            "    accuracy                           0.69      3589\n",
            "   macro avg       0.67      0.68      0.66      3589\n",
            "weighted avg       0.70      0.69      0.68      3589\n",
            "\n"
          ],
          "name": "stdout"
        }
      ]
    },
    {
      "cell_type": "code",
      "metadata": {
        "id": "KKWxaaYRba3j",
        "colab": {
          "base_uri": "https://localhost:8080/"
        },
        "outputId": "40735ccf-0279-43ad-d06a-c9751ec19846"
      },
      "source": [
        "model.save(\"/content/drive/MyDrive/Colab Notebooks/Model/ModelFix_RMSprop0.0001_epoch100_Aug.h5\")\n",
        "print(\"saved\")"
      ],
      "execution_count": 26,
      "outputs": [
        {
          "output_type": "stream",
          "text": [
            "saved\n"
          ],
          "name": "stdout"
        }
      ]
    },
    {
      "cell_type": "markdown",
      "metadata": {
        "id": "aqLRhlr4b7t5"
      },
      "source": [
        "#Load Model"
      ]
    },
    {
      "cell_type": "code",
      "metadata": {
        "colab": {
          "base_uri": "https://localhost:8080/"
        },
        "id": "J45lyUtcJ-6F",
        "outputId": "d9881cf6-6df5-46f1-8ea6-29dd16ec0f31"
      },
      "source": [
        "from keras.models import load_model\n",
        "model_load = load_model('/content/drive/MyDrive/Colab Notebooks/Model/ModelFix_RMSprop0.0001_epoch100_Aug.h5')\n",
        "\n",
        "model_load.summary()"
      ],
      "execution_count": 27,
      "outputs": [
        {
          "output_type": "stream",
          "text": [
            "Model: \"sequential\"\n",
            "_________________________________________________________________\n",
            "Layer (type)                 Output Shape              Param #   \n",
            "=================================================================\n",
            "conv2d (Conv2D)              (None, 48, 48, 64)        640       \n",
            "_________________________________________________________________\n",
            "batch_normalization (BatchNo (None, 48, 48, 64)        256       \n",
            "_________________________________________________________________\n",
            "conv2d_1 (Conv2D)            (None, 48, 48, 64)        36928     \n",
            "_________________________________________________________________\n",
            "batch_normalization_1 (Batch (None, 48, 48, 64)        256       \n",
            "_________________________________________________________________\n",
            "max_pooling2d (MaxPooling2D) (None, 24, 24, 64)        0         \n",
            "_________________________________________________________________\n",
            "dropout (Dropout)            (None, 24, 24, 64)        0         \n",
            "_________________________________________________________________\n",
            "conv2d_2 (Conv2D)            (None, 24, 24, 128)       73856     \n",
            "_________________________________________________________________\n",
            "batch_normalization_2 (Batch (None, 24, 24, 128)       512       \n",
            "_________________________________________________________________\n",
            "conv2d_3 (Conv2D)            (None, 24, 24, 128)       147584    \n",
            "_________________________________________________________________\n",
            "batch_normalization_3 (Batch (None, 24, 24, 128)       512       \n",
            "_________________________________________________________________\n",
            "max_pooling2d_1 (MaxPooling2 (None, 12, 12, 128)       0         \n",
            "_________________________________________________________________\n",
            "dropout_1 (Dropout)          (None, 12, 12, 128)       0         \n",
            "_________________________________________________________________\n",
            "conv2d_4 (Conv2D)            (None, 12, 12, 256)       295168    \n",
            "_________________________________________________________________\n",
            "batch_normalization_4 (Batch (None, 12, 12, 256)       1024      \n",
            "_________________________________________________________________\n",
            "conv2d_5 (Conv2D)            (None, 12, 12, 256)       590080    \n",
            "_________________________________________________________________\n",
            "batch_normalization_5 (Batch (None, 12, 12, 256)       1024      \n",
            "_________________________________________________________________\n",
            "conv2d_6 (Conv2D)            (None, 12, 12, 256)       590080    \n",
            "_________________________________________________________________\n",
            "batch_normalization_6 (Batch (None, 12, 12, 256)       1024      \n",
            "_________________________________________________________________\n",
            "max_pooling2d_2 (MaxPooling2 (None, 6, 6, 256)         0         \n",
            "_________________________________________________________________\n",
            "dropout_2 (Dropout)          (None, 6, 6, 256)         0         \n",
            "_________________________________________________________________\n",
            "conv2d_7 (Conv2D)            (None, 6, 6, 512)         1180160   \n",
            "_________________________________________________________________\n",
            "batch_normalization_7 (Batch (None, 6, 6, 512)         2048      \n",
            "_________________________________________________________________\n",
            "conv2d_8 (Conv2D)            (None, 6, 6, 512)         2359808   \n",
            "_________________________________________________________________\n",
            "batch_normalization_8 (Batch (None, 6, 6, 512)         2048      \n",
            "_________________________________________________________________\n",
            "conv2d_9 (Conv2D)            (None, 6, 6, 512)         2359808   \n",
            "_________________________________________________________________\n",
            "batch_normalization_9 (Batch (None, 6, 6, 512)         2048      \n",
            "_________________________________________________________________\n",
            "max_pooling2d_3 (MaxPooling2 (None, 3, 3, 512)         0         \n",
            "_________________________________________________________________\n",
            "dropout_3 (Dropout)          (None, 3, 3, 512)         0         \n",
            "_________________________________________________________________\n",
            "conv2d_10 (Conv2D)           (None, 3, 3, 512)         2359808   \n",
            "_________________________________________________________________\n",
            "batch_normalization_10 (Batc (None, 3, 3, 512)         2048      \n",
            "_________________________________________________________________\n",
            "conv2d_11 (Conv2D)           (None, 3, 3, 512)         2359808   \n",
            "_________________________________________________________________\n",
            "batch_normalization_11 (Batc (None, 3, 3, 512)         2048      \n",
            "_________________________________________________________________\n",
            "conv2d_12 (Conv2D)           (None, 3, 3, 512)         2359808   \n",
            "_________________________________________________________________\n",
            "batch_normalization_12 (Batc (None, 3, 3, 512)         2048      \n",
            "_________________________________________________________________\n",
            "max_pooling2d_4 (MaxPooling2 (None, 1, 1, 512)         0         \n",
            "_________________________________________________________________\n",
            "dropout_4 (Dropout)          (None, 1, 1, 512)         0         \n",
            "_________________________________________________________________\n",
            "global_average_pooling2d (Gl (None, 512)               0         \n",
            "_________________________________________________________________\n",
            "dense (Dense)                (None, 512)               262656    \n",
            "_________________________________________________________________\n",
            "dropout_5 (Dropout)          (None, 512)               0         \n",
            "_________________________________________________________________\n",
            "dense_1 (Dense)              (None, 512)               262656    \n",
            "_________________________________________________________________\n",
            "dropout_6 (Dropout)          (None, 512)               0         \n",
            "_________________________________________________________________\n",
            "dense_2 (Dense)              (None, 7)                 3591      \n",
            "=================================================================\n",
            "Total params: 15,259,335\n",
            "Trainable params: 15,250,887\n",
            "Non-trainable params: 8,448\n",
            "_________________________________________________________________\n"
          ],
          "name": "stdout"
        }
      ]
    },
    {
      "cell_type": "code",
      "metadata": {
        "colab": {
          "base_uri": "https://localhost:8080/"
        },
        "id": "nQd7m45qfWBW",
        "outputId": "7ecd3d82-b2f8-4739-f62b-d3a56b04f0b6"
      },
      "source": [
        "trainloss = model_load.evaluate(train_flow, steps=len(X_train) / batch_size) \n",
        "print(\"Train Loss \" + str(trainloss[0]))\n",
        "print(\"Train Acc: \" + str(trainloss[1]))\n",
        "valloss = model_load.evaluate(val_flow, steps=len(X_val) / batch_size) \n",
        "print(\"Val Loss \" + str(valloss[0]))\n",
        "print(\"Val Acc: \" + str(valloss[1]))\n",
        "testloss = model_load.evaluate(test_flow, steps=len(X_test) / batch_size) \n",
        "print(\"Test Loss \" + str(testloss[0]))\n",
        "print(\"Test Acc: \" + str(testloss[1]))"
      ],
      "execution_count": 28,
      "outputs": [
        {
          "output_type": "stream",
          "text": [
            "448/448 [==============================] - 16s 33ms/step - loss: 1.0603 - accuracy: 0.7743\n",
            "Train Loss 1.0602706670761108\n",
            "Train Acc: 0.7742519974708557\n",
            "56/56 [==============================] - 1s 20ms/step - loss: 1.4771 - accuracy: 0.6598\n",
            "Val Loss 1.4770879745483398\n",
            "Val Acc: 0.6597937941551208\n",
            "56/56 [==============================] - 1s 20ms/step - loss: 1.0543 - accuracy: 0.6871\n",
            "Test Loss 1.0543140172958374\n",
            "Test Acc: 0.6870994567871094\n"
          ],
          "name": "stdout"
        }
      ]
    },
    {
      "cell_type": "code",
      "metadata": {
        "id": "t87NY2ZdFwVP"
      },
      "source": [
        "def plot_confusion_matrix(y_test, y_pred, classes,\n",
        "                          normalize=False,\n",
        "                          title='Unnormalized confusion matrix',\n",
        "                          cmap=plt.cm.Blues):\n",
        "    cm = confusion_matrix(y_test, y_pred)\n",
        "    \n",
        "    if normalize:\n",
        "        cm = np.round(cm.astype('float') / cm.sum(axis=1)[:, np.newaxis], 2)\n",
        "        \n",
        "    np.set_printoptions(precision=2)\n",
        "\n",
        "    plt.rcParams[\"figure.figsize\"] = (8,8)    \n",
        "    plt.imshow(cm, interpolation='nearest', cmap=cmap)\n",
        "    plt.title(title)\n",
        "    plt.colorbar()\n",
        "    tick_marks = np.arange(len(classes))\n",
        "    plt.xticks(tick_marks, classes, rotation=45)\n",
        "    plt.yticks(tick_marks, classes)\n",
        "\n",
        "    thresh = cm.min() + (cm.max() - cm.min()) / 2.\n",
        "    for i, j in itertools.product(range(cm.shape[0]), range(cm.shape[1])):\n",
        "        plt.text(j, i, cm[i, j],\n",
        "                 horizontalalignment=\"center\",\n",
        "                 color=\"white\" if cm[i, j] > thresh else \"black\")\n",
        "\n",
        "    plt.tight_layout()\n",
        "    plt.ylabel('True expression')\n",
        "    plt.xlabel('Predicted expression')\n",
        "    plt.show()"
      ],
      "execution_count": 29,
      "outputs": []
    },
    {
      "cell_type": "code",
      "metadata": {
        "colab": {
          "base_uri": "https://localhost:8080/"
        },
        "id": "Tc5JLl9HGFmh",
        "outputId": "88233190-f64e-4a48-9b65-e1abfc41c3cc"
      },
      "source": [
        "y_pred_ = model_load.predict(X_test/255., verbose=1)\n",
        "y_pred = np.argmax(y_pred_, axis=1)\n",
        "t_te = np.argmax(y_test, axis=1)"
      ],
      "execution_count": 30,
      "outputs": [
        {
          "output_type": "stream",
          "text": [
            "113/113 [==============================] - 2s 12ms/step\n"
          ],
          "name": "stdout"
        }
      ]
    },
    {
      "cell_type": "code",
      "metadata": {
        "colab": {
          "base_uri": "https://localhost:8080/",
          "height": 585
        },
        "id": "WUeZP3q-GJrl",
        "outputId": "3895aee2-3b3f-46dd-e603-0b8c6aef4b43"
      },
      "source": [
        "from sklearn.metrics import confusion_matrix, classification_report\n",
        "import itertools\n",
        "\n",
        "fig = plot_confusion_matrix(y_test=t_te, y_pred=y_pred,\n",
        "                      classes=labels,\n",
        "                      normalize=True,\n",
        "                      cmap=plt.cm.Blues,\n",
        "                      title='Average accuracy: ' + str(np.sum(y_pred == t_te)/len(t_te)) + '\\n')"
      ],
      "execution_count": 31,
      "outputs": [
        {
          "output_type": "display_data",
          "data": {
            "image/png": "[encoded data removed]",
            "text/plain": [
              "<Figure size 576x576 with 2 Axes>"
            ]
          },
          "metadata": {
            "tags": [],
            "needs_background": "light"
          }
        }
      ]
    },
    {
      "cell_type": "code",
      "metadata": {
        "colab": {
          "base_uri": "https://localhost:8080/"
        },
        "id": "qes0jsNJG8TF",
        "outputId": "1fb87e1f-7912-42e5-d63c-562f2dd7112a"
      },
      "source": [
        "emotions = {0: 'Angry', 1: 'Disgust', 2: 'Fear', 3: 'Happy', 4: 'Sad', 5: 'Surprise', 6: 'Neutral'}\n",
        "print(classification_report(t_te, y_pred, target_names=emotions.values()))"
      ],
      "execution_count": 32,
      "outputs": [
        {
          "output_type": "stream",
          "text": [
            "              precision    recall  f1-score   support\n",
            "\n",
            "       Angry       0.53      0.71      0.61       491\n",
            "     Disgust       0.57      0.76      0.65        55\n",
            "        Fear       0.64      0.39      0.48       528\n",
            "       Happy       0.90      0.87      0.88       879\n",
            "         Sad       0.61      0.47      0.53       594\n",
            "    Surprise       0.84      0.78      0.81       416\n",
            "     Neutral       0.60      0.80      0.68       626\n",
            "\n",
            "    accuracy                           0.69      3589\n",
            "   macro avg       0.67      0.68      0.66      3589\n",
            "weighted avg       0.70      0.69      0.68      3589\n",
            "\n"
          ],
          "name": "stdout"
        }
      ]
    }
  ]
}