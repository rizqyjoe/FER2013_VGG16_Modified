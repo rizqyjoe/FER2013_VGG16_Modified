{
  "nbformat": 4,
  "nbformat_minor": 0,
  "metadata": {
    "accelerator": "GPU",
    "colab": {
      "name": "FINAL.ipynb",
      "provenance": [],
      "collapsed_sections": [],
      "include_colab_link": true
    },
    "kernelspec": {
      "display_name": "Python 3",
      "name": "python3"
    },
    "language_info": {
      "name": "python"
    }
  },
  "cells": [
    {
      "cell_type": "markdown",
      "metadata": {
        "id": "view-in-github",
        "colab_type": "text"
      },
      "source": [
        "<a href=\"https://colab.research.google.com/github/rizqyjoe/FER2013_VGG16_Modified/blob/main/Modified%20VGG16/With%20Aug/Epoch%20100/002.ipynb\" target=\"_parent\"><img src=\"https://colab.research.google.com/assets/colab-badge.svg\" alt=\"Open In Colab\"/></a>"
      ]
    },
    {
      "cell_type": "code",
      "metadata": {
        "colab": {
          "base_uri": "https://localhost:8080/"
        },
        "id": "sX-0w3h_sh6U",
        "outputId": "efd7f45a-b4eb-4cb5-e300-ef5b9f939bc4"
      },
      "source": [
        "#mount drive\n",
        "from google.colab import drive\n",
        "drive.mount('/content/drive')"
      ],
      "execution_count": 1,
      "outputs": [
        {
          "output_type": "stream",
          "text": [
            "Mounted at /content/drive\n"
          ],
          "name": "stdout"
        }
      ]
    },
    {
      "cell_type": "markdown",
      "metadata": {
        "id": "58jrp8yObBBA"
      },
      "source": [
        "# Pre-processing"
      ]
    },
    {
      "cell_type": "code",
      "metadata": {
        "id": "7nrYTmGLrD2A"
      },
      "source": [
        "import tensorflow as tf\n",
        "import keras\n",
        "from keras import backend as K\n",
        "import pandas as pd\n",
        "import numpy as np\n",
        "import matplotlib.pyplot as plt\n",
        "from keras.preprocessing import image\n",
        "from keras.preprocessing.image import ImageDataGenerator\n",
        "from keras import regularizers\n",
        "from keras.utils import np_utils\n",
        "\n",
        "import random\n",
        "\n",
        "tf.random.set_seed(1234)\n",
        "np.random.seed(1234)\n",
        "\n",
        "from keras.initializers import glorot_uniform"
      ],
      "execution_count": 2,
      "outputs": []
    },
    {
      "cell_type": "code",
      "metadata": {
        "colab": {
          "base_uri": "https://localhost:8080/",
          "height": 204
        },
        "id": "0vTjzHIRrW53",
        "outputId": "7409b729-a781-4318-82bd-874129fcb616"
      },
      "source": [
        "#load file\n",
        "data= pd.read_csv('/content/drive/MyDrive/dataset/fer2013 dataset/fer2013/fer2013.csv')\n",
        "data.head()"
      ],
      "execution_count": 3,
      "outputs": [
        {
          "output_type": "execute_result",
          "data": {
            "text/html": [
              "<div>\n",
              "<style scoped>\n",
              "    .dataframe tbody tr th:only-of-type {\n",
              "        vertical-align: middle;\n",
              "    }\n",
              "\n",
              "    .dataframe tbody tr th {\n",
              "        vertical-align: top;\n",
              "    }\n",
              "\n",
              "    .dataframe thead th {\n",
              "        text-align: right;\n",
              "    }\n",
              "</style>\n",
              "<table border=\"1\" class=\"dataframe\">\n",
              "  <thead>\n",
              "    <tr style=\"text-align: right;\">\n",
              "      <th></th>\n",
              "      <th>emotion</th>\n",
              "      <th>pixels</th>\n",
              "      <th>Usage</th>\n",
              "    </tr>\n",
              "  </thead>\n",
              "  <tbody>\n",
              "    <tr>\n",
              "      <th>0</th>\n",
              "      <td>0</td>\n",
              "      <td>70 80 82 72 58 58 60 63 54 58 60 48 89 115 121...</td>\n",
              "      <td>Training</td>\n",
              "    </tr>\n",
              "    <tr>\n",
              "      <th>1</th>\n",
              "      <td>0</td>\n",
              "      <td>151 150 147 155 148 133 111 140 170 174 182 15...</td>\n",
              "      <td>Training</td>\n",
              "    </tr>\n",
              "    <tr>\n",
              "      <th>2</th>\n",
              "      <td>2</td>\n",
              "      <td>231 212 156 164 174 138 161 173 182 200 106 38...</td>\n",
              "      <td>Training</td>\n",
              "    </tr>\n",
              "    <tr>\n",
              "      <th>3</th>\n",
              "      <td>4</td>\n",
              "      <td>24 32 36 30 32 23 19 20 30 41 21 22 32 34 21 1...</td>\n",
              "      <td>Training</td>\n",
              "    </tr>\n",
              "    <tr>\n",
              "      <th>4</th>\n",
              "      <td>6</td>\n",
              "      <td>4 0 0 0 0 0 0 0 0 0 0 0 3 15 23 28 48 50 58 84...</td>\n",
              "      <td>Training</td>\n",
              "    </tr>\n",
              "  </tbody>\n",
              "</table>\n",
              "</div>"
            ],
            "text/plain": [
              "   emotion                                             pixels     Usage\n",
              "0        0  70 80 82 72 58 58 60 63 54 58 60 48 89 115 121...  Training\n",
              "1        0  151 150 147 155 148 133 111 140 170 174 182 15...  Training\n",
              "2        2  231 212 156 164 174 138 161 173 182 200 106 38...  Training\n",
              "3        4  24 32 36 30 32 23 19 20 30 41 21 22 32 34 21 1...  Training\n",
              "4        6  4 0 0 0 0 0 0 0 0 0 0 0 3 15 23 28 48 50 58 84...  Training"
            ]
          },
          "metadata": {
            "tags": []
          },
          "execution_count": 3
        }
      ]
    },
    {
      "cell_type": "code",
      "metadata": {
        "colab": {
          "base_uri": "https://localhost:8080/"
        },
        "id": "NU40Z0ynrau2",
        "outputId": "dd2bd7a7-cc49-488f-f443-bd4ffb12ef51"
      },
      "source": [
        "data.emotion.value_counts()"
      ],
      "execution_count": 4,
      "outputs": [
        {
          "output_type": "execute_result",
          "data": {
            "text/plain": [
              "3    8989\n",
              "6    6198\n",
              "4    6077\n",
              "2    5121\n",
              "0    4953\n",
              "5    4002\n",
              "1     547\n",
              "Name: emotion, dtype: int64"
            ]
          },
          "metadata": {
            "tags": []
          },
          "execution_count": 4
        }
      ]
    },
    {
      "cell_type": "code",
      "metadata": {
        "colab": {
          "base_uri": "https://localhost:8080/"
        },
        "id": "8MQKKFDare4e",
        "outputId": "71b66056-4ec9-474b-ec1a-6a83a02a0f74"
      },
      "source": [
        "data.Usage.value_counts()"
      ],
      "execution_count": 5,
      "outputs": [
        {
          "output_type": "execute_result",
          "data": {
            "text/plain": [
              "Training       28709\n",
              "PrivateTest     3589\n",
              "PublicTest      3589\n",
              "Name: Usage, dtype: int64"
            ]
          },
          "metadata": {
            "tags": []
          },
          "execution_count": 5
        }
      ]
    },
    {
      "cell_type": "code",
      "metadata": {
        "id": "H1M2PtN54iSK"
      },
      "source": [
        "emotion_labels = [\"Angry\", \"Disgust\", \"Fear\", \"Happy\", \"Sad\", \"Surprise\", \"Neutral\"]\n",
        "labels=np.array((\"Angry\", \"Disgust\", \"Fear\", \"Happy\", \"Sad\", \"Surprise\", \"Neutral\"))"
      ],
      "execution_count": 6,
      "outputs": []
    },
    {
      "cell_type": "code",
      "metadata": {
        "id": "RQlblEnwrgkW"
      },
      "source": [
        "#split data \n",
        "train_set = data[(data.Usage == 'Training')] \n",
        "val_set = data[(data.Usage == 'PublicTest')]\n",
        "test_set = data[(data.Usage == 'PrivateTest')] \n",
        "X_train = np.array(list(map(str.split, train_set.pixels)), np.float32) \n",
        "X_val = np.array(list(map(str.split, val_set.pixels)), np.float32) \n",
        "X_test = np.array(list(map(str.split, test_set.pixels)), np.float32) \n",
        "X_train = X_train.reshape(X_train.shape[0], 48, 48, 1) \n",
        "X_val = X_val.reshape(X_val.shape[0], 48, 48, 1)\n",
        "X_test = X_test.reshape(X_test.shape[0], 48, 48, 1)"
      ],
      "execution_count": 7,
      "outputs": []
    },
    {
      "cell_type": "code",
      "metadata": {
        "id": "MVqY8ftoriHW"
      },
      "source": [
        "num_classes = 7\n",
        "\n",
        "y_train = train_set.emotion \n",
        "y_train = np_utils.to_categorical(y_train, num_classes) \n",
        "y_val = val_set.emotion \n",
        "y_val = np_utils.to_categorical(y_val, num_classes) \n",
        "y_test = test_set.emotion \n",
        "y_test = np_utils.to_categorical(y_test, num_classes)"
      ],
      "execution_count": 8,
      "outputs": []
    },
    {
      "cell_type": "code",
      "metadata": {
        "colab": {
          "base_uri": "https://localhost:8080/"
        },
        "id": "WaMwvF5vrju-",
        "outputId": "a02297ab-36f1-492e-b41c-bdb7ce35bdd3"
      },
      "source": [
        "print(\"x_train:\",X_train.shape)\n",
        "print(\"y_train:\",y_train.shape)\n",
        "print(\"x_val:\",X_val.shape)\n",
        "print(\"y_val:\",y_val.shape)\n",
        "print(\"x_test:\",X_test.shape)\n",
        "print(\"y_test:\",y_test.shape)"
      ],
      "execution_count": 9,
      "outputs": [
        {
          "output_type": "stream",
          "text": [
            "x_train: (28709, 48, 48, 1)\n",
            "y_train: (28709, 7)\n",
            "x_val: (3589, 48, 48, 1)\n",
            "y_val: (3589, 7)\n",
            "x_test: (3589, 48, 48, 1)\n",
            "y_test: (3589, 7)\n"
          ],
          "name": "stdout"
        }
      ]
    },
    {
      "cell_type": "code",
      "metadata": {
        "id": "DzChH8hGrldw"
      },
      "source": [
        "#data augmentation\n",
        "\n",
        "datagen = ImageDataGenerator(rescale=1./255,\n",
        "                             rotation_range=10,\n",
        "                             width_shift_range=0.2,\n",
        "                             height_shift_range=0.2, \n",
        "                             zoom_range=0.2,\n",
        "                             horizontal_flip=True)\n",
        "\n",
        "#datagen = ImageDataGenerator(rescale=1./255)\n",
        "\n",
        "testgen = ImageDataGenerator(rescale=1./255)\n",
        "\n",
        "\n",
        "datagen.fit(X_train)\n",
        "batch_size = 64"
      ],
      "execution_count": 10,
      "outputs": []
    },
    {
      "cell_type": "code",
      "metadata": {
        "id": "d-nkOZUfrm_e"
      },
      "source": [
        "train_flow = datagen.flow(X_train, y_train, batch_size=batch_size) \n",
        "val_flow = testgen.flow(X_val, y_val, batch_size=batch_size) \n",
        "test_flow = testgen.flow(X_test, y_test, batch_size=batch_size)"
      ],
      "execution_count": 11,
      "outputs": []
    },
    {
      "cell_type": "code",
      "metadata": {
        "id": "3u6vR_8CroMG"
      },
      "source": [
        "from tensorflow.keras.utils import plot_model\n",
        "from matplotlib import pyplot"
      ],
      "execution_count": 12,
      "outputs": []
    },
    {
      "cell_type": "code",
      "metadata": {
        "colab": {
          "base_uri": "https://localhost:8080/",
          "height": 248
        },
        "id": "HZ6sB7a0rp0O",
        "outputId": "6154e658-ba4f-43c3-a7a6-4f95d19541ab"
      },
      "source": [
        "#displaying sample images\n",
        "for X_batch, y_batch in datagen.flow(X_train, y_train, batch_size=9):\n",
        "    for i in range(0, 9): \n",
        "        pyplot.axis('off') \n",
        "        pyplot.subplot(330 + 1 + i) \n",
        "        pyplot.imshow(X_batch[i].reshape(48, 48), cmap=pyplot.get_cmap('gray'))\n",
        "    pyplot.axis('off') \n",
        "    pyplot.show() \n",
        "    break"
      ],
      "execution_count": 13,
      "outputs": [
        {
          "output_type": "display_data",
          "data": {
            "image/png": "[encoded data removed]",
            "text/plain": [
              "<Figure size 432x288 with 9 Axes>"
            ]
          },
          "metadata": {
            "tags": [],
            "needs_background": "light"
          }
        }
      ]
    },
    {
      "cell_type": "markdown",
      "metadata": {
        "id": "mH061hQUbJsv"
      },
      "source": [
        "# Training Model"
      ]
    },
    {
      "cell_type": "code",
      "metadata": {
        "id": "rxqJ_jM_mSTg",
        "colab": {
          "base_uri": "https://localhost:8080/"
        },
        "outputId": "0447b46c-0c1a-4854-9221-340c06d08dae"
      },
      "source": [
        "#Model Fix\n",
        "from keras.models import Sequential\n",
        "from keras.layers import Input, Dense, Flatten, Dropout, Conv2D, MaxPool2D, BatchNormalization, GlobalAveragePooling2D\n",
        "\n",
        "input_shape = (48, 48, 1)\n",
        "\n",
        "model = Sequential()\n",
        "\n",
        "model.add(Conv2D(filters=64,input_shape=(input_shape),kernel_size=(3,3),padding=\"same\", activation=\"relu\", kernel_initializer = glorot_uniform(seed=0)))\n",
        "model.add(BatchNormalization())\n",
        "model.add(Conv2D(filters=64,kernel_size=(3,3),padding=\"same\", activation=\"relu\", kernel_initializer = glorot_uniform(seed=0)))\n",
        "model.add(BatchNormalization())\n",
        "model.add(MaxPool2D(pool_size=(2,2),strides=(2,2)))\n",
        "model.add(Dropout(0.2))\n",
        "\n",
        "model.add(Conv2D(filters=128, kernel_size=(3,3), padding=\"same\", activation=\"relu\", kernel_initializer = glorot_uniform(seed=0)))\n",
        "model.add(BatchNormalization())\n",
        "model.add(Conv2D(filters=128, kernel_size=(3,3), padding=\"same\", activation=\"relu\", kernel_initializer = glorot_uniform(seed=0)))\n",
        "model.add(BatchNormalization())\n",
        "model.add(MaxPool2D(pool_size=(2,2),strides=(2,2)))\n",
        "model.add(Dropout(0.3))\n",
        "\n",
        "model.add(Conv2D(filters=256, kernel_size=(3,3), padding=\"same\", activation=\"relu\", kernel_initializer = glorot_uniform(seed=0)))\n",
        "model.add(BatchNormalization())\n",
        "model.add(Conv2D(filters=256, kernel_size=(3,3), padding=\"same\", activation=\"relu\", kernel_initializer = glorot_uniform(seed=0)))\n",
        "model.add(BatchNormalization())\n",
        "model.add(Conv2D(filters=256, kernel_size=(3,3), padding=\"same\", activation=\"relu\", kernel_initializer = glorot_uniform(seed=0)))\n",
        "model.add(BatchNormalization())\n",
        "model.add(MaxPool2D(pool_size=(2,2),strides=(2,2)))\n",
        "model.add(Dropout(0.4))\n",
        "\n",
        "model.add(Conv2D(filters=512, kernel_size=(3,3), padding=\"same\", activation=\"relu\", kernel_initializer = glorot_uniform(seed=0)))\n",
        "model.add(BatchNormalization())\n",
        "model.add(Conv2D(filters=512, kernel_size=(3,3), padding=\"same\", activation=\"relu\", kernel_initializer = glorot_uniform(seed=0)))\n",
        "model.add(BatchNormalization())\n",
        "model.add(Conv2D(filters=512, kernel_size=(3,3), padding=\"same\", activation=\"relu\", kernel_initializer = glorot_uniform(seed=0)))\n",
        "model.add(BatchNormalization())\n",
        "model.add(MaxPool2D(pool_size=(2,2),strides=(2,2)))\n",
        "model.add(Dropout(0.5))\n",
        "\n",
        "model.add(Conv2D(filters=512, kernel_size=(3,3), padding=\"same\", activation=\"relu\", kernel_initializer = glorot_uniform(seed=0)))\n",
        "model.add(BatchNormalization())\n",
        "model.add(Conv2D(filters=512, kernel_size=(3,3), padding=\"same\", activation=\"relu\", kernel_initializer = glorot_uniform(seed=0)))\n",
        "model.add(BatchNormalization())\n",
        "model.add(Conv2D(filters=512, kernel_size=(3,3), padding=\"same\", activation=\"relu\", kernel_initializer = glorot_uniform(seed=0)))\n",
        "model.add(BatchNormalization())\n",
        "model.add(MaxPool2D(pool_size=(2,2),strides=(2,2)))\n",
        "model.add(Dropout(0.6))\n",
        "\n",
        "#model.add(Flatten())\n",
        "model.add(GlobalAveragePooling2D())\n",
        "\n",
        "model.add(Dense(512,activation='relu'))\n",
        "model.add(Dropout(0.5))\n",
        "model.add(Dense(512,activation='relu'))\n",
        "model.add(Dropout(0.5))\n",
        "\n",
        "model.add(Dense(units=num_classes, activation='softmax'))\n",
        "\n",
        "# print the model summary\n",
        "model.summary()"
      ],
      "execution_count": 14,
      "outputs": [
        {
          "output_type": "stream",
          "text": [
            "Model: \"sequential\"\n",
            "_________________________________________________________________\n",
            "Layer (type)                 Output Shape              Param #   \n",
            "=================================================================\n",
            "conv2d (Conv2D)              (None, 48, 48, 64)        640       \n",
            "_________________________________________________________________\n",
            "batch_normalization (BatchNo (None, 48, 48, 64)        256       \n",
            "_________________________________________________________________\n",
            "conv2d_1 (Conv2D)            (None, 48, 48, 64)        36928     \n",
            "_________________________________________________________________\n",
            "batch_normalization_1 (Batch (None, 48, 48, 64)        256       \n",
            "_________________________________________________________________\n",
            "max_pooling2d (MaxPooling2D) (None, 24, 24, 64)        0         \n",
            "_________________________________________________________________\n",
            "dropout (Dropout)            (None, 24, 24, 64)        0         \n",
            "_________________________________________________________________\n",
            "conv2d_2 (Conv2D)            (None, 24, 24, 128)       73856     \n",
            "_________________________________________________________________\n",
            "batch_normalization_2 (Batch (None, 24, 24, 128)       512       \n",
            "_________________________________________________________________\n",
            "conv2d_3 (Conv2D)            (None, 24, 24, 128)       147584    \n",
            "_________________________________________________________________\n",
            "batch_normalization_3 (Batch (None, 24, 24, 128)       512       \n",
            "_________________________________________________________________\n",
            "max_pooling2d_1 (MaxPooling2 (None, 12, 12, 128)       0         \n",
            "_________________________________________________________________\n",
            "dropout_1 (Dropout)          (None, 12, 12, 128)       0         \n",
            "_________________________________________________________________\n",
            "conv2d_4 (Conv2D)            (None, 12, 12, 256)       295168    \n",
            "_________________________________________________________________\n",
            "batch_normalization_4 (Batch (None, 12, 12, 256)       1024      \n",
            "_________________________________________________________________\n",
            "conv2d_5 (Conv2D)            (None, 12, 12, 256)       590080    \n",
            "_________________________________________________________________\n",
            "batch_normalization_5 (Batch (None, 12, 12, 256)       1024      \n",
            "_________________________________________________________________\n",
            "conv2d_6 (Conv2D)            (None, 12, 12, 256)       590080    \n",
            "_________________________________________________________________\n",
            "batch_normalization_6 (Batch (None, 12, 12, 256)       1024      \n",
            "_________________________________________________________________\n",
            "max_pooling2d_2 (MaxPooling2 (None, 6, 6, 256)         0         \n",
            "_________________________________________________________________\n",
            "dropout_2 (Dropout)          (None, 6, 6, 256)         0         \n",
            "_________________________________________________________________\n",
            "conv2d_7 (Conv2D)            (None, 6, 6, 512)         1180160   \n",
            "_________________________________________________________________\n",
            "batch_normalization_7 (Batch (None, 6, 6, 512)         2048      \n",
            "_________________________________________________________________\n",
            "conv2d_8 (Conv2D)            (None, 6, 6, 512)         2359808   \n",
            "_________________________________________________________________\n",
            "batch_normalization_8 (Batch (None, 6, 6, 512)         2048      \n",
            "_________________________________________________________________\n",
            "conv2d_9 (Conv2D)            (None, 6, 6, 512)         2359808   \n",
            "_________________________________________________________________\n",
            "batch_normalization_9 (Batch (None, 6, 6, 512)         2048      \n",
            "_________________________________________________________________\n",
            "max_pooling2d_3 (MaxPooling2 (None, 3, 3, 512)         0         \n",
            "_________________________________________________________________\n",
            "dropout_3 (Dropout)          (None, 3, 3, 512)         0         \n",
            "_________________________________________________________________\n",
            "conv2d_10 (Conv2D)           (None, 3, 3, 512)         2359808   \n",
            "_________________________________________________________________\n",
            "batch_normalization_10 (Batc (None, 3, 3, 512)         2048      \n",
            "_________________________________________________________________\n",
            "conv2d_11 (Conv2D)           (None, 3, 3, 512)         2359808   \n",
            "_________________________________________________________________\n",
            "batch_normalization_11 (Batc (None, 3, 3, 512)         2048      \n",
            "_________________________________________________________________\n",
            "conv2d_12 (Conv2D)           (None, 3, 3, 512)         2359808   \n",
            "_________________________________________________________________\n",
            "batch_normalization_12 (Batc (None, 3, 3, 512)         2048      \n",
            "_________________________________________________________________\n",
            "max_pooling2d_4 (MaxPooling2 (None, 1, 1, 512)         0         \n",
            "_________________________________________________________________\n",
            "dropout_4 (Dropout)          (None, 1, 1, 512)         0         \n",
            "_________________________________________________________________\n",
            "global_average_pooling2d (Gl (None, 512)               0         \n",
            "_________________________________________________________________\n",
            "dense (Dense)                (None, 512)               262656    \n",
            "_________________________________________________________________\n",
            "dropout_5 (Dropout)          (None, 512)               0         \n",
            "_________________________________________________________________\n",
            "dense_1 (Dense)              (None, 512)               262656    \n",
            "_________________________________________________________________\n",
            "dropout_6 (Dropout)          (None, 512)               0         \n",
            "_________________________________________________________________\n",
            "dense_2 (Dense)              (None, 7)                 3591      \n",
            "=================================================================\n",
            "Total params: 15,259,335\n",
            "Trainable params: 15,250,887\n",
            "Non-trainable params: 8,448\n",
            "_________________________________________________________________\n"
          ],
          "name": "stdout"
        }
      ]
    },
    {
      "cell_type": "code",
      "metadata": {
        "id": "6xCtG0jqFgve"
      },
      "source": [
        "#Model ori\n",
        "'''from keras.models import Sequential\n",
        "from keras.layers import Input, Dense, Flatten, Dropout, Conv2D, MaxPool2D, BatchNormalization, Activation\n",
        "\n",
        "input_shape = (48, 48, 1)\n",
        "\n",
        "model = Sequential()\n",
        "\n",
        "model.add(Conv2D(filters=64,input_shape=(input_shape),kernel_size=(3,3),padding=\"same\", activation=\"relu\", kernel_initializer = glorot_uniform(seed=0)))\n",
        "model.add(Conv2D(filters=64,kernel_size=(3,3),padding=\"same\", activation=\"relu\", kernel_initializer = glorot_uniform(seed=0)))\n",
        "model.add(MaxPool2D(pool_size=(2,2),strides=(2,2)))\n",
        "\n",
        "model.add(Conv2D(filters=128, kernel_size=(3,3), padding=\"same\", activation=\"relu\", kernel_initializer = glorot_uniform(seed=0)))\n",
        "model.add(Conv2D(filters=128, kernel_size=(3,3), padding=\"same\", activation=\"relu\", kernel_initializer = glorot_uniform(seed=0)))\n",
        "model.add(MaxPool2D(pool_size=(2,2),strides=(2,2)))\n",
        "\n",
        "model.add(Conv2D(filters=256, kernel_size=(3,3), padding=\"same\", activation=\"relu\", kernel_initializer = glorot_uniform(seed=0)))\n",
        "model.add(Conv2D(filters=256, kernel_size=(3,3), padding=\"same\", activation=\"relu\", kernel_initializer = glorot_uniform(seed=0)))\n",
        "model.add(Conv2D(filters=256, kernel_size=(3,3), padding=\"same\", activation=\"relu\", kernel_initializer = glorot_uniform(seed=1)))\n",
        "model.add(MaxPool2D(pool_size=(2,2),strides=(2,2)))\n",
        "\n",
        "model.add(Conv2D(filters=512, kernel_size=(3,3), padding=\"same\", activation=\"relu\", kernel_initializer = glorot_uniform(seed=0)))\n",
        "model.add(Conv2D(filters=512, kernel_size=(3,3), padding=\"same\", activation=\"relu\", kernel_initializer = glorot_uniform(seed=0)))\n",
        "model.add(Conv2D(filters=512, kernel_size=(3,3), padding=\"same\", activation=\"relu\", kernel_initializer = glorot_uniform(seed=0)))\n",
        "model.add(MaxPool2D(pool_size=(2,2),strides=(2,2)))\n",
        "\n",
        "model.add(Conv2D(filters=512, kernel_size=(3,3), padding=\"same\", activation=\"relu\", kernel_initializer = glorot_uniform(seed=0)))\n",
        "model.add(Conv2D(filters=512, kernel_size=(3,3), padding=\"same\", activation=\"relu\", kernel_initializer = glorot_uniform(seed=0)))\n",
        "model.add(Conv2D(filters=512, kernel_size=(3,3), padding=\"same\", activation=\"relu\", kernel_initializer = glorot_uniform(seed=0)))\n",
        "model.add(MaxPool2D(pool_size=(2,2),strides=(2,2)))\n",
        "\n",
        "model.add(Flatten())\n",
        "\n",
        "model.add(Dense(4096,activation='relu'))\n",
        "model.add(Dense(4096,activation='relu'))\n",
        "model.add(Dense(units=num_classes, activation='softmax'))\n",
        "\n",
        "# print the model summary\n",
        "model.summary()"
      ],
      "execution_count": null,
      "outputs": []
    },
    {
      "cell_type": "code",
      "metadata": {
        "id": "0S679DUacsgI"
      },
      "source": [
        "#save plot model to file\n",
        "from keras.utils.vis_utils import plot_model\n",
        "plot_model(model, to_file=\"model_fix.png\", show_shapes=True, show_layer_names=False)"
      ],
      "execution_count": null,
      "outputs": []
    },
    {
      "cell_type": "code",
      "metadata": {
        "id": "LhxgJX3brul-"
      },
      "source": [
        "#compile model\n",
        "from keras.optimizers import Adam,SGD,RMSprop\n",
        "\n",
        "opt = Adam(learning_rate=0.001)\n",
        "model.compile(loss='categorical_crossentropy', optimizer=opt, metrics=['accuracy'])"
      ],
      "execution_count": 15,
      "outputs": []
    },
    {
      "cell_type": "code",
      "metadata": {
        "colab": {
          "base_uri": "https://localhost:8080/"
        },
        "id": "ljPuPM2iryKG",
        "outputId": "be6fe83c-9981-49f9-f0e3-76416e10adbf"
      },
      "source": [
        "# fit the model\n",
        "num_epochs = 100\n",
        "history = model.fit(train_flow, \n",
        "                    steps_per_epoch=len(X_train) // batch_size, \n",
        "                    epochs=num_epochs,  \n",
        "                    verbose=1,  \n",
        "                    validation_data=val_flow,  \n",
        "                    validation_steps=len(X_val) // batch_size)"
      ],
      "execution_count": 16,
      "outputs": [
        {
          "output_type": "stream",
          "text": [
            "Epoch 1/100\n",
            "448/448 [==============================] - 82s 74ms/step - loss: 2.3473 - accuracy: 0.2012 - val_loss: 1.8286 - val_accuracy: 0.2073\n",
            "Epoch 2/100\n",
            "448/448 [==============================] - 31s 70ms/step - loss: 1.8181 - accuracy: 0.2447 - val_loss: 1.7630 - val_accuracy: 0.2824\n",
            "Epoch 3/100\n",
            "448/448 [==============================] - 32s 72ms/step - loss: 1.7528 - accuracy: 0.2844 - val_loss: 1.6205 - val_accuracy: 0.3393\n",
            "Epoch 4/100\n",
            "448/448 [==============================] - 32s 72ms/step - loss: 1.6612 - accuracy: 0.3302 - val_loss: 1.6132 - val_accuracy: 0.3563\n",
            "Epoch 5/100\n",
            "448/448 [==============================] - 32s 72ms/step - loss: 1.5419 - accuracy: 0.3959 - val_loss: 1.4625 - val_accuracy: 0.4297\n",
            "Epoch 6/100\n",
            "448/448 [==============================] - 32s 72ms/step - loss: 1.4875 - accuracy: 0.4307 - val_loss: 1.5341 - val_accuracy: 0.4099\n",
            "Epoch 7/100\n",
            "448/448 [==============================] - 32s 72ms/step - loss: 1.4102 - accuracy: 0.4643 - val_loss: 1.3347 - val_accuracy: 0.4813\n",
            "Epoch 8/100\n",
            "448/448 [==============================] - 32s 72ms/step - loss: 1.3829 - accuracy: 0.4770 - val_loss: 1.3828 - val_accuracy: 0.5028\n",
            "Epoch 9/100\n",
            "448/448 [==============================] - 32s 72ms/step - loss: 1.3463 - accuracy: 0.4926 - val_loss: 1.3387 - val_accuracy: 0.4760\n",
            "Epoch 10/100\n",
            "448/448 [==============================] - 32s 71ms/step - loss: 1.3178 - accuracy: 0.4992 - val_loss: 1.3049 - val_accuracy: 0.4930\n",
            "Epoch 11/100\n",
            "448/448 [==============================] - 32s 72ms/step - loss: 1.3085 - accuracy: 0.5106 - val_loss: 1.2725 - val_accuracy: 0.5031\n",
            "Epoch 12/100\n",
            "448/448 [==============================] - 32s 72ms/step - loss: 1.2776 - accuracy: 0.5197 - val_loss: 1.2108 - val_accuracy: 0.5391\n",
            "Epoch 13/100\n",
            "448/448 [==============================] - 32s 72ms/step - loss: 1.2538 - accuracy: 0.5265 - val_loss: 1.2234 - val_accuracy: 0.5363\n",
            "Epoch 14/100\n",
            "448/448 [==============================] - 32s 71ms/step - loss: 1.2353 - accuracy: 0.5431 - val_loss: 1.1989 - val_accuracy: 0.5419\n",
            "Epoch 15/100\n",
            "448/448 [==============================] - 32s 71ms/step - loss: 1.2076 - accuracy: 0.5543 - val_loss: 1.1685 - val_accuracy: 0.5488\n",
            "Epoch 16/100\n",
            "448/448 [==============================] - 32s 72ms/step - loss: 1.2095 - accuracy: 0.5541 - val_loss: 1.1122 - val_accuracy: 0.5751\n",
            "Epoch 17/100\n",
            "448/448 [==============================] - 32s 71ms/step - loss: 1.1893 - accuracy: 0.5632 - val_loss: 1.1419 - val_accuracy: 0.5745\n",
            "Epoch 18/100\n",
            "448/448 [==============================] - 32s 71ms/step - loss: 1.1754 - accuracy: 0.5704 - val_loss: 1.1823 - val_accuracy: 0.5672\n",
            "Epoch 19/100\n",
            "448/448 [==============================] - 32s 71ms/step - loss: 1.1494 - accuracy: 0.5762 - val_loss: 1.1769 - val_accuracy: 0.5516\n",
            "Epoch 20/100\n",
            "448/448 [==============================] - 32s 72ms/step - loss: 1.1421 - accuracy: 0.5847 - val_loss: 1.1144 - val_accuracy: 0.5857\n",
            "Epoch 21/100\n",
            "448/448 [==============================] - 32s 72ms/step - loss: 1.1453 - accuracy: 0.5837 - val_loss: 1.0752 - val_accuracy: 0.6046\n",
            "Epoch 22/100\n",
            "448/448 [==============================] - 32s 71ms/step - loss: 1.1157 - accuracy: 0.5951 - val_loss: 1.0400 - val_accuracy: 0.6099\n",
            "Epoch 23/100\n",
            "448/448 [==============================] - 32s 72ms/step - loss: 1.0898 - accuracy: 0.6030 - val_loss: 1.1265 - val_accuracy: 0.5868\n",
            "Epoch 24/100\n",
            "448/448 [==============================] - 32s 72ms/step - loss: 1.0913 - accuracy: 0.6028 - val_loss: 1.0304 - val_accuracy: 0.6191\n",
            "Epoch 25/100\n",
            "448/448 [==============================] - 32s 72ms/step - loss: 1.0795 - accuracy: 0.6032 - val_loss: 1.0444 - val_accuracy: 0.6071\n",
            "Epoch 26/100\n",
            "448/448 [==============================] - 32s 71ms/step - loss: 1.0655 - accuracy: 0.6138 - val_loss: 1.0675 - val_accuracy: 0.5999\n",
            "Epoch 27/100\n",
            "448/448 [==============================] - 32s 71ms/step - loss: 1.0450 - accuracy: 0.6210 - val_loss: 1.1148 - val_accuracy: 0.5845\n",
            "Epoch 28/100\n",
            "448/448 [==============================] - 32s 71ms/step - loss: 1.0787 - accuracy: 0.6085 - val_loss: 1.0316 - val_accuracy: 0.6113\n",
            "Epoch 29/100\n",
            "448/448 [==============================] - 32s 72ms/step - loss: 1.0309 - accuracy: 0.6244 - val_loss: 1.0114 - val_accuracy: 0.6205\n",
            "Epoch 30/100\n",
            "448/448 [==============================] - 32s 72ms/step - loss: 1.0251 - accuracy: 0.6293 - val_loss: 1.0079 - val_accuracy: 0.6164\n",
            "Epoch 31/100\n",
            "448/448 [==============================] - 32s 71ms/step - loss: 1.0025 - accuracy: 0.6343 - val_loss: 1.0266 - val_accuracy: 0.6158\n",
            "Epoch 32/100\n",
            "448/448 [==============================] - 32s 71ms/step - loss: 1.0063 - accuracy: 0.6324 - val_loss: 1.0163 - val_accuracy: 0.6286\n",
            "Epoch 33/100\n",
            "448/448 [==============================] - 32s 72ms/step - loss: 0.9946 - accuracy: 0.6424 - val_loss: 1.0248 - val_accuracy: 0.6264\n",
            "Epoch 34/100\n",
            "448/448 [==============================] - 32s 71ms/step - loss: 0.9917 - accuracy: 0.6385 - val_loss: 1.0050 - val_accuracy: 0.6261\n",
            "Epoch 35/100\n",
            "448/448 [==============================] - 32s 72ms/step - loss: 0.9772 - accuracy: 0.6510 - val_loss: 0.9850 - val_accuracy: 0.6412\n",
            "Epoch 36/100\n",
            "448/448 [==============================] - 32s 72ms/step - loss: 0.9674 - accuracy: 0.6500 - val_loss: 0.9653 - val_accuracy: 0.6468\n",
            "Epoch 37/100\n",
            "448/448 [==============================] - 32s 71ms/step - loss: 0.9538 - accuracy: 0.6604 - val_loss: 1.0660 - val_accuracy: 0.6164\n",
            "Epoch 38/100\n",
            "448/448 [==============================] - 32s 72ms/step - loss: 0.9491 - accuracy: 0.6613 - val_loss: 0.9917 - val_accuracy: 0.6311\n",
            "Epoch 39/100\n",
            "448/448 [==============================] - 32s 72ms/step - loss: 0.9402 - accuracy: 0.6605 - val_loss: 0.9699 - val_accuracy: 0.6532\n",
            "Epoch 40/100\n",
            "448/448 [==============================] - 32s 72ms/step - loss: 0.9516 - accuracy: 0.6579 - val_loss: 1.0075 - val_accuracy: 0.6295\n",
            "Epoch 41/100\n",
            "448/448 [==============================] - 32s 71ms/step - loss: 0.9354 - accuracy: 0.6691 - val_loss: 1.0982 - val_accuracy: 0.6016\n",
            "Epoch 42/100\n",
            "448/448 [==============================] - 32s 71ms/step - loss: 0.9213 - accuracy: 0.6696 - val_loss: 0.9909 - val_accuracy: 0.6398\n",
            "Epoch 43/100\n",
            "448/448 [==============================] - 32s 72ms/step - loss: 0.9115 - accuracy: 0.6696 - val_loss: 0.9991 - val_accuracy: 0.6267\n",
            "Epoch 44/100\n",
            "448/448 [==============================] - 32s 72ms/step - loss: 0.8998 - accuracy: 0.6735 - val_loss: 0.9626 - val_accuracy: 0.6459\n",
            "Epoch 45/100\n",
            "448/448 [==============================] - 32s 71ms/step - loss: 0.8954 - accuracy: 0.6770 - val_loss: 1.0657 - val_accuracy: 0.6194\n",
            "Epoch 46/100\n",
            "448/448 [==============================] - 32s 71ms/step - loss: 0.8932 - accuracy: 0.6785 - val_loss: 0.9677 - val_accuracy: 0.6462\n",
            "Epoch 47/100\n",
            "448/448 [==============================] - 32s 72ms/step - loss: 0.8721 - accuracy: 0.6895 - val_loss: 0.9686 - val_accuracy: 0.6540\n",
            "Epoch 48/100\n",
            "448/448 [==============================] - 32s 71ms/step - loss: 0.8755 - accuracy: 0.6811 - val_loss: 0.9471 - val_accuracy: 0.6602\n",
            "Epoch 49/100\n",
            "448/448 [==============================] - 32s 72ms/step - loss: 0.8761 - accuracy: 0.6817 - val_loss: 0.9520 - val_accuracy: 0.6484\n",
            "Epoch 50/100\n",
            "448/448 [==============================] - 32s 71ms/step - loss: 0.8567 - accuracy: 0.6945 - val_loss: 1.0089 - val_accuracy: 0.6395\n",
            "Epoch 51/100\n",
            "448/448 [==============================] - 32s 72ms/step - loss: 0.8622 - accuracy: 0.6886 - val_loss: 0.9597 - val_accuracy: 0.6454\n",
            "Epoch 52/100\n",
            "448/448 [==============================] - 32s 72ms/step - loss: 0.8691 - accuracy: 0.6874 - val_loss: 1.0226 - val_accuracy: 0.6214\n",
            "Epoch 53/100\n",
            "448/448 [==============================] - 32s 71ms/step - loss: 0.8606 - accuracy: 0.6865 - val_loss: 0.9368 - val_accuracy: 0.6602\n",
            "Epoch 54/100\n",
            "448/448 [==============================] - 32s 72ms/step - loss: 0.8414 - accuracy: 0.6998 - val_loss: 0.9250 - val_accuracy: 0.6532\n",
            "Epoch 55/100\n",
            "448/448 [==============================] - 32s 72ms/step - loss: 0.8417 - accuracy: 0.7007 - val_loss: 0.9659 - val_accuracy: 0.6590\n",
            "Epoch 56/100\n",
            "448/448 [==============================] - 32s 72ms/step - loss: 0.8414 - accuracy: 0.6982 - val_loss: 0.9909 - val_accuracy: 0.6454\n",
            "Epoch 57/100\n",
            "448/448 [==============================] - 32s 71ms/step - loss: 0.8405 - accuracy: 0.6920 - val_loss: 0.9488 - val_accuracy: 0.6574\n",
            "Epoch 58/100\n",
            "448/448 [==============================] - 32s 71ms/step - loss: 0.8445 - accuracy: 0.6998 - val_loss: 0.9767 - val_accuracy: 0.6479\n",
            "Epoch 59/100\n",
            "448/448 [==============================] - 32s 72ms/step - loss: 0.8570 - accuracy: 0.6949 - val_loss: 0.9473 - val_accuracy: 0.6643\n",
            "Epoch 60/100\n",
            "448/448 [==============================] - 32s 72ms/step - loss: 0.8185 - accuracy: 0.7083 - val_loss: 0.9590 - val_accuracy: 0.6501\n",
            "Epoch 61/100\n",
            "448/448 [==============================] - 32s 72ms/step - loss: 0.8090 - accuracy: 0.7121 - val_loss: 0.9737 - val_accuracy: 0.6498\n",
            "Epoch 62/100\n",
            "448/448 [==============================] - 32s 72ms/step - loss: 0.8128 - accuracy: 0.7108 - val_loss: 0.9305 - val_accuracy: 0.6752\n",
            "Epoch 63/100\n",
            "448/448 [==============================] - 32s 71ms/step - loss: 0.8128 - accuracy: 0.7078 - val_loss: 1.0042 - val_accuracy: 0.6390\n",
            "Epoch 64/100\n",
            "448/448 [==============================] - 32s 72ms/step - loss: 0.7991 - accuracy: 0.7114 - val_loss: 0.9232 - val_accuracy: 0.6696\n",
            "Epoch 65/100\n",
            "448/448 [==============================] - 32s 72ms/step - loss: 0.7993 - accuracy: 0.7130 - val_loss: 1.0237 - val_accuracy: 0.6465\n",
            "Epoch 66/100\n",
            "448/448 [==============================] - 32s 72ms/step - loss: 0.7877 - accuracy: 0.7197 - val_loss: 0.9802 - val_accuracy: 0.6579\n",
            "Epoch 67/100\n",
            "448/448 [==============================] - 32s 71ms/step - loss: 0.7864 - accuracy: 0.7204 - val_loss: 0.9868 - val_accuracy: 0.6560\n",
            "Epoch 68/100\n",
            "448/448 [==============================] - 32s 72ms/step - loss: 0.7765 - accuracy: 0.7232 - val_loss: 0.9755 - val_accuracy: 0.6532\n",
            "Epoch 69/100\n",
            "448/448 [==============================] - 32s 72ms/step - loss: 0.7759 - accuracy: 0.7256 - val_loss: 0.9776 - val_accuracy: 0.6557\n",
            "Epoch 70/100\n",
            "448/448 [==============================] - 32s 72ms/step - loss: 0.7784 - accuracy: 0.7218 - val_loss: 1.0132 - val_accuracy: 0.6490\n",
            "Epoch 71/100\n",
            "448/448 [==============================] - 32s 72ms/step - loss: 0.7760 - accuracy: 0.7208 - val_loss: 0.9847 - val_accuracy: 0.6507\n",
            "Epoch 72/100\n",
            "448/448 [==============================] - 33s 73ms/step - loss: 0.7697 - accuracy: 0.7277 - val_loss: 0.9194 - val_accuracy: 0.6769\n",
            "Epoch 73/100\n",
            "448/448 [==============================] - 32s 72ms/step - loss: 0.7676 - accuracy: 0.7314 - val_loss: 0.9715 - val_accuracy: 0.6602\n",
            "Epoch 74/100\n",
            "448/448 [==============================] - 32s 72ms/step - loss: 0.7543 - accuracy: 0.7357 - val_loss: 0.9546 - val_accuracy: 0.6657\n",
            "Epoch 75/100\n",
            "448/448 [==============================] - 32s 72ms/step - loss: 0.7423 - accuracy: 0.7375 - val_loss: 0.9626 - val_accuracy: 0.6593\n",
            "Epoch 76/100\n",
            "448/448 [==============================] - 32s 72ms/step - loss: 0.7440 - accuracy: 0.7385 - val_loss: 0.9439 - val_accuracy: 0.6660\n",
            "Epoch 77/100\n",
            "448/448 [==============================] - 32s 72ms/step - loss: 0.7408 - accuracy: 0.7362 - val_loss: 0.9667 - val_accuracy: 0.6724\n",
            "Epoch 78/100\n",
            "448/448 [==============================] - 32s 71ms/step - loss: 0.7365 - accuracy: 0.7390 - val_loss: 0.9667 - val_accuracy: 0.6641\n",
            "Epoch 79/100\n",
            "448/448 [==============================] - 32s 71ms/step - loss: 0.7353 - accuracy: 0.7395 - val_loss: 0.9705 - val_accuracy: 0.6655\n",
            "Epoch 80/100\n",
            "448/448 [==============================] - 32s 72ms/step - loss: 0.7283 - accuracy: 0.7382 - val_loss: 0.9758 - val_accuracy: 0.6652\n",
            "Epoch 81/100\n",
            "448/448 [==============================] - 32s 72ms/step - loss: 0.7340 - accuracy: 0.7403 - val_loss: 1.0081 - val_accuracy: 0.6780\n",
            "Epoch 82/100\n",
            "448/448 [==============================] - 32s 72ms/step - loss: 0.7360 - accuracy: 0.7386 - val_loss: 0.9528 - val_accuracy: 0.6708\n",
            "Epoch 83/100\n",
            "448/448 [==============================] - 32s 71ms/step - loss: 0.7343 - accuracy: 0.7413 - val_loss: 0.9604 - val_accuracy: 0.6663\n",
            "Epoch 84/100\n",
            "448/448 [==============================] - 32s 71ms/step - loss: 0.7152 - accuracy: 0.7460 - val_loss: 0.9673 - val_accuracy: 0.6744\n",
            "Epoch 85/100\n",
            "448/448 [==============================] - 32s 72ms/step - loss: 0.7175 - accuracy: 0.7482 - val_loss: 0.9664 - val_accuracy: 0.6805\n",
            "Epoch 86/100\n",
            "448/448 [==============================] - 32s 72ms/step - loss: 0.7077 - accuracy: 0.7496 - val_loss: 1.0901 - val_accuracy: 0.6395\n",
            "Epoch 87/100\n",
            "448/448 [==============================] - 32s 71ms/step - loss: 0.7110 - accuracy: 0.7483 - val_loss: 0.9621 - val_accuracy: 0.6747\n",
            "Epoch 88/100\n",
            "448/448 [==============================] - 32s 72ms/step - loss: 0.6961 - accuracy: 0.7533 - val_loss: 1.0520 - val_accuracy: 0.6543\n",
            "Epoch 89/100\n",
            "448/448 [==============================] - 32s 71ms/step - loss: 0.7006 - accuracy: 0.7580 - val_loss: 0.9829 - val_accuracy: 0.6694\n",
            "Epoch 90/100\n",
            "448/448 [==============================] - 32s 72ms/step - loss: 0.8173 - accuracy: 0.7089 - val_loss: 0.9437 - val_accuracy: 0.6604\n",
            "Epoch 91/100\n",
            "448/448 [==============================] - 32s 71ms/step - loss: 0.7682 - accuracy: 0.7237 - val_loss: 0.9132 - val_accuracy: 0.6847\n",
            "Epoch 92/100\n",
            "448/448 [==============================] - 32s 72ms/step - loss: 0.7196 - accuracy: 0.7391 - val_loss: 0.9342 - val_accuracy: 0.6833\n",
            "Epoch 93/100\n",
            "448/448 [==============================] - 32s 71ms/step - loss: 0.6965 - accuracy: 0.7536 - val_loss: 0.9662 - val_accuracy: 0.6772\n",
            "Epoch 94/100\n",
            "448/448 [==============================] - 32s 72ms/step - loss: 0.6792 - accuracy: 0.7542 - val_loss: 0.9649 - val_accuracy: 0.6758\n",
            "Epoch 95/100\n",
            "448/448 [==============================] - 32s 72ms/step - loss: 0.6655 - accuracy: 0.7637 - val_loss: 0.9807 - val_accuracy: 0.6680\n",
            "Epoch 96/100\n",
            "448/448 [==============================] - 32s 71ms/step - loss: 0.6687 - accuracy: 0.7616 - val_loss: 0.9940 - val_accuracy: 0.6822\n",
            "Epoch 97/100\n",
            "448/448 [==============================] - 32s 72ms/step - loss: 0.6687 - accuracy: 0.7639 - val_loss: 1.0001 - val_accuracy: 0.6696\n",
            "Epoch 98/100\n",
            "448/448 [==============================] - 32s 72ms/step - loss: 0.6637 - accuracy: 0.7690 - val_loss: 1.0011 - val_accuracy: 0.6702\n",
            "Epoch 99/100\n",
            "448/448 [==============================] - 32s 72ms/step - loss: 0.6715 - accuracy: 0.7634 - val_loss: 0.9812 - val_accuracy: 0.6735\n",
            "Epoch 100/100\n",
            "448/448 [==============================] - 32s 72ms/step - loss: 0.6605 - accuracy: 0.7671 - val_loss: 0.9627 - val_accuracy: 0.6828\n"
          ],
          "name": "stdout"
        }
      ]
    },
    {
      "cell_type": "markdown",
      "metadata": {
        "id": "zdn-Ud-Ca4LG"
      },
      "source": [
        "# Evaluate"
      ]
    },
    {
      "cell_type": "code",
      "metadata": {
        "id": "d8D97Qq4bUxn",
        "colab": {
          "base_uri": "https://localhost:8080/",
          "height": 573
        },
        "outputId": "daa2ebf7-60ee-43c0-b382-114742aebdd8"
      },
      "source": [
        "accuracy = history.history['accuracy']\n",
        "val_accuracy = history.history['val_accuracy']\n",
        "loss = history.history['loss']\n",
        "val_loss = history.history['val_loss']\n",
        "num_epochs = range(len(accuracy))\n",
        "plt.plot(num_epochs, accuracy, 'r', label='Training acc')\n",
        "plt.plot(num_epochs, val_accuracy, 'b', label='Validation acc')\n",
        "plt.title('Training and validation accuracy')\n",
        "plt.ylabel('accuracy')  \n",
        "plt.xlabel('epoch')\n",
        "plt.legend()\n",
        "plt.figure()\n",
        "plt.plot(num_epochs, loss, 'r', label='Training loss')\n",
        "plt.plot(num_epochs, val_loss, 'b', label='Validation loss')\n",
        "plt.title('Training and validation loss')\n",
        "plt.ylabel('loss')  \n",
        "plt.xlabel('epoch')\n",
        "plt.legend()\n",
        "plt.show()"
      ],
      "execution_count": 17,
      "outputs": [
        {
          "output_type": "display_data",
          "data": {
            "image/png": "[encoded data removed]",
            "text/plain": [
              "<Figure size 432x288 with 1 Axes>"
            ]
          },
          "metadata": {
            "tags": [],
            "needs_background": "light"
          }
        },
        {
          "output_type": "display_data",
          "data": {
            "image/png": "[encoded data removed]",
            "text/plain": [
              "<Figure size 432x288 with 1 Axes>"
            ]
          },
          "metadata": {
            "tags": [],
            "needs_background": "light"
          }
        }
      ]
    },
    {
      "cell_type": "code",
      "metadata": {
        "id": "v2FEkE4pr8vN",
        "colab": {
          "base_uri": "https://localhost:8080/"
        },
        "outputId": "9d50dbee-66a1-474f-863b-3b28bed270ce"
      },
      "source": [
        "trainloss = model.evaluate(train_flow, steps=len(X_train) / batch_size) \n",
        "print(\"Train Loss \" + str(trainloss[0]))\n",
        "print(\"Train Acc: \" + str(trainloss[1]))\n",
        "valloss = model.evaluate(val_flow, steps=len(X_val) / batch_size) \n",
        "print(\"Val Loss \" + str(valloss[0]))\n",
        "print(\"Val Acc: \" + str(valloss[1]))\n",
        "testloss = model.evaluate(test_flow, steps=len(X_test) / batch_size) \n",
        "print(\"Test Loss \" + str(testloss[0]))\n",
        "print(\"Test Acc: \" + str(testloss[1]))"
      ],
      "execution_count": 18,
      "outputs": [
        {
          "output_type": "stream",
          "text": [
            "448/448 [==============================] - 13s 29ms/step - loss: 0.5377 - accuracy: 0.8105\n",
            "Train Loss 0.5376622080802917\n",
            "Train Acc: 0.8104775547981262\n",
            "56/56 [==============================] - 1s 25ms/step - loss: 0.9622 - accuracy: 0.6826\n",
            "Val Loss 0.9621977210044861\n",
            "Val Acc: 0.6826413869857788\n",
            "56/56 [==============================] - 1s 20ms/step - loss: 0.8870 - accuracy: 0.7063\n",
            "Test Loss 0.887030303478241\n",
            "Test Acc: 0.7063248753547668\n"
          ],
          "name": "stdout"
        }
      ]
    },
    {
      "cell_type": "code",
      "metadata": {
        "id": "rjVsIoZ-kCve"
      },
      "source": [
        "def plot_confusion_matrix(y_test, y_pred, classes,\n",
        "                          normalize=False,\n",
        "                          title='Unnormalized confusion matrix',\n",
        "                          cmap=plt.cm.Blues):\n",
        "    cm = confusion_matrix(y_test, y_pred)\n",
        "    \n",
        "    if normalize:\n",
        "        cm = np.round(cm.astype('float') / cm.sum(axis=1)[:, np.newaxis], 2)\n",
        "        \n",
        "    np.set_printoptions(precision=2)\n",
        "    \n",
        "    plt.rcParams[\"figure.figsize\"] = (8,8)  \n",
        "    plt.imshow(cm, interpolation='nearest', cmap=cmap)\n",
        "    plt.title(title)\n",
        "    plt.colorbar()\n",
        "    tick_marks = np.arange(len(classes))\n",
        "    plt.xticks(tick_marks, classes, rotation=45)\n",
        "    plt.yticks(tick_marks, classes)\n",
        "\n",
        "    thresh = cm.min() + (cm.max() - cm.min()) / 2.\n",
        "    for i, j in itertools.product(range(cm.shape[0]), range(cm.shape[1])):\n",
        "        plt.text(j, i, cm[i, j],\n",
        "                 horizontalalignment=\"center\",\n",
        "                 color=\"white\" if cm[i, j] > thresh else \"black\")\n",
        "\n",
        "    plt.tight_layout()\n",
        "    plt.ylabel('True expression')\n",
        "    plt.xlabel('Predicted expression')\n",
        "    plt.show()"
      ],
      "execution_count": 19,
      "outputs": []
    },
    {
      "cell_type": "code",
      "metadata": {
        "colab": {
          "base_uri": "https://localhost:8080/"
        },
        "id": "VDNVCwW6kFHH",
        "outputId": "6e0c8cc0-d9e5-4ddc-a3ac-2268f942934a"
      },
      "source": [
        "y_pred_ = model.predict(X_test/255., verbose=1)\n",
        "y_pred = np.argmax(y_pred_, axis=1)\n",
        "t_te = np.argmax(y_test, axis=1)"
      ],
      "execution_count": 20,
      "outputs": [
        {
          "output_type": "stream",
          "text": [
            "113/113 [==============================] - 3s 12ms/step\n"
          ],
          "name": "stdout"
        }
      ]
    },
    {
      "cell_type": "code",
      "metadata": {
        "id": "CZiiWYfQ7yVt",
        "colab": {
          "base_uri": "https://localhost:8080/",
          "height": 585
        },
        "outputId": "5cf1460a-76bb-4f39-a901-1c1028f49748"
      },
      "source": [
        "from sklearn.metrics import confusion_matrix, classification_report\n",
        "import itertools\n",
        "\n",
        "fig = plot_confusion_matrix(y_test=t_te, y_pred=y_pred,\n",
        "                      classes=labels,\n",
        "                      normalize=True,\n",
        "                      cmap=plt.cm.Blues,\n",
        "                      title='Average accuracy: ' + str(np.sum(y_pred == t_te)/len(t_te)) + '\\n')"
      ],
      "execution_count": 21,
      "outputs": [
        {
          "output_type": "display_data",
          "data": {
            "image/png": "[encoded data removed]",
            "text/plain": [
              "<Figure size 576x576 with 2 Axes>"
            ]
          },
          "metadata": {
            "tags": [],
            "needs_background": "light"
          }
        }
      ]
    },
    {
      "cell_type": "code",
      "metadata": {
        "id": "4vauS7IKbqNG",
        "colab": {
          "base_uri": "https://localhost:8080/"
        },
        "outputId": "762c2683-731f-4ddd-97d6-e505a5db455e"
      },
      "source": [
        "emotions = {0: 'Angry', 1: 'Disgust', 2: 'Fear', 3: 'Happy', 4: 'Sad', 5: 'Surprise', 6: 'Neutral'}\n",
        "print(classification_report(t_te, y_pred, target_names=emotions.values()))"
      ],
      "execution_count": 22,
      "outputs": [
        {
          "output_type": "stream",
          "text": [
            "              precision    recall  f1-score   support\n",
            "\n",
            "       Angry       0.64      0.63      0.64       491\n",
            "     Disgust       0.70      0.69      0.70        55\n",
            "        Fear       0.59      0.48      0.53       528\n",
            "       Happy       0.92      0.90      0.91       879\n",
            "         Sad       0.58      0.57      0.57       594\n",
            "    Surprise       0.83      0.79      0.81       416\n",
            "     Neutral       0.61      0.77      0.68       626\n",
            "\n",
            "    accuracy                           0.71      3589\n",
            "   macro avg       0.70      0.69      0.69      3589\n",
            "weighted avg       0.71      0.71      0.70      3589\n",
            "\n"
          ],
          "name": "stdout"
        }
      ]
    },
    {
      "cell_type": "code",
      "metadata": {
        "id": "KKWxaaYRba3j",
        "colab": {
          "base_uri": "https://localhost:8080/"
        },
        "outputId": "28ffe8e7-334d-4357-e833-0455db0cc400"
      },
      "source": [
        "model.save(\"/content/drive/MyDrive/Colab Notebooks/Model/ModelFix_Adam0.001_epoch100_Aug.h5\")\n",
        "print(\"saved\")"
      ],
      "execution_count": 23,
      "outputs": [
        {
          "output_type": "stream",
          "text": [
            "saved\n"
          ],
          "name": "stdout"
        }
      ]
    },
    {
      "cell_type": "markdown",
      "metadata": {
        "id": "aqLRhlr4b7t5"
      },
      "source": [
        "#Load Model"
      ]
    },
    {
      "cell_type": "code",
      "metadata": {
        "id": "J45lyUtcJ-6F",
        "colab": {
          "base_uri": "https://localhost:8080/"
        },
        "outputId": "d9fedd15-c646-4bc6-bcf7-a5d60d65f781"
      },
      "source": [
        "from keras.models import load_model\n",
        "model_load = load_model('/content/drive/MyDrive/Colab Notebooks/Model/ModelFix_Adam0.001_epoch100_Aug.h5')\n",
        "\n",
        "model_load.summary()"
      ],
      "execution_count": 24,
      "outputs": [
        {
          "output_type": "stream",
          "text": [
            "Model: \"sequential\"\n",
            "_________________________________________________________________\n",
            "Layer (type)                 Output Shape              Param #   \n",
            "=================================================================\n",
            "conv2d (Conv2D)              (None, 48, 48, 64)        640       \n",
            "_________________________________________________________________\n",
            "batch_normalization (BatchNo (None, 48, 48, 64)        256       \n",
            "_________________________________________________________________\n",
            "conv2d_1 (Conv2D)            (None, 48, 48, 64)        36928     \n",
            "_________________________________________________________________\n",
            "batch_normalization_1 (Batch (None, 48, 48, 64)        256       \n",
            "_________________________________________________________________\n",
            "max_pooling2d (MaxPooling2D) (None, 24, 24, 64)        0         \n",
            "_________________________________________________________________\n",
            "dropout (Dropout)            (None, 24, 24, 64)        0         \n",
            "_________________________________________________________________\n",
            "conv2d_2 (Conv2D)            (None, 24, 24, 128)       73856     \n",
            "_________________________________________________________________\n",
            "batch_normalization_2 (Batch (None, 24, 24, 128)       512       \n",
            "_________________________________________________________________\n",
            "conv2d_3 (Conv2D)            (None, 24, 24, 128)       147584    \n",
            "_________________________________________________________________\n",
            "batch_normalization_3 (Batch (None, 24, 24, 128)       512       \n",
            "_________________________________________________________________\n",
            "max_pooling2d_1 (MaxPooling2 (None, 12, 12, 128)       0         \n",
            "_________________________________________________________________\n",
            "dropout_1 (Dropout)          (None, 12, 12, 128)       0         \n",
            "_________________________________________________________________\n",
            "conv2d_4 (Conv2D)            (None, 12, 12, 256)       295168    \n",
            "_________________________________________________________________\n",
            "batch_normalization_4 (Batch (None, 12, 12, 256)       1024      \n",
            "_________________________________________________________________\n",
            "conv2d_5 (Conv2D)            (None, 12, 12, 256)       590080    \n",
            "_________________________________________________________________\n",
            "batch_normalization_5 (Batch (None, 12, 12, 256)       1024      \n",
            "_________________________________________________________________\n",
            "conv2d_6 (Conv2D)            (None, 12, 12, 256)       590080    \n",
            "_________________________________________________________________\n",
            "batch_normalization_6 (Batch (None, 12, 12, 256)       1024      \n",
            "_________________________________________________________________\n",
            "max_pooling2d_2 (MaxPooling2 (None, 6, 6, 256)         0         \n",
            "_________________________________________________________________\n",
            "dropout_2 (Dropout)          (None, 6, 6, 256)         0         \n",
            "_________________________________________________________________\n",
            "conv2d_7 (Conv2D)            (None, 6, 6, 512)         1180160   \n",
            "_________________________________________________________________\n",
            "batch_normalization_7 (Batch (None, 6, 6, 512)         2048      \n",
            "_________________________________________________________________\n",
            "conv2d_8 (Conv2D)            (None, 6, 6, 512)         2359808   \n",
            "_________________________________________________________________\n",
            "batch_normalization_8 (Batch (None, 6, 6, 512)         2048      \n",
            "_________________________________________________________________\n",
            "conv2d_9 (Conv2D)            (None, 6, 6, 512)         2359808   \n",
            "_________________________________________________________________\n",
            "batch_normalization_9 (Batch (None, 6, 6, 512)         2048      \n",
            "_________________________________________________________________\n",
            "max_pooling2d_3 (MaxPooling2 (None, 3, 3, 512)         0         \n",
            "_________________________________________________________________\n",
            "dropout_3 (Dropout)          (None, 3, 3, 512)         0         \n",
            "_________________________________________________________________\n",
            "conv2d_10 (Conv2D)           (None, 3, 3, 512)         2359808   \n",
            "_________________________________________________________________\n",
            "batch_normalization_10 (Batc (None, 3, 3, 512)         2048      \n",
            "_________________________________________________________________\n",
            "conv2d_11 (Conv2D)           (None, 3, 3, 512)         2359808   \n",
            "_________________________________________________________________\n",
            "batch_normalization_11 (Batc (None, 3, 3, 512)         2048      \n",
            "_________________________________________________________________\n",
            "conv2d_12 (Conv2D)           (None, 3, 3, 512)         2359808   \n",
            "_________________________________________________________________\n",
            "batch_normalization_12 (Batc (None, 3, 3, 512)         2048      \n",
            "_________________________________________________________________\n",
            "max_pooling2d_4 (MaxPooling2 (None, 1, 1, 512)         0         \n",
            "_________________________________________________________________\n",
            "dropout_4 (Dropout)          (None, 1, 1, 512)         0         \n",
            "_________________________________________________________________\n",
            "global_average_pooling2d (Gl (None, 512)               0         \n",
            "_________________________________________________________________\n",
            "dense (Dense)                (None, 512)               262656    \n",
            "_________________________________________________________________\n",
            "dropout_5 (Dropout)          (None, 512)               0         \n",
            "_________________________________________________________________\n",
            "dense_1 (Dense)              (None, 512)               262656    \n",
            "_________________________________________________________________\n",
            "dropout_6 (Dropout)          (None, 512)               0         \n",
            "_________________________________________________________________\n",
            "dense_2 (Dense)              (None, 7)                 3591      \n",
            "=================================================================\n",
            "Total params: 15,259,335\n",
            "Trainable params: 15,250,887\n",
            "Non-trainable params: 8,448\n",
            "_________________________________________________________________\n"
          ],
          "name": "stdout"
        }
      ]
    },
    {
      "cell_type": "code",
      "metadata": {
        "id": "nQd7m45qfWBW",
        "colab": {
          "base_uri": "https://localhost:8080/"
        },
        "outputId": "ffc4901c-431e-4e9d-85c8-5ee721ed16cb"
      },
      "source": [
        "trainloss = model_load.evaluate(train_flow, steps=len(X_train) / batch_size) \n",
        "print(\"Train Loss \" + str(trainloss[0]))\n",
        "print(\"Train Acc: \" + str(trainloss[1]))\n",
        "valloss = model_load.evaluate(val_flow, steps=len(X_val) / batch_size) \n",
        "print(\"Val Loss \" + str(valloss[0]))\n",
        "print(\"Val Acc: \" + str(valloss[1]))\n",
        "testloss = model_load.evaluate(test_flow, steps=len(X_test) / batch_size) \n",
        "print(\"Test Loss \" + str(testloss[0]))\n",
        "print(\"Test Acc: \" + str(testloss[1]))"
      ],
      "execution_count": 25,
      "outputs": [
        {
          "output_type": "stream",
          "text": [
            "448/448 [==============================] - 16s 33ms/step - loss: 0.5387 - accuracy: 0.8088\n",
            "Train Loss 0.5386533737182617\n",
            "Train Acc: 0.8088055849075317\n",
            "56/56 [==============================] - 1s 22ms/step - loss: 0.9622 - accuracy: 0.6826\n",
            "Val Loss 0.9621976017951965\n",
            "Val Acc: 0.6826413869857788\n",
            "56/56 [==============================] - 1s 21ms/step - loss: 0.8870 - accuracy: 0.7063\n",
            "Test Loss 0.8870301842689514\n",
            "Test Acc: 0.7063248753547668\n"
          ],
          "name": "stdout"
        }
      ]
    },
    {
      "cell_type": "code",
      "metadata": {
        "id": "AgxW2wNbkLTw"
      },
      "source": [
        "def plot_confusion_matrix(y_test, y_pred, classes,\n",
        "                          normalize=False,\n",
        "                          title='Unnormalized confusion matrix',\n",
        "                          cmap=plt.cm.Blues):\n",
        "    cm = confusion_matrix(y_test, y_pred)\n",
        "    \n",
        "    if normalize:\n",
        "        cm = np.round(cm.astype('float') / cm.sum(axis=1)[:, np.newaxis], 2)\n",
        "        \n",
        "    np.set_printoptions(precision=2)\n",
        "        \n",
        "    plt.rcParams[\"figure.figsize\"] = (8,8)\n",
        "    plt.imshow(cm, interpolation='nearest', cmap=cmap)\n",
        "    plt.title(title)\n",
        "    plt.colorbar()\n",
        "    tick_marks = np.arange(len(classes))\n",
        "    plt.xticks(tick_marks, classes, rotation=45)\n",
        "    plt.yticks(tick_marks, classes)\n",
        "\n",
        "    thresh = cm.min() + (cm.max() - cm.min()) / 2.\n",
        "    for i, j in itertools.product(range(cm.shape[0]), range(cm.shape[1])):\n",
        "        plt.text(j, i, cm[i, j],\n",
        "                 horizontalalignment=\"center\",\n",
        "                 color=\"white\" if cm[i, j] > thresh else \"black\")\n",
        "\n",
        "    plt.tight_layout()\n",
        "    plt.ylabel('True expression')\n",
        "    plt.xlabel('Predicted expression')\n",
        "    plt.show()"
      ],
      "execution_count": 26,
      "outputs": []
    },
    {
      "cell_type": "code",
      "metadata": {
        "colab": {
          "base_uri": "https://localhost:8080/"
        },
        "id": "rc9jxsudkMOd",
        "outputId": "4913d93d-d9f9-40d8-a944-ea0b338c1a3e"
      },
      "source": [
        "y_pred_ = model_load.predict(X_test/255., verbose=1)\n",
        "y_pred = np.argmax(y_pred_, axis=1)\n",
        "t_te = np.argmax(y_test, axis=1)"
      ],
      "execution_count": 27,
      "outputs": [
        {
          "output_type": "stream",
          "text": [
            "113/113 [==============================] - 2s 12ms/step\n"
          ],
          "name": "stdout"
        }
      ]
    },
    {
      "cell_type": "code",
      "metadata": {
        "colab": {
          "base_uri": "https://localhost:8080/",
          "height": 585
        },
        "id": "BKJJbrkQkQoX",
        "outputId": "df9357f3-3227-461d-d418-8a154e769b9a"
      },
      "source": [
        "from sklearn.metrics import confusion_matrix, classification_report\n",
        "import itertools\n",
        "\n",
        "fig = plot_confusion_matrix(y_test=t_te, y_pred=y_pred,\n",
        "                      classes=labels,\n",
        "                      normalize=True,\n",
        "                      cmap=plt.cm.Blues,\n",
        "                      title='Average accuracy: ' + str(np.sum(y_pred == t_te)/len(t_te)) + '\\n')"
      ],
      "execution_count": 28,
      "outputs": [
        {
          "output_type": "display_data",
          "data": {
            "image/png": "[encoded data removed]",
            "text/plain": [
              "<Figure size 576x576 with 2 Axes>"
            ]
          },
          "metadata": {
            "tags": [],
            "needs_background": "light"
          }
        }
      ]
    },
    {
      "cell_type": "code",
      "metadata": {
        "colab": {
          "base_uri": "https://localhost:8080/"
        },
        "id": "iVI_yPxokSY3",
        "outputId": "a67440a4-f9ce-474f-d460-b11e929f2f7a"
      },
      "source": [
        "emotions = {0: 'Angry', 1: 'Disgust', 2: 'Fear', 3: 'Happy', 4: 'Sad', 5: 'Surprise', 6: 'Neutral'}\n",
        "print(classification_report(t_te, y_pred, target_names=emotions.values()))"
      ],
      "execution_count": 29,
      "outputs": [
        {
          "output_type": "stream",
          "text": [
            "              precision    recall  f1-score   support\n",
            "\n",
            "       Angry       0.64      0.63      0.64       491\n",
            "     Disgust       0.70      0.69      0.70        55\n",
            "        Fear       0.59      0.48      0.53       528\n",
            "       Happy       0.92      0.90      0.91       879\n",
            "         Sad       0.58      0.57      0.57       594\n",
            "    Surprise       0.83      0.79      0.81       416\n",
            "     Neutral       0.61      0.77      0.68       626\n",
            "\n",
            "    accuracy                           0.71      3589\n",
            "   macro avg       0.70      0.69      0.69      3589\n",
            "weighted avg       0.71      0.71      0.70      3589\n",
            "\n"
          ],
          "name": "stdout"
        }
      ]
    }
  ]
}