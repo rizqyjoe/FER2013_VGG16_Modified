{
  "nbformat": 4,
  "nbformat_minor": 0,
  "metadata": {
    "accelerator": "GPU",
    "colab": {
      "name": "FINAL.ipynb",
      "provenance": [],
      "collapsed_sections": [],
      "include_colab_link": true
    },
    "kernelspec": {
      "display_name": "Python 3",
      "name": "python3"
    },
    "language_info": {
      "name": "python"
    }
  },
  "cells": [
    {
      "cell_type": "markdown",
      "metadata": {
        "id": "view-in-github",
        "colab_type": "text"
      },
      "source": [
        "<a href=\"https://colab.research.google.com/github/rizqyjoe/FER2013_VGG16_Modified/blob/main/Modified%20VGG16/With%20Aug/Epoch%20100/003.ipynb\" target=\"_parent\"><img src=\"https://colab.research.google.com/assets/colab-badge.svg\" alt=\"Open In Colab\"/></a>"
      ]
    },
    {
      "cell_type": "code",
      "metadata": {
        "colab": {
          "base_uri": "https://localhost:8080/"
        },
        "id": "sX-0w3h_sh6U",
        "outputId": "21314876-db27-4e0f-b243-2713cbd5fafa"
      },
      "source": [
        "#mount drive\n",
        "from google.colab import drive\n",
        "drive.mount('/content/drive')"
      ],
      "execution_count": 1,
      "outputs": [
        {
          "output_type": "stream",
          "text": [
            "Mounted at /content/drive\n"
          ],
          "name": "stdout"
        }
      ]
    },
    {
      "cell_type": "markdown",
      "metadata": {
        "id": "58jrp8yObBBA"
      },
      "source": [
        "# Pre-processing"
      ]
    },
    {
      "cell_type": "code",
      "metadata": {
        "id": "7nrYTmGLrD2A"
      },
      "source": [
        "import tensorflow as tf\n",
        "import keras\n",
        "from keras import backend as K\n",
        "import pandas as pd\n",
        "import numpy as np\n",
        "import matplotlib.pyplot as plt\n",
        "from keras.preprocessing import image\n",
        "from keras.preprocessing.image import ImageDataGenerator\n",
        "from keras import regularizers\n",
        "from keras.utils import np_utils\n",
        "\n",
        "import random\n",
        "\n",
        "tf.random.set_seed(1234)\n",
        "np.random.seed(1234)\n",
        "\n",
        "from keras.initializers import glorot_uniform"
      ],
      "execution_count": 2,
      "outputs": []
    },
    {
      "cell_type": "code",
      "metadata": {
        "colab": {
          "base_uri": "https://localhost:8080/",
          "height": 204
        },
        "id": "0vTjzHIRrW53",
        "outputId": "1ea08e2b-5f2c-4f0f-e332-7c6c50a78fa3"
      },
      "source": [
        "#load file\n",
        "data= pd.read_csv('/content/drive/MyDrive/Dataset/fer2013 dataset/fer2013/fer2013.csv')\n",
        "data.head()"
      ],
      "execution_count": 3,
      "outputs": [
        {
          "output_type": "execute_result",
          "data": {
            "text/html": [
              "<div>\n",
              "<style scoped>\n",
              "    .dataframe tbody tr th:only-of-type {\n",
              "        vertical-align: middle;\n",
              "    }\n",
              "\n",
              "    .dataframe tbody tr th {\n",
              "        vertical-align: top;\n",
              "    }\n",
              "\n",
              "    .dataframe thead th {\n",
              "        text-align: right;\n",
              "    }\n",
              "</style>\n",
              "<table border=\"1\" class=\"dataframe\">\n",
              "  <thead>\n",
              "    <tr style=\"text-align: right;\">\n",
              "      <th></th>\n",
              "      <th>emotion</th>\n",
              "      <th>pixels</th>\n",
              "      <th>Usage</th>\n",
              "    </tr>\n",
              "  </thead>\n",
              "  <tbody>\n",
              "    <tr>\n",
              "      <th>0</th>\n",
              "      <td>0</td>\n",
              "      <td>70 80 82 72 58 58 60 63 54 58 60 48 89 115 121...</td>\n",
              "      <td>Training</td>\n",
              "    </tr>\n",
              "    <tr>\n",
              "      <th>1</th>\n",
              "      <td>0</td>\n",
              "      <td>151 150 147 155 148 133 111 140 170 174 182 15...</td>\n",
              "      <td>Training</td>\n",
              "    </tr>\n",
              "    <tr>\n",
              "      <th>2</th>\n",
              "      <td>2</td>\n",
              "      <td>231 212 156 164 174 138 161 173 182 200 106 38...</td>\n",
              "      <td>Training</td>\n",
              "    </tr>\n",
              "    <tr>\n",
              "      <th>3</th>\n",
              "      <td>4</td>\n",
              "      <td>24 32 36 30 32 23 19 20 30 41 21 22 32 34 21 1...</td>\n",
              "      <td>Training</td>\n",
              "    </tr>\n",
              "    <tr>\n",
              "      <th>4</th>\n",
              "      <td>6</td>\n",
              "      <td>4 0 0 0 0 0 0 0 0 0 0 0 3 15 23 28 48 50 58 84...</td>\n",
              "      <td>Training</td>\n",
              "    </tr>\n",
              "  </tbody>\n",
              "</table>\n",
              "</div>"
            ],
            "text/plain": [
              "   emotion                                             pixels     Usage\n",
              "0        0  70 80 82 72 58 58 60 63 54 58 60 48 89 115 121...  Training\n",
              "1        0  151 150 147 155 148 133 111 140 170 174 182 15...  Training\n",
              "2        2  231 212 156 164 174 138 161 173 182 200 106 38...  Training\n",
              "3        4  24 32 36 30 32 23 19 20 30 41 21 22 32 34 21 1...  Training\n",
              "4        6  4 0 0 0 0 0 0 0 0 0 0 0 3 15 23 28 48 50 58 84...  Training"
            ]
          },
          "metadata": {
            "tags": []
          },
          "execution_count": 3
        }
      ]
    },
    {
      "cell_type": "code",
      "metadata": {
        "colab": {
          "base_uri": "https://localhost:8080/"
        },
        "id": "NU40Z0ynrau2",
        "outputId": "7290240d-a403-40a0-8680-7a0d40d47802"
      },
      "source": [
        "data.emotion.value_counts()"
      ],
      "execution_count": 4,
      "outputs": [
        {
          "output_type": "execute_result",
          "data": {
            "text/plain": [
              "3    8989\n",
              "6    6198\n",
              "4    6077\n",
              "2    5121\n",
              "0    4953\n",
              "5    4002\n",
              "1     547\n",
              "Name: emotion, dtype: int64"
            ]
          },
          "metadata": {
            "tags": []
          },
          "execution_count": 4
        }
      ]
    },
    {
      "cell_type": "code",
      "metadata": {
        "colab": {
          "base_uri": "https://localhost:8080/"
        },
        "id": "8MQKKFDare4e",
        "outputId": "1e286f42-a5ba-47e4-859f-dd0c0e85fb8c"
      },
      "source": [
        "data.Usage.value_counts()"
      ],
      "execution_count": 5,
      "outputs": [
        {
          "output_type": "execute_result",
          "data": {
            "text/plain": [
              "Training       28709\n",
              "PublicTest      3589\n",
              "PrivateTest     3589\n",
              "Name: Usage, dtype: int64"
            ]
          },
          "metadata": {
            "tags": []
          },
          "execution_count": 5
        }
      ]
    },
    {
      "cell_type": "code",
      "metadata": {
        "id": "H1M2PtN54iSK"
      },
      "source": [
        "emotion_labels = [\"Angry\", \"Disgust\", \"Fear\", \"Happy\", \"Sad\", \"Surprise\", \"Neutral\"]\n",
        "labels=np.array((\"Angry\", \"Disgust\", \"Fear\", \"Happy\", \"Sad\", \"Surprise\", \"Neutral\"))"
      ],
      "execution_count": 6,
      "outputs": []
    },
    {
      "cell_type": "code",
      "metadata": {
        "id": "RQlblEnwrgkW"
      },
      "source": [
        "#split data \n",
        "train_set = data[(data.Usage == 'Training')] \n",
        "val_set = data[(data.Usage == 'PublicTest')]\n",
        "test_set = data[(data.Usage == 'PrivateTest')] \n",
        "X_train = np.array(list(map(str.split, train_set.pixels)), np.float32) \n",
        "X_val = np.array(list(map(str.split, val_set.pixels)), np.float32) \n",
        "X_test = np.array(list(map(str.split, test_set.pixels)), np.float32) \n",
        "X_train = X_train.reshape(X_train.shape[0], 48, 48, 1) \n",
        "X_val = X_val.reshape(X_val.shape[0], 48, 48, 1)\n",
        "X_test = X_test.reshape(X_test.shape[0], 48, 48, 1)"
      ],
      "execution_count": 7,
      "outputs": []
    },
    {
      "cell_type": "code",
      "metadata": {
        "id": "MVqY8ftoriHW"
      },
      "source": [
        "num_classes = 7\n",
        "\n",
        "y_train = train_set.emotion \n",
        "y_train = np_utils.to_categorical(y_train, num_classes) \n",
        "y_val = val_set.emotion \n",
        "y_val = np_utils.to_categorical(y_val, num_classes) \n",
        "y_test = test_set.emotion \n",
        "y_test = np_utils.to_categorical(y_test, num_classes)"
      ],
      "execution_count": 8,
      "outputs": []
    },
    {
      "cell_type": "code",
      "metadata": {
        "colab": {
          "base_uri": "https://localhost:8080/"
        },
        "id": "WaMwvF5vrju-",
        "outputId": "193d518f-2aa8-4402-ee43-4ec11c0b7ae9"
      },
      "source": [
        "print(\"x_train:\",X_train.shape)\n",
        "print(\"y_train:\",y_train.shape)\n",
        "print(\"x_val:\",X_val.shape)\n",
        "print(\"y_val:\",y_val.shape)\n",
        "print(\"x_test:\",X_test.shape)\n",
        "print(\"y_test:\",y_test.shape)"
      ],
      "execution_count": 9,
      "outputs": [
        {
          "output_type": "stream",
          "text": [
            "x_train: (28709, 48, 48, 1)\n",
            "y_train: (28709, 7)\n",
            "x_val: (3589, 48, 48, 1)\n",
            "y_val: (3589, 7)\n",
            "x_test: (3589, 48, 48, 1)\n",
            "y_test: (3589, 7)\n"
          ],
          "name": "stdout"
        }
      ]
    },
    {
      "cell_type": "code",
      "metadata": {
        "id": "DzChH8hGrldw"
      },
      "source": [
        "#data augmentation\n",
        "datagen = ImageDataGenerator(rescale=1./255,\n",
        "                             rotation_range=10,\n",
        "                             width_shift_range=0.2,\n",
        "                             height_shift_range=0.2, \n",
        "                             zoom_range=0.2,\n",
        "                             horizontal_flip=True)\n",
        "\n",
        "#datagen = ImageDataGenerator(rescale=1./255)\n",
        "\n",
        "testgen = ImageDataGenerator(rescale=1./255)\n",
        "\n",
        "datagen.fit(X_train)\n",
        "batch_size = 64"
      ],
      "execution_count": 10,
      "outputs": []
    },
    {
      "cell_type": "code",
      "metadata": {
        "id": "d-nkOZUfrm_e"
      },
      "source": [
        "train_flow = datagen.flow(X_train, y_train, batch_size=batch_size) \n",
        "val_flow = testgen.flow(X_val, y_val, batch_size=batch_size) \n",
        "test_flow = testgen.flow(X_test, y_test, batch_size=batch_size)"
      ],
      "execution_count": 11,
      "outputs": []
    },
    {
      "cell_type": "code",
      "metadata": {
        "id": "3u6vR_8CroMG"
      },
      "source": [
        "from tensorflow.keras.utils import plot_model\n",
        "from matplotlib import pyplot"
      ],
      "execution_count": 12,
      "outputs": []
    },
    {
      "cell_type": "code",
      "metadata": {
        "colab": {
          "base_uri": "https://localhost:8080/",
          "height": 248
        },
        "id": "HZ6sB7a0rp0O",
        "outputId": "e091db10-bd25-4da6-9b38-a6e6eefd22da"
      },
      "source": [
        "#displaying sample images\n",
        "for X_batch, y_batch in datagen.flow(X_train, y_train, batch_size=9):\n",
        "    for i in range(0, 9): \n",
        "        pyplot.axis('off') \n",
        "        pyplot.subplot(330 + 1 + i) \n",
        "        pyplot.imshow(X_batch[i].reshape(48, 48), cmap=pyplot.get_cmap('gray'))\n",
        "    pyplot.axis('off') \n",
        "    pyplot.show() \n",
        "    break"
      ],
      "execution_count": 13,
      "outputs": [
        {
          "output_type": "display_data",
          "data": {
            "image/png": "[encoded data removed]",
            "text/plain": [
              "<Figure size 432x288 with 9 Axes>"
            ]
          },
          "metadata": {
            "tags": [],
            "needs_background": "light"
          }
        }
      ]
    },
    {
      "cell_type": "markdown",
      "metadata": {
        "id": "mH061hQUbJsv"
      },
      "source": [
        "# Training Model"
      ]
    },
    {
      "cell_type": "code",
      "metadata": {
        "id": "rxqJ_jM_mSTg",
        "colab": {
          "base_uri": "https://localhost:8080/"
        },
        "outputId": "531074b4-cdd2-40da-a7da-99f9be9d15ff"
      },
      "source": [
        "#Model Fix\n",
        "from keras.models import Sequential\n",
        "from keras.layers import Input, Dense, Flatten, Dropout, Conv2D, MaxPool2D, BatchNormalization, GlobalAveragePooling2D\n",
        "\n",
        "input_shape = (48, 48, 1)\n",
        "\n",
        "model = Sequential()\n",
        "\n",
        "model.add(Conv2D(filters=64,input_shape=(input_shape),kernel_size=(3,3),padding=\"same\", activation=\"relu\", kernel_initializer = glorot_uniform(seed=0)))\n",
        "model.add(BatchNormalization())\n",
        "model.add(Conv2D(filters=64,kernel_size=(3,3),padding=\"same\", activation=\"relu\", kernel_initializer = glorot_uniform(seed=0)))\n",
        "model.add(BatchNormalization())\n",
        "model.add(MaxPool2D(pool_size=(2,2),strides=(2,2)))\n",
        "model.add(Dropout(0.2))\n",
        "\n",
        "model.add(Conv2D(filters=128, kernel_size=(3,3), padding=\"same\", activation=\"relu\", kernel_initializer = glorot_uniform(seed=0)))\n",
        "model.add(BatchNormalization())\n",
        "model.add(Conv2D(filters=128, kernel_size=(3,3), padding=\"same\", activation=\"relu\", kernel_initializer = glorot_uniform(seed=0)))\n",
        "model.add(BatchNormalization())\n",
        "model.add(MaxPool2D(pool_size=(2,2),strides=(2,2)))\n",
        "model.add(Dropout(0.3))\n",
        "\n",
        "model.add(Conv2D(filters=256, kernel_size=(3,3), padding=\"same\", activation=\"relu\", kernel_initializer = glorot_uniform(seed=0)))\n",
        "model.add(BatchNormalization())\n",
        "model.add(Conv2D(filters=256, kernel_size=(3,3), padding=\"same\", activation=\"relu\", kernel_initializer = glorot_uniform(seed=0)))\n",
        "model.add(BatchNormalization())\n",
        "model.add(Conv2D(filters=256, kernel_size=(3,3), padding=\"same\", activation=\"relu\", kernel_initializer = glorot_uniform(seed=0)))\n",
        "model.add(BatchNormalization())\n",
        "model.add(MaxPool2D(pool_size=(2,2),strides=(2,2)))\n",
        "model.add(Dropout(0.4))\n",
        "\n",
        "model.add(Conv2D(filters=512, kernel_size=(3,3), padding=\"same\", activation=\"relu\", kernel_initializer = glorot_uniform(seed=0)))\n",
        "model.add(BatchNormalization())\n",
        "model.add(Conv2D(filters=512, kernel_size=(3,3), padding=\"same\", activation=\"relu\", kernel_initializer = glorot_uniform(seed=0)))\n",
        "model.add(BatchNormalization())\n",
        "model.add(Conv2D(filters=512, kernel_size=(3,3), padding=\"same\", activation=\"relu\", kernel_initializer = glorot_uniform(seed=0)))\n",
        "model.add(BatchNormalization())\n",
        "model.add(MaxPool2D(pool_size=(2,2),strides=(2,2)))\n",
        "model.add(Dropout(0.5))\n",
        "\n",
        "model.add(Conv2D(filters=512, kernel_size=(3,3), padding=\"same\", activation=\"relu\", kernel_initializer = glorot_uniform(seed=0)))\n",
        "model.add(BatchNormalization())\n",
        "model.add(Conv2D(filters=512, kernel_size=(3,3), padding=\"same\", activation=\"relu\", kernel_initializer = glorot_uniform(seed=0)))\n",
        "model.add(BatchNormalization())\n",
        "model.add(Conv2D(filters=512, kernel_size=(3,3), padding=\"same\", activation=\"relu\", kernel_initializer = glorot_uniform(seed=0)))\n",
        "model.add(BatchNormalization())\n",
        "model.add(MaxPool2D(pool_size=(2,2),strides=(2,2)))\n",
        "model.add(Dropout(0.6))\n",
        "\n",
        "#model.add(Flatten())\n",
        "model.add(GlobalAveragePooling2D())\n",
        "\n",
        "model.add(Dense(512,activation='relu'))\n",
        "model.add(Dropout(0.5))\n",
        "model.add(Dense(512,activation='relu'))\n",
        "model.add(Dropout(0.5))\n",
        "\n",
        "model.add(Dense(units=num_classes, activation='softmax'))\n",
        "\n",
        "# print the model summary\n",
        "model.summary()"
      ],
      "execution_count": 13,
      "outputs": [
        {
          "output_type": "stream",
          "text": [
            "Model: \"sequential\"\n",
            "_________________________________________________________________\n",
            "Layer (type)                 Output Shape              Param #   \n",
            "=================================================================\n",
            "conv2d (Conv2D)              (None, 48, 48, 64)        640       \n",
            "_________________________________________________________________\n",
            "batch_normalization (BatchNo (None, 48, 48, 64)        256       \n",
            "_________________________________________________________________\n",
            "conv2d_1 (Conv2D)            (None, 48, 48, 64)        36928     \n",
            "_________________________________________________________________\n",
            "batch_normalization_1 (Batch (None, 48, 48, 64)        256       \n",
            "_________________________________________________________________\n",
            "max_pooling2d (MaxPooling2D) (None, 24, 24, 64)        0         \n",
            "_________________________________________________________________\n",
            "dropout (Dropout)            (None, 24, 24, 64)        0         \n",
            "_________________________________________________________________\n",
            "conv2d_2 (Conv2D)            (None, 24, 24, 128)       73856     \n",
            "_________________________________________________________________\n",
            "batch_normalization_2 (Batch (None, 24, 24, 128)       512       \n",
            "_________________________________________________________________\n",
            "conv2d_3 (Conv2D)            (None, 24, 24, 128)       147584    \n",
            "_________________________________________________________________\n",
            "batch_normalization_3 (Batch (None, 24, 24, 128)       512       \n",
            "_________________________________________________________________\n",
            "max_pooling2d_1 (MaxPooling2 (None, 12, 12, 128)       0         \n",
            "_________________________________________________________________\n",
            "dropout_1 (Dropout)          (None, 12, 12, 128)       0         \n",
            "_________________________________________________________________\n",
            "conv2d_4 (Conv2D)            (None, 12, 12, 256)       295168    \n",
            "_________________________________________________________________\n",
            "batch_normalization_4 (Batch (None, 12, 12, 256)       1024      \n",
            "_________________________________________________________________\n",
            "conv2d_5 (Conv2D)            (None, 12, 12, 256)       590080    \n",
            "_________________________________________________________________\n",
            "batch_normalization_5 (Batch (None, 12, 12, 256)       1024      \n",
            "_________________________________________________________________\n",
            "conv2d_6 (Conv2D)            (None, 12, 12, 256)       590080    \n",
            "_________________________________________________________________\n",
            "batch_normalization_6 (Batch (None, 12, 12, 256)       1024      \n",
            "_________________________________________________________________\n",
            "max_pooling2d_2 (MaxPooling2 (None, 6, 6, 256)         0         \n",
            "_________________________________________________________________\n",
            "dropout_2 (Dropout)          (None, 6, 6, 256)         0         \n",
            "_________________________________________________________________\n",
            "conv2d_7 (Conv2D)            (None, 6, 6, 512)         1180160   \n",
            "_________________________________________________________________\n",
            "batch_normalization_7 (Batch (None, 6, 6, 512)         2048      \n",
            "_________________________________________________________________\n",
            "conv2d_8 (Conv2D)            (None, 6, 6, 512)         2359808   \n",
            "_________________________________________________________________\n",
            "batch_normalization_8 (Batch (None, 6, 6, 512)         2048      \n",
            "_________________________________________________________________\n",
            "conv2d_9 (Conv2D)            (None, 6, 6, 512)         2359808   \n",
            "_________________________________________________________________\n",
            "batch_normalization_9 (Batch (None, 6, 6, 512)         2048      \n",
            "_________________________________________________________________\n",
            "max_pooling2d_3 (MaxPooling2 (None, 3, 3, 512)         0         \n",
            "_________________________________________________________________\n",
            "dropout_3 (Dropout)          (None, 3, 3, 512)         0         \n",
            "_________________________________________________________________\n",
            "conv2d_10 (Conv2D)           (None, 3, 3, 512)         2359808   \n",
            "_________________________________________________________________\n",
            "batch_normalization_10 (Batc (None, 3, 3, 512)         2048      \n",
            "_________________________________________________________________\n",
            "conv2d_11 (Conv2D)           (None, 3, 3, 512)         2359808   \n",
            "_________________________________________________________________\n",
            "batch_normalization_11 (Batc (None, 3, 3, 512)         2048      \n",
            "_________________________________________________________________\n",
            "conv2d_12 (Conv2D)           (None, 3, 3, 512)         2359808   \n",
            "_________________________________________________________________\n",
            "batch_normalization_12 (Batc (None, 3, 3, 512)         2048      \n",
            "_________________________________________________________________\n",
            "max_pooling2d_4 (MaxPooling2 (None, 1, 1, 512)         0         \n",
            "_________________________________________________________________\n",
            "dropout_4 (Dropout)          (None, 1, 1, 512)         0         \n",
            "_________________________________________________________________\n",
            "global_average_pooling2d (Gl (None, 512)               0         \n",
            "_________________________________________________________________\n",
            "dense (Dense)                (None, 512)               262656    \n",
            "_________________________________________________________________\n",
            "dropout_5 (Dropout)          (None, 512)               0         \n",
            "_________________________________________________________________\n",
            "dense_1 (Dense)              (None, 512)               262656    \n",
            "_________________________________________________________________\n",
            "dropout_6 (Dropout)          (None, 512)               0         \n",
            "_________________________________________________________________\n",
            "dense_2 (Dense)              (None, 7)                 3591      \n",
            "=================================================================\n",
            "Total params: 15,259,335\n",
            "Trainable params: 15,250,887\n",
            "Non-trainable params: 8,448\n",
            "_________________________________________________________________\n"
          ],
          "name": "stdout"
        }
      ]
    },
    {
      "cell_type": "code",
      "metadata": {
        "id": "jUu0KuzlIBMR"
      },
      "source": [
        "#Model ori\n",
        "'''from keras.models import Sequential\n",
        "from keras.layers import Input, Dense, Flatten, Conv2D, MaxPool2D\n",
        "\n",
        "input_shape = (48, 48, 1)\n",
        "\n",
        "model = Sequential()\n",
        "\n",
        "model.add(Conv2D(filters=64,input_shape=(input_shape),kernel_size=(3,3),padding=\"same\", activation=\"relu\", kernel_initializer = glorot_uniform(seed=0)))\n",
        "model.add(Conv2D(filters=64,kernel_size=(3,3),padding=\"same\", activation=\"relu\", kernel_initializer = glorot_uniform(seed=0)))\n",
        "model.add(MaxPool2D(pool_size=(2,2),strides=(2,2)))\n",
        "\n",
        "model.add(Conv2D(filters=128, kernel_size=(3,3), padding=\"same\", activation=\"relu\", kernel_initializer = glorot_uniform(seed=0)))\n",
        "model.add(Conv2D(filters=128, kernel_size=(3,3), padding=\"same\", activation=\"relu\", kernel_initializer = glorot_uniform(seed=0)))\n",
        "model.add(MaxPool2D(pool_size=(2,2),strides=(2,2)))\n",
        "\n",
        "model.add(Conv2D(filters=256, kernel_size=(3,3), padding=\"same\", activation=\"relu\", kernel_initializer = glorot_uniform(seed=0)))\n",
        "model.add(Conv2D(filters=256, kernel_size=(3,3), padding=\"same\", activation=\"relu\", kernel_initializer = glorot_uniform(seed=0)))\n",
        "model.add(Conv2D(filters=256, kernel_size=(3,3), padding=\"same\", activation=\"relu\", kernel_initializer = glorot_uniform(seed=1)))\n",
        "model.add(MaxPool2D(pool_size=(2,2),strides=(2,2)))\n",
        "\n",
        "model.add(Conv2D(filters=512, kernel_size=(3,3), padding=\"same\", activation=\"relu\", kernel_initializer = glorot_uniform(seed=0)))\n",
        "model.add(Conv2D(filters=512, kernel_size=(3,3), padding=\"same\", activation=\"relu\", kernel_initializer = glorot_uniform(seed=0)))\n",
        "model.add(Conv2D(filters=512, kernel_size=(3,3), padding=\"same\", activation=\"relu\", kernel_initializer = glorot_uniform(seed=0)))\n",
        "model.add(MaxPool2D(pool_size=(2,2),strides=(2,2)))\n",
        "\n",
        "model.add(Conv2D(filters=512, kernel_size=(3,3), padding=\"same\", activation=\"relu\", kernel_initializer = glorot_uniform(seed=0)))\n",
        "model.add(Conv2D(filters=512, kernel_size=(3,3), padding=\"same\", activation=\"relu\", kernel_initializer = glorot_uniform(seed=0)))\n",
        "model.add(Conv2D(filters=512, kernel_size=(3,3), padding=\"same\", activation=\"relu\", kernel_initializer = glorot_uniform(seed=0)))\n",
        "model.add(MaxPool2D(pool_size=(2,2),strides=(2,2)))\n",
        "\n",
        "model.add(Flatten())\n",
        "\n",
        "model.add(Dense(4096,activation='relu'))\n",
        "model.add(Dense(4096,activation='relu'))\n",
        "model.add(Dense(units=num_classes, activation='softmax'))\n",
        "\n",
        "# print the model summary\n",
        "model.summary()"
      ],
      "execution_count": null,
      "outputs": []
    },
    {
      "cell_type": "code",
      "metadata": {
        "id": "0S679DUacsgI"
      },
      "source": [
        "#save plot model to file\n",
        "from keras.utils.vis_utils import plot_model\n",
        "plot_model(model, to_file=\"model.png\", show_shapes=True, show_layer_names=False)"
      ],
      "execution_count": null,
      "outputs": []
    },
    {
      "cell_type": "code",
      "metadata": {
        "id": "LhxgJX3brul-"
      },
      "source": [
        "#compile model\n",
        "from keras.optimizers import Adam,SGD,RMSprop\n",
        "\n",
        "opt = Adam(learning_rate=0.0001)\n",
        "model.compile(loss='categorical_crossentropy', optimizer=opt, metrics=['accuracy'])"
      ],
      "execution_count": 14,
      "outputs": []
    },
    {
      "cell_type": "code",
      "metadata": {
        "colab": {
          "base_uri": "https://localhost:8080/"
        },
        "id": "ljPuPM2iryKG",
        "outputId": "076b4530-fb15-443b-a440-c5524dba6c25"
      },
      "source": [
        "# fit the model\n",
        "num_epochs = 100\n",
        "history = model.fit(train_flow, \n",
        "                    steps_per_epoch=len(X_train) // batch_size, \n",
        "                    epochs=num_epochs,  \n",
        "                    verbose=1,  \n",
        "                    validation_data=val_flow,  \n",
        "                    validation_steps=len(X_val) // batch_size)"
      ],
      "execution_count": 15,
      "outputs": [
        {
          "output_type": "stream",
          "text": [
            "Epoch 1/100\n",
            "448/448 [==============================] - 84s 76ms/step - loss: 3.0432 - accuracy: 0.1798 - val_loss: 1.8476 - val_accuracy: 0.2257\n",
            "Epoch 2/100\n",
            "448/448 [==============================] - 32s 72ms/step - loss: 1.9411 - accuracy: 0.2109 - val_loss: 1.8075 - val_accuracy: 0.2559\n",
            "Epoch 3/100\n",
            "448/448 [==============================] - 32s 71ms/step - loss: 1.8612 - accuracy: 0.2203 - val_loss: 1.8006 - val_accuracy: 0.2497\n",
            "Epoch 4/100\n",
            "448/448 [==============================] - 32s 71ms/step - loss: 1.8348 - accuracy: 0.2323 - val_loss: 1.7965 - val_accuracy: 0.2489\n",
            "Epoch 5/100\n",
            "448/448 [==============================] - 32s 71ms/step - loss: 1.8217 - accuracy: 0.2343 - val_loss: 1.7870 - val_accuracy: 0.2556\n",
            "Epoch 6/100\n",
            "448/448 [==============================] - 32s 72ms/step - loss: 1.8078 - accuracy: 0.2433 - val_loss: 1.7740 - val_accuracy: 0.2637\n",
            "Epoch 7/100\n",
            "448/448 [==============================] - 32s 72ms/step - loss: 1.7853 - accuracy: 0.2525 - val_loss: 1.7532 - val_accuracy: 0.2773\n",
            "Epoch 8/100\n",
            "448/448 [==============================] - 32s 72ms/step - loss: 1.7698 - accuracy: 0.2618 - val_loss: 1.6901 - val_accuracy: 0.3036\n",
            "Epoch 9/100\n",
            "448/448 [==============================] - 32s 72ms/step - loss: 1.7325 - accuracy: 0.2930 - val_loss: 1.6372 - val_accuracy: 0.3214\n",
            "Epoch 10/100\n",
            "448/448 [==============================] - 32s 72ms/step - loss: 1.7069 - accuracy: 0.3053 - val_loss: 1.6255 - val_accuracy: 0.3446\n",
            "Epoch 11/100\n",
            "448/448 [==============================] - 32s 72ms/step - loss: 1.6773 - accuracy: 0.3210 - val_loss: 1.5336 - val_accuracy: 0.3856\n",
            "Epoch 12/100\n",
            "448/448 [==============================] - 32s 72ms/step - loss: 1.6067 - accuracy: 0.3619 - val_loss: 1.4382 - val_accuracy: 0.4439\n",
            "Epoch 13/100\n",
            "448/448 [==============================] - 32s 72ms/step - loss: 1.5409 - accuracy: 0.3940 - val_loss: 1.3739 - val_accuracy: 0.4615\n",
            "Epoch 14/100\n",
            "448/448 [==============================] - 32s 71ms/step - loss: 1.4932 - accuracy: 0.4168 - val_loss: 1.3393 - val_accuracy: 0.4768\n",
            "Epoch 15/100\n",
            "448/448 [==============================] - 32s 71ms/step - loss: 1.4340 - accuracy: 0.4444 - val_loss: 1.2718 - val_accuracy: 0.5123\n",
            "Epoch 16/100\n",
            "448/448 [==============================] - 32s 71ms/step - loss: 1.3878 - accuracy: 0.4729 - val_loss: 1.2907 - val_accuracy: 0.4961\n",
            "Epoch 17/100\n",
            "448/448 [==============================] - 32s 72ms/step - loss: 1.3535 - accuracy: 0.4857 - val_loss: 1.2411 - val_accuracy: 0.5184\n",
            "Epoch 18/100\n",
            "448/448 [==============================] - 32s 71ms/step - loss: 1.3097 - accuracy: 0.5068 - val_loss: 1.1987 - val_accuracy: 0.5282\n",
            "Epoch 19/100\n",
            "448/448 [==============================] - 32s 71ms/step - loss: 1.2883 - accuracy: 0.5225 - val_loss: 1.1848 - val_accuracy: 0.5435\n",
            "Epoch 20/100\n",
            "448/448 [==============================] - 32s 71ms/step - loss: 1.2454 - accuracy: 0.5323 - val_loss: 1.1609 - val_accuracy: 0.5519\n",
            "Epoch 21/100\n",
            "448/448 [==============================] - 32s 71ms/step - loss: 1.2358 - accuracy: 0.5392 - val_loss: 1.1242 - val_accuracy: 0.5594\n",
            "Epoch 22/100\n",
            "448/448 [==============================] - 32s 71ms/step - loss: 1.2030 - accuracy: 0.5527 - val_loss: 1.1324 - val_accuracy: 0.5678\n",
            "Epoch 23/100\n",
            "448/448 [==============================] - 32s 71ms/step - loss: 1.1953 - accuracy: 0.5540 - val_loss: 1.1284 - val_accuracy: 0.5700\n",
            "Epoch 24/100\n",
            "448/448 [==============================] - 32s 71ms/step - loss: 1.1642 - accuracy: 0.5615 - val_loss: 1.1324 - val_accuracy: 0.5647\n",
            "Epoch 25/100\n",
            "448/448 [==============================] - 32s 72ms/step - loss: 1.1540 - accuracy: 0.5706 - val_loss: 1.0760 - val_accuracy: 0.5938\n",
            "Epoch 26/100\n",
            "448/448 [==============================] - 32s 71ms/step - loss: 1.1431 - accuracy: 0.5765 - val_loss: 1.0565 - val_accuracy: 0.6013\n",
            "Epoch 27/100\n",
            "448/448 [==============================] - 32s 71ms/step - loss: 1.1197 - accuracy: 0.5902 - val_loss: 1.0699 - val_accuracy: 0.5932\n",
            "Epoch 28/100\n",
            "448/448 [==============================] - 32s 72ms/step - loss: 1.0992 - accuracy: 0.5891 - val_loss: 1.0479 - val_accuracy: 0.6197\n",
            "Epoch 29/100\n",
            "448/448 [==============================] - 32s 72ms/step - loss: 1.0918 - accuracy: 0.5986 - val_loss: 1.0436 - val_accuracy: 0.6164\n",
            "Epoch 30/100\n",
            "448/448 [==============================] - 32s 72ms/step - loss: 1.0816 - accuracy: 0.6001 - val_loss: 1.0527 - val_accuracy: 0.6077\n",
            "Epoch 31/100\n",
            "448/448 [==============================] - 32s 71ms/step - loss: 1.0610 - accuracy: 0.6079 - val_loss: 1.0123 - val_accuracy: 0.6200\n",
            "Epoch 32/100\n",
            "448/448 [==============================] - 32s 72ms/step - loss: 1.0531 - accuracy: 0.6100 - val_loss: 1.0120 - val_accuracy: 0.6242\n",
            "Epoch 33/100\n",
            "448/448 [==============================] - 32s 71ms/step - loss: 1.0435 - accuracy: 0.6180 - val_loss: 1.0064 - val_accuracy: 0.6267\n",
            "Epoch 34/100\n",
            "448/448 [==============================] - 32s 71ms/step - loss: 1.0315 - accuracy: 0.6183 - val_loss: 1.0103 - val_accuracy: 0.6256\n",
            "Epoch 35/100\n",
            "448/448 [==============================] - 32s 72ms/step - loss: 1.0175 - accuracy: 0.6242 - val_loss: 1.0479 - val_accuracy: 0.6208\n",
            "Epoch 36/100\n",
            "448/448 [==============================] - 32s 72ms/step - loss: 1.0167 - accuracy: 0.6283 - val_loss: 1.0035 - val_accuracy: 0.6323\n",
            "Epoch 37/100\n",
            "448/448 [==============================] - 32s 71ms/step - loss: 0.9949 - accuracy: 0.6340 - val_loss: 0.9764 - val_accuracy: 0.6417\n",
            "Epoch 38/100\n",
            "448/448 [==============================] - 32s 72ms/step - loss: 0.9965 - accuracy: 0.6329 - val_loss: 0.9653 - val_accuracy: 0.6501\n",
            "Epoch 39/100\n",
            "448/448 [==============================] - 32s 72ms/step - loss: 1.0000 - accuracy: 0.6294 - val_loss: 0.9886 - val_accuracy: 0.6445\n",
            "Epoch 40/100\n",
            "448/448 [==============================] - 32s 72ms/step - loss: 0.9764 - accuracy: 0.6362 - val_loss: 0.9608 - val_accuracy: 0.6568\n",
            "Epoch 41/100\n",
            "448/448 [==============================] - 32s 72ms/step - loss: 0.9645 - accuracy: 0.6460 - val_loss: 0.9788 - val_accuracy: 0.6426\n",
            "Epoch 42/100\n",
            "448/448 [==============================] - 32s 72ms/step - loss: 0.9576 - accuracy: 0.6486 - val_loss: 0.9538 - val_accuracy: 0.6512\n",
            "Epoch 43/100\n",
            "448/448 [==============================] - 32s 72ms/step - loss: 0.9557 - accuracy: 0.6475 - val_loss: 0.9452 - val_accuracy: 0.6576\n",
            "Epoch 44/100\n",
            "448/448 [==============================] - 32s 72ms/step - loss: 0.9456 - accuracy: 0.6501 - val_loss: 0.9569 - val_accuracy: 0.6468\n",
            "Epoch 45/100\n",
            "448/448 [==============================] - 32s 72ms/step - loss: 0.9388 - accuracy: 0.6568 - val_loss: 0.9528 - val_accuracy: 0.6546\n",
            "Epoch 46/100\n",
            "448/448 [==============================] - 32s 71ms/step - loss: 0.9287 - accuracy: 0.6595 - val_loss: 0.9899 - val_accuracy: 0.6376\n",
            "Epoch 47/100\n",
            "448/448 [==============================] - 32s 72ms/step - loss: 0.9386 - accuracy: 0.6535 - val_loss: 0.9900 - val_accuracy: 0.6320\n",
            "Epoch 48/100\n",
            "448/448 [==============================] - 32s 72ms/step - loss: 0.8957 - accuracy: 0.6708 - val_loss: 0.9535 - val_accuracy: 0.6484\n",
            "Epoch 49/100\n",
            "448/448 [==============================] - 32s 72ms/step - loss: 0.8883 - accuracy: 0.6730 - val_loss: 0.9755 - val_accuracy: 0.6429\n",
            "Epoch 50/100\n",
            "448/448 [==============================] - 32s 72ms/step - loss: 0.8900 - accuracy: 0.6780 - val_loss: 0.9544 - val_accuracy: 0.6456\n",
            "Epoch 51/100\n",
            "448/448 [==============================] - 32s 72ms/step - loss: 0.8995 - accuracy: 0.6677 - val_loss: 0.9797 - val_accuracy: 0.6398\n",
            "Epoch 52/100\n",
            "448/448 [==============================] - 32s 71ms/step - loss: 0.8834 - accuracy: 0.6766 - val_loss: 0.9569 - val_accuracy: 0.6493\n",
            "Epoch 53/100\n",
            "448/448 [==============================] - 32s 71ms/step - loss: 0.8709 - accuracy: 0.6819 - val_loss: 0.9563 - val_accuracy: 0.6521\n",
            "Epoch 54/100\n",
            "448/448 [==============================] - 32s 72ms/step - loss: 0.8821 - accuracy: 0.6778 - val_loss: 0.9457 - val_accuracy: 0.6554\n",
            "Epoch 55/100\n",
            "448/448 [==============================] - 32s 72ms/step - loss: 0.8601 - accuracy: 0.6851 - val_loss: 0.9421 - val_accuracy: 0.6557\n",
            "Epoch 56/100\n",
            "448/448 [==============================] - 32s 72ms/step - loss: 0.8571 - accuracy: 0.6863 - val_loss: 0.9227 - val_accuracy: 0.6643\n",
            "Epoch 57/100\n",
            "448/448 [==============================] - 32s 72ms/step - loss: 0.8465 - accuracy: 0.6900 - val_loss: 0.9731 - val_accuracy: 0.6585\n",
            "Epoch 58/100\n",
            "448/448 [==============================] - 32s 72ms/step - loss: 0.8439 - accuracy: 0.6937 - val_loss: 0.9481 - val_accuracy: 0.6613\n",
            "Epoch 59/100\n",
            "448/448 [==============================] - 32s 72ms/step - loss: 0.8305 - accuracy: 0.6959 - val_loss: 0.9847 - val_accuracy: 0.6562\n",
            "Epoch 60/100\n",
            "448/448 [==============================] - 32s 71ms/step - loss: 0.8260 - accuracy: 0.6997 - val_loss: 0.9686 - val_accuracy: 0.6579\n",
            "Epoch 61/100\n",
            "448/448 [==============================] - 32s 72ms/step - loss: 0.8193 - accuracy: 0.7024 - val_loss: 0.9498 - val_accuracy: 0.6596\n",
            "Epoch 62/100\n",
            "448/448 [==============================] - 32s 72ms/step - loss: 0.8161 - accuracy: 0.7038 - val_loss: 0.9717 - val_accuracy: 0.6627\n",
            "Epoch 63/100\n",
            "448/448 [==============================] - 32s 72ms/step - loss: 0.8159 - accuracy: 0.6974 - val_loss: 0.9296 - val_accuracy: 0.6741\n",
            "Epoch 64/100\n",
            "448/448 [==============================] - 32s 71ms/step - loss: 0.7978 - accuracy: 0.7100 - val_loss: 0.9539 - val_accuracy: 0.6590\n",
            "Epoch 65/100\n",
            "448/448 [==============================] - 32s 72ms/step - loss: 0.7915 - accuracy: 0.7123 - val_loss: 0.9318 - val_accuracy: 0.6666\n",
            "Epoch 66/100\n",
            "448/448 [==============================] - 32s 72ms/step - loss: 0.8017 - accuracy: 0.7087 - val_loss: 0.9660 - val_accuracy: 0.6560\n",
            "Epoch 67/100\n",
            "448/448 [==============================] - 32s 72ms/step - loss: 0.7797 - accuracy: 0.7132 - val_loss: 0.9627 - val_accuracy: 0.6613\n",
            "Epoch 68/100\n",
            "448/448 [==============================] - 32s 72ms/step - loss: 0.7864 - accuracy: 0.7118 - val_loss: 0.9546 - val_accuracy: 0.6599\n",
            "Epoch 69/100\n",
            "448/448 [==============================] - 32s 72ms/step - loss: 0.7654 - accuracy: 0.7199 - val_loss: 0.9449 - val_accuracy: 0.6660\n",
            "Epoch 70/100\n",
            "448/448 [==============================] - 32s 72ms/step - loss: 0.7684 - accuracy: 0.7166 - val_loss: 0.9310 - val_accuracy: 0.6696\n",
            "Epoch 71/100\n",
            "448/448 [==============================] - 32s 72ms/step - loss: 0.7466 - accuracy: 0.7255 - val_loss: 0.9339 - val_accuracy: 0.6694\n",
            "Epoch 72/100\n",
            "448/448 [==============================] - 32s 72ms/step - loss: 0.7513 - accuracy: 0.7209 - val_loss: 0.9553 - val_accuracy: 0.6663\n",
            "Epoch 73/100\n",
            "448/448 [==============================] - 32s 72ms/step - loss: 0.7363 - accuracy: 0.7316 - val_loss: 0.9247 - val_accuracy: 0.6805\n",
            "Epoch 74/100\n",
            "448/448 [==============================] - 32s 71ms/step - loss: 0.7263 - accuracy: 0.7344 - val_loss: 0.9470 - val_accuracy: 0.6775\n",
            "Epoch 75/100\n",
            "448/448 [==============================] - 32s 72ms/step - loss: 0.7359 - accuracy: 0.7350 - val_loss: 0.9657 - val_accuracy: 0.6652\n",
            "Epoch 76/100\n",
            "448/448 [==============================] - 32s 71ms/step - loss: 0.7222 - accuracy: 0.7363 - val_loss: 0.9578 - val_accuracy: 0.6741\n",
            "Epoch 77/100\n",
            "448/448 [==============================] - 32s 71ms/step - loss: 0.7177 - accuracy: 0.7395 - val_loss: 0.9674 - val_accuracy: 0.6655\n",
            "Epoch 78/100\n",
            "448/448 [==============================] - 32s 71ms/step - loss: 0.7139 - accuracy: 0.7426 - val_loss: 0.9613 - val_accuracy: 0.6719\n",
            "Epoch 79/100\n",
            "448/448 [==============================] - 32s 71ms/step - loss: 0.6971 - accuracy: 0.7475 - val_loss: 0.9826 - val_accuracy: 0.6621\n",
            "Epoch 80/100\n",
            "448/448 [==============================] - 32s 71ms/step - loss: 0.6967 - accuracy: 0.7493 - val_loss: 0.9353 - val_accuracy: 0.6777\n",
            "Epoch 81/100\n",
            "448/448 [==============================] - 32s 72ms/step - loss: 0.6892 - accuracy: 0.7457 - val_loss: 0.9810 - val_accuracy: 0.6688\n",
            "Epoch 82/100\n",
            "448/448 [==============================] - 32s 71ms/step - loss: 0.6831 - accuracy: 0.7497 - val_loss: 0.9546 - val_accuracy: 0.6713\n",
            "Epoch 83/100\n",
            "448/448 [==============================] - 32s 72ms/step - loss: 0.6866 - accuracy: 0.7486 - val_loss: 0.9486 - val_accuracy: 0.6763\n",
            "Epoch 84/100\n",
            "448/448 [==============================] - 32s 72ms/step - loss: 0.6709 - accuracy: 0.7553 - val_loss: 0.9512 - val_accuracy: 0.6811\n",
            "Epoch 85/100\n",
            "448/448 [==============================] - 32s 71ms/step - loss: 0.6605 - accuracy: 0.7589 - val_loss: 0.9746 - val_accuracy: 0.6766\n",
            "Epoch 86/100\n",
            "448/448 [==============================] - 32s 72ms/step - loss: 0.6774 - accuracy: 0.7570 - val_loss: 0.9952 - val_accuracy: 0.6716\n",
            "Epoch 87/100\n",
            "448/448 [==============================] - 32s 72ms/step - loss: 0.6593 - accuracy: 0.7601 - val_loss: 0.9962 - val_accuracy: 0.6769\n",
            "Epoch 88/100\n",
            "448/448 [==============================] - 32s 72ms/step - loss: 0.6688 - accuracy: 0.7571 - val_loss: 1.0043 - val_accuracy: 0.6641\n",
            "Epoch 89/100\n",
            "448/448 [==============================] - 33s 73ms/step - loss: 0.6561 - accuracy: 0.7665 - val_loss: 0.9932 - val_accuracy: 0.6724\n",
            "Epoch 90/100\n",
            "448/448 [==============================] - 32s 72ms/step - loss: 0.6538 - accuracy: 0.7612 - val_loss: 0.9932 - val_accuracy: 0.6713\n",
            "Epoch 91/100\n",
            "448/448 [==============================] - 32s 72ms/step - loss: 0.6391 - accuracy: 0.7665 - val_loss: 0.9850 - val_accuracy: 0.6724\n",
            "Epoch 92/100\n",
            "448/448 [==============================] - 32s 72ms/step - loss: 0.6373 - accuracy: 0.7713 - val_loss: 0.9573 - val_accuracy: 0.6735\n",
            "Epoch 93/100\n",
            "448/448 [==============================] - 32s 72ms/step - loss: 0.6078 - accuracy: 0.7804 - val_loss: 1.0050 - val_accuracy: 0.6649\n",
            "Epoch 94/100\n",
            "448/448 [==============================] - 32s 72ms/step - loss: 0.6274 - accuracy: 0.7746 - val_loss: 0.9673 - val_accuracy: 0.6780\n",
            "Epoch 95/100\n",
            "448/448 [==============================] - 32s 71ms/step - loss: 0.6067 - accuracy: 0.7768 - val_loss: 0.9649 - val_accuracy: 0.6777\n",
            "Epoch 96/100\n",
            "448/448 [==============================] - 32s 72ms/step - loss: 0.6008 - accuracy: 0.7849 - val_loss: 1.0268 - val_accuracy: 0.6674\n",
            "Epoch 97/100\n",
            "448/448 [==============================] - 32s 72ms/step - loss: 0.6058 - accuracy: 0.7813 - val_loss: 1.0478 - val_accuracy: 0.6749\n",
            "Epoch 98/100\n",
            "448/448 [==============================] - 32s 72ms/step - loss: 0.5986 - accuracy: 0.7832 - val_loss: 1.0075 - val_accuracy: 0.6761\n",
            "Epoch 99/100\n",
            "448/448 [==============================] - 32s 72ms/step - loss: 0.5972 - accuracy: 0.7888 - val_loss: 0.9945 - val_accuracy: 0.6791\n",
            "Epoch 100/100\n",
            "448/448 [==============================] - 32s 72ms/step - loss: 0.5978 - accuracy: 0.7854 - val_loss: 1.0441 - val_accuracy: 0.6710\n"
          ],
          "name": "stdout"
        }
      ]
    },
    {
      "cell_type": "markdown",
      "metadata": {
        "id": "zdn-Ud-Ca4LG"
      },
      "source": [
        "# Evaluate"
      ]
    },
    {
      "cell_type": "code",
      "metadata": {
        "colab": {
          "base_uri": "https://localhost:8080/",
          "height": 573
        },
        "id": "d8D97Qq4bUxn",
        "outputId": "f7b3dff2-1605-413c-fd74-240ea2b152cc"
      },
      "source": [
        "accuracy = history.history['accuracy']\n",
        "val_accuracy = history.history['val_accuracy']\n",
        "loss = history.history['loss']\n",
        "val_loss = history.history['val_loss']\n",
        "num_epochs = range(len(accuracy))\n",
        "plt.plot(num_epochs, accuracy, 'r', label='Training acc')\n",
        "plt.plot(num_epochs, val_accuracy, 'b', label='Validation acc')\n",
        "plt.title('Training and validation accuracy')\n",
        "plt.ylabel('accuracy')  \n",
        "plt.xlabel('epoch')\n",
        "plt.legend()\n",
        "plt.figure()\n",
        "plt.plot(num_epochs, loss, 'r', label='Training loss')\n",
        "plt.plot(num_epochs, val_loss, 'b', label='Validation loss')\n",
        "plt.title('Training and validation loss')\n",
        "plt.ylabel('loss')  \n",
        "plt.xlabel('epoch')\n",
        "plt.legend()\n",
        "plt.show()"
      ],
      "execution_count": 16,
      "outputs": [
        {
          "output_type": "display_data",
          "data": {
            "image/png": "[encoded data removed]",
            "text/plain": [
              "<Figure size 432x288 with 1 Axes>"
            ]
          },
          "metadata": {
            "tags": [],
            "needs_background": "light"
          }
        },
        {
          "output_type": "display_data",
          "data": {
            "image/png": "[encoded data removed]",
            "text/plain": [
              "<Figure size 432x288 with 1 Axes>"
            ]
          },
          "metadata": {
            "tags": [],
            "needs_background": "light"
          }
        }
      ]
    },
    {
      "cell_type": "code",
      "metadata": {
        "id": "v2FEkE4pr8vN",
        "colab": {
          "base_uri": "https://localhost:8080/"
        },
        "outputId": "bf96fc6c-1aa6-4a77-878d-72c209abdc4b"
      },
      "source": [
        "trainloss = model.evaluate(train_flow, steps=len(X_train) / batch_size) \n",
        "print(\"Train Loss \" + str(trainloss[0]))\n",
        "print(\"Train Acc: \" + str(trainloss[1]))\n",
        "valloss = model.evaluate(val_flow, steps=len(X_val) / batch_size) \n",
        "print(\"Val Loss \" + str(valloss[0]))\n",
        "print(\"Val Acc: \" + str(valloss[1]))\n",
        "testloss = model.evaluate(test_flow, steps=len(X_test) / batch_size) \n",
        "print(\"Test Loss \" + str(testloss[0]))\n",
        "print(\"Test Acc: \" + str(testloss[1]))"
      ],
      "execution_count": 17,
      "outputs": [
        {
          "output_type": "stream",
          "text": [
            "448/448 [==============================] - 15s 33ms/step - loss: 0.4805 - accuracy: 0.8270\n",
            "Train Loss 0.48050257563591003\n",
            "Train Acc: 0.8269532322883606\n",
            "56/56 [==============================] - 1s 26ms/step - loss: 1.0446 - accuracy: 0.6712\n",
            "Val Loss 1.044571876525879\n",
            "Val Acc: 0.6712176203727722\n",
            "56/56 [==============================] - 1s 20ms/step - loss: 0.9701 - accuracy: 0.6799\n",
            "Test Loss 0.9701030850410461\n",
            "Test Acc: 0.6798551082611084\n"
          ],
          "name": "stdout"
        }
      ]
    },
    {
      "cell_type": "code",
      "metadata": {
        "id": "ChuRTIjeFBXJ"
      },
      "source": [
        "def plot_confusion_matrix(y_test, y_pred, classes,\n",
        "                          normalize=False,\n",
        "                          title='Unnormalized confusion matrix',\n",
        "                          cmap=plt.cm.Blues):\n",
        "    cm = confusion_matrix(y_test, y_pred)\n",
        "    \n",
        "    if normalize:\n",
        "        cm = np.round(cm.astype('float') / cm.sum(axis=1)[:, np.newaxis], 2)\n",
        "        \n",
        "    np.set_printoptions(precision=2)\n",
        "    \n",
        "    plt.rcParams[\"figure.figsize\"] = (8,8)  \n",
        "    plt.imshow(cm, interpolation='nearest', cmap=cmap)\n",
        "    plt.title(title)\n",
        "    plt.colorbar()\n",
        "    tick_marks = np.arange(len(classes))\n",
        "    plt.xticks(tick_marks, classes, rotation=45)\n",
        "    plt.yticks(tick_marks, classes)\n",
        "\n",
        "    thresh = cm.min() + (cm.max() - cm.min()) / 2.\n",
        "    for i, j in itertools.product(range(cm.shape[0]), range(cm.shape[1])):\n",
        "        plt.text(j, i, cm[i, j],\n",
        "                 horizontalalignment=\"center\",\n",
        "                 color=\"white\" if cm[i, j] > thresh else \"black\")\n",
        "\n",
        "    plt.tight_layout()\n",
        "    plt.ylabel('True expression')\n",
        "    plt.xlabel('Predicted expression')\n",
        "    plt.show()"
      ],
      "execution_count": 18,
      "outputs": []
    },
    {
      "cell_type": "code",
      "metadata": {
        "colab": {
          "base_uri": "https://localhost:8080/"
        },
        "id": "hAiFwTR_FCpW",
        "outputId": "f9807bde-0dc8-42c3-b0b8-47c5f47e32be"
      },
      "source": [
        "y_pred_ = model.predict(X_test/255., verbose=1)\n",
        "y_pred = np.argmax(y_pred_, axis=1)\n",
        "t_te = np.argmax(y_test, axis=1)"
      ],
      "execution_count": 19,
      "outputs": [
        {
          "output_type": "stream",
          "text": [
            "113/113 [==============================] - 3s 12ms/step\n"
          ],
          "name": "stdout"
        }
      ]
    },
    {
      "cell_type": "code",
      "metadata": {
        "colab": {
          "base_uri": "https://localhost:8080/",
          "height": 585
        },
        "id": "CZiiWYfQ7yVt",
        "outputId": "9013577e-1582-4c62-9cda-7d357264624f"
      },
      "source": [
        "from sklearn.metrics import confusion_matrix, classification_report\n",
        "import itertools\n",
        "\n",
        "fig = plot_confusion_matrix(y_test=t_te, y_pred=y_pred,\n",
        "                      classes=labels,\n",
        "                      normalize=True,\n",
        "                      cmap=plt.cm.Blues,\n",
        "                      title='Average accuracy: ' + str(np.sum(y_pred == t_te)/len(t_te)) + '\\n')"
      ],
      "execution_count": 20,
      "outputs": [
        {
          "output_type": "display_data",
          "data": {
            "image/png": "[encoded data removed]",
            "text/plain": [
              "<Figure size 576x576 with 2 Axes>"
            ]
          },
          "metadata": {
            "tags": [],
            "needs_background": "light"
          }
        }
      ]
    },
    {
      "cell_type": "code",
      "metadata": {
        "id": "4vauS7IKbqNG",
        "colab": {
          "base_uri": "https://localhost:8080/"
        },
        "outputId": "33516a18-f3af-474e-96f4-959e5854c461"
      },
      "source": [
        "emotions = {0: 'Angry', 1: 'Disgust', 2: 'Fear', 3: 'Happy', 4: 'Sad', 5: 'Surprise', 6: 'Neutral'}\n",
        "print(classification_report(t_te, y_pred, target_names=emotions.values()))"
      ],
      "execution_count": 21,
      "outputs": [
        {
          "output_type": "stream",
          "text": [
            "              precision    recall  f1-score   support\n",
            "\n",
            "       Angry       0.54      0.69      0.61       491\n",
            "     Disgust       0.80      0.75      0.77        55\n",
            "        Fear       0.57      0.42      0.49       528\n",
            "       Happy       0.91      0.84      0.87       879\n",
            "         Sad       0.58      0.50      0.54       594\n",
            "    Surprise       0.83      0.76      0.79       416\n",
            "     Neutral       0.60      0.78      0.68       626\n",
            "\n",
            "    accuracy                           0.68      3589\n",
            "   macro avg       0.69      0.68      0.68      3589\n",
            "weighted avg       0.69      0.68      0.68      3589\n",
            "\n"
          ],
          "name": "stdout"
        }
      ]
    },
    {
      "cell_type": "code",
      "metadata": {
        "id": "KKWxaaYRba3j",
        "colab": {
          "base_uri": "https://localhost:8080/"
        },
        "outputId": "ca7e7dd8-a36f-4486-d6f4-544817914188"
      },
      "source": [
        "model.save(\"/content/drive/MyDrive/Colab Notebooks/Model/ModelFix_Adam0.0001_epoch100_Aug.h5\")\n",
        "print(\"saved\")"
      ],
      "execution_count": 22,
      "outputs": [
        {
          "output_type": "stream",
          "text": [
            "saved\n"
          ],
          "name": "stdout"
        }
      ]
    },
    {
      "cell_type": "markdown",
      "metadata": {
        "id": "aqLRhlr4b7t5"
      },
      "source": [
        "#Load Model"
      ]
    },
    {
      "cell_type": "code",
      "metadata": {
        "id": "J45lyUtcJ-6F",
        "colab": {
          "base_uri": "https://localhost:8080/"
        },
        "outputId": "dacbd981-4879-4a43-a958-e4bc106cbb69"
      },
      "source": [
        "from keras.models import load_model\n",
        "model_load = load_model('/content/drive/MyDrive/Colab Notebooks/Model/ModelFix_Adam0.0001_epoch100_Aug.h5')\n",
        "\n",
        "model_load.summary()"
      ],
      "execution_count": 23,
      "outputs": [
        {
          "output_type": "stream",
          "text": [
            "Model: \"sequential\"\n",
            "_________________________________________________________________\n",
            "Layer (type)                 Output Shape              Param #   \n",
            "=================================================================\n",
            "conv2d (Conv2D)              (None, 48, 48, 64)        640       \n",
            "_________________________________________________________________\n",
            "batch_normalization (BatchNo (None, 48, 48, 64)        256       \n",
            "_________________________________________________________________\n",
            "conv2d_1 (Conv2D)            (None, 48, 48, 64)        36928     \n",
            "_________________________________________________________________\n",
            "batch_normalization_1 (Batch (None, 48, 48, 64)        256       \n",
            "_________________________________________________________________\n",
            "max_pooling2d (MaxPooling2D) (None, 24, 24, 64)        0         \n",
            "_________________________________________________________________\n",
            "dropout (Dropout)            (None, 24, 24, 64)        0         \n",
            "_________________________________________________________________\n",
            "conv2d_2 (Conv2D)            (None, 24, 24, 128)       73856     \n",
            "_________________________________________________________________\n",
            "batch_normalization_2 (Batch (None, 24, 24, 128)       512       \n",
            "_________________________________________________________________\n",
            "conv2d_3 (Conv2D)            (None, 24, 24, 128)       147584    \n",
            "_________________________________________________________________\n",
            "batch_normalization_3 (Batch (None, 24, 24, 128)       512       \n",
            "_________________________________________________________________\n",
            "max_pooling2d_1 (MaxPooling2 (None, 12, 12, 128)       0         \n",
            "_________________________________________________________________\n",
            "dropout_1 (Dropout)          (None, 12, 12, 128)       0         \n",
            "_________________________________________________________________\n",
            "conv2d_4 (Conv2D)            (None, 12, 12, 256)       295168    \n",
            "_________________________________________________________________\n",
            "batch_normalization_4 (Batch (None, 12, 12, 256)       1024      \n",
            "_________________________________________________________________\n",
            "conv2d_5 (Conv2D)            (None, 12, 12, 256)       590080    \n",
            "_________________________________________________________________\n",
            "batch_normalization_5 (Batch (None, 12, 12, 256)       1024      \n",
            "_________________________________________________________________\n",
            "conv2d_6 (Conv2D)            (None, 12, 12, 256)       590080    \n",
            "_________________________________________________________________\n",
            "batch_normalization_6 (Batch (None, 12, 12, 256)       1024      \n",
            "_________________________________________________________________\n",
            "max_pooling2d_2 (MaxPooling2 (None, 6, 6, 256)         0         \n",
            "_________________________________________________________________\n",
            "dropout_2 (Dropout)          (None, 6, 6, 256)         0         \n",
            "_________________________________________________________________\n",
            "conv2d_7 (Conv2D)            (None, 6, 6, 512)         1180160   \n",
            "_________________________________________________________________\n",
            "batch_normalization_7 (Batch (None, 6, 6, 512)         2048      \n",
            "_________________________________________________________________\n",
            "conv2d_8 (Conv2D)            (None, 6, 6, 512)         2359808   \n",
            "_________________________________________________________________\n",
            "batch_normalization_8 (Batch (None, 6, 6, 512)         2048      \n",
            "_________________________________________________________________\n",
            "conv2d_9 (Conv2D)            (None, 6, 6, 512)         2359808   \n",
            "_________________________________________________________________\n",
            "batch_normalization_9 (Batch (None, 6, 6, 512)         2048      \n",
            "_________________________________________________________________\n",
            "max_pooling2d_3 (MaxPooling2 (None, 3, 3, 512)         0         \n",
            "_________________________________________________________________\n",
            "dropout_3 (Dropout)          (None, 3, 3, 512)         0         \n",
            "_________________________________________________________________\n",
            "conv2d_10 (Conv2D)           (None, 3, 3, 512)         2359808   \n",
            "_________________________________________________________________\n",
            "batch_normalization_10 (Batc (None, 3, 3, 512)         2048      \n",
            "_________________________________________________________________\n",
            "conv2d_11 (Conv2D)           (None, 3, 3, 512)         2359808   \n",
            "_________________________________________________________________\n",
            "batch_normalization_11 (Batc (None, 3, 3, 512)         2048      \n",
            "_________________________________________________________________\n",
            "conv2d_12 (Conv2D)           (None, 3, 3, 512)         2359808   \n",
            "_________________________________________________________________\n",
            "batch_normalization_12 (Batc (None, 3, 3, 512)         2048      \n",
            "_________________________________________________________________\n",
            "max_pooling2d_4 (MaxPooling2 (None, 1, 1, 512)         0         \n",
            "_________________________________________________________________\n",
            "dropout_4 (Dropout)          (None, 1, 1, 512)         0         \n",
            "_________________________________________________________________\n",
            "global_average_pooling2d (Gl (None, 512)               0         \n",
            "_________________________________________________________________\n",
            "dense (Dense)                (None, 512)               262656    \n",
            "_________________________________________________________________\n",
            "dropout_5 (Dropout)          (None, 512)               0         \n",
            "_________________________________________________________________\n",
            "dense_1 (Dense)              (None, 512)               262656    \n",
            "_________________________________________________________________\n",
            "dropout_6 (Dropout)          (None, 512)               0         \n",
            "_________________________________________________________________\n",
            "dense_2 (Dense)              (None, 7)                 3591      \n",
            "=================================================================\n",
            "Total params: 15,259,335\n",
            "Trainable params: 15,250,887\n",
            "Non-trainable params: 8,448\n",
            "_________________________________________________________________\n"
          ],
          "name": "stdout"
        }
      ]
    },
    {
      "cell_type": "code",
      "metadata": {
        "id": "nQd7m45qfWBW",
        "colab": {
          "base_uri": "https://localhost:8080/"
        },
        "outputId": "edaad6b9-5425-4418-e9ba-ff67d89a8bbd"
      },
      "source": [
        "trainloss = model_load.evaluate(train_flow, steps=len(X_train) / batch_size) \n",
        "print(\"Train Loss \" + str(trainloss[0]))\n",
        "print(\"Train Acc: \" + str(trainloss[1]))\n",
        "valloss = model_load.evaluate(val_flow, steps=len(X_val) / batch_size) \n",
        "print(\"Val Loss \" + str(valloss[0]))\n",
        "print(\"Val Acc: \" + str(valloss[1]))\n",
        "testloss = model_load.evaluate(test_flow, steps=len(X_test) / batch_size) \n",
        "print(\"Test Loss \" + str(testloss[0]))\n",
        "print(\"Test Acc: \" + str(testloss[1]))"
      ],
      "execution_count": 24,
      "outputs": [
        {
          "output_type": "stream",
          "text": [
            "448/448 [==============================] - 15s 32ms/step - loss: 0.4850 - accuracy: 0.8237\n",
            "Train Loss 0.48500627279281616\n",
            "Train Acc: 0.8237138390541077\n",
            "56/56 [==============================] - 1s 20ms/step - loss: 1.0446 - accuracy: 0.6712\n",
            "Val Loss 1.0445719957351685\n",
            "Val Acc: 0.6712176203727722\n",
            "56/56 [==============================] - 1s 20ms/step - loss: 0.9701 - accuracy: 0.6799\n",
            "Test Loss 0.9701032638549805\n",
            "Test Acc: 0.6798551082611084\n"
          ],
          "name": "stdout"
        }
      ]
    },
    {
      "cell_type": "code",
      "metadata": {
        "id": "kSd2i1YBFFJ2"
      },
      "source": [
        "def plot_confusion_matrix(y_test, y_pred, classes,\n",
        "                          normalize=False,\n",
        "                          title='Unnormalized confusion matrix',\n",
        "                          cmap=plt.cm.Blues):\n",
        "    cm = confusion_matrix(y_test, y_pred)\n",
        "    \n",
        "    if normalize:\n",
        "        cm = np.round(cm.astype('float') / cm.sum(axis=1)[:, np.newaxis], 2)\n",
        "        \n",
        "    np.set_printoptions(precision=2)\n",
        "        \n",
        "    plt.rcParams[\"figure.figsize\"] = (8,8)\n",
        "    plt.imshow(cm, interpolation='nearest', cmap=cmap)\n",
        "    plt.title(title)\n",
        "    plt.colorbar()\n",
        "    tick_marks = np.arange(len(classes))\n",
        "    plt.xticks(tick_marks, classes, rotation=45)\n",
        "    plt.yticks(tick_marks, classes)\n",
        "\n",
        "    thresh = cm.min() + (cm.max() - cm.min()) / 2.\n",
        "    for i, j in itertools.product(range(cm.shape[0]), range(cm.shape[1])):\n",
        "        plt.text(j, i, cm[i, j],\n",
        "                 horizontalalignment=\"center\",\n",
        "                 color=\"white\" if cm[i, j] > thresh else \"black\")\n",
        "\n",
        "    plt.tight_layout()\n",
        "    plt.ylabel('True expression')\n",
        "    plt.xlabel('Predicted expression')\n",
        "    plt.show()"
      ],
      "execution_count": 25,
      "outputs": []
    },
    {
      "cell_type": "code",
      "metadata": {
        "id": "1XLskQQMFGOX",
        "colab": {
          "base_uri": "https://localhost:8080/"
        },
        "outputId": "0ddcaf78-b01f-4175-8a80-e29c5516a16a"
      },
      "source": [
        "y_pred_ = model_load.predict(X_test/255., verbose=1)\n",
        "y_pred = np.argmax(y_pred_, axis=1)\n",
        "t_te = np.argmax(y_test, axis=1)"
      ],
      "execution_count": 26,
      "outputs": [
        {
          "output_type": "stream",
          "text": [
            "113/113 [==============================] - 2s 12ms/step\n"
          ],
          "name": "stdout"
        }
      ]
    },
    {
      "cell_type": "code",
      "metadata": {
        "id": "k0FjKZ6IFHat",
        "colab": {
          "base_uri": "https://localhost:8080/",
          "height": 585
        },
        "outputId": "edcfb2ec-5553-42ee-e4a1-49828f4c1436"
      },
      "source": [
        "from sklearn.metrics import confusion_matrix, classification_report\n",
        "import itertools\n",
        "\n",
        "fig = plot_confusion_matrix(y_test=t_te, y_pred=y_pred,\n",
        "                      classes=labels,\n",
        "                      normalize=True,\n",
        "                      cmap=plt.cm.Blues,\n",
        "                      title='Average accuracy: ' + str(np.sum(y_pred == t_te)/len(t_te)) + '\\n')"
      ],
      "execution_count": 27,
      "outputs": [
        {
          "output_type": "display_data",
          "data": {
            "image/png": "[encoded data removed]",
            "text/plain": [
              "<Figure size 576x576 with 2 Axes>"
            ]
          },
          "metadata": {
            "tags": [],
            "needs_background": "light"
          }
        }
      ]
    },
    {
      "cell_type": "code",
      "metadata": {
        "id": "NaoOE0okFIUd",
        "colab": {
          "base_uri": "https://localhost:8080/"
        },
        "outputId": "14ca3d91-92b1-4de1-eea8-29af563651d5"
      },
      "source": [
        "emotions = {0: 'Angry', 1: 'Disgust', 2: 'Fear', 3: 'Happy', 4: 'Sad', 5: 'Surprise', 6: 'Neutral'}\n",
        "print(classification_report(t_te, y_pred, target_names=emotions.values()))"
      ],
      "execution_count": 28,
      "outputs": [
        {
          "output_type": "stream",
          "text": [
            "              precision    recall  f1-score   support\n",
            "\n",
            "       Angry       0.54      0.69      0.61       491\n",
            "     Disgust       0.80      0.75      0.77        55\n",
            "        Fear       0.57      0.42      0.49       528\n",
            "       Happy       0.91      0.84      0.87       879\n",
            "         Sad       0.58      0.50      0.54       594\n",
            "    Surprise       0.83      0.76      0.79       416\n",
            "     Neutral       0.60      0.78      0.68       626\n",
            "\n",
            "    accuracy                           0.68      3589\n",
            "   macro avg       0.69      0.68      0.68      3589\n",
            "weighted avg       0.69      0.68      0.68      3589\n",
            "\n"
          ],
          "name": "stdout"
        }
      ]
    }
  ]
}