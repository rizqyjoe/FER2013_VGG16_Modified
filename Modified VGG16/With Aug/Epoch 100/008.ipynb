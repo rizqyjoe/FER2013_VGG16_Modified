{
  "nbformat": 4,
  "nbformat_minor": 0,
  "metadata": {
    "accelerator": "GPU",
    "colab": {
      "name": "FINAL.ipynb",
      "provenance": [],
      "collapsed_sections": [],
      "include_colab_link": true
    },
    "kernelspec": {
      "display_name": "Python 3",
      "name": "python3"
    },
    "language_info": {
      "name": "python"
    }
  },
  "cells": [
    {
      "cell_type": "markdown",
      "metadata": {
        "id": "view-in-github",
        "colab_type": "text"
      },
      "source": [
        "<a href=\"https://colab.research.google.com/github/rizqyjoe/FER2013_VGG16_Modified/blob/main/Modified%20VGG16/With%20Aug/Epoch%20100/008.ipynb\" target=\"_parent\"><img src=\"https://colab.research.google.com/assets/colab-badge.svg\" alt=\"Open In Colab\"/></a>"
      ]
    },
    {
      "cell_type": "code",
      "metadata": {
        "colab": {
          "base_uri": "https://localhost:8080/"
        },
        "id": "sX-0w3h_sh6U",
        "outputId": "249d7a7f-663e-4b3e-8cc9-7dcf988dd817"
      },
      "source": [
        "#mount drive\n",
        "from google.colab import drive\n",
        "drive.mount('/content/drive')"
      ],
      "execution_count": 1,
      "outputs": [
        {
          "output_type": "stream",
          "text": [
            "Mounted at /content/drive\n"
          ],
          "name": "stdout"
        }
      ]
    },
    {
      "cell_type": "markdown",
      "metadata": {
        "id": "58jrp8yObBBA"
      },
      "source": [
        "# Pre-processing"
      ]
    },
    {
      "cell_type": "code",
      "metadata": {
        "id": "7nrYTmGLrD2A"
      },
      "source": [
        "import tensorflow as tf\n",
        "import keras\n",
        "from keras import backend as K\n",
        "import pandas as pd\n",
        "import numpy as np\n",
        "import matplotlib.pyplot as plt\n",
        "from keras.preprocessing import image\n",
        "from keras.preprocessing.image import ImageDataGenerator\n",
        "from keras import regularizers\n",
        "from keras.utils import np_utils\n",
        "\n",
        "import random\n",
        "\n",
        "tf.random.set_seed(1234)\n",
        "np.random.seed(1234)\n",
        "\n",
        "from keras.initializers import glorot_uniform"
      ],
      "execution_count": 1,
      "outputs": []
    },
    {
      "cell_type": "code",
      "metadata": {
        "colab": {
          "base_uri": "https://localhost:8080/",
          "height": 204
        },
        "id": "0vTjzHIRrW53",
        "outputId": "d1a563db-9c31-491b-b5da-741973498b05"
      },
      "source": [
        "#load file\n",
        "data= pd.read_csv('/content/drive/MyDrive/Dataset/fer2013 dataset/fer2013/fer2013.csv')\n",
        "data.head()"
      ],
      "execution_count": 2,
      "outputs": [
        {
          "output_type": "execute_result",
          "data": {
            "text/html": [
              "<div>\n",
              "<style scoped>\n",
              "    .dataframe tbody tr th:only-of-type {\n",
              "        vertical-align: middle;\n",
              "    }\n",
              "\n",
              "    .dataframe tbody tr th {\n",
              "        vertical-align: top;\n",
              "    }\n",
              "\n",
              "    .dataframe thead th {\n",
              "        text-align: right;\n",
              "    }\n",
              "</style>\n",
              "<table border=\"1\" class=\"dataframe\">\n",
              "  <thead>\n",
              "    <tr style=\"text-align: right;\">\n",
              "      <th></th>\n",
              "      <th>emotion</th>\n",
              "      <th>pixels</th>\n",
              "      <th>Usage</th>\n",
              "    </tr>\n",
              "  </thead>\n",
              "  <tbody>\n",
              "    <tr>\n",
              "      <th>0</th>\n",
              "      <td>0</td>\n",
              "      <td>70 80 82 72 58 58 60 63 54 58 60 48 89 115 121...</td>\n",
              "      <td>Training</td>\n",
              "    </tr>\n",
              "    <tr>\n",
              "      <th>1</th>\n",
              "      <td>0</td>\n",
              "      <td>151 150 147 155 148 133 111 140 170 174 182 15...</td>\n",
              "      <td>Training</td>\n",
              "    </tr>\n",
              "    <tr>\n",
              "      <th>2</th>\n",
              "      <td>2</td>\n",
              "      <td>231 212 156 164 174 138 161 173 182 200 106 38...</td>\n",
              "      <td>Training</td>\n",
              "    </tr>\n",
              "    <tr>\n",
              "      <th>3</th>\n",
              "      <td>4</td>\n",
              "      <td>24 32 36 30 32 23 19 20 30 41 21 22 32 34 21 1...</td>\n",
              "      <td>Training</td>\n",
              "    </tr>\n",
              "    <tr>\n",
              "      <th>4</th>\n",
              "      <td>6</td>\n",
              "      <td>4 0 0 0 0 0 0 0 0 0 0 0 3 15 23 28 48 50 58 84...</td>\n",
              "      <td>Training</td>\n",
              "    </tr>\n",
              "  </tbody>\n",
              "</table>\n",
              "</div>"
            ],
            "text/plain": [
              "   emotion                                             pixels     Usage\n",
              "0        0  70 80 82 72 58 58 60 63 54 58 60 48 89 115 121...  Training\n",
              "1        0  151 150 147 155 148 133 111 140 170 174 182 15...  Training\n",
              "2        2  231 212 156 164 174 138 161 173 182 200 106 38...  Training\n",
              "3        4  24 32 36 30 32 23 19 20 30 41 21 22 32 34 21 1...  Training\n",
              "4        6  4 0 0 0 0 0 0 0 0 0 0 0 3 15 23 28 48 50 58 84...  Training"
            ]
          },
          "metadata": {
            "tags": []
          },
          "execution_count": 2
        }
      ]
    },
    {
      "cell_type": "code",
      "metadata": {
        "colab": {
          "base_uri": "https://localhost:8080/"
        },
        "id": "NU40Z0ynrau2",
        "outputId": "b721c8e4-3a22-4777-d4ed-6af767b9b57c"
      },
      "source": [
        "data.emotion.value_counts()"
      ],
      "execution_count": 3,
      "outputs": [
        {
          "output_type": "execute_result",
          "data": {
            "text/plain": [
              "3    8989\n",
              "6    6198\n",
              "4    6077\n",
              "2    5121\n",
              "0    4953\n",
              "5    4002\n",
              "1     547\n",
              "Name: emotion, dtype: int64"
            ]
          },
          "metadata": {
            "tags": []
          },
          "execution_count": 3
        }
      ]
    },
    {
      "cell_type": "code",
      "metadata": {
        "colab": {
          "base_uri": "https://localhost:8080/"
        },
        "id": "8MQKKFDare4e",
        "outputId": "c0b949dd-d48e-4739-88ef-fdf95afbc2c9"
      },
      "source": [
        "data.Usage.value_counts()"
      ],
      "execution_count": 4,
      "outputs": [
        {
          "output_type": "execute_result",
          "data": {
            "text/plain": [
              "Training       28709\n",
              "PublicTest      3589\n",
              "PrivateTest     3589\n",
              "Name: Usage, dtype: int64"
            ]
          },
          "metadata": {
            "tags": []
          },
          "execution_count": 4
        }
      ]
    },
    {
      "cell_type": "code",
      "metadata": {
        "id": "H1M2PtN54iSK"
      },
      "source": [
        "emotion_labels = [\"Angry\", \"Disgust\", \"Fear\", \"Happy\", \"Sad\", \"Surprise\", \"Neutral\"]\n",
        "labels=np.array((\"Angry\", \"Disgust\", \"Fear\", \"Happy\", \"Sad\", \"Surprise\", \"Neutral\"))"
      ],
      "execution_count": 5,
      "outputs": []
    },
    {
      "cell_type": "code",
      "metadata": {
        "id": "RQlblEnwrgkW"
      },
      "source": [
        "#split data \n",
        "train_set = data[(data.Usage == 'Training')] \n",
        "val_set = data[(data.Usage == 'PublicTest')]\n",
        "test_set = data[(data.Usage == 'PrivateTest')] \n",
        "X_train = np.array(list(map(str.split, train_set.pixels)), np.float32) \n",
        "X_val = np.array(list(map(str.split, val_set.pixels)), np.float32) \n",
        "X_test = np.array(list(map(str.split, test_set.pixels)), np.float32) \n",
        "X_train = X_train.reshape(X_train.shape[0], 48, 48, 1) \n",
        "X_val = X_val.reshape(X_val.shape[0], 48, 48, 1)\n",
        "X_test = X_test.reshape(X_test.shape[0], 48, 48, 1)"
      ],
      "execution_count": 6,
      "outputs": []
    },
    {
      "cell_type": "code",
      "metadata": {
        "id": "MVqY8ftoriHW"
      },
      "source": [
        "num_classes = 7\n",
        "\n",
        "y_train = train_set.emotion \n",
        "y_train = np_utils.to_categorical(y_train, num_classes) \n",
        "y_val = val_set.emotion \n",
        "y_val = np_utils.to_categorical(y_val, num_classes) \n",
        "y_test = test_set.emotion \n",
        "y_test = np_utils.to_categorical(y_test, num_classes)"
      ],
      "execution_count": 7,
      "outputs": []
    },
    {
      "cell_type": "code",
      "metadata": {
        "colab": {
          "base_uri": "https://localhost:8080/"
        },
        "id": "WaMwvF5vrju-",
        "outputId": "29caf421-6a88-4ff0-ec65-b629086469e1"
      },
      "source": [
        "print(\"x_train:\",X_train.shape)\n",
        "print(\"y_train:\",y_train.shape)\n",
        "print(\"x_val:\",X_val.shape)\n",
        "print(\"y_val:\",y_val.shape)\n",
        "print(\"x_test:\",X_test.shape)\n",
        "print(\"y_test:\",y_test.shape)"
      ],
      "execution_count": 8,
      "outputs": [
        {
          "output_type": "stream",
          "text": [
            "x_train: (28709, 48, 48, 1)\n",
            "y_train: (28709, 7)\n",
            "x_val: (3589, 48, 48, 1)\n",
            "y_val: (3589, 7)\n",
            "x_test: (3589, 48, 48, 1)\n",
            "y_test: (3589, 7)\n"
          ],
          "name": "stdout"
        }
      ]
    },
    {
      "cell_type": "code",
      "metadata": {
        "id": "DzChH8hGrldw"
      },
      "source": [
        "#data augmentation\n",
        "datagen = ImageDataGenerator(rescale=1./255,\n",
        "                             rotation_range=10,\n",
        "                             width_shift_range=0.2,\n",
        "                             height_shift_range=0.2, \n",
        "                             zoom_range=0.2,\n",
        "                             horizontal_flip=True)\n",
        "\n",
        "#datagen = ImageDataGenerator(rescale=1./255)\n",
        "\n",
        "testgen = ImageDataGenerator(rescale=1./255)\n",
        "\n",
        "datagen.fit(X_train)\n",
        "batch_size = 64"
      ],
      "execution_count": 9,
      "outputs": []
    },
    {
      "cell_type": "code",
      "metadata": {
        "id": "d-nkOZUfrm_e"
      },
      "source": [
        "train_flow = datagen.flow(X_train, y_train, batch_size=batch_size) \n",
        "val_flow = testgen.flow(X_val, y_val, batch_size=batch_size) \n",
        "test_flow = testgen.flow(X_test, y_test, batch_size=batch_size)"
      ],
      "execution_count": 10,
      "outputs": []
    },
    {
      "cell_type": "code",
      "metadata": {
        "id": "3u6vR_8CroMG"
      },
      "source": [
        "from tensorflow.keras.utils import plot_model\n",
        "from matplotlib import pyplot"
      ],
      "execution_count": 11,
      "outputs": []
    },
    {
      "cell_type": "code",
      "metadata": {
        "colab": {
          "base_uri": "https://localhost:8080/",
          "height": 248
        },
        "id": "HZ6sB7a0rp0O",
        "outputId": "563e2ac3-6d3b-4c05-a6db-468a9aa6de92"
      },
      "source": [
        "#displaying sample images\n",
        "for X_batch, y_batch in datagen.flow(X_train, y_train, batch_size=9):\n",
        "    for i in range(0, 9): \n",
        "        pyplot.axis('off') \n",
        "        pyplot.subplot(330 + 1 + i) \n",
        "        pyplot.imshow(X_batch[i].reshape(48, 48), cmap=pyplot.get_cmap('gray'))\n",
        "    pyplot.axis('off') \n",
        "    pyplot.show() \n",
        "    break"
      ],
      "execution_count": 12,
      "outputs": [
        {
          "output_type": "display_data",
          "data": {
            "image/png": "[encoded data removed]",
            "text/plain": [
              "<Figure size 432x288 with 9 Axes>"
            ]
          },
          "metadata": {
            "tags": [],
            "needs_background": "light"
          }
        }
      ]
    },
    {
      "cell_type": "markdown",
      "metadata": {
        "id": "mH061hQUbJsv"
      },
      "source": [
        "# Training Model"
      ]
    },
    {
      "cell_type": "code",
      "metadata": {
        "id": "rxqJ_jM_mSTg",
        "colab": {
          "base_uri": "https://localhost:8080/"
        },
        "outputId": "e7dc1023-895a-4c62-b6da-05404eace117"
      },
      "source": [
        "#Model Fix\n",
        "from keras.models import Sequential\n",
        "from keras.layers import Input, Dense, Flatten, Dropout, Conv2D, MaxPool2D, BatchNormalization, GlobalAveragePooling2D\n",
        "\n",
        "input_shape = (48, 48, 1)\n",
        "\n",
        "model = Sequential()\n",
        "\n",
        "model.add(Conv2D(filters=64,input_shape=(input_shape),kernel_size=(3,3),padding=\"same\", activation=\"relu\", kernel_initializer = glorot_uniform(seed=0)))\n",
        "model.add(BatchNormalization())\n",
        "model.add(Conv2D(filters=64,kernel_size=(3,3),padding=\"same\", activation=\"relu\", kernel_initializer = glorot_uniform(seed=0)))\n",
        "model.add(BatchNormalization())\n",
        "model.add(MaxPool2D(pool_size=(2,2),strides=(2,2)))\n",
        "model.add(Dropout(0.2))\n",
        "\n",
        "model.add(Conv2D(filters=128, kernel_size=(3,3), padding=\"same\", activation=\"relu\", kernel_initializer = glorot_uniform(seed=0)))\n",
        "model.add(BatchNormalization())\n",
        "model.add(Conv2D(filters=128, kernel_size=(3,3), padding=\"same\", activation=\"relu\", kernel_initializer = glorot_uniform(seed=0)))\n",
        "model.add(BatchNormalization())\n",
        "model.add(MaxPool2D(pool_size=(2,2),strides=(2,2)))\n",
        "model.add(Dropout(0.3))\n",
        "\n",
        "model.add(Conv2D(filters=256, kernel_size=(3,3), padding=\"same\", activation=\"relu\", kernel_initializer = glorot_uniform(seed=0)))\n",
        "model.add(BatchNormalization())\n",
        "model.add(Conv2D(filters=256, kernel_size=(3,3), padding=\"same\", activation=\"relu\", kernel_initializer = glorot_uniform(seed=0)))\n",
        "model.add(BatchNormalization())\n",
        "model.add(Conv2D(filters=256, kernel_size=(3,3), padding=\"same\", activation=\"relu\", kernel_initializer = glorot_uniform(seed=0)))\n",
        "model.add(BatchNormalization())\n",
        "model.add(MaxPool2D(pool_size=(2,2),strides=(2,2)))\n",
        "model.add(Dropout(0.4))\n",
        "\n",
        "model.add(Conv2D(filters=512, kernel_size=(3,3), padding=\"same\", activation=\"relu\", kernel_initializer = glorot_uniform(seed=0)))\n",
        "model.add(BatchNormalization())\n",
        "model.add(Conv2D(filters=512, kernel_size=(3,3), padding=\"same\", activation=\"relu\", kernel_initializer = glorot_uniform(seed=0)))\n",
        "model.add(BatchNormalization())\n",
        "model.add(Conv2D(filters=512, kernel_size=(3,3), padding=\"same\", activation=\"relu\", kernel_initializer = glorot_uniform(seed=0)))\n",
        "model.add(BatchNormalization())\n",
        "model.add(MaxPool2D(pool_size=(2,2),strides=(2,2)))\n",
        "model.add(Dropout(0.5))\n",
        "\n",
        "model.add(Conv2D(filters=512, kernel_size=(3,3), padding=\"same\", activation=\"relu\", kernel_initializer = glorot_uniform(seed=0)))\n",
        "model.add(BatchNormalization())\n",
        "model.add(Conv2D(filters=512, kernel_size=(3,3), padding=\"same\", activation=\"relu\", kernel_initializer = glorot_uniform(seed=0)))\n",
        "model.add(BatchNormalization())\n",
        "model.add(Conv2D(filters=512, kernel_size=(3,3), padding=\"same\", activation=\"relu\", kernel_initializer = glorot_uniform(seed=0)))\n",
        "model.add(BatchNormalization())\n",
        "model.add(MaxPool2D(pool_size=(2,2),strides=(2,2)))\n",
        "model.add(Dropout(0.6))\n",
        "\n",
        "#model.add(Flatten())\n",
        "model.add(GlobalAveragePooling2D())\n",
        "\n",
        "model.add(Dense(512,activation='relu'))\n",
        "model.add(Dropout(0.5))\n",
        "model.add(Dense(512,activation='relu'))\n",
        "model.add(Dropout(0.5))\n",
        "\n",
        "model.add(Dense(units=num_classes, activation='softmax'))\n",
        "\n",
        "# print the model summary\n",
        "model.summary()"
      ],
      "execution_count": 13,
      "outputs": [
        {
          "output_type": "stream",
          "text": [
            "Model: \"sequential\"\n",
            "_________________________________________________________________\n",
            "Layer (type)                 Output Shape              Param #   \n",
            "=================================================================\n",
            "conv2d (Conv2D)              (None, 48, 48, 64)        640       \n",
            "_________________________________________________________________\n",
            "batch_normalization (BatchNo (None, 48, 48, 64)        256       \n",
            "_________________________________________________________________\n",
            "conv2d_1 (Conv2D)            (None, 48, 48, 64)        36928     \n",
            "_________________________________________________________________\n",
            "batch_normalization_1 (Batch (None, 48, 48, 64)        256       \n",
            "_________________________________________________________________\n",
            "max_pooling2d (MaxPooling2D) (None, 24, 24, 64)        0         \n",
            "_________________________________________________________________\n",
            "dropout (Dropout)            (None, 24, 24, 64)        0         \n",
            "_________________________________________________________________\n",
            "conv2d_2 (Conv2D)            (None, 24, 24, 128)       73856     \n",
            "_________________________________________________________________\n",
            "batch_normalization_2 (Batch (None, 24, 24, 128)       512       \n",
            "_________________________________________________________________\n",
            "conv2d_3 (Conv2D)            (None, 24, 24, 128)       147584    \n",
            "_________________________________________________________________\n",
            "batch_normalization_3 (Batch (None, 24, 24, 128)       512       \n",
            "_________________________________________________________________\n",
            "max_pooling2d_1 (MaxPooling2 (None, 12, 12, 128)       0         \n",
            "_________________________________________________________________\n",
            "dropout_1 (Dropout)          (None, 12, 12, 128)       0         \n",
            "_________________________________________________________________\n",
            "conv2d_4 (Conv2D)            (None, 12, 12, 256)       295168    \n",
            "_________________________________________________________________\n",
            "batch_normalization_4 (Batch (None, 12, 12, 256)       1024      \n",
            "_________________________________________________________________\n",
            "conv2d_5 (Conv2D)            (None, 12, 12, 256)       590080    \n",
            "_________________________________________________________________\n",
            "batch_normalization_5 (Batch (None, 12, 12, 256)       1024      \n",
            "_________________________________________________________________\n",
            "conv2d_6 (Conv2D)            (None, 12, 12, 256)       590080    \n",
            "_________________________________________________________________\n",
            "batch_normalization_6 (Batch (None, 12, 12, 256)       1024      \n",
            "_________________________________________________________________\n",
            "max_pooling2d_2 (MaxPooling2 (None, 6, 6, 256)         0         \n",
            "_________________________________________________________________\n",
            "dropout_2 (Dropout)          (None, 6, 6, 256)         0         \n",
            "_________________________________________________________________\n",
            "conv2d_7 (Conv2D)            (None, 6, 6, 512)         1180160   \n",
            "_________________________________________________________________\n",
            "batch_normalization_7 (Batch (None, 6, 6, 512)         2048      \n",
            "_________________________________________________________________\n",
            "conv2d_8 (Conv2D)            (None, 6, 6, 512)         2359808   \n",
            "_________________________________________________________________\n",
            "batch_normalization_8 (Batch (None, 6, 6, 512)         2048      \n",
            "_________________________________________________________________\n",
            "conv2d_9 (Conv2D)            (None, 6, 6, 512)         2359808   \n",
            "_________________________________________________________________\n",
            "batch_normalization_9 (Batch (None, 6, 6, 512)         2048      \n",
            "_________________________________________________________________\n",
            "max_pooling2d_3 (MaxPooling2 (None, 3, 3, 512)         0         \n",
            "_________________________________________________________________\n",
            "dropout_3 (Dropout)          (None, 3, 3, 512)         0         \n",
            "_________________________________________________________________\n",
            "conv2d_10 (Conv2D)           (None, 3, 3, 512)         2359808   \n",
            "_________________________________________________________________\n",
            "batch_normalization_10 (Batc (None, 3, 3, 512)         2048      \n",
            "_________________________________________________________________\n",
            "conv2d_11 (Conv2D)           (None, 3, 3, 512)         2359808   \n",
            "_________________________________________________________________\n",
            "batch_normalization_11 (Batc (None, 3, 3, 512)         2048      \n",
            "_________________________________________________________________\n",
            "conv2d_12 (Conv2D)           (None, 3, 3, 512)         2359808   \n",
            "_________________________________________________________________\n",
            "batch_normalization_12 (Batc (None, 3, 3, 512)         2048      \n",
            "_________________________________________________________________\n",
            "max_pooling2d_4 (MaxPooling2 (None, 1, 1, 512)         0         \n",
            "_________________________________________________________________\n",
            "dropout_4 (Dropout)          (None, 1, 1, 512)         0         \n",
            "_________________________________________________________________\n",
            "global_average_pooling2d (Gl (None, 512)               0         \n",
            "_________________________________________________________________\n",
            "dense (Dense)                (None, 512)               262656    \n",
            "_________________________________________________________________\n",
            "dropout_5 (Dropout)          (None, 512)               0         \n",
            "_________________________________________________________________\n",
            "dense_1 (Dense)              (None, 512)               262656    \n",
            "_________________________________________________________________\n",
            "dropout_6 (Dropout)          (None, 512)               0         \n",
            "_________________________________________________________________\n",
            "dense_2 (Dense)              (None, 7)                 3591      \n",
            "=================================================================\n",
            "Total params: 15,259,335\n",
            "Trainable params: 15,250,887\n",
            "Non-trainable params: 8,448\n",
            "_________________________________________________________________\n"
          ],
          "name": "stdout"
        }
      ]
    },
    {
      "cell_type": "code",
      "metadata": {
        "id": "jUu0KuzlIBMR"
      },
      "source": [
        "#Model ori\n",
        "'''from keras.models import Sequential\n",
        "from keras.layers import Input, Dense, Flatten, Conv2D, MaxPool2D\n",
        "\n",
        "input_shape = (48, 48, 1)\n",
        "\n",
        "model = Sequential()\n",
        "\n",
        "model.add(Conv2D(filters=64,input_shape=(input_shape),kernel_size=(3,3),padding=\"same\", activation=\"relu\", kernel_initializer = glorot_uniform(seed=0)))\n",
        "model.add(Conv2D(filters=64,kernel_size=(3,3),padding=\"same\", activation=\"relu\", kernel_initializer = glorot_uniform(seed=0)))\n",
        "model.add(MaxPool2D(pool_size=(2,2),strides=(2,2)))\n",
        "\n",
        "model.add(Conv2D(filters=128, kernel_size=(3,3), padding=\"same\", activation=\"relu\", kernel_initializer = glorot_uniform(seed=0)))\n",
        "model.add(Conv2D(filters=128, kernel_size=(3,3), padding=\"same\", activation=\"relu\", kernel_initializer = glorot_uniform(seed=0)))\n",
        "model.add(MaxPool2D(pool_size=(2,2),strides=(2,2)))\n",
        "\n",
        "model.add(Conv2D(filters=256, kernel_size=(3,3), padding=\"same\", activation=\"relu\", kernel_initializer = glorot_uniform(seed=0)))\n",
        "model.add(Conv2D(filters=256, kernel_size=(3,3), padding=\"same\", activation=\"relu\", kernel_initializer = glorot_uniform(seed=0)))\n",
        "model.add(Conv2D(filters=256, kernel_size=(3,3), padding=\"same\", activation=\"relu\", kernel_initializer = glorot_uniform(seed=1)))\n",
        "model.add(MaxPool2D(pool_size=(2,2),strides=(2,2)))\n",
        "\n",
        "model.add(Conv2D(filters=512, kernel_size=(3,3), padding=\"same\", activation=\"relu\", kernel_initializer = glorot_uniform(seed=0)))\n",
        "model.add(Conv2D(filters=512, kernel_size=(3,3), padding=\"same\", activation=\"relu\", kernel_initializer = glorot_uniform(seed=0)))\n",
        "model.add(Conv2D(filters=512, kernel_size=(3,3), padding=\"same\", activation=\"relu\", kernel_initializer = glorot_uniform(seed=0)))\n",
        "model.add(MaxPool2D(pool_size=(2,2),strides=(2,2)))\n",
        "\n",
        "model.add(Conv2D(filters=512, kernel_size=(3,3), padding=\"same\", activation=\"relu\", kernel_initializer = glorot_uniform(seed=0)))\n",
        "model.add(Conv2D(filters=512, kernel_size=(3,3), padding=\"same\", activation=\"relu\", kernel_initializer = glorot_uniform(seed=0)))\n",
        "model.add(Conv2D(filters=512, kernel_size=(3,3), padding=\"same\", activation=\"relu\", kernel_initializer = glorot_uniform(seed=0)))\n",
        "model.add(MaxPool2D(pool_size=(2,2),strides=(2,2)))\n",
        "\n",
        "model.add(Flatten())\n",
        "\n",
        "model.add(Dense(4096,activation='relu'))\n",
        "model.add(Dense(4096,activation='relu'))\n",
        "model.add(Dense(units=num_classes, activation='softmax'))\n",
        "\n",
        "# print the model summary\n",
        "model.summary()"
      ],
      "execution_count": null,
      "outputs": []
    },
    {
      "cell_type": "code",
      "metadata": {
        "id": "0S679DUacsgI"
      },
      "source": [
        "#save plot model to file\n",
        "from keras.utils.vis_utils import plot_model\n",
        "plot_model(model, to_file=\"model.png\", show_shapes=True, show_layer_names=False)"
      ],
      "execution_count": null,
      "outputs": []
    },
    {
      "cell_type": "code",
      "metadata": {
        "id": "LhxgJX3brul-"
      },
      "source": [
        "#compile model\n",
        "from keras.optimizers import Adam,SGD,RMSprop\n",
        "\n",
        "opt = RMSprop(learning_rate=0.001)\n",
        "model.compile(loss='categorical_crossentropy', optimizer=opt, metrics=['accuracy'])"
      ],
      "execution_count": 15,
      "outputs": []
    },
    {
      "cell_type": "code",
      "metadata": {
        "colab": {
          "base_uri": "https://localhost:8080/"
        },
        "id": "ljPuPM2iryKG",
        "outputId": "53b89fc0-48ce-4ba9-ba56-0caddf3f24ee"
      },
      "source": [
        "# fit the model\n",
        "num_epochs = 100\n",
        "history = model.fit(train_flow, \n",
        "                    steps_per_epoch=len(X_train) // batch_size, \n",
        "                    epochs=num_epochs,  \n",
        "                    verbose=1,  \n",
        "                    validation_data=val_flow,  \n",
        "                    validation_steps=len(X_val) // batch_size)"
      ],
      "execution_count": 16,
      "outputs": [
        {
          "output_type": "stream",
          "text": [
            "Epoch 1/100\n",
            "448/448 [==============================] - 60s 84ms/step - loss: 2.4187 - accuracy: 0.2005 - val_loss: 1.9367 - val_accuracy: 0.1797\n",
            "Epoch 2/100\n",
            "448/448 [==============================] - 34s 75ms/step - loss: 1.8399 - accuracy: 0.2308 - val_loss: 1.8477 - val_accuracy: 0.2511\n",
            "Epoch 3/100\n",
            "448/448 [==============================] - 34s 75ms/step - loss: 1.8179 - accuracy: 0.2419 - val_loss: 1.8287 - val_accuracy: 0.2492\n",
            "Epoch 4/100\n",
            "448/448 [==============================] - 34s 75ms/step - loss: 1.8085 - accuracy: 0.2477 - val_loss: 1.7771 - val_accuracy: 0.2614\n",
            "Epoch 5/100\n",
            "448/448 [==============================] - 34s 75ms/step - loss: 1.7592 - accuracy: 0.2808 - val_loss: 1.7452 - val_accuracy: 0.3156\n",
            "Epoch 6/100\n",
            "448/448 [==============================] - 34s 75ms/step - loss: 1.7064 - accuracy: 0.3094 - val_loss: 1.6193 - val_accuracy: 0.3630\n",
            "Epoch 7/100\n",
            "448/448 [==============================] - 34s 75ms/step - loss: 1.6218 - accuracy: 0.3530 - val_loss: 1.6789 - val_accuracy: 0.3842\n",
            "Epoch 8/100\n",
            "448/448 [==============================] - 34s 75ms/step - loss: 1.5616 - accuracy: 0.3826 - val_loss: 1.4783 - val_accuracy: 0.4021\n",
            "Epoch 9/100\n",
            "448/448 [==============================] - 34s 76ms/step - loss: 1.5206 - accuracy: 0.4085 - val_loss: 1.4244 - val_accuracy: 0.4579\n",
            "Epoch 10/100\n",
            "448/448 [==============================] - 34s 76ms/step - loss: 1.4940 - accuracy: 0.4247 - val_loss: 1.3907 - val_accuracy: 0.4442\n",
            "Epoch 11/100\n",
            "448/448 [==============================] - 34s 77ms/step - loss: 1.4361 - accuracy: 0.4444 - val_loss: 1.3897 - val_accuracy: 0.4766\n",
            "Epoch 12/100\n",
            "448/448 [==============================] - 34s 76ms/step - loss: 1.4276 - accuracy: 0.4625 - val_loss: 1.4335 - val_accuracy: 0.4807\n",
            "Epoch 13/100\n",
            "448/448 [==============================] - 34s 77ms/step - loss: 1.4126 - accuracy: 0.4688 - val_loss: 1.3240 - val_accuracy: 0.4941\n",
            "Epoch 14/100\n",
            "448/448 [==============================] - 34s 76ms/step - loss: 1.4029 - accuracy: 0.4690 - val_loss: 1.3235 - val_accuracy: 0.5003\n",
            "Epoch 15/100\n",
            "448/448 [==============================] - 34s 77ms/step - loss: 1.3703 - accuracy: 0.4740 - val_loss: 1.3934 - val_accuracy: 0.4766\n",
            "Epoch 16/100\n",
            "448/448 [==============================] - 34s 76ms/step - loss: 1.3609 - accuracy: 0.4875 - val_loss: 1.3168 - val_accuracy: 0.4961\n",
            "Epoch 17/100\n",
            "448/448 [==============================] - 34s 76ms/step - loss: 1.3398 - accuracy: 0.5075 - val_loss: 1.2577 - val_accuracy: 0.5335\n",
            "Epoch 18/100\n",
            "448/448 [==============================] - 34s 77ms/step - loss: 1.3194 - accuracy: 0.5220 - val_loss: 1.2061 - val_accuracy: 0.5569\n",
            "Epoch 19/100\n",
            "448/448 [==============================] - 34s 76ms/step - loss: 1.3149 - accuracy: 0.5239 - val_loss: 1.1915 - val_accuracy: 0.5485\n",
            "Epoch 20/100\n",
            "448/448 [==============================] - 34s 77ms/step - loss: 1.2978 - accuracy: 0.5374 - val_loss: 1.1883 - val_accuracy: 0.5497\n",
            "Epoch 21/100\n",
            "448/448 [==============================] - 34s 76ms/step - loss: 1.2871 - accuracy: 0.5377 - val_loss: 1.2145 - val_accuracy: 0.5343\n",
            "Epoch 22/100\n",
            "448/448 [==============================] - 34s 76ms/step - loss: 1.2680 - accuracy: 0.5417 - val_loss: 1.1766 - val_accuracy: 0.5511\n",
            "Epoch 23/100\n",
            "448/448 [==============================] - 34s 76ms/step - loss: 1.2585 - accuracy: 0.5453 - val_loss: 1.1974 - val_accuracy: 0.5382\n",
            "Epoch 24/100\n",
            "448/448 [==============================] - 34s 75ms/step - loss: 1.2493 - accuracy: 0.5500 - val_loss: 1.1573 - val_accuracy: 0.5714\n",
            "Epoch 25/100\n",
            "448/448 [==============================] - 34s 75ms/step - loss: 1.2346 - accuracy: 0.5497 - val_loss: 1.2826 - val_accuracy: 0.5123\n",
            "Epoch 26/100\n",
            "448/448 [==============================] - 34s 76ms/step - loss: 1.2372 - accuracy: 0.5501 - val_loss: 1.1504 - val_accuracy: 0.5614\n",
            "Epoch 27/100\n",
            "448/448 [==============================] - 34s 76ms/step - loss: 1.2360 - accuracy: 0.5569 - val_loss: 1.1560 - val_accuracy: 0.5795\n",
            "Epoch 28/100\n",
            "448/448 [==============================] - 34s 76ms/step - loss: 1.2503 - accuracy: 0.5566 - val_loss: 1.1729 - val_accuracy: 0.5578\n",
            "Epoch 29/100\n",
            "448/448 [==============================] - 34s 75ms/step - loss: 1.2268 - accuracy: 0.5567 - val_loss: 1.1893 - val_accuracy: 0.5647\n",
            "Epoch 30/100\n",
            "448/448 [==============================] - 34s 76ms/step - loss: 1.2145 - accuracy: 0.5645 - val_loss: 1.1150 - val_accuracy: 0.5901\n",
            "Epoch 31/100\n",
            "448/448 [==============================] - 34s 76ms/step - loss: 1.2242 - accuracy: 0.5698 - val_loss: 1.2412 - val_accuracy: 0.5363\n",
            "Epoch 32/100\n",
            "448/448 [==============================] - 34s 75ms/step - loss: 1.2054 - accuracy: 0.5634 - val_loss: 1.1708 - val_accuracy: 0.5678\n",
            "Epoch 33/100\n",
            "448/448 [==============================] - 34s 75ms/step - loss: 1.1946 - accuracy: 0.5709 - val_loss: 1.1140 - val_accuracy: 0.5851\n",
            "Epoch 34/100\n",
            "448/448 [==============================] - 34s 75ms/step - loss: 1.2098 - accuracy: 0.5758 - val_loss: 1.0999 - val_accuracy: 0.5979\n",
            "Epoch 35/100\n",
            "448/448 [==============================] - 34s 76ms/step - loss: 1.1787 - accuracy: 0.5771 - val_loss: 1.1680 - val_accuracy: 0.5695\n",
            "Epoch 36/100\n",
            "448/448 [==============================] - 34s 75ms/step - loss: 1.1982 - accuracy: 0.5791 - val_loss: 1.1541 - val_accuracy: 0.5778\n",
            "Epoch 37/100\n",
            "448/448 [==============================] - 34s 76ms/step - loss: 1.2384 - accuracy: 0.5840 - val_loss: 1.2602 - val_accuracy: 0.5519\n",
            "Epoch 38/100\n",
            "448/448 [==============================] - 34s 76ms/step - loss: 1.1799 - accuracy: 0.5878 - val_loss: 1.1831 - val_accuracy: 0.5600\n",
            "Epoch 39/100\n",
            "448/448 [==============================] - 34s 76ms/step - loss: 1.1784 - accuracy: 0.5852 - val_loss: 1.1516 - val_accuracy: 0.5893\n",
            "Epoch 40/100\n",
            "448/448 [==============================] - 34s 76ms/step - loss: 1.1847 - accuracy: 0.5850 - val_loss: 1.1170 - val_accuracy: 0.5854\n",
            "Epoch 41/100\n",
            "448/448 [==============================] - 34s 76ms/step - loss: 1.1521 - accuracy: 0.5927 - val_loss: 1.1267 - val_accuracy: 0.5851\n",
            "Epoch 42/100\n",
            "448/448 [==============================] - 34s 76ms/step - loss: 1.1810 - accuracy: 0.5901 - val_loss: 1.1377 - val_accuracy: 0.5862\n",
            "Epoch 43/100\n",
            "448/448 [==============================] - 34s 76ms/step - loss: 1.1764 - accuracy: 0.5970 - val_loss: 1.1324 - val_accuracy: 0.5854\n",
            "Epoch 44/100\n",
            "448/448 [==============================] - 34s 75ms/step - loss: 1.1954 - accuracy: 0.5934 - val_loss: 1.1196 - val_accuracy: 0.5845\n",
            "Epoch 45/100\n",
            "448/448 [==============================] - 34s 75ms/step - loss: 1.1709 - accuracy: 0.5981 - val_loss: 1.1295 - val_accuracy: 0.5823\n",
            "Epoch 46/100\n",
            "448/448 [==============================] - 34s 76ms/step - loss: 1.1756 - accuracy: 0.5966 - val_loss: 1.2070 - val_accuracy: 0.5611\n",
            "Epoch 47/100\n",
            "448/448 [==============================] - 34s 75ms/step - loss: 1.1707 - accuracy: 0.5961 - val_loss: 1.1066 - val_accuracy: 0.5938\n",
            "Epoch 48/100\n",
            "448/448 [==============================] - 34s 75ms/step - loss: 1.1679 - accuracy: 0.5977 - val_loss: 1.0826 - val_accuracy: 0.6074\n",
            "Epoch 49/100\n",
            "448/448 [==============================] - 34s 75ms/step - loss: 1.1686 - accuracy: 0.6024 - val_loss: 1.1300 - val_accuracy: 0.5912\n",
            "Epoch 50/100\n",
            "448/448 [==============================] - 34s 75ms/step - loss: 1.1630 - accuracy: 0.5989 - val_loss: 1.0770 - val_accuracy: 0.6127\n",
            "Epoch 51/100\n",
            "448/448 [==============================] - 34s 75ms/step - loss: 1.1632 - accuracy: 0.6019 - val_loss: 1.1155 - val_accuracy: 0.6004\n",
            "Epoch 52/100\n",
            "448/448 [==============================] - 34s 75ms/step - loss: 1.1358 - accuracy: 0.6074 - val_loss: 1.0601 - val_accuracy: 0.6200\n",
            "Epoch 53/100\n",
            "448/448 [==============================] - 34s 76ms/step - loss: 1.1840 - accuracy: 0.5953 - val_loss: 1.6106 - val_accuracy: 0.4562\n",
            "Epoch 54/100\n",
            "448/448 [==============================] - 34s 76ms/step - loss: 1.1711 - accuracy: 0.6032 - val_loss: 1.0830 - val_accuracy: 0.6021\n",
            "Epoch 55/100\n",
            "448/448 [==============================] - 34s 76ms/step - loss: 1.1450 - accuracy: 0.6035 - val_loss: 1.1847 - val_accuracy: 0.5979\n",
            "Epoch 56/100\n",
            "448/448 [==============================] - 34s 76ms/step - loss: 1.1637 - accuracy: 0.6090 - val_loss: 1.0638 - val_accuracy: 0.6057\n",
            "Epoch 57/100\n",
            "448/448 [==============================] - 34s 76ms/step - loss: 1.1694 - accuracy: 0.6062 - val_loss: 1.1148 - val_accuracy: 0.5893\n",
            "Epoch 58/100\n",
            "448/448 [==============================] - 34s 76ms/step - loss: 1.1856 - accuracy: 0.6034 - val_loss: 1.2189 - val_accuracy: 0.5720\n",
            "Epoch 59/100\n",
            "448/448 [==============================] - 34s 76ms/step - loss: 1.1646 - accuracy: 0.6049 - val_loss: 1.0909 - val_accuracy: 0.6024\n",
            "Epoch 60/100\n",
            "448/448 [==============================] - 34s 76ms/step - loss: 1.1299 - accuracy: 0.6149 - val_loss: 1.0747 - val_accuracy: 0.6141\n",
            "Epoch 61/100\n",
            "448/448 [==============================] - 34s 76ms/step - loss: 1.1937 - accuracy: 0.6090 - val_loss: 1.1453 - val_accuracy: 0.5890\n",
            "Epoch 62/100\n",
            "448/448 [==============================] - 34s 76ms/step - loss: 1.1462 - accuracy: 0.6163 - val_loss: 1.1549 - val_accuracy: 0.6127\n",
            "Epoch 63/100\n",
            "448/448 [==============================] - 34s 76ms/step - loss: 1.1562 - accuracy: 0.6079 - val_loss: 1.0950 - val_accuracy: 0.6158\n",
            "Epoch 64/100\n",
            "448/448 [==============================] - 34s 76ms/step - loss: 1.1287 - accuracy: 0.6136 - val_loss: 1.0990 - val_accuracy: 0.6200\n",
            "Epoch 65/100\n",
            "448/448 [==============================] - 34s 76ms/step - loss: 1.1844 - accuracy: 0.6095 - val_loss: 1.1745 - val_accuracy: 0.5681\n",
            "Epoch 66/100\n",
            "448/448 [==============================] - 34s 76ms/step - loss: 1.1485 - accuracy: 0.6194 - val_loss: 1.1488 - val_accuracy: 0.6004\n",
            "Epoch 67/100\n",
            "448/448 [==============================] - 34s 75ms/step - loss: 1.1607 - accuracy: 0.6206 - val_loss: 1.1601 - val_accuracy: 0.5991\n",
            "Epoch 68/100\n",
            "448/448 [==============================] - 34s 76ms/step - loss: 1.1737 - accuracy: 0.6189 - val_loss: 1.0794 - val_accuracy: 0.6136\n",
            "Epoch 69/100\n",
            "448/448 [==============================] - 34s 75ms/step - loss: 1.1602 - accuracy: 0.6238 - val_loss: 1.0877 - val_accuracy: 0.6130\n",
            "Epoch 70/100\n",
            "448/448 [==============================] - 34s 76ms/step - loss: 1.1445 - accuracy: 0.6144 - val_loss: 1.0752 - val_accuracy: 0.6113\n",
            "Epoch 71/100\n",
            "448/448 [==============================] - 34s 76ms/step - loss: 1.1488 - accuracy: 0.6197 - val_loss: 1.1601 - val_accuracy: 0.6102\n",
            "Epoch 72/100\n",
            "448/448 [==============================] - 34s 75ms/step - loss: 1.1612 - accuracy: 0.6224 - val_loss: 1.1390 - val_accuracy: 0.6016\n",
            "Epoch 73/100\n",
            "448/448 [==============================] - 34s 76ms/step - loss: 1.1563 - accuracy: 0.6175 - val_loss: 1.2087 - val_accuracy: 0.5859\n",
            "Epoch 74/100\n",
            "448/448 [==============================] - 34s 76ms/step - loss: 1.1332 - accuracy: 0.6245 - val_loss: 1.1271 - val_accuracy: 0.6158\n",
            "Epoch 75/100\n",
            "448/448 [==============================] - 34s 76ms/step - loss: 1.1673 - accuracy: 0.6178 - val_loss: 1.1351 - val_accuracy: 0.6169\n",
            "Epoch 76/100\n",
            "448/448 [==============================] - 34s 76ms/step - loss: 1.1186 - accuracy: 0.6245 - val_loss: 1.0651 - val_accuracy: 0.6239\n",
            "Epoch 77/100\n",
            "448/448 [==============================] - 34s 76ms/step - loss: 1.1508 - accuracy: 0.6235 - val_loss: 1.0866 - val_accuracy: 0.6141\n",
            "Epoch 78/100\n",
            "448/448 [==============================] - 34s 76ms/step - loss: 1.1112 - accuracy: 0.6241 - val_loss: 1.1700 - val_accuracy: 0.5831\n",
            "Epoch 79/100\n",
            "448/448 [==============================] - 34s 76ms/step - loss: 1.1077 - accuracy: 0.6214 - val_loss: 1.1727 - val_accuracy: 0.5884\n",
            "Epoch 80/100\n",
            "448/448 [==============================] - 34s 76ms/step - loss: 1.0886 - accuracy: 0.6268 - val_loss: 1.0700 - val_accuracy: 0.6295\n",
            "Epoch 81/100\n",
            "448/448 [==============================] - 34s 76ms/step - loss: 1.1711 - accuracy: 0.6194 - val_loss: 1.1200 - val_accuracy: 0.6110\n",
            "Epoch 82/100\n",
            "448/448 [==============================] - 34s 76ms/step - loss: 1.1042 - accuracy: 0.6251 - val_loss: 1.2018 - val_accuracy: 0.6066\n",
            "Epoch 83/100\n",
            "448/448 [==============================] - 34s 76ms/step - loss: 1.1395 - accuracy: 0.6231 - val_loss: 1.0838 - val_accuracy: 0.6097\n",
            "Epoch 84/100\n",
            "448/448 [==============================] - 34s 77ms/step - loss: 1.0936 - accuracy: 0.6345 - val_loss: 1.1289 - val_accuracy: 0.6233\n",
            "Epoch 85/100\n",
            "448/448 [==============================] - 34s 76ms/step - loss: 1.1517 - accuracy: 0.6283 - val_loss: 1.1945 - val_accuracy: 0.6119\n",
            "Epoch 86/100\n",
            "448/448 [==============================] - 34s 77ms/step - loss: 1.1545 - accuracy: 0.6304 - val_loss: 1.1029 - val_accuracy: 0.6002\n",
            "Epoch 87/100\n",
            "448/448 [==============================] - 35s 77ms/step - loss: 1.1618 - accuracy: 0.6224 - val_loss: 1.1152 - val_accuracy: 0.6317\n",
            "Epoch 88/100\n",
            "448/448 [==============================] - 34s 77ms/step - loss: 1.1297 - accuracy: 0.6273 - val_loss: 1.1403 - val_accuracy: 0.6116\n",
            "Epoch 89/100\n",
            "448/448 [==============================] - 34s 77ms/step - loss: 1.1181 - accuracy: 0.6308 - val_loss: 1.1599 - val_accuracy: 0.6175\n",
            "Epoch 90/100\n",
            "448/448 [==============================] - 35s 77ms/step - loss: 1.1023 - accuracy: 0.6313 - val_loss: 1.0856 - val_accuracy: 0.6217\n",
            "Epoch 91/100\n",
            "448/448 [==============================] - 34s 77ms/step - loss: 1.0858 - accuracy: 0.6348 - val_loss: 1.1195 - val_accuracy: 0.6088\n",
            "Epoch 92/100\n",
            "448/448 [==============================] - 34s 77ms/step - loss: 1.1057 - accuracy: 0.6320 - val_loss: 1.0756 - val_accuracy: 0.6261\n",
            "Epoch 93/100\n",
            "448/448 [==============================] - 34s 77ms/step - loss: 1.1254 - accuracy: 0.6278 - val_loss: 1.1494 - val_accuracy: 0.6113\n",
            "Epoch 94/100\n",
            "448/448 [==============================] - 35s 77ms/step - loss: 1.1081 - accuracy: 0.6250 - val_loss: 1.0645 - val_accuracy: 0.6345\n",
            "Epoch 95/100\n",
            "448/448 [==============================] - 34s 77ms/step - loss: 1.1632 - accuracy: 0.6293 - val_loss: 1.1705 - val_accuracy: 0.6035\n",
            "Epoch 96/100\n",
            "448/448 [==============================] - 34s 77ms/step - loss: 1.1176 - accuracy: 0.6312 - val_loss: 1.1045 - val_accuracy: 0.6197\n",
            "Epoch 97/100\n",
            "448/448 [==============================] - 34s 77ms/step - loss: 1.1100 - accuracy: 0.6358 - val_loss: 1.0900 - val_accuracy: 0.5974\n",
            "Epoch 98/100\n",
            "448/448 [==============================] - 35s 77ms/step - loss: 1.0796 - accuracy: 0.6362 - val_loss: 1.3047 - val_accuracy: 0.6172\n",
            "Epoch 99/100\n",
            "448/448 [==============================] - 35s 77ms/step - loss: 1.1704 - accuracy: 0.6313 - val_loss: 1.1881 - val_accuracy: 0.6211\n",
            "Epoch 100/100\n",
            "448/448 [==============================] - 34s 77ms/step - loss: 1.1840 - accuracy: 0.6339 - val_loss: 1.0824 - val_accuracy: 0.6336\n"
          ],
          "name": "stdout"
        }
      ]
    },
    {
      "cell_type": "markdown",
      "metadata": {
        "id": "zdn-Ud-Ca4LG"
      },
      "source": [
        "# Evaluate"
      ]
    },
    {
      "cell_type": "code",
      "metadata": {
        "colab": {
          "base_uri": "https://localhost:8080/",
          "height": 573
        },
        "id": "d8D97Qq4bUxn",
        "outputId": "0eff720c-e8a8-4a06-ccce-50701840a3cb"
      },
      "source": [
        "accuracy = history.history['accuracy']\n",
        "val_accuracy = history.history['val_accuracy']\n",
        "loss = history.history['loss']\n",
        "val_loss = history.history['val_loss']\n",
        "num_epochs = range(len(accuracy))\n",
        "plt.plot(num_epochs, accuracy, 'r', label='Training acc')\n",
        "plt.plot(num_epochs, val_accuracy, 'b', label='Validation acc')\n",
        "plt.title('Training and validation accuracy')\n",
        "plt.ylabel('accuracy')  \n",
        "plt.xlabel('epoch')\n",
        "plt.legend()\n",
        "plt.figure()\n",
        "plt.plot(num_epochs, loss, 'r', label='Training loss')\n",
        "plt.plot(num_epochs, val_loss, 'b', label='Validation loss')\n",
        "plt.title('Training and validation loss')\n",
        "plt.ylabel('loss')  \n",
        "plt.xlabel('epoch')\n",
        "plt.legend()\n",
        "plt.show()"
      ],
      "execution_count": 17,
      "outputs": [
        {
          "output_type": "display_data",
          "data": {
            "image/png": "[encoded data removed]",
            "text/plain": [
              "<Figure size 432x288 with 1 Axes>"
            ]
          },
          "metadata": {
            "tags": [],
            "needs_background": "light"
          }
        },
        {
          "output_type": "display_data",
          "data": {
            "image/png": "[encoded data removed]",
            "text/plain": [
              "<Figure size 432x288 with 1 Axes>"
            ]
          },
          "metadata": {
            "tags": [],
            "needs_background": "light"
          }
        }
      ]
    },
    {
      "cell_type": "code",
      "metadata": {
        "id": "v2FEkE4pr8vN",
        "colab": {
          "base_uri": "https://localhost:8080/"
        },
        "outputId": "96fcdb8d-ffae-4dc5-d35f-f376b42beade"
      },
      "source": [
        "trainloss = model.evaluate(train_flow, steps=len(X_train) / batch_size) \n",
        "print(\"Train Loss \" + str(trainloss[0]))\n",
        "print(\"Train Acc: \" + str(trainloss[1]))\n",
        "valloss = model.evaluate(val_flow, steps=len(X_val) / batch_size) \n",
        "print(\"Val Loss \" + str(valloss[0]))\n",
        "print(\"Val Acc: \" + str(valloss[1]))\n",
        "testloss = model.evaluate(test_flow, steps=len(X_test) / batch_size) \n",
        "print(\"Test Loss \" + str(testloss[0]))\n",
        "print(\"Test Acc: \" + str(testloss[1]))"
      ],
      "execution_count": 18,
      "outputs": [
        {
          "output_type": "stream",
          "text": [
            "448/448 [==============================] - 14s 31ms/step - loss: 0.9660 - accuracy: 0.6673\n",
            "Train Loss 0.9659883975982666\n",
            "Train Acc: 0.6673168540000916\n",
            "56/56 [==============================] - 2s 26ms/step - loss: 1.0816 - accuracy: 0.6342\n",
            "Val Loss 1.0816218852996826\n",
            "Val Acc: 0.6341599225997925\n",
            "56/56 [==============================] - 1s 21ms/step - loss: 1.0556 - accuracy: 0.6414\n",
            "Test Loss 1.0556046962738037\n",
            "Test Acc: 0.6414042711257935\n"
          ],
          "name": "stdout"
        }
      ]
    },
    {
      "cell_type": "code",
      "metadata": {
        "id": "ChuRTIjeFBXJ"
      },
      "source": [
        "def plot_confusion_matrix(y_test, y_pred, classes,\n",
        "                          normalize=False,\n",
        "                          title='Unnormalized confusion matrix',\n",
        "                          cmap=plt.cm.Blues):\n",
        "    cm = confusion_matrix(y_test, y_pred)\n",
        "    \n",
        "    if normalize:\n",
        "        cm = np.round(cm.astype('float') / cm.sum(axis=1)[:, np.newaxis], 2)\n",
        "        \n",
        "    np.set_printoptions(precision=2)\n",
        "    \n",
        "    plt.rcParams[\"figure.figsize\"] = (8,8)  \n",
        "    plt.imshow(cm, interpolation='nearest', cmap=cmap)\n",
        "    plt.title(title)\n",
        "    plt.colorbar()\n",
        "    tick_marks = np.arange(len(classes))\n",
        "    plt.xticks(tick_marks, classes, rotation=45)\n",
        "    plt.yticks(tick_marks, classes)\n",
        "\n",
        "    thresh = cm.min() + (cm.max() - cm.min()) / 2.\n",
        "    for i, j in itertools.product(range(cm.shape[0]), range(cm.shape[1])):\n",
        "        plt.text(j, i, cm[i, j],\n",
        "                 horizontalalignment=\"center\",\n",
        "                 color=\"white\" if cm[i, j] > thresh else \"black\")\n",
        "\n",
        "    plt.tight_layout()\n",
        "    plt.ylabel('True expression')\n",
        "    plt.xlabel('Predicted expression')\n",
        "    plt.show()"
      ],
      "execution_count": 19,
      "outputs": []
    },
    {
      "cell_type": "code",
      "metadata": {
        "colab": {
          "base_uri": "https://localhost:8080/"
        },
        "id": "hAiFwTR_FCpW",
        "outputId": "ab7221a4-5fde-4dcc-e80f-6f5c5c46a32f"
      },
      "source": [
        "y_pred_ = model.predict(X_test/255., verbose=1)\n",
        "y_pred = np.argmax(y_pred_, axis=1)\n",
        "t_te = np.argmax(y_test, axis=1)"
      ],
      "execution_count": 20,
      "outputs": [
        {
          "output_type": "stream",
          "text": [
            "113/113 [==============================] - 3s 12ms/step\n"
          ],
          "name": "stdout"
        }
      ]
    },
    {
      "cell_type": "code",
      "metadata": {
        "colab": {
          "base_uri": "https://localhost:8080/",
          "height": 585
        },
        "id": "CZiiWYfQ7yVt",
        "outputId": "e293d568-9b4b-4bf6-cc27-25f8a0cf5346"
      },
      "source": [
        "from sklearn.metrics import confusion_matrix, classification_report\n",
        "import itertools\n",
        "\n",
        "fig = plot_confusion_matrix(y_test=t_te, y_pred=y_pred,\n",
        "                      classes=labels,\n",
        "                      normalize=True,\n",
        "                      cmap=plt.cm.Blues,\n",
        "                      title='Average accuracy: ' + str(np.sum(y_pred == t_te)/len(t_te)) + '\\n')"
      ],
      "execution_count": 21,
      "outputs": [
        {
          "output_type": "display_data",
          "data": {
            "image/png": "[encoded data removed]",
            "text/plain": [
              "<Figure size 576x576 with 2 Axes>"
            ]
          },
          "metadata": {
            "tags": [],
            "needs_background": "light"
          }
        }
      ]
    },
    {
      "cell_type": "code",
      "metadata": {
        "id": "4vauS7IKbqNG",
        "colab": {
          "base_uri": "https://localhost:8080/"
        },
        "outputId": "f4284d27-e149-44d0-c620-ca170557b83a"
      },
      "source": [
        "emotions = {0: 'Angry', 1: 'Disgust', 2: 'Fear', 3: 'Happy', 4: 'Sad', 5: 'Surprise', 6: 'Neutral'}\n",
        "print(classification_report(t_te, y_pred, target_names=emotions.values()))"
      ],
      "execution_count": 22,
      "outputs": [
        {
          "output_type": "stream",
          "text": [
            "              precision    recall  f1-score   support\n",
            "\n",
            "       Angry       0.46      0.68      0.55       491\n",
            "     Disgust       0.00      0.00      0.00        55\n",
            "        Fear       0.48      0.25      0.33       528\n",
            "       Happy       0.89      0.88      0.88       879\n",
            "         Sad       0.49      0.61      0.54       594\n",
            "    Surprise       0.76      0.78      0.77       416\n",
            "     Neutral       0.70      0.60      0.65       626\n",
            "\n",
            "    accuracy                           0.64      3589\n",
            "   macro avg       0.54      0.54      0.53      3589\n",
            "weighted avg       0.64      0.64      0.63      3589\n",
            "\n"
          ],
          "name": "stdout"
        },
        {
          "output_type": "stream",
          "text": [
            "/usr/local/lib/python3.7/dist-packages/sklearn/metrics/_classification.py:1272: UndefinedMetricWarning: Precision and F-score are ill-defined and being set to 0.0 in labels with no predicted samples. Use `zero_division` parameter to control this behavior.\n",
            "  _warn_prf(average, modifier, msg_start, len(result))\n"
          ],
          "name": "stderr"
        }
      ]
    },
    {
      "cell_type": "code",
      "metadata": {
        "id": "KKWxaaYRba3j",
        "colab": {
          "base_uri": "https://localhost:8080/"
        },
        "outputId": "accd447d-4f80-4536-e2bb-a0bd0250ab01"
      },
      "source": [
        "model.save(\"/content/drive/MyDrive/Colab Notebooks/Model/ModelFix_RMSprop0.001_epoch100_Aug.h5\")\n",
        "print(\"saved\")"
      ],
      "execution_count": 23,
      "outputs": [
        {
          "output_type": "stream",
          "text": [
            "saved\n"
          ],
          "name": "stdout"
        }
      ]
    },
    {
      "cell_type": "markdown",
      "metadata": {
        "id": "aqLRhlr4b7t5"
      },
      "source": [
        "#Load Model"
      ]
    },
    {
      "cell_type": "code",
      "metadata": {
        "id": "J45lyUtcJ-6F",
        "colab": {
          "base_uri": "https://localhost:8080/"
        },
        "outputId": "58100f9c-9a4a-4ec3-c1e3-8bc0aa0aca5b"
      },
      "source": [
        "from keras.models import load_model\n",
        "model_load = load_model('/content/drive/MyDrive/Colab Notebooks/Model/ModelFix_RMSprop0.001_epoch100_Aug.h5')\n",
        "\n",
        "model_load.summary()"
      ],
      "execution_count": 24,
      "outputs": [
        {
          "output_type": "stream",
          "text": [
            "Model: \"sequential\"\n",
            "_________________________________________________________________\n",
            "Layer (type)                 Output Shape              Param #   \n",
            "=================================================================\n",
            "conv2d (Conv2D)              (None, 48, 48, 64)        640       \n",
            "_________________________________________________________________\n",
            "batch_normalization (BatchNo (None, 48, 48, 64)        256       \n",
            "_________________________________________________________________\n",
            "conv2d_1 (Conv2D)            (None, 48, 48, 64)        36928     \n",
            "_________________________________________________________________\n",
            "batch_normalization_1 (Batch (None, 48, 48, 64)        256       \n",
            "_________________________________________________________________\n",
            "max_pooling2d (MaxPooling2D) (None, 24, 24, 64)        0         \n",
            "_________________________________________________________________\n",
            "dropout (Dropout)            (None, 24, 24, 64)        0         \n",
            "_________________________________________________________________\n",
            "conv2d_2 (Conv2D)            (None, 24, 24, 128)       73856     \n",
            "_________________________________________________________________\n",
            "batch_normalization_2 (Batch (None, 24, 24, 128)       512       \n",
            "_________________________________________________________________\n",
            "conv2d_3 (Conv2D)            (None, 24, 24, 128)       147584    \n",
            "_________________________________________________________________\n",
            "batch_normalization_3 (Batch (None, 24, 24, 128)       512       \n",
            "_________________________________________________________________\n",
            "max_pooling2d_1 (MaxPooling2 (None, 12, 12, 128)       0         \n",
            "_________________________________________________________________\n",
            "dropout_1 (Dropout)          (None, 12, 12, 128)       0         \n",
            "_________________________________________________________________\n",
            "conv2d_4 (Conv2D)            (None, 12, 12, 256)       295168    \n",
            "_________________________________________________________________\n",
            "batch_normalization_4 (Batch (None, 12, 12, 256)       1024      \n",
            "_________________________________________________________________\n",
            "conv2d_5 (Conv2D)            (None, 12, 12, 256)       590080    \n",
            "_________________________________________________________________\n",
            "batch_normalization_5 (Batch (None, 12, 12, 256)       1024      \n",
            "_________________________________________________________________\n",
            "conv2d_6 (Conv2D)            (None, 12, 12, 256)       590080    \n",
            "_________________________________________________________________\n",
            "batch_normalization_6 (Batch (None, 12, 12, 256)       1024      \n",
            "_________________________________________________________________\n",
            "max_pooling2d_2 (MaxPooling2 (None, 6, 6, 256)         0         \n",
            "_________________________________________________________________\n",
            "dropout_2 (Dropout)          (None, 6, 6, 256)         0         \n",
            "_________________________________________________________________\n",
            "conv2d_7 (Conv2D)            (None, 6, 6, 512)         1180160   \n",
            "_________________________________________________________________\n",
            "batch_normalization_7 (Batch (None, 6, 6, 512)         2048      \n",
            "_________________________________________________________________\n",
            "conv2d_8 (Conv2D)            (None, 6, 6, 512)         2359808   \n",
            "_________________________________________________________________\n",
            "batch_normalization_8 (Batch (None, 6, 6, 512)         2048      \n",
            "_________________________________________________________________\n",
            "conv2d_9 (Conv2D)            (None, 6, 6, 512)         2359808   \n",
            "_________________________________________________________________\n",
            "batch_normalization_9 (Batch (None, 6, 6, 512)         2048      \n",
            "_________________________________________________________________\n",
            "max_pooling2d_3 (MaxPooling2 (None, 3, 3, 512)         0         \n",
            "_________________________________________________________________\n",
            "dropout_3 (Dropout)          (None, 3, 3, 512)         0         \n",
            "_________________________________________________________________\n",
            "conv2d_10 (Conv2D)           (None, 3, 3, 512)         2359808   \n",
            "_________________________________________________________________\n",
            "batch_normalization_10 (Batc (None, 3, 3, 512)         2048      \n",
            "_________________________________________________________________\n",
            "conv2d_11 (Conv2D)           (None, 3, 3, 512)         2359808   \n",
            "_________________________________________________________________\n",
            "batch_normalization_11 (Batc (None, 3, 3, 512)         2048      \n",
            "_________________________________________________________________\n",
            "conv2d_12 (Conv2D)           (None, 3, 3, 512)         2359808   \n",
            "_________________________________________________________________\n",
            "batch_normalization_12 (Batc (None, 3, 3, 512)         2048      \n",
            "_________________________________________________________________\n",
            "max_pooling2d_4 (MaxPooling2 (None, 1, 1, 512)         0         \n",
            "_________________________________________________________________\n",
            "dropout_4 (Dropout)          (None, 1, 1, 512)         0         \n",
            "_________________________________________________________________\n",
            "global_average_pooling2d (Gl (None, 512)               0         \n",
            "_________________________________________________________________\n",
            "dense (Dense)                (None, 512)               262656    \n",
            "_________________________________________________________________\n",
            "dropout_5 (Dropout)          (None, 512)               0         \n",
            "_________________________________________________________________\n",
            "dense_1 (Dense)              (None, 512)               262656    \n",
            "_________________________________________________________________\n",
            "dropout_6 (Dropout)          (None, 512)               0         \n",
            "_________________________________________________________________\n",
            "dense_2 (Dense)              (None, 7)                 3591      \n",
            "=================================================================\n",
            "Total params: 15,259,335\n",
            "Trainable params: 15,250,887\n",
            "Non-trainable params: 8,448\n",
            "_________________________________________________________________\n"
          ],
          "name": "stdout"
        }
      ]
    },
    {
      "cell_type": "code",
      "metadata": {
        "id": "nQd7m45qfWBW",
        "colab": {
          "base_uri": "https://localhost:8080/"
        },
        "outputId": "104f35ca-6c7f-4a7a-ec8a-dbb9abd1a460"
      },
      "source": [
        "trainloss = model_load.evaluate(train_flow, steps=len(X_train) / batch_size) \n",
        "print(\"Train Loss \" + str(trainloss[0]))\n",
        "print(\"Train Acc: \" + str(trainloss[1]))\n",
        "valloss = model_load.evaluate(val_flow, steps=len(X_val) / batch_size) \n",
        "print(\"Val Loss \" + str(valloss[0]))\n",
        "print(\"Val Acc: \" + str(valloss[1]))\n",
        "testloss = model_load.evaluate(test_flow, steps=len(X_test) / batch_size) \n",
        "print(\"Test Loss \" + str(testloss[0]))\n",
        "print(\"Test Acc: \" + str(testloss[1]))"
      ],
      "execution_count": 25,
      "outputs": [
        {
          "output_type": "stream",
          "text": [
            "448/448 [==============================] - 16s 34ms/step - loss: 0.9658 - accuracy: 0.6662\n",
            "Train Loss 0.9658052325248718\n",
            "Train Acc: 0.6661673784255981\n",
            "56/56 [==============================] - 1s 21ms/step - loss: 1.0816 - accuracy: 0.6342\n",
            "Val Loss 1.0816218852996826\n",
            "Val Acc: 0.6341599225997925\n",
            "56/56 [==============================] - 1s 21ms/step - loss: 1.0556 - accuracy: 0.6414\n",
            "Test Loss 1.0556045770645142\n",
            "Test Acc: 0.6414042711257935\n"
          ],
          "name": "stdout"
        }
      ]
    },
    {
      "cell_type": "code",
      "metadata": {
        "id": "kSd2i1YBFFJ2"
      },
      "source": [
        "def plot_confusion_matrix(y_test, y_pred, classes,\n",
        "                          normalize=False,\n",
        "                          title='Unnormalized confusion matrix',\n",
        "                          cmap=plt.cm.Blues):\n",
        "    cm = confusion_matrix(y_test, y_pred)\n",
        "    \n",
        "    if normalize:\n",
        "        cm = np.round(cm.astype('float') / cm.sum(axis=1)[:, np.newaxis], 2)\n",
        "        \n",
        "    np.set_printoptions(precision=2)\n",
        "        \n",
        "    plt.rcParams[\"figure.figsize\"] = (8,8)\n",
        "    plt.imshow(cm, interpolation='nearest', cmap=cmap)\n",
        "    plt.title(title)\n",
        "    plt.colorbar()\n",
        "    tick_marks = np.arange(len(classes))\n",
        "    plt.xticks(tick_marks, classes, rotation=45)\n",
        "    plt.yticks(tick_marks, classes)\n",
        "\n",
        "    thresh = cm.min() + (cm.max() - cm.min()) / 2.\n",
        "    for i, j in itertools.product(range(cm.shape[0]), range(cm.shape[1])):\n",
        "        plt.text(j, i, cm[i, j],\n",
        "                 horizontalalignment=\"center\",\n",
        "                 color=\"white\" if cm[i, j] > thresh else \"black\")\n",
        "\n",
        "    plt.tight_layout()\n",
        "    plt.ylabel('True expression')\n",
        "    plt.xlabel('Predicted expression')\n",
        "    plt.show()"
      ],
      "execution_count": 26,
      "outputs": []
    },
    {
      "cell_type": "code",
      "metadata": {
        "id": "1XLskQQMFGOX",
        "colab": {
          "base_uri": "https://localhost:8080/"
        },
        "outputId": "098a06da-a434-465b-d1af-28575f3e6485"
      },
      "source": [
        "y_pred_ = model_load.predict(X_test/255., verbose=1)\n",
        "y_pred = np.argmax(y_pred_, axis=1)\n",
        "t_te = np.argmax(y_test, axis=1)"
      ],
      "execution_count": 27,
      "outputs": [
        {
          "output_type": "stream",
          "text": [
            "113/113 [==============================] - 2s 12ms/step\n"
          ],
          "name": "stdout"
        }
      ]
    },
    {
      "cell_type": "code",
      "metadata": {
        "id": "k0FjKZ6IFHat",
        "colab": {
          "base_uri": "https://localhost:8080/",
          "height": 585
        },
        "outputId": "114a3cf0-61f5-498c-85e1-2183e8f37bac"
      },
      "source": [
        "from sklearn.metrics import confusion_matrix, classification_report\n",
        "import itertools\n",
        "\n",
        "fig = plot_confusion_matrix(y_test=t_te, y_pred=y_pred,\n",
        "                      classes=labels,\n",
        "                      normalize=True,\n",
        "                      cmap=plt.cm.Blues,\n",
        "                      title='Average accuracy: ' + str(np.sum(y_pred == t_te)/len(t_te)) + '\\n')"
      ],
      "execution_count": 28,
      "outputs": [
        {
          "output_type": "display_data",
          "data": {
            "image/png": "[encoded data removed]",
            "text/plain": [
              "<Figure size 576x576 with 2 Axes>"
            ]
          },
          "metadata": {
            "tags": [],
            "needs_background": "light"
          }
        }
      ]
    },
    {
      "cell_type": "code",
      "metadata": {
        "id": "NaoOE0okFIUd",
        "colab": {
          "base_uri": "https://localhost:8080/"
        },
        "outputId": "86d2015e-8a2b-4210-970d-7ebedabce1e6"
      },
      "source": [
        "emotions = {0: 'Angry', 1: 'Disgust', 2: 'Fear', 3: 'Happy', 4: 'Sad', 5: 'Surprise', 6: 'Neutral'}\n",
        "print(classification_report(t_te, y_pred, target_names=emotions.values()))"
      ],
      "execution_count": 29,
      "outputs": [
        {
          "output_type": "stream",
          "text": [
            "              precision    recall  f1-score   support\n",
            "\n",
            "       Angry       0.46      0.68      0.55       491\n",
            "     Disgust       0.00      0.00      0.00        55\n",
            "        Fear       0.48      0.25      0.33       528\n",
            "       Happy       0.89      0.88      0.88       879\n",
            "         Sad       0.49      0.61      0.54       594\n",
            "    Surprise       0.76      0.78      0.77       416\n",
            "     Neutral       0.70      0.60      0.65       626\n",
            "\n",
            "    accuracy                           0.64      3589\n",
            "   macro avg       0.54      0.54      0.53      3589\n",
            "weighted avg       0.64      0.64      0.63      3589\n",
            "\n"
          ],
          "name": "stdout"
        },
        {
          "output_type": "stream",
          "text": [
            "/usr/local/lib/python3.7/dist-packages/sklearn/metrics/_classification.py:1272: UndefinedMetricWarning: Precision and F-score are ill-defined and being set to 0.0 in labels with no predicted samples. Use `zero_division` parameter to control this behavior.\n",
            "  _warn_prf(average, modifier, msg_start, len(result))\n"
          ],
          "name": "stderr"
        }
      ]
    }
  ]
}