{
  "nbformat": 4,
  "nbformat_minor": 0,
  "metadata": {
    "accelerator": "GPU",
    "colab": {
      "name": "FINAL.ipynb",
      "provenance": [],
      "collapsed_sections": [],
      "include_colab_link": true
    },
    "kernelspec": {
      "display_name": "Python 3",
      "name": "python3"
    },
    "language_info": {
      "name": "python"
    }
  },
  "cells": [
    {
      "cell_type": "markdown",
      "metadata": {
        "id": "view-in-github",
        "colab_type": "text"
      },
      "source": [
        "<a href=\"https://colab.research.google.com/github/rizqyjoe/FER2013_VGG16_Modified/blob/main/Modified%20VGG16/With%20Aug/Epoch%20100/004.ipynb\" target=\"_parent\"><img src=\"https://colab.research.google.com/assets/colab-badge.svg\" alt=\"Open In Colab\"/></a>"
      ]
    },
    {
      "cell_type": "code",
      "metadata": {
        "colab": {
          "base_uri": "https://localhost:8080/"
        },
        "id": "sX-0w3h_sh6U",
        "outputId": "270a8a5a-d34f-4fd1-ddd6-873528d9938d"
      },
      "source": [
        "#mount drive\n",
        "from google.colab import drive\n",
        "drive.mount('/content/drive')"
      ],
      "execution_count": null,
      "outputs": [
        {
          "output_type": "stream",
          "text": [
            "Mounted at /content/drive\n"
          ],
          "name": "stdout"
        }
      ]
    },
    {
      "cell_type": "markdown",
      "metadata": {
        "id": "58jrp8yObBBA"
      },
      "source": [
        "# Pre-processing"
      ]
    },
    {
      "cell_type": "code",
      "metadata": {
        "id": "7nrYTmGLrD2A"
      },
      "source": [
        "import tensorflow as tf\n",
        "import keras\n",
        "from keras import backend as K\n",
        "import pandas as pd\n",
        "import numpy as np\n",
        "import matplotlib.pyplot as plt\n",
        "from keras.preprocessing import image\n",
        "from keras.preprocessing.image import ImageDataGenerator\n",
        "from keras import regularizers\n",
        "from keras.utils import np_utils\n",
        "\n",
        "import random\n",
        "\n",
        "tf.random.set_seed(1234)\n",
        "np.random.seed(1234)\n",
        "\n",
        "from keras.initializers import glorot_uniform"
      ],
      "execution_count": null,
      "outputs": []
    },
    {
      "cell_type": "code",
      "metadata": {
        "colab": {
          "base_uri": "https://localhost:8080/",
          "height": 204
        },
        "id": "0vTjzHIRrW53",
        "outputId": "0627393a-e35c-43d3-8052-231e6b3fceb8"
      },
      "source": [
        "#load file\n",
        "data= pd.read_csv('/content/drive/MyDrive/dataset/fer2013 dataset/fer2013/fer2013.csv')\n",
        "data.head()"
      ],
      "execution_count": null,
      "outputs": [
        {
          "output_type": "execute_result",
          "data": {
            "text/html": [
              "<div>\n",
              "<style scoped>\n",
              "    .dataframe tbody tr th:only-of-type {\n",
              "        vertical-align: middle;\n",
              "    }\n",
              "\n",
              "    .dataframe tbody tr th {\n",
              "        vertical-align: top;\n",
              "    }\n",
              "\n",
              "    .dataframe thead th {\n",
              "        text-align: right;\n",
              "    }\n",
              "</style>\n",
              "<table border=\"1\" class=\"dataframe\">\n",
              "  <thead>\n",
              "    <tr style=\"text-align: right;\">\n",
              "      <th></th>\n",
              "      <th>emotion</th>\n",
              "      <th>pixels</th>\n",
              "      <th>Usage</th>\n",
              "    </tr>\n",
              "  </thead>\n",
              "  <tbody>\n",
              "    <tr>\n",
              "      <th>0</th>\n",
              "      <td>0</td>\n",
              "      <td>70 80 82 72 58 58 60 63 54 58 60 48 89 115 121...</td>\n",
              "      <td>Training</td>\n",
              "    </tr>\n",
              "    <tr>\n",
              "      <th>1</th>\n",
              "      <td>0</td>\n",
              "      <td>151 150 147 155 148 133 111 140 170 174 182 15...</td>\n",
              "      <td>Training</td>\n",
              "    </tr>\n",
              "    <tr>\n",
              "      <th>2</th>\n",
              "      <td>2</td>\n",
              "      <td>231 212 156 164 174 138 161 173 182 200 106 38...</td>\n",
              "      <td>Training</td>\n",
              "    </tr>\n",
              "    <tr>\n",
              "      <th>3</th>\n",
              "      <td>4</td>\n",
              "      <td>24 32 36 30 32 23 19 20 30 41 21 22 32 34 21 1...</td>\n",
              "      <td>Training</td>\n",
              "    </tr>\n",
              "    <tr>\n",
              "      <th>4</th>\n",
              "      <td>6</td>\n",
              "      <td>4 0 0 0 0 0 0 0 0 0 0 0 3 15 23 28 48 50 58 84...</td>\n",
              "      <td>Training</td>\n",
              "    </tr>\n",
              "  </tbody>\n",
              "</table>\n",
              "</div>"
            ],
            "text/plain": [
              "   emotion                                             pixels     Usage\n",
              "0        0  70 80 82 72 58 58 60 63 54 58 60 48 89 115 121...  Training\n",
              "1        0  151 150 147 155 148 133 111 140 170 174 182 15...  Training\n",
              "2        2  231 212 156 164 174 138 161 173 182 200 106 38...  Training\n",
              "3        4  24 32 36 30 32 23 19 20 30 41 21 22 32 34 21 1...  Training\n",
              "4        6  4 0 0 0 0 0 0 0 0 0 0 0 3 15 23 28 48 50 58 84...  Training"
            ]
          },
          "metadata": {
            "tags": []
          },
          "execution_count": 3
        }
      ]
    },
    {
      "cell_type": "code",
      "metadata": {
        "colab": {
          "base_uri": "https://localhost:8080/"
        },
        "id": "NU40Z0ynrau2",
        "outputId": "4a694676-ab05-4299-8099-7e91ba92ca4f"
      },
      "source": [
        "data.emotion.value_counts()"
      ],
      "execution_count": null,
      "outputs": [
        {
          "output_type": "execute_result",
          "data": {
            "text/plain": [
              "3    8989\n",
              "6    6198\n",
              "4    6077\n",
              "2    5121\n",
              "0    4953\n",
              "5    4002\n",
              "1     547\n",
              "Name: emotion, dtype: int64"
            ]
          },
          "metadata": {
            "tags": []
          },
          "execution_count": 4
        }
      ]
    },
    {
      "cell_type": "code",
      "metadata": {
        "colab": {
          "base_uri": "https://localhost:8080/"
        },
        "id": "8MQKKFDare4e",
        "outputId": "1918f315-8d11-4415-ec71-33abf2861b01"
      },
      "source": [
        "data.Usage.value_counts()"
      ],
      "execution_count": null,
      "outputs": [
        {
          "output_type": "execute_result",
          "data": {
            "text/plain": [
              "Training       28709\n",
              "PublicTest      3589\n",
              "PrivateTest     3589\n",
              "Name: Usage, dtype: int64"
            ]
          },
          "metadata": {
            "tags": []
          },
          "execution_count": 5
        }
      ]
    },
    {
      "cell_type": "code",
      "metadata": {
        "id": "H1M2PtN54iSK"
      },
      "source": [
        "emotion_labels = [\"Angry\", \"Disgust\", \"Fear\", \"Happy\", \"Sad\", \"Surprise\", \"Neutral\"]\n",
        "labels=np.array((\"Angry\", \"Disgust\", \"Fear\", \"Happy\", \"Sad\", \"Surprise\", \"Neutral\"))"
      ],
      "execution_count": null,
      "outputs": []
    },
    {
      "cell_type": "code",
      "metadata": {
        "id": "RQlblEnwrgkW"
      },
      "source": [
        "#split data \n",
        "train_set = data[(data.Usage == 'Training')] \n",
        "val_set = data[(data.Usage == 'PublicTest')]\n",
        "test_set = data[(data.Usage == 'PrivateTest')] \n",
        "X_train = np.array(list(map(str.split, train_set.pixels)), np.float32) \n",
        "X_val = np.array(list(map(str.split, val_set.pixels)), np.float32) \n",
        "X_test = np.array(list(map(str.split, test_set.pixels)), np.float32) \n",
        "X_train = X_train.reshape(X_train.shape[0], 48, 48, 1) \n",
        "X_val = X_val.reshape(X_val.shape[0], 48, 48, 1)\n",
        "X_test = X_test.reshape(X_test.shape[0], 48, 48, 1)"
      ],
      "execution_count": null,
      "outputs": []
    },
    {
      "cell_type": "code",
      "metadata": {
        "id": "MVqY8ftoriHW"
      },
      "source": [
        "num_classes = 7\n",
        "\n",
        "y_train = train_set.emotion \n",
        "y_train = np_utils.to_categorical(y_train, num_classes) \n",
        "y_val = val_set.emotion \n",
        "y_val = np_utils.to_categorical(y_val, num_classes) \n",
        "y_test = test_set.emotion \n",
        "y_test = np_utils.to_categorical(y_test, num_classes)"
      ],
      "execution_count": null,
      "outputs": []
    },
    {
      "cell_type": "code",
      "metadata": {
        "colab": {
          "base_uri": "https://localhost:8080/"
        },
        "id": "WaMwvF5vrju-",
        "outputId": "1633f75b-be1c-4f8a-c889-81354a32f20a"
      },
      "source": [
        "print(\"x_train:\",X_train.shape)\n",
        "print(\"y_train:\",y_train.shape)\n",
        "print(\"x_val:\",X_val.shape)\n",
        "print(\"y_val:\",y_val.shape)\n",
        "print(\"x_test:\",X_test.shape)\n",
        "print(\"y_test:\",y_test.shape)"
      ],
      "execution_count": null,
      "outputs": [
        {
          "output_type": "stream",
          "text": [
            "x_train: (28709, 48, 48, 1)\n",
            "y_train: (28709, 7)\n",
            "x_val: (3589, 48, 48, 1)\n",
            "y_val: (3589, 7)\n",
            "x_test: (3589, 48, 48, 1)\n",
            "y_test: (3589, 7)\n"
          ],
          "name": "stdout"
        }
      ]
    },
    {
      "cell_type": "code",
      "metadata": {
        "id": "DzChH8hGrldw"
      },
      "source": [
        "#data augmentation\n",
        "\n",
        "datagen = ImageDataGenerator(rescale=1./255,\n",
        "                             rotation_range=10,\n",
        "                             width_shift_range=0.2,\n",
        "                             height_shift_range=0.2, \n",
        "                             zoom_range=0.2,\n",
        "                             horizontal_flip=True)\n",
        "\n",
        "#datagen = ImageDataGenerator(rescale=1./255)\n",
        "\n",
        "testgen = ImageDataGenerator(rescale=1./255)\n",
        "\n",
        "\n",
        "datagen.fit(X_train)\n",
        "batch_size = 64"
      ],
      "execution_count": null,
      "outputs": []
    },
    {
      "cell_type": "code",
      "metadata": {
        "id": "d-nkOZUfrm_e"
      },
      "source": [
        "train_flow = datagen.flow(X_train, y_train, batch_size=batch_size) \n",
        "val_flow = testgen.flow(X_val, y_val, batch_size=batch_size) \n",
        "test_flow = testgen.flow(X_test, y_test, batch_size=batch_size)"
      ],
      "execution_count": null,
      "outputs": []
    },
    {
      "cell_type": "code",
      "metadata": {
        "id": "3u6vR_8CroMG"
      },
      "source": [
        "from tensorflow.keras.utils import plot_model\n",
        "from matplotlib import pyplot"
      ],
      "execution_count": null,
      "outputs": []
    },
    {
      "cell_type": "code",
      "metadata": {
        "colab": {
          "base_uri": "https://localhost:8080/",
          "height": 248
        },
        "id": "HZ6sB7a0rp0O",
        "outputId": "16680705-4649-4550-face-191bcc145047"
      },
      "source": [
        "#displaying sample images\n",
        "for X_batch, y_batch in datagen.flow(X_train, y_train, batch_size=9):\n",
        "    for i in range(0, 9): \n",
        "        pyplot.axis('off') \n",
        "        pyplot.subplot(330 + 1 + i) \n",
        "        pyplot.imshow(X_batch[i].reshape(48, 48), cmap=pyplot.get_cmap('gray'))\n",
        "    pyplot.axis('off') \n",
        "    pyplot.show() \n",
        "    break"
      ],
      "execution_count": null,
      "outputs": [
        {
          "output_type": "display_data",
          "data": {
            "image/png": "[encoded data removed]",
            "text/plain": [
              "<Figure size 432x288 with 9 Axes>"
            ]
          },
          "metadata": {
            "tags": [],
            "needs_background": "light"
          }
        }
      ]
    },
    {
      "cell_type": "markdown",
      "metadata": {
        "id": "mH061hQUbJsv"
      },
      "source": [
        "# Training Model"
      ]
    },
    {
      "cell_type": "code",
      "metadata": {
        "id": "rxqJ_jM_mSTg",
        "colab": {
          "base_uri": "https://localhost:8080/"
        },
        "outputId": "7922b3e0-053d-4332-e57d-dae3c7f9d98b"
      },
      "source": [
        "#Model 3\n",
        "from keras.models import Sequential\n",
        "from keras.layers import Input, Dense, Flatten, Dropout, Conv2D, MaxPool2D, BatchNormalization, GlobalAveragePooling2D\n",
        "\n",
        "input_shape = (48, 48, 1)\n",
        "\n",
        "model = Sequential()\n",
        "\n",
        "model.add(Conv2D(filters=64,input_shape=(input_shape),kernel_size=(3,3),padding=\"same\", activation=\"relu\", kernel_initializer = glorot_uniform(seed=0)))\n",
        "model.add(BatchNormalization())\n",
        "model.add(Conv2D(filters=64,kernel_size=(3,3),padding=\"same\", activation=\"relu\", kernel_initializer = glorot_uniform(seed=0)))\n",
        "model.add(BatchNormalization())\n",
        "model.add(MaxPool2D(pool_size=(2,2),strides=(2,2)))\n",
        "model.add(Dropout(0.2))\n",
        "\n",
        "model.add(Conv2D(filters=128, kernel_size=(3,3), padding=\"same\", activation=\"relu\", kernel_initializer = glorot_uniform(seed=0)))\n",
        "model.add(BatchNormalization())\n",
        "model.add(Conv2D(filters=128, kernel_size=(3,3), padding=\"same\", activation=\"relu\", kernel_initializer = glorot_uniform(seed=0)))\n",
        "model.add(BatchNormalization())\n",
        "model.add(MaxPool2D(pool_size=(2,2),strides=(2,2)))\n",
        "model.add(Dropout(0.3))\n",
        "\n",
        "model.add(Conv2D(filters=256, kernel_size=(3,3), padding=\"same\", activation=\"relu\", kernel_initializer = glorot_uniform(seed=0)))\n",
        "model.add(BatchNormalization())\n",
        "model.add(Conv2D(filters=256, kernel_size=(3,3), padding=\"same\", activation=\"relu\", kernel_initializer = glorot_uniform(seed=0)))\n",
        "model.add(BatchNormalization())\n",
        "model.add(Conv2D(filters=256, kernel_size=(3,3), padding=\"same\", activation=\"relu\", kernel_initializer = glorot_uniform(seed=0)))\n",
        "model.add(BatchNormalization())\n",
        "model.add(MaxPool2D(pool_size=(2,2),strides=(2,2)))\n",
        "model.add(Dropout(0.4))\n",
        "\n",
        "model.add(Conv2D(filters=512, kernel_size=(3,3), padding=\"same\", activation=\"relu\", kernel_initializer = glorot_uniform(seed=0)))\n",
        "model.add(BatchNormalization())\n",
        "model.add(Conv2D(filters=512, kernel_size=(3,3), padding=\"same\", activation=\"relu\", kernel_initializer = glorot_uniform(seed=0)))\n",
        "model.add(BatchNormalization())\n",
        "model.add(Conv2D(filters=512, kernel_size=(3,3), padding=\"same\", activation=\"relu\", kernel_initializer = glorot_uniform(seed=0)))\n",
        "model.add(BatchNormalization())\n",
        "model.add(MaxPool2D(pool_size=(2,2),strides=(2,2)))\n",
        "model.add(Dropout(0.5))\n",
        "\n",
        "model.add(Conv2D(filters=512, kernel_size=(3,3), padding=\"same\", activation=\"relu\", kernel_initializer = glorot_uniform(seed=0)))\n",
        "model.add(BatchNormalization())\n",
        "model.add(Conv2D(filters=512, kernel_size=(3,3), padding=\"same\", activation=\"relu\", kernel_initializer = glorot_uniform(seed=0)))\n",
        "model.add(BatchNormalization())\n",
        "model.add(Conv2D(filters=512, kernel_size=(3,3), padding=\"same\", activation=\"relu\", kernel_initializer = glorot_uniform(seed=0)))\n",
        "model.add(BatchNormalization())\n",
        "model.add(MaxPool2D(pool_size=(2,2),strides=(2,2)))\n",
        "model.add(Dropout(0.6))\n",
        "\n",
        "#model.add(Flatten())\n",
        "model.add(GlobalAveragePooling2D())\n",
        "\n",
        "model.add(Dense(512,activation='relu'))\n",
        "model.add(Dropout(0.5))\n",
        "model.add(Dense(512,activation='relu'))\n",
        "model.add(Dropout(0.5))\n",
        "\n",
        "model.add(Dense(units=num_classes, activation='softmax'))\n",
        "\n",
        "# print the model summary\n",
        "model.summary()"
      ],
      "execution_count": null,
      "outputs": [
        {
          "output_type": "stream",
          "text": [
            "Model: \"sequential\"\n",
            "_________________________________________________________________\n",
            "Layer (type)                 Output Shape              Param #   \n",
            "=================================================================\n",
            "conv2d (Conv2D)              (None, 48, 48, 64)        640       \n",
            "_________________________________________________________________\n",
            "batch_normalization (BatchNo (None, 48, 48, 64)        256       \n",
            "_________________________________________________________________\n",
            "conv2d_1 (Conv2D)            (None, 48, 48, 64)        36928     \n",
            "_________________________________________________________________\n",
            "batch_normalization_1 (Batch (None, 48, 48, 64)        256       \n",
            "_________________________________________________________________\n",
            "max_pooling2d (MaxPooling2D) (None, 24, 24, 64)        0         \n",
            "_________________________________________________________________\n",
            "dropout (Dropout)            (None, 24, 24, 64)        0         \n",
            "_________________________________________________________________\n",
            "conv2d_2 (Conv2D)            (None, 24, 24, 128)       73856     \n",
            "_________________________________________________________________\n",
            "batch_normalization_2 (Batch (None, 24, 24, 128)       512       \n",
            "_________________________________________________________________\n",
            "conv2d_3 (Conv2D)            (None, 24, 24, 128)       147584    \n",
            "_________________________________________________________________\n",
            "batch_normalization_3 (Batch (None, 24, 24, 128)       512       \n",
            "_________________________________________________________________\n",
            "max_pooling2d_1 (MaxPooling2 (None, 12, 12, 128)       0         \n",
            "_________________________________________________________________\n",
            "dropout_1 (Dropout)          (None, 12, 12, 128)       0         \n",
            "_________________________________________________________________\n",
            "conv2d_4 (Conv2D)            (None, 12, 12, 256)       295168    \n",
            "_________________________________________________________________\n",
            "batch_normalization_4 (Batch (None, 12, 12, 256)       1024      \n",
            "_________________________________________________________________\n",
            "conv2d_5 (Conv2D)            (None, 12, 12, 256)       590080    \n",
            "_________________________________________________________________\n",
            "batch_normalization_5 (Batch (None, 12, 12, 256)       1024      \n",
            "_________________________________________________________________\n",
            "conv2d_6 (Conv2D)            (None, 12, 12, 256)       590080    \n",
            "_________________________________________________________________\n",
            "batch_normalization_6 (Batch (None, 12, 12, 256)       1024      \n",
            "_________________________________________________________________\n",
            "max_pooling2d_2 (MaxPooling2 (None, 6, 6, 256)         0         \n",
            "_________________________________________________________________\n",
            "dropout_2 (Dropout)          (None, 6, 6, 256)         0         \n",
            "_________________________________________________________________\n",
            "conv2d_7 (Conv2D)            (None, 6, 6, 512)         1180160   \n",
            "_________________________________________________________________\n",
            "batch_normalization_7 (Batch (None, 6, 6, 512)         2048      \n",
            "_________________________________________________________________\n",
            "conv2d_8 (Conv2D)            (None, 6, 6, 512)         2359808   \n",
            "_________________________________________________________________\n",
            "batch_normalization_8 (Batch (None, 6, 6, 512)         2048      \n",
            "_________________________________________________________________\n",
            "conv2d_9 (Conv2D)            (None, 6, 6, 512)         2359808   \n",
            "_________________________________________________________________\n",
            "batch_normalization_9 (Batch (None, 6, 6, 512)         2048      \n",
            "_________________________________________________________________\n",
            "max_pooling2d_3 (MaxPooling2 (None, 3, 3, 512)         0         \n",
            "_________________________________________________________________\n",
            "dropout_3 (Dropout)          (None, 3, 3, 512)         0         \n",
            "_________________________________________________________________\n",
            "conv2d_10 (Conv2D)           (None, 3, 3, 512)         2359808   \n",
            "_________________________________________________________________\n",
            "batch_normalization_10 (Batc (None, 3, 3, 512)         2048      \n",
            "_________________________________________________________________\n",
            "conv2d_11 (Conv2D)           (None, 3, 3, 512)         2359808   \n",
            "_________________________________________________________________\n",
            "batch_normalization_11 (Batc (None, 3, 3, 512)         2048      \n",
            "_________________________________________________________________\n",
            "conv2d_12 (Conv2D)           (None, 3, 3, 512)         2359808   \n",
            "_________________________________________________________________\n",
            "batch_normalization_12 (Batc (None, 3, 3, 512)         2048      \n",
            "_________________________________________________________________\n",
            "max_pooling2d_4 (MaxPooling2 (None, 1, 1, 512)         0         \n",
            "_________________________________________________________________\n",
            "dropout_4 (Dropout)          (None, 1, 1, 512)         0         \n",
            "_________________________________________________________________\n",
            "global_average_pooling2d (Gl (None, 512)               0         \n",
            "_________________________________________________________________\n",
            "dense (Dense)                (None, 512)               262656    \n",
            "_________________________________________________________________\n",
            "dropout_5 (Dropout)          (None, 512)               0         \n",
            "_________________________________________________________________\n",
            "dense_1 (Dense)              (None, 512)               262656    \n",
            "_________________________________________________________________\n",
            "dropout_6 (Dropout)          (None, 512)               0         \n",
            "_________________________________________________________________\n",
            "dense_2 (Dense)              (None, 7)                 3591      \n",
            "=================================================================\n",
            "Total params: 15,259,335\n",
            "Trainable params: 15,250,887\n",
            "Non-trainable params: 8,448\n",
            "_________________________________________________________________\n"
          ],
          "name": "stdout"
        }
      ]
    },
    {
      "cell_type": "code",
      "metadata": {
        "id": "6xCtG0jqFgve"
      },
      "source": [
        "#Model ori\n",
        "'''from keras.models import Sequential\n",
        "from keras.layers import Input, Dense, Flatten, Dropout, Conv2D, MaxPool2D, BatchNormalization, Activation\n",
        "\n",
        "input_shape = (48, 48, 1)\n",
        "\n",
        "model = Sequential()\n",
        "\n",
        "model.add(Conv2D(filters=64,input_shape=(input_shape),kernel_size=(3,3),padding=\"same\", activation=\"relu\", kernel_initializer = glorot_uniform(seed=0)))\n",
        "model.add(Conv2D(filters=64,kernel_size=(3,3),padding=\"same\", activation=\"relu\", kernel_initializer = glorot_uniform(seed=0)))\n",
        "model.add(MaxPool2D(pool_size=(2,2),strides=(2,2)))\n",
        "\n",
        "model.add(Conv2D(filters=128, kernel_size=(3,3), padding=\"same\", activation=\"relu\", kernel_initializer = glorot_uniform(seed=0)))\n",
        "model.add(Conv2D(filters=128, kernel_size=(3,3), padding=\"same\", activation=\"relu\", kernel_initializer = glorot_uniform(seed=0)))\n",
        "model.add(MaxPool2D(pool_size=(2,2),strides=(2,2)))\n",
        "\n",
        "model.add(Conv2D(filters=256, kernel_size=(3,3), padding=\"same\", activation=\"relu\", kernel_initializer = glorot_uniform(seed=0)))\n",
        "model.add(Conv2D(filters=256, kernel_size=(3,3), padding=\"same\", activation=\"relu\", kernel_initializer = glorot_uniform(seed=0)))\n",
        "model.add(Conv2D(filters=256, kernel_size=(3,3), padding=\"same\", activation=\"relu\", kernel_initializer = glorot_uniform(seed=1)))\n",
        "model.add(MaxPool2D(pool_size=(2,2),strides=(2,2)))\n",
        "\n",
        "model.add(Conv2D(filters=512, kernel_size=(3,3), padding=\"same\", activation=\"relu\", kernel_initializer = glorot_uniform(seed=0)))\n",
        "model.add(Conv2D(filters=512, kernel_size=(3,3), padding=\"same\", activation=\"relu\", kernel_initializer = glorot_uniform(seed=0)))\n",
        "model.add(Conv2D(filters=512, kernel_size=(3,3), padding=\"same\", activation=\"relu\", kernel_initializer = glorot_uniform(seed=0)))\n",
        "model.add(MaxPool2D(pool_size=(2,2),strides=(2,2)))\n",
        "\n",
        "model.add(Conv2D(filters=512, kernel_size=(3,3), padding=\"same\", activation=\"relu\", kernel_initializer = glorot_uniform(seed=0)))\n",
        "model.add(Conv2D(filters=512, kernel_size=(3,3), padding=\"same\", activation=\"relu\", kernel_initializer = glorot_uniform(seed=0)))\n",
        "model.add(Conv2D(filters=512, kernel_size=(3,3), padding=\"same\", activation=\"relu\", kernel_initializer = glorot_uniform(seed=0)))\n",
        "model.add(MaxPool2D(pool_size=(2,2),strides=(2,2)))\n",
        "\n",
        "model.add(Flatten())\n",
        "\n",
        "model.add(Dense(4096,activation='relu'))\n",
        "model.add(Dense(4096,activation='relu'))\n",
        "model.add(Dense(units=num_classes, activation='softmax'))\n",
        "\n",
        "# print the model summary\n",
        "model.summary()"
      ],
      "execution_count": null,
      "outputs": []
    },
    {
      "cell_type": "code",
      "metadata": {
        "id": "0S679DUacsgI"
      },
      "source": [
        "#save plot model to file\n",
        "from keras.utils.vis_utils import plot_model\n",
        "plot_model(model, to_file=\"model_ori.png\", show_shapes=True, show_layer_names=False)"
      ],
      "execution_count": null,
      "outputs": []
    },
    {
      "cell_type": "code",
      "metadata": {
        "id": "LhxgJX3brul-"
      },
      "source": [
        "#compile model\n",
        "from keras.optimizers import Adam,SGD,RMSprop\n",
        "\n",
        "opt = Adam(learning_rate=0.0005)\n",
        "model.compile(loss='categorical_crossentropy', optimizer=opt, metrics=['accuracy'])"
      ],
      "execution_count": null,
      "outputs": []
    },
    {
      "cell_type": "code",
      "metadata": {
        "colab": {
          "base_uri": "https://localhost:8080/"
        },
        "id": "ljPuPM2iryKG",
        "outputId": "ad58e606-9c8f-40db-d95e-d6465425cefa"
      },
      "source": [
        "# fit the model\n",
        "num_epochs = 100\n",
        "history = model.fit(train_flow, \n",
        "                    steps_per_epoch=len(X_train) // batch_size, \n",
        "                    epochs=num_epochs,  \n",
        "                    verbose=1,  \n",
        "                    validation_data=val_flow,  \n",
        "                    validation_steps=len(X_val) // batch_size)"
      ],
      "execution_count": null,
      "outputs": [
        {
          "output_type": "stream",
          "text": [
            "Epoch 1/100\n",
            "448/448 [==============================] - 122s 157ms/step - loss: 2.4818 - accuracy: 0.1955 - val_loss: 1.8318 - val_accuracy: 0.2511\n",
            "Epoch 2/100\n",
            "448/448 [==============================] - 67s 150ms/step - loss: 1.8451 - accuracy: 0.2290 - val_loss: 1.8160 - val_accuracy: 0.2584\n",
            "Epoch 3/100\n",
            "448/448 [==============================] - 67s 150ms/step - loss: 1.8128 - accuracy: 0.2425 - val_loss: 1.8075 - val_accuracy: 0.2349\n",
            "Epoch 4/100\n",
            "448/448 [==============================] - 67s 150ms/step - loss: 1.7729 - accuracy: 0.2640 - val_loss: 1.6610 - val_accuracy: 0.3315\n",
            "Epoch 5/100\n",
            "448/448 [==============================] - 67s 150ms/step - loss: 1.6837 - accuracy: 0.3250 - val_loss: 1.4920 - val_accuracy: 0.4110\n",
            "Epoch 6/100\n",
            "448/448 [==============================] - 67s 150ms/step - loss: 1.5565 - accuracy: 0.3927 - val_loss: 1.4182 - val_accuracy: 0.4411\n",
            "Epoch 7/100\n",
            "448/448 [==============================] - 67s 150ms/step - loss: 1.4696 - accuracy: 0.4348 - val_loss: 1.3246 - val_accuracy: 0.4958\n",
            "Epoch 8/100\n",
            "448/448 [==============================] - 67s 150ms/step - loss: 1.4045 - accuracy: 0.4623 - val_loss: 1.4078 - val_accuracy: 0.4741\n",
            "Epoch 9/100\n",
            "448/448 [==============================] - 67s 150ms/step - loss: 1.3537 - accuracy: 0.4919 - val_loss: 1.2786 - val_accuracy: 0.5084\n",
            "Epoch 10/100\n",
            "448/448 [==============================] - 68s 151ms/step - loss: 1.3300 - accuracy: 0.5020 - val_loss: 1.2428 - val_accuracy: 0.5282\n",
            "Epoch 11/100\n",
            "448/448 [==============================] - 67s 150ms/step - loss: 1.2850 - accuracy: 0.5158 - val_loss: 1.1511 - val_accuracy: 0.5698\n",
            "Epoch 12/100\n",
            "448/448 [==============================] - 68s 151ms/step - loss: 1.2650 - accuracy: 0.5278 - val_loss: 1.2019 - val_accuracy: 0.5371\n",
            "Epoch 13/100\n",
            "448/448 [==============================] - 67s 150ms/step - loss: 1.2338 - accuracy: 0.5498 - val_loss: 1.1796 - val_accuracy: 0.5614\n",
            "Epoch 14/100\n",
            "448/448 [==============================] - 67s 150ms/step - loss: 1.2286 - accuracy: 0.5425 - val_loss: 1.1509 - val_accuracy: 0.5664\n",
            "Epoch 15/100\n",
            "448/448 [==============================] - 67s 150ms/step - loss: 1.2007 - accuracy: 0.5535 - val_loss: 1.0966 - val_accuracy: 0.5845\n",
            "Epoch 16/100\n",
            "448/448 [==============================] - 67s 150ms/step - loss: 1.1826 - accuracy: 0.5580 - val_loss: 1.1479 - val_accuracy: 0.5759\n",
            "Epoch 17/100\n",
            "448/448 [==============================] - 67s 150ms/step - loss: 1.1674 - accuracy: 0.5718 - val_loss: 1.1004 - val_accuracy: 0.5915\n",
            "Epoch 18/100\n",
            "448/448 [==============================] - 67s 150ms/step - loss: 1.1509 - accuracy: 0.5755 - val_loss: 1.2012 - val_accuracy: 0.5541\n",
            "Epoch 19/100\n",
            "448/448 [==============================] - 67s 150ms/step - loss: 1.1219 - accuracy: 0.5950 - val_loss: 1.2099 - val_accuracy: 0.5460\n",
            "Epoch 20/100\n",
            "448/448 [==============================] - 67s 150ms/step - loss: 1.1154 - accuracy: 0.5943 - val_loss: 1.0919 - val_accuracy: 0.5884\n",
            "Epoch 21/100\n",
            "448/448 [==============================] - 67s 150ms/step - loss: 1.0986 - accuracy: 0.6031 - val_loss: 1.0419 - val_accuracy: 0.6233\n",
            "Epoch 22/100\n",
            "448/448 [==============================] - 67s 150ms/step - loss: 1.0709 - accuracy: 0.6126 - val_loss: 1.0139 - val_accuracy: 0.6247\n",
            "Epoch 23/100\n",
            "448/448 [==============================] - 67s 150ms/step - loss: 1.0619 - accuracy: 0.6151 - val_loss: 1.0501 - val_accuracy: 0.6113\n",
            "Epoch 24/100\n",
            "448/448 [==============================] - 67s 150ms/step - loss: 1.0395 - accuracy: 0.6241 - val_loss: 1.0599 - val_accuracy: 0.6024\n",
            "Epoch 25/100\n",
            "448/448 [==============================] - 68s 151ms/step - loss: 1.0473 - accuracy: 0.6212 - val_loss: 1.0643 - val_accuracy: 0.6147\n",
            "Epoch 26/100\n",
            "448/448 [==============================] - 67s 150ms/step - loss: 1.0227 - accuracy: 0.6295 - val_loss: 1.1005 - val_accuracy: 0.5999\n",
            "Epoch 27/100\n",
            "448/448 [==============================] - 67s 150ms/step - loss: 1.0300 - accuracy: 0.6258 - val_loss: 0.9718 - val_accuracy: 0.6420\n",
            "Epoch 28/100\n",
            "448/448 [==============================] - 67s 150ms/step - loss: 1.0122 - accuracy: 0.6270 - val_loss: 0.9711 - val_accuracy: 0.6426\n",
            "Epoch 29/100\n",
            "448/448 [==============================] - 67s 150ms/step - loss: 0.9841 - accuracy: 0.6411 - val_loss: 1.0104 - val_accuracy: 0.6334\n",
            "Epoch 30/100\n",
            "448/448 [==============================] - 67s 150ms/step - loss: 0.9932 - accuracy: 0.6436 - val_loss: 0.9626 - val_accuracy: 0.6440\n",
            "Epoch 31/100\n",
            "448/448 [==============================] - 67s 150ms/step - loss: 0.9687 - accuracy: 0.6495 - val_loss: 0.9830 - val_accuracy: 0.6429\n",
            "Epoch 32/100\n",
            "448/448 [==============================] - 67s 150ms/step - loss: 0.9695 - accuracy: 0.6453 - val_loss: 0.9955 - val_accuracy: 0.6395\n",
            "Epoch 33/100\n",
            "448/448 [==============================] - 67s 150ms/step - loss: 0.9551 - accuracy: 0.6521 - val_loss: 1.0273 - val_accuracy: 0.6281\n",
            "Epoch 34/100\n",
            "448/448 [==============================] - 67s 150ms/step - loss: 0.9370 - accuracy: 0.6633 - val_loss: 0.9359 - val_accuracy: 0.6590\n",
            "Epoch 35/100\n",
            "448/448 [==============================] - 67s 150ms/step - loss: 0.9384 - accuracy: 0.6600 - val_loss: 0.9910 - val_accuracy: 0.6535\n",
            "Epoch 36/100\n",
            "448/448 [==============================] - 67s 150ms/step - loss: 0.9246 - accuracy: 0.6641 - val_loss: 0.9462 - val_accuracy: 0.6568\n",
            "Epoch 37/100\n",
            "448/448 [==============================] - 67s 151ms/step - loss: 0.9239 - accuracy: 0.6666 - val_loss: 0.9444 - val_accuracy: 0.6590\n",
            "Epoch 38/100\n",
            "448/448 [==============================] - 67s 150ms/step - loss: 0.9081 - accuracy: 0.6696 - val_loss: 1.0145 - val_accuracy: 0.6303\n",
            "Epoch 39/100\n",
            "448/448 [==============================] - 67s 150ms/step - loss: 0.9049 - accuracy: 0.6747 - val_loss: 1.0061 - val_accuracy: 0.6364\n",
            "Epoch 40/100\n",
            "448/448 [==============================] - 67s 150ms/step - loss: 0.8971 - accuracy: 0.6767 - val_loss: 0.9896 - val_accuracy: 0.6501\n",
            "Epoch 41/100\n",
            "448/448 [==============================] - 67s 150ms/step - loss: 0.8756 - accuracy: 0.6859 - val_loss: 0.9586 - val_accuracy: 0.6627\n",
            "Epoch 42/100\n",
            "448/448 [==============================] - 67s 151ms/step - loss: 0.8796 - accuracy: 0.6839 - val_loss: 0.9885 - val_accuracy: 0.6381\n",
            "Epoch 43/100\n",
            "448/448 [==============================] - 67s 150ms/step - loss: 0.8654 - accuracy: 0.6860 - val_loss: 0.9496 - val_accuracy: 0.6590\n",
            "Epoch 44/100\n",
            "448/448 [==============================] - 67s 150ms/step - loss: 0.8701 - accuracy: 0.6848 - val_loss: 0.9595 - val_accuracy: 0.6579\n",
            "Epoch 45/100\n",
            "448/448 [==============================] - 67s 150ms/step - loss: 0.8640 - accuracy: 0.6897 - val_loss: 0.9560 - val_accuracy: 0.6607\n",
            "Epoch 46/100\n",
            "448/448 [==============================] - 67s 150ms/step - loss: 0.8462 - accuracy: 0.6953 - val_loss: 0.9568 - val_accuracy: 0.6526\n",
            "Epoch 47/100\n",
            "448/448 [==============================] - 67s 150ms/step - loss: 0.8409 - accuracy: 0.6959 - val_loss: 1.0156 - val_accuracy: 0.6576\n",
            "Epoch 48/100\n",
            "448/448 [==============================] - 67s 150ms/step - loss: 0.8475 - accuracy: 0.6920 - val_loss: 0.9377 - val_accuracy: 0.6602\n",
            "Epoch 49/100\n",
            "448/448 [==============================] - 67s 150ms/step - loss: 0.8300 - accuracy: 0.7049 - val_loss: 0.9486 - val_accuracy: 0.6680\n",
            "Epoch 50/100\n",
            "448/448 [==============================] - 67s 150ms/step - loss: 0.8352 - accuracy: 0.7007 - val_loss: 0.9305 - val_accuracy: 0.6705\n",
            "Epoch 51/100\n",
            "448/448 [==============================] - 67s 150ms/step - loss: 0.8363 - accuracy: 0.6994 - val_loss: 0.9428 - val_accuracy: 0.6649\n",
            "Epoch 52/100\n",
            "448/448 [==============================] - 67s 150ms/step - loss: 0.8121 - accuracy: 0.7091 - val_loss: 0.9431 - val_accuracy: 0.6585\n",
            "Epoch 53/100\n",
            "448/448 [==============================] - 67s 150ms/step - loss: 0.8075 - accuracy: 0.7126 - val_loss: 1.0077 - val_accuracy: 0.6582\n",
            "Epoch 54/100\n",
            "448/448 [==============================] - 68s 151ms/step - loss: 0.8043 - accuracy: 0.7142 - val_loss: 0.9629 - val_accuracy: 0.6705\n",
            "Epoch 55/100\n",
            "448/448 [==============================] - 67s 150ms/step - loss: 0.7963 - accuracy: 0.7148 - val_loss: 0.9486 - val_accuracy: 0.6710\n",
            "Epoch 56/100\n",
            "448/448 [==============================] - 67s 150ms/step - loss: 0.7884 - accuracy: 0.7172 - val_loss: 0.9403 - val_accuracy: 0.6705\n",
            "Epoch 57/100\n",
            "448/448 [==============================] - 67s 150ms/step - loss: 0.7842 - accuracy: 0.7201 - val_loss: 0.9626 - val_accuracy: 0.6588\n",
            "Epoch 58/100\n",
            "448/448 [==============================] - 67s 150ms/step - loss: 0.7765 - accuracy: 0.7230 - val_loss: 0.9613 - val_accuracy: 0.6596\n",
            "Epoch 59/100\n",
            "448/448 [==============================] - 68s 151ms/step - loss: 0.7838 - accuracy: 0.7162 - val_loss: 0.9188 - val_accuracy: 0.6747\n",
            "Epoch 60/100\n",
            "448/448 [==============================] - 67s 150ms/step - loss: 0.7727 - accuracy: 0.7234 - val_loss: 0.9544 - val_accuracy: 0.6738\n",
            "Epoch 61/100\n",
            "448/448 [==============================] - 67s 150ms/step - loss: 0.7534 - accuracy: 0.7313 - val_loss: 1.0063 - val_accuracy: 0.6462\n",
            "Epoch 62/100\n",
            "448/448 [==============================] - 67s 150ms/step - loss: 0.7705 - accuracy: 0.7256 - val_loss: 1.0077 - val_accuracy: 0.6565\n",
            "Epoch 63/100\n",
            "448/448 [==============================] - 67s 150ms/step - loss: 0.7698 - accuracy: 0.7195 - val_loss: 0.9506 - val_accuracy: 0.6789\n",
            "Epoch 64/100\n",
            "448/448 [==============================] - 67s 150ms/step - loss: 0.7497 - accuracy: 0.7299 - val_loss: 0.9698 - val_accuracy: 0.6758\n",
            "Epoch 65/100\n",
            "448/448 [==============================] - 67s 150ms/step - loss: 0.7374 - accuracy: 0.7335 - val_loss: 0.9587 - val_accuracy: 0.6713\n",
            "Epoch 66/100\n",
            "448/448 [==============================] - 68s 151ms/step - loss: 0.7436 - accuracy: 0.7290 - val_loss: 0.9574 - val_accuracy: 0.6791\n",
            "Epoch 67/100\n",
            "448/448 [==============================] - 67s 150ms/step - loss: 0.7404 - accuracy: 0.7321 - val_loss: 0.9755 - val_accuracy: 0.6699\n",
            "Epoch 68/100\n",
            "448/448 [==============================] - 67s 151ms/step - loss: 0.7365 - accuracy: 0.7343 - val_loss: 0.9157 - val_accuracy: 0.6850\n",
            "Epoch 69/100\n",
            "448/448 [==============================] - 67s 150ms/step - loss: 0.7180 - accuracy: 0.7401 - val_loss: 1.0088 - val_accuracy: 0.6657\n",
            "Epoch 70/100\n",
            "448/448 [==============================] - 67s 151ms/step - loss: 0.7162 - accuracy: 0.7468 - val_loss: 0.9848 - val_accuracy: 0.6705\n",
            "Epoch 71/100\n",
            "448/448 [==============================] - 67s 150ms/step - loss: 0.7163 - accuracy: 0.7403 - val_loss: 0.9990 - val_accuracy: 0.6719\n",
            "Epoch 72/100\n",
            "448/448 [==============================] - 67s 150ms/step - loss: 0.7096 - accuracy: 0.7436 - val_loss: 0.9868 - val_accuracy: 0.6682\n",
            "Epoch 73/100\n",
            "448/448 [==============================] - 67s 150ms/step - loss: 0.7015 - accuracy: 0.7446 - val_loss: 0.9372 - val_accuracy: 0.6763\n",
            "Epoch 74/100\n",
            "448/448 [==============================] - 67s 150ms/step - loss: 0.7085 - accuracy: 0.7446 - val_loss: 0.9646 - val_accuracy: 0.6825\n",
            "Epoch 75/100\n",
            "448/448 [==============================] - 67s 150ms/step - loss: 0.6902 - accuracy: 0.7520 - val_loss: 1.0456 - val_accuracy: 0.6574\n",
            "Epoch 76/100\n",
            "448/448 [==============================] - 67s 150ms/step - loss: 0.6896 - accuracy: 0.7540 - val_loss: 0.9518 - val_accuracy: 0.6705\n",
            "Epoch 77/100\n",
            "448/448 [==============================] - 67s 150ms/step - loss: 0.6935 - accuracy: 0.7540 - val_loss: 1.0858 - val_accuracy: 0.6281\n",
            "Epoch 78/100\n",
            "448/448 [==============================] - 67s 150ms/step - loss: 0.7204 - accuracy: 0.7398 - val_loss: 0.9923 - val_accuracy: 0.6716\n",
            "Epoch 79/100\n",
            "448/448 [==============================] - 67s 150ms/step - loss: 0.6805 - accuracy: 0.7559 - val_loss: 0.9753 - val_accuracy: 0.6763\n",
            "Epoch 80/100\n",
            "448/448 [==============================] - 67s 150ms/step - loss: 0.6691 - accuracy: 0.7641 - val_loss: 1.0053 - val_accuracy: 0.6775\n",
            "Epoch 81/100\n",
            "448/448 [==============================] - 67s 150ms/step - loss: 0.7033 - accuracy: 0.7478 - val_loss: 0.9533 - val_accuracy: 0.6763\n",
            "Epoch 82/100\n",
            "448/448 [==============================] - 67s 150ms/step - loss: 0.6552 - accuracy: 0.7656 - val_loss: 0.9877 - val_accuracy: 0.6727\n",
            "Epoch 83/100\n",
            "448/448 [==============================] - 67s 150ms/step - loss: 0.6491 - accuracy: 0.7677 - val_loss: 0.9634 - val_accuracy: 0.6805\n",
            "Epoch 84/100\n",
            "448/448 [==============================] - 67s 150ms/step - loss: 0.6604 - accuracy: 0.7659 - val_loss: 1.0091 - val_accuracy: 0.6766\n",
            "Epoch 85/100\n",
            "448/448 [==============================] - 67s 151ms/step - loss: 0.6391 - accuracy: 0.7711 - val_loss: 1.0523 - val_accuracy: 0.6694\n",
            "Epoch 86/100\n",
            "448/448 [==============================] - 68s 151ms/step - loss: 0.6367 - accuracy: 0.7723 - val_loss: 0.9951 - val_accuracy: 0.6624\n",
            "Epoch 87/100\n",
            "448/448 [==============================] - 67s 150ms/step - loss: 0.6286 - accuracy: 0.7773 - val_loss: 0.9987 - val_accuracy: 0.6808\n",
            "Epoch 88/100\n",
            "448/448 [==============================] - 67s 150ms/step - loss: 0.6381 - accuracy: 0.7745 - val_loss: 0.9973 - val_accuracy: 0.6749\n",
            "Epoch 89/100\n",
            "448/448 [==============================] - 67s 150ms/step - loss: 0.6243 - accuracy: 0.7778 - val_loss: 0.9975 - val_accuracy: 0.6780\n",
            "Epoch 90/100\n",
            "448/448 [==============================] - 67s 150ms/step - loss: 0.6304 - accuracy: 0.7747 - val_loss: 1.0377 - val_accuracy: 0.6663\n",
            "Epoch 91/100\n",
            "448/448 [==============================] - 67s 150ms/step - loss: 0.6176 - accuracy: 0.7778 - val_loss: 1.0466 - val_accuracy: 0.6671\n",
            "Epoch 92/100\n",
            "448/448 [==============================] - 67s 150ms/step - loss: 0.6040 - accuracy: 0.7876 - val_loss: 1.0375 - val_accuracy: 0.6808\n",
            "Epoch 93/100\n",
            "448/448 [==============================] - 67s 150ms/step - loss: 0.6076 - accuracy: 0.7827 - val_loss: 1.0260 - val_accuracy: 0.6842\n",
            "Epoch 94/100\n",
            "448/448 [==============================] - 67s 150ms/step - loss: 0.6121 - accuracy: 0.7798 - val_loss: 1.0127 - val_accuracy: 0.6917\n",
            "Epoch 95/100\n",
            "448/448 [==============================] - 67s 150ms/step - loss: 0.6742 - accuracy: 0.7575 - val_loss: 0.9795 - val_accuracy: 0.6819\n",
            "Epoch 96/100\n",
            "448/448 [==============================] - 67s 149ms/step - loss: 0.6727 - accuracy: 0.7613 - val_loss: 1.0199 - val_accuracy: 0.6783\n",
            "Epoch 97/100\n",
            "448/448 [==============================] - 67s 150ms/step - loss: 0.6112 - accuracy: 0.7862 - val_loss: 1.0056 - val_accuracy: 0.6847\n",
            "Epoch 98/100\n",
            "448/448 [==============================] - 67s 150ms/step - loss: 0.5914 - accuracy: 0.7848 - val_loss: 0.9950 - val_accuracy: 0.6833\n",
            "Epoch 99/100\n",
            "448/448 [==============================] - 67s 150ms/step - loss: 0.5950 - accuracy: 0.7871 - val_loss: 1.0027 - val_accuracy: 0.6805\n",
            "Epoch 100/100\n",
            "448/448 [==============================] - 67s 150ms/step - loss: 0.5967 - accuracy: 0.7856 - val_loss: 1.0485 - val_accuracy: 0.6836\n"
          ],
          "name": "stdout"
        }
      ]
    },
    {
      "cell_type": "markdown",
      "metadata": {
        "id": "zdn-Ud-Ca4LG"
      },
      "source": [
        "# Evaluate"
      ]
    },
    {
      "cell_type": "code",
      "metadata": {
        "id": "d8D97Qq4bUxn",
        "colab": {
          "base_uri": "https://localhost:8080/",
          "height": 573
        },
        "outputId": "2ddb247d-7654-49a7-aff7-ed7aab3d2feb"
      },
      "source": [
        "accuracy = history.history['accuracy']\n",
        "val_accuracy = history.history['val_accuracy']\n",
        "loss = history.history['loss']\n",
        "val_loss = history.history['val_loss']\n",
        "num_epochs = range(len(accuracy))\n",
        "plt.plot(num_epochs, accuracy, 'r', label='Training acc')\n",
        "plt.plot(num_epochs, val_accuracy, 'b', label='Validation acc')\n",
        "plt.title('Training and validation accuracy')\n",
        "plt.ylabel('accuracy')  \n",
        "plt.xlabel('epoch')\n",
        "plt.legend()\n",
        "plt.figure()\n",
        "plt.plot(num_epochs, loss, 'r', label='Training loss')\n",
        "plt.plot(num_epochs, val_loss, 'b', label='Validation loss')\n",
        "plt.title('Training and validation loss')\n",
        "plt.ylabel('loss')  \n",
        "plt.xlabel('epoch')\n",
        "plt.legend()\n",
        "plt.show()"
      ],
      "execution_count": null,
      "outputs": [
        {
          "output_type": "display_data",
          "data": {
            "image/png": "[encoded data removed]",
            "text/plain": [
              "<Figure size 432x288 with 1 Axes>"
            ]
          },
          "metadata": {
            "tags": [],
            "needs_background": "light"
          }
        },
        {
          "output_type": "display_data",
          "data": {
            "image/png": "[encoded data removed]",
            "text/plain": [
              "<Figure size 432x288 with 1 Axes>"
            ]
          },
          "metadata": {
            "tags": [],
            "needs_background": "light"
          }
        }
      ]
    },
    {
      "cell_type": "code",
      "metadata": {
        "id": "v2FEkE4pr8vN",
        "colab": {
          "base_uri": "https://localhost:8080/"
        },
        "outputId": "9c70682f-40d3-4290-f9ce-9aeddc4528f0"
      },
      "source": [
        "trainloss = model.evaluate(train_flow, steps=len(X_train) / batch_size) \n",
        "print(\"Train Loss \" + str(trainloss[0]))\n",
        "print(\"Train Acc: \" + str(trainloss[1]))\n",
        "valloss = model.evaluate(val_flow, steps=len(X_val) / batch_size) \n",
        "print(\"Val Loss \" + str(valloss[0]))\n",
        "print(\"Val Acc: \" + str(valloss[1]))\n",
        "testloss = model.evaluate(test_flow, steps=len(X_test) / batch_size) \n",
        "print(\"Test Loss \" + str(testloss[0]))\n",
        "print(\"Test Acc: \" + str(testloss[1]))"
      ],
      "execution_count": null,
      "outputs": [
        {
          "output_type": "stream",
          "text": [
            "448/448 [==============================] - 23s 50ms/step - loss: 0.4557 - accuracy: 0.8317\n",
            "Train Loss 0.45565101504325867\n",
            "Train Acc: 0.8317252397537231\n",
            "56/56 [==============================] - 3s 54ms/step - loss: 1.0477 - accuracy: 0.6838\n",
            "Val Loss 1.0476946830749512\n",
            "Val Acc: 0.6837559342384338\n",
            "56/56 [==============================] - 3s 47ms/step - loss: 0.9646 - accuracy: 0.6977\n",
            "Test Loss 0.964637041091919\n",
            "Test Acc: 0.6976873874664307\n"
          ],
          "name": "stdout"
        }
      ]
    },
    {
      "cell_type": "code",
      "metadata": {
        "id": "rjVsIoZ-kCve"
      },
      "source": [
        "def plot_confusion_matrix(y_test, y_pred, classes,\n",
        "                          normalize=False,\n",
        "                          title='Unnormalized confusion matrix',\n",
        "                          cmap=plt.cm.Blues):\n",
        "    cm = confusion_matrix(y_test, y_pred)\n",
        "    \n",
        "    if normalize:\n",
        "        cm = np.round(cm.astype('float') / cm.sum(axis=1)[:, np.newaxis], 2)\n",
        "        \n",
        "    np.set_printoptions(precision=2)\n",
        "    \n",
        "    plt.rcParams[\"figure.figsize\"] = (8,8)  \n",
        "    plt.imshow(cm, interpolation='nearest', cmap=cmap)\n",
        "    plt.title(title)\n",
        "    plt.colorbar()\n",
        "    tick_marks = np.arange(len(classes))\n",
        "    plt.xticks(tick_marks, classes, rotation=45)\n",
        "    plt.yticks(tick_marks, classes)\n",
        "\n",
        "    thresh = cm.min() + (cm.max() - cm.min()) / 2.\n",
        "    for i, j in itertools.product(range(cm.shape[0]), range(cm.shape[1])):\n",
        "        plt.text(j, i, cm[i, j],\n",
        "                 horizontalalignment=\"center\",\n",
        "                 color=\"white\" if cm[i, j] > thresh else \"black\")\n",
        "\n",
        "    plt.tight_layout()\n",
        "    plt.ylabel('True expression')\n",
        "    plt.xlabel('Predicted expression')\n",
        "    plt.show()"
      ],
      "execution_count": null,
      "outputs": []
    },
    {
      "cell_type": "code",
      "metadata": {
        "colab": {
          "base_uri": "https://localhost:8080/"
        },
        "id": "VDNVCwW6kFHH",
        "outputId": "b084fd81-d16a-4697-8523-2fd77a61c541"
      },
      "source": [
        "y_pred_ = model.predict(X_test/255., verbose=1)\n",
        "y_pred = np.argmax(y_pred_, axis=1)\n",
        "t_te = np.argmax(y_test, axis=1)"
      ],
      "execution_count": null,
      "outputs": [
        {
          "output_type": "stream",
          "text": [
            "113/113 [==============================] - 5s 26ms/step\n"
          ],
          "name": "stdout"
        }
      ]
    },
    {
      "cell_type": "code",
      "metadata": {
        "id": "CZiiWYfQ7yVt",
        "colab": {
          "base_uri": "https://localhost:8080/",
          "height": 585
        },
        "outputId": "8f491528-bf8d-4dea-a400-eb2fba266058"
      },
      "source": [
        "from sklearn.metrics import confusion_matrix, classification_report\n",
        "import itertools\n",
        "\n",
        "fig = plot_confusion_matrix(y_test=t_te, y_pred=y_pred,\n",
        "                      classes=labels,\n",
        "                      normalize=True,\n",
        "                      cmap=plt.cm.Blues,\n",
        "                      title='Average accuracy: ' + str(np.sum(y_pred == t_te)/len(t_te)) + '\\n')"
      ],
      "execution_count": null,
      "outputs": [
        {
          "output_type": "display_data",
          "data": {
            "image/png": "[encoded data removed]",
            "text/plain": [
              "<Figure size 576x576 with 2 Axes>"
            ]
          },
          "metadata": {
            "tags": [],
            "needs_background": "light"
          }
        }
      ]
    },
    {
      "cell_type": "code",
      "metadata": {
        "id": "4vauS7IKbqNG",
        "colab": {
          "base_uri": "https://localhost:8080/"
        },
        "outputId": "dc81d507-8ba2-475a-fbfd-0fd223155099"
      },
      "source": [
        "emotions = {0: 'Angry', 1: 'Disgust', 2: 'Fear', 3: 'Happy', 4: 'Sad', 5: 'Surprise', 6: 'Neutral'}\n",
        "print(classification_report(t_te, y_pred, target_names=emotions.values()))"
      ],
      "execution_count": null,
      "outputs": [
        {
          "output_type": "stream",
          "text": [
            "              precision    recall  f1-score   support\n",
            "\n",
            "       Angry       0.63      0.61      0.62       491\n",
            "     Disgust       0.76      0.64      0.69        55\n",
            "        Fear       0.61      0.44      0.51       528\n",
            "       Happy       0.90      0.91      0.90       879\n",
            "         Sad       0.59      0.52      0.55       594\n",
            "    Surprise       0.74      0.85      0.79       416\n",
            "     Neutral       0.60      0.76      0.67       626\n",
            "\n",
            "    accuracy                           0.70      3589\n",
            "   macro avg       0.69      0.68      0.68      3589\n",
            "weighted avg       0.70      0.70      0.69      3589\n",
            "\n"
          ],
          "name": "stdout"
        }
      ]
    },
    {
      "cell_type": "code",
      "metadata": {
        "id": "KKWxaaYRba3j",
        "colab": {
          "base_uri": "https://localhost:8080/"
        },
        "outputId": "3ed1271a-e4a6-4b34-900a-c0c4f52214cd"
      },
      "source": [
        "model.save(\"/content/drive/MyDrive/Colab Notebooks/Model/ModelFix_Adam0.0005_epoch100_Aug.h5\")\n",
        "print(\"saved\")"
      ],
      "execution_count": null,
      "outputs": [
        {
          "output_type": "stream",
          "text": [
            "saved\n"
          ],
          "name": "stdout"
        }
      ]
    },
    {
      "cell_type": "markdown",
      "metadata": {
        "id": "aqLRhlr4b7t5"
      },
      "source": [
        "#Load Model"
      ]
    },
    {
      "cell_type": "code",
      "metadata": {
        "id": "J45lyUtcJ-6F",
        "colab": {
          "base_uri": "https://localhost:8080/"
        },
        "outputId": "6d065cf3-962e-42d0-fd2c-5a03a5597391"
      },
      "source": [
        "from keras.models import load_model\n",
        "model_load = load_model('/content/drive/MyDrive/Colab Notebooks/Model/ModelFix_Adam0.0005_epoch100_Aug.h5')\n",
        "\n",
        "model_load.summary()"
      ],
      "execution_count": null,
      "outputs": [
        {
          "output_type": "stream",
          "text": [
            "Model: \"sequential\"\n",
            "_________________________________________________________________\n",
            "Layer (type)                 Output Shape              Param #   \n",
            "=================================================================\n",
            "conv2d (Conv2D)              (None, 48, 48, 64)        640       \n",
            "_________________________________________________________________\n",
            "batch_normalization (BatchNo (None, 48, 48, 64)        256       \n",
            "_________________________________________________________________\n",
            "conv2d_1 (Conv2D)            (None, 48, 48, 64)        36928     \n",
            "_________________________________________________________________\n",
            "batch_normalization_1 (Batch (None, 48, 48, 64)        256       \n",
            "_________________________________________________________________\n",
            "max_pooling2d (MaxPooling2D) (None, 24, 24, 64)        0         \n",
            "_________________________________________________________________\n",
            "dropout (Dropout)            (None, 24, 24, 64)        0         \n",
            "_________________________________________________________________\n",
            "conv2d_2 (Conv2D)            (None, 24, 24, 128)       73856     \n",
            "_________________________________________________________________\n",
            "batch_normalization_2 (Batch (None, 24, 24, 128)       512       \n",
            "_________________________________________________________________\n",
            "conv2d_3 (Conv2D)            (None, 24, 24, 128)       147584    \n",
            "_________________________________________________________________\n",
            "batch_normalization_3 (Batch (None, 24, 24, 128)       512       \n",
            "_________________________________________________________________\n",
            "max_pooling2d_1 (MaxPooling2 (None, 12, 12, 128)       0         \n",
            "_________________________________________________________________\n",
            "dropout_1 (Dropout)          (None, 12, 12, 128)       0         \n",
            "_________________________________________________________________\n",
            "conv2d_4 (Conv2D)            (None, 12, 12, 256)       295168    \n",
            "_________________________________________________________________\n",
            "batch_normalization_4 (Batch (None, 12, 12, 256)       1024      \n",
            "_________________________________________________________________\n",
            "conv2d_5 (Conv2D)            (None, 12, 12, 256)       590080    \n",
            "_________________________________________________________________\n",
            "batch_normalization_5 (Batch (None, 12, 12, 256)       1024      \n",
            "_________________________________________________________________\n",
            "conv2d_6 (Conv2D)            (None, 12, 12, 256)       590080    \n",
            "_________________________________________________________________\n",
            "batch_normalization_6 (Batch (None, 12, 12, 256)       1024      \n",
            "_________________________________________________________________\n",
            "max_pooling2d_2 (MaxPooling2 (None, 6, 6, 256)         0         \n",
            "_________________________________________________________________\n",
            "dropout_2 (Dropout)          (None, 6, 6, 256)         0         \n",
            "_________________________________________________________________\n",
            "conv2d_7 (Conv2D)            (None, 6, 6, 512)         1180160   \n",
            "_________________________________________________________________\n",
            "batch_normalization_7 (Batch (None, 6, 6, 512)         2048      \n",
            "_________________________________________________________________\n",
            "conv2d_8 (Conv2D)            (None, 6, 6, 512)         2359808   \n",
            "_________________________________________________________________\n",
            "batch_normalization_8 (Batch (None, 6, 6, 512)         2048      \n",
            "_________________________________________________________________\n",
            "conv2d_9 (Conv2D)            (None, 6, 6, 512)         2359808   \n",
            "_________________________________________________________________\n",
            "batch_normalization_9 (Batch (None, 6, 6, 512)         2048      \n",
            "_________________________________________________________________\n",
            "max_pooling2d_3 (MaxPooling2 (None, 3, 3, 512)         0         \n",
            "_________________________________________________________________\n",
            "dropout_3 (Dropout)          (None, 3, 3, 512)         0         \n",
            "_________________________________________________________________\n",
            "conv2d_10 (Conv2D)           (None, 3, 3, 512)         2359808   \n",
            "_________________________________________________________________\n",
            "batch_normalization_10 (Batc (None, 3, 3, 512)         2048      \n",
            "_________________________________________________________________\n",
            "conv2d_11 (Conv2D)           (None, 3, 3, 512)         2359808   \n",
            "_________________________________________________________________\n",
            "batch_normalization_11 (Batc (None, 3, 3, 512)         2048      \n",
            "_________________________________________________________________\n",
            "conv2d_12 (Conv2D)           (None, 3, 3, 512)         2359808   \n",
            "_________________________________________________________________\n",
            "batch_normalization_12 (Batc (None, 3, 3, 512)         2048      \n",
            "_________________________________________________________________\n",
            "max_pooling2d_4 (MaxPooling2 (None, 1, 1, 512)         0         \n",
            "_________________________________________________________________\n",
            "dropout_4 (Dropout)          (None, 1, 1, 512)         0         \n",
            "_________________________________________________________________\n",
            "global_average_pooling2d (Gl (None, 512)               0         \n",
            "_________________________________________________________________\n",
            "dense (Dense)                (None, 512)               262656    \n",
            "_________________________________________________________________\n",
            "dropout_5 (Dropout)          (None, 512)               0         \n",
            "_________________________________________________________________\n",
            "dense_1 (Dense)              (None, 512)               262656    \n",
            "_________________________________________________________________\n",
            "dropout_6 (Dropout)          (None, 512)               0         \n",
            "_________________________________________________________________\n",
            "dense_2 (Dense)              (None, 7)                 3591      \n",
            "=================================================================\n",
            "Total params: 15,259,335\n",
            "Trainable params: 15,250,887\n",
            "Non-trainable params: 8,448\n",
            "_________________________________________________________________\n"
          ],
          "name": "stdout"
        }
      ]
    },
    {
      "cell_type": "code",
      "metadata": {
        "id": "nQd7m45qfWBW",
        "colab": {
          "base_uri": "https://localhost:8080/"
        },
        "outputId": "5ed10c01-712b-45df-e2ff-f81bfbc70b98"
      },
      "source": [
        "trainloss = model_load.evaluate(train_flow, steps=len(X_train) / batch_size) \n",
        "print(\"Train Loss \" + str(trainloss[0]))\n",
        "print(\"Train Acc: \" + str(trainloss[1]))\n",
        "valloss = model_load.evaluate(val_flow, steps=len(X_val) / batch_size) \n",
        "print(\"Val Loss \" + str(valloss[0]))\n",
        "print(\"Val Acc: \" + str(valloss[1]))\n",
        "testloss = model_load.evaluate(test_flow, steps=len(X_test) / batch_size) \n",
        "print(\"Test Loss \" + str(testloss[0]))\n",
        "print(\"Test Acc: \" + str(testloss[1]))"
      ],
      "execution_count": null,
      "outputs": [
        {
          "output_type": "stream",
          "text": [
            "448/448 [==============================] - 25s 54ms/step - loss: 0.4627 - accuracy: 0.8319\n",
            "Train Loss 0.4627144932746887\n",
            "Train Acc: 0.8319342136383057\n",
            "56/56 [==============================] - 3s 47ms/step - loss: 1.0477 - accuracy: 0.6838\n",
            "Val Loss 1.047694444656372\n",
            "Val Acc: 0.6837559342384338\n",
            "56/56 [==============================] - 3s 46ms/step - loss: 0.9646 - accuracy: 0.6977\n",
            "Test Loss 0.9646368026733398\n",
            "Test Acc: 0.6976873874664307\n"
          ],
          "name": "stdout"
        }
      ]
    },
    {
      "cell_type": "code",
      "metadata": {
        "id": "AgxW2wNbkLTw"
      },
      "source": [
        "def plot_confusion_matrix(y_test, y_pred, classes,\n",
        "                          normalize=False,\n",
        "                          title='Unnormalized confusion matrix',\n",
        "                          cmap=plt.cm.Blues):\n",
        "    cm = confusion_matrix(y_test, y_pred)\n",
        "    \n",
        "    if normalize:\n",
        "        cm = np.round(cm.astype('float') / cm.sum(axis=1)[:, np.newaxis], 2)\n",
        "        \n",
        "    np.set_printoptions(precision=2)\n",
        "        \n",
        "    plt.rcParams[\"figure.figsize\"] = (8,8)\n",
        "    plt.imshow(cm, interpolation='nearest', cmap=cmap)\n",
        "    plt.title(title)\n",
        "    plt.colorbar()\n",
        "    tick_marks = np.arange(len(classes))\n",
        "    plt.xticks(tick_marks, classes, rotation=45)\n",
        "    plt.yticks(tick_marks, classes)\n",
        "\n",
        "    thresh = cm.min() + (cm.max() - cm.min()) / 2.\n",
        "    for i, j in itertools.product(range(cm.shape[0]), range(cm.shape[1])):\n",
        "        plt.text(j, i, cm[i, j],\n",
        "                 horizontalalignment=\"center\",\n",
        "                 color=\"white\" if cm[i, j] > thresh else \"black\")\n",
        "\n",
        "    plt.tight_layout()\n",
        "    plt.ylabel('True expression')\n",
        "    plt.xlabel('Predicted expression')\n",
        "    plt.show()"
      ],
      "execution_count": null,
      "outputs": []
    },
    {
      "cell_type": "code",
      "metadata": {
        "colab": {
          "base_uri": "https://localhost:8080/"
        },
        "id": "rc9jxsudkMOd",
        "outputId": "39245d29-c750-4d6e-e485-dfe1a14b8f7b"
      },
      "source": [
        "y_pred_ = model_load.predict(X_test/255., verbose=1)\n",
        "y_pred = np.argmax(y_pred_, axis=1)\n",
        "t_te = np.argmax(y_test, axis=1)"
      ],
      "execution_count": null,
      "outputs": [
        {
          "output_type": "stream",
          "text": [
            "113/113 [==============================] - 4s 26ms/step\n"
          ],
          "name": "stdout"
        }
      ]
    },
    {
      "cell_type": "code",
      "metadata": {
        "colab": {
          "base_uri": "https://localhost:8080/",
          "height": 585
        },
        "id": "BKJJbrkQkQoX",
        "outputId": "25aa3998-d8ac-41b9-d5a0-03bbbef62d87"
      },
      "source": [
        "from sklearn.metrics import confusion_matrix, classification_report\n",
        "import itertools\n",
        "\n",
        "fig = plot_confusion_matrix(y_test=t_te, y_pred=y_pred,\n",
        "                      classes=labels,\n",
        "                      normalize=True,\n",
        "                      cmap=plt.cm.Blues,\n",
        "                      title='Average accuracy: ' + str(np.sum(y_pred == t_te)/len(t_te)) + '\\n')"
      ],
      "execution_count": null,
      "outputs": [
        {
          "output_type": "display_data",
          "data": {
            "image/png": "[encoded data removed]",
            "text/plain": [
              "<Figure size 576x576 with 2 Axes>"
            ]
          },
          "metadata": {
            "tags": [],
            "needs_background": "light"
          }
        }
      ]
    },
    {
      "cell_type": "code",
      "metadata": {
        "colab": {
          "base_uri": "https://localhost:8080/"
        },
        "id": "iVI_yPxokSY3",
        "outputId": "e19cbe3e-60e6-4a60-a332-5cf24f144784"
      },
      "source": [
        "emotions = {0: 'Angry', 1: 'Disgust', 2: 'Fear', 3: 'Happy', 4: 'Sad', 5: 'Surprise', 6: 'Neutral'}\n",
        "print(classification_report(t_te, y_pred, target_names=emotions.values()))"
      ],
      "execution_count": null,
      "outputs": [
        {
          "output_type": "stream",
          "text": [
            "              precision    recall  f1-score   support\n",
            "\n",
            "       Angry       0.63      0.61      0.62       491\n",
            "     Disgust       0.76      0.64      0.69        55\n",
            "        Fear       0.61      0.44      0.51       528\n",
            "       Happy       0.90      0.91      0.90       879\n",
            "         Sad       0.59      0.52      0.55       594\n",
            "    Surprise       0.74      0.85      0.79       416\n",
            "     Neutral       0.60      0.76      0.67       626\n",
            "\n",
            "    accuracy                           0.70      3589\n",
            "   macro avg       0.69      0.68      0.68      3589\n",
            "weighted avg       0.70      0.70      0.69      3589\n",
            "\n"
          ],
          "name": "stdout"
        }
      ]
    }
  ]
}