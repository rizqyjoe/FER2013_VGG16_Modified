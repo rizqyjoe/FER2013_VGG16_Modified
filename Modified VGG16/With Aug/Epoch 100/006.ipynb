{
  "nbformat": 4,
  "nbformat_minor": 0,
  "metadata": {
    "colab": {
      "name": "FINAL.ipynb",
      "provenance": [],
      "collapsed_sections": [],
      "include_colab_link": true
    },
    "kernelspec": {
      "name": "python3",
      "display_name": "Python 3"
    },
    "language_info": {
      "name": "python"
    },
    "accelerator": "GPU"
  },
  "cells": [
    {
      "cell_type": "markdown",
      "metadata": {
        "id": "view-in-github",
        "colab_type": "text"
      },
      "source": [
        "<a href=\"https://colab.research.google.com/github/rizqyjoe/FER2013_VGG16_Modified/blob/main/Modified%20VGG16/With%20Aug/Epoch%20100/006.ipynb\" target=\"_parent\"><img src=\"https://colab.research.google.com/assets/colab-badge.svg\" alt=\"Open In Colab\"/></a>"
      ]
    },
    {
      "cell_type": "code",
      "metadata": {
        "id": "sX-0w3h_sh6U",
        "colab": {
          "base_uri": "https://localhost:8080/"
        },
        "outputId": "3f5f7061-3828-44e1-caca-2e46d127955f"
      },
      "source": [
        "#mount drive\n",
        "from google.colab import drive\n",
        "drive.mount('/content/drive')"
      ],
      "execution_count": 1,
      "outputs": [
        {
          "output_type": "stream",
          "text": [
            "Mounted at /content/drive\n"
          ],
          "name": "stdout"
        }
      ]
    },
    {
      "cell_type": "markdown",
      "metadata": {
        "id": "58jrp8yObBBA"
      },
      "source": [
        "# Pre-processing"
      ]
    },
    {
      "cell_type": "code",
      "metadata": {
        "id": "7nrYTmGLrD2A"
      },
      "source": [
        "import tensorflow as tf\n",
        "import keras\n",
        "from keras import backend as K\n",
        "import pandas as pd\n",
        "import numpy as np\n",
        "import matplotlib.pyplot as plt\n",
        "from keras.preprocessing import image\n",
        "from keras.preprocessing.image import ImageDataGenerator\n",
        "from keras import regularizers\n",
        "from keras.utils import np_utils\n",
        "\n",
        "import random\n",
        "\n",
        "tf.random.set_seed(1234)\n",
        "np.random.seed(1234)\n",
        "\n",
        "from keras.initializers import glorot_uniform"
      ],
      "execution_count": 2,
      "outputs": []
    },
    {
      "cell_type": "code",
      "metadata": {
        "colab": {
          "base_uri": "https://localhost:8080/",
          "height": 204
        },
        "id": "0vTjzHIRrW53",
        "outputId": "98f198f2-64c0-46a9-b889-859d2db48166"
      },
      "source": [
        "#load file\n",
        "data= pd.read_csv('/content/drive/MyDrive/Dataset/fer2013 dataset/fer2013/fer2013.csv')\n",
        "data.head()"
      ],
      "execution_count": 3,
      "outputs": [
        {
          "output_type": "execute_result",
          "data": {
            "text/html": [
              "<div>\n",
              "<style scoped>\n",
              "    .dataframe tbody tr th:only-of-type {\n",
              "        vertical-align: middle;\n",
              "    }\n",
              "\n",
              "    .dataframe tbody tr th {\n",
              "        vertical-align: top;\n",
              "    }\n",
              "\n",
              "    .dataframe thead th {\n",
              "        text-align: right;\n",
              "    }\n",
              "</style>\n",
              "<table border=\"1\" class=\"dataframe\">\n",
              "  <thead>\n",
              "    <tr style=\"text-align: right;\">\n",
              "      <th></th>\n",
              "      <th>emotion</th>\n",
              "      <th>pixels</th>\n",
              "      <th>Usage</th>\n",
              "    </tr>\n",
              "  </thead>\n",
              "  <tbody>\n",
              "    <tr>\n",
              "      <th>0</th>\n",
              "      <td>0</td>\n",
              "      <td>70 80 82 72 58 58 60 63 54 58 60 48 89 115 121...</td>\n",
              "      <td>Training</td>\n",
              "    </tr>\n",
              "    <tr>\n",
              "      <th>1</th>\n",
              "      <td>0</td>\n",
              "      <td>151 150 147 155 148 133 111 140 170 174 182 15...</td>\n",
              "      <td>Training</td>\n",
              "    </tr>\n",
              "    <tr>\n",
              "      <th>2</th>\n",
              "      <td>2</td>\n",
              "      <td>231 212 156 164 174 138 161 173 182 200 106 38...</td>\n",
              "      <td>Training</td>\n",
              "    </tr>\n",
              "    <tr>\n",
              "      <th>3</th>\n",
              "      <td>4</td>\n",
              "      <td>24 32 36 30 32 23 19 20 30 41 21 22 32 34 21 1...</td>\n",
              "      <td>Training</td>\n",
              "    </tr>\n",
              "    <tr>\n",
              "      <th>4</th>\n",
              "      <td>6</td>\n",
              "      <td>4 0 0 0 0 0 0 0 0 0 0 0 3 15 23 28 48 50 58 84...</td>\n",
              "      <td>Training</td>\n",
              "    </tr>\n",
              "  </tbody>\n",
              "</table>\n",
              "</div>"
            ],
            "text/plain": [
              "   emotion                                             pixels     Usage\n",
              "0        0  70 80 82 72 58 58 60 63 54 58 60 48 89 115 121...  Training\n",
              "1        0  151 150 147 155 148 133 111 140 170 174 182 15...  Training\n",
              "2        2  231 212 156 164 174 138 161 173 182 200 106 38...  Training\n",
              "3        4  24 32 36 30 32 23 19 20 30 41 21 22 32 34 21 1...  Training\n",
              "4        6  4 0 0 0 0 0 0 0 0 0 0 0 3 15 23 28 48 50 58 84...  Training"
            ]
          },
          "metadata": {
            "tags": []
          },
          "execution_count": 3
        }
      ]
    },
    {
      "cell_type": "code",
      "metadata": {
        "colab": {
          "base_uri": "https://localhost:8080/"
        },
        "id": "NU40Z0ynrau2",
        "outputId": "7a7d8dec-caa4-43c1-ad2a-7a6f6391902b"
      },
      "source": [
        "data.emotion.value_counts()"
      ],
      "execution_count": 4,
      "outputs": [
        {
          "output_type": "execute_result",
          "data": {
            "text/plain": [
              "3    8989\n",
              "6    6198\n",
              "4    6077\n",
              "2    5121\n",
              "0    4953\n",
              "5    4002\n",
              "1     547\n",
              "Name: emotion, dtype: int64"
            ]
          },
          "metadata": {
            "tags": []
          },
          "execution_count": 4
        }
      ]
    },
    {
      "cell_type": "code",
      "metadata": {
        "id": "IeBaq6_7rdMu"
      },
      "source": [
        "emotion_labels = [\"Angry\", \"Disgust\", \"Fear\", \"Happy\", \"Sad\", \"Surprise\", \"Neutral\"]\n",
        "labels=np.array((\"Angry\", \"Disgust\", \"Fear\", \"Happy\", \"Sad\", \"Surprise\", \"Neutral\"))"
      ],
      "execution_count": 5,
      "outputs": []
    },
    {
      "cell_type": "code",
      "metadata": {
        "colab": {
          "base_uri": "https://localhost:8080/"
        },
        "id": "8MQKKFDare4e",
        "outputId": "5aa9e8ac-d4c6-4128-8ec1-53be5e13ce18"
      },
      "source": [
        "data.Usage.value_counts()"
      ],
      "execution_count": 6,
      "outputs": [
        {
          "output_type": "execute_result",
          "data": {
            "text/plain": [
              "Training       28709\n",
              "PrivateTest     3589\n",
              "PublicTest      3589\n",
              "Name: Usage, dtype: int64"
            ]
          },
          "metadata": {
            "tags": []
          },
          "execution_count": 6
        }
      ]
    },
    {
      "cell_type": "code",
      "metadata": {
        "id": "RQlblEnwrgkW"
      },
      "source": [
        "#split data \n",
        "train_set = data[(data.Usage == 'Training')] \n",
        "val_set = data[(data.Usage == 'PublicTest')]\n",
        "test_set = data[(data.Usage == 'PrivateTest')] \n",
        "X_train = np.array(list(map(str.split, train_set.pixels)), np.float32) \n",
        "X_val = np.array(list(map(str.split, val_set.pixels)), np.float32) \n",
        "X_test = np.array(list(map(str.split, test_set.pixels)), np.float32) \n",
        "X_train = X_train.reshape(X_train.shape[0], 48, 48, 1) \n",
        "X_val = X_val.reshape(X_val.shape[0], 48, 48, 1)\n",
        "X_test = X_test.reshape(X_test.shape[0], 48, 48, 1)"
      ],
      "execution_count": 7,
      "outputs": []
    },
    {
      "cell_type": "code",
      "metadata": {
        "id": "MVqY8ftoriHW"
      },
      "source": [
        "num_classes = 7\n",
        "\n",
        "y_train = train_set.emotion \n",
        "y_train = np_utils.to_categorical(y_train, num_classes) \n",
        "y_val = val_set.emotion \n",
        "y_val = np_utils.to_categorical(y_val, num_classes) \n",
        "y_test = test_set.emotion \n",
        "y_test = np_utils.to_categorical(y_test, num_classes)"
      ],
      "execution_count": 8,
      "outputs": []
    },
    {
      "cell_type": "code",
      "metadata": {
        "colab": {
          "base_uri": "https://localhost:8080/"
        },
        "id": "WaMwvF5vrju-",
        "outputId": "00558385-9406-4da7-e227-197c7f93421e"
      },
      "source": [
        "print(\"x_train:\",X_train.shape)\n",
        "print(\"y_train:\",y_train.shape)\n",
        "print(\"x_val:\",X_val.shape)\n",
        "print(\"y_val:\",y_val.shape)\n",
        "print(\"x_test:\",X_test.shape)\n",
        "print(\"y_test:\",y_test.shape)"
      ],
      "execution_count": 9,
      "outputs": [
        {
          "output_type": "stream",
          "text": [
            "x_train: (28709, 48, 48, 1)\n",
            "y_train: (28709, 7)\n",
            "x_val: (3589, 48, 48, 1)\n",
            "y_val: (3589, 7)\n",
            "x_test: (3589, 48, 48, 1)\n",
            "y_test: (3589, 7)\n"
          ],
          "name": "stdout"
        }
      ]
    },
    {
      "cell_type": "code",
      "metadata": {
        "id": "DzChH8hGrldw"
      },
      "source": [
        "#data augmentation\n",
        "\n",
        "datagen = ImageDataGenerator(rescale=1./255,\n",
        "                             rotation_range=10,\n",
        "                             width_shift_range=0.2,\n",
        "                             height_shift_range=0.2, \n",
        "                             zoom_range=0.2,\n",
        "                             horizontal_flip=True)\n",
        "\n",
        "#datagen = ImageDataGenerator(rescale=1./255)\n",
        "\n",
        "testgen = ImageDataGenerator(rescale=1./255)\n",
        "\n",
        "datagen.fit(X_train)\n",
        "batch_size = 64"
      ],
      "execution_count": 10,
      "outputs": []
    },
    {
      "cell_type": "code",
      "metadata": {
        "id": "d-nkOZUfrm_e"
      },
      "source": [
        "train_flow = datagen.flow(X_train, y_train, batch_size=batch_size) \n",
        "val_flow = testgen.flow(X_val, y_val, batch_size=batch_size) \n",
        "test_flow = testgen.flow(X_test, y_test, batch_size=batch_size)"
      ],
      "execution_count": 11,
      "outputs": []
    },
    {
      "cell_type": "code",
      "metadata": {
        "id": "3u6vR_8CroMG"
      },
      "source": [
        "from tensorflow.keras.utils import plot_model\n",
        "from matplotlib import pyplot"
      ],
      "execution_count": 12,
      "outputs": []
    },
    {
      "cell_type": "code",
      "metadata": {
        "colab": {
          "base_uri": "https://localhost:8080/",
          "height": 248
        },
        "id": "HZ6sB7a0rp0O",
        "outputId": "99ca2dab-b366-44e7-860c-08e8e25ced9c"
      },
      "source": [
        "#displaying sample images\n",
        "for X_batch, y_batch in datagen.flow(X_train, y_train, batch_size=9):\n",
        "    for i in range(0, 9): \n",
        "        pyplot.axis('off') \n",
        "        pyplot.subplot(330 + 1 + i) \n",
        "        pyplot.imshow(X_batch[i].reshape(48, 48), cmap=pyplot.get_cmap('gray'))\n",
        "    pyplot.axis('off') \n",
        "    pyplot.show() \n",
        "    break"
      ],
      "execution_count": 13,
      "outputs": [
        {
          "output_type": "display_data",
          "data": {
            "image/png": "[encoded data removed]",
            "text/plain": [
              "<Figure size 432x288 with 9 Axes>"
            ]
          },
          "metadata": {
            "tags": [],
            "needs_background": "light"
          }
        }
      ]
    },
    {
      "cell_type": "markdown",
      "metadata": {
        "id": "mH061hQUbJsv"
      },
      "source": [
        "# Training Model"
      ]
    },
    {
      "cell_type": "code",
      "metadata": {
        "id": "rxqJ_jM_mSTg",
        "colab": {
          "base_uri": "https://localhost:8080/"
        },
        "outputId": "35934b1c-ce01-44e8-d557-0f5878f700a5"
      },
      "source": [
        "#Model Fix\n",
        "from keras.models import Sequential\n",
        "from keras.layers import Input, Dense, Flatten, Dropout, Conv2D, MaxPool2D, BatchNormalization, GlobalAveragePooling2D\n",
        "\n",
        "input_shape = (48, 48, 1)\n",
        "\n",
        "model = Sequential()\n",
        "\n",
        "model.add(Conv2D(filters=64,input_shape=(input_shape),kernel_size=(3,3),padding=\"same\", activation=\"relu\", kernel_initializer = glorot_uniform(seed=0)))\n",
        "model.add(BatchNormalization())\n",
        "model.add(Conv2D(filters=64,kernel_size=(3,3),padding=\"same\", activation=\"relu\", kernel_initializer = glorot_uniform(seed=0)))\n",
        "model.add(BatchNormalization())\n",
        "model.add(MaxPool2D(pool_size=(2,2),strides=(2,2)))\n",
        "model.add(Dropout(0.2))\n",
        "\n",
        "model.add(Conv2D(filters=128, kernel_size=(3,3), padding=\"same\", activation=\"relu\", kernel_initializer = glorot_uniform(seed=0)))\n",
        "model.add(BatchNormalization())\n",
        "model.add(Conv2D(filters=128, kernel_size=(3,3), padding=\"same\", activation=\"relu\", kernel_initializer = glorot_uniform(seed=0)))\n",
        "model.add(BatchNormalization())\n",
        "model.add(MaxPool2D(pool_size=(2,2),strides=(2,2)))\n",
        "model.add(Dropout(0.3))\n",
        "\n",
        "model.add(Conv2D(filters=256, kernel_size=(3,3), padding=\"same\", activation=\"relu\", kernel_initializer = glorot_uniform(seed=0)))\n",
        "model.add(BatchNormalization())\n",
        "model.add(Conv2D(filters=256, kernel_size=(3,3), padding=\"same\", activation=\"relu\", kernel_initializer = glorot_uniform(seed=0)))\n",
        "model.add(BatchNormalization())\n",
        "model.add(Conv2D(filters=256, kernel_size=(3,3), padding=\"same\", activation=\"relu\", kernel_initializer = glorot_uniform(seed=0)))\n",
        "model.add(BatchNormalization())\n",
        "model.add(MaxPool2D(pool_size=(2,2),strides=(2,2)))\n",
        "model.add(Dropout(0.4))\n",
        "\n",
        "model.add(Conv2D(filters=512, kernel_size=(3,3), padding=\"same\", activation=\"relu\", kernel_initializer = glorot_uniform(seed=0)))\n",
        "model.add(BatchNormalization())\n",
        "model.add(Conv2D(filters=512, kernel_size=(3,3), padding=\"same\", activation=\"relu\", kernel_initializer = glorot_uniform(seed=0)))\n",
        "model.add(BatchNormalization())\n",
        "model.add(Conv2D(filters=512, kernel_size=(3,3), padding=\"same\", activation=\"relu\", kernel_initializer = glorot_uniform(seed=0)))\n",
        "model.add(BatchNormalization())\n",
        "model.add(MaxPool2D(pool_size=(2,2),strides=(2,2)))\n",
        "model.add(Dropout(0.5))\n",
        "\n",
        "model.add(Conv2D(filters=512, kernel_size=(3,3), padding=\"same\", activation=\"relu\", kernel_initializer = glorot_uniform(seed=0)))\n",
        "model.add(BatchNormalization())\n",
        "model.add(Conv2D(filters=512, kernel_size=(3,3), padding=\"same\", activation=\"relu\", kernel_initializer = glorot_uniform(seed=0)))\n",
        "model.add(BatchNormalization())\n",
        "model.add(Conv2D(filters=512, kernel_size=(3,3), padding=\"same\", activation=\"relu\", kernel_initializer = glorot_uniform(seed=0)))\n",
        "model.add(BatchNormalization())\n",
        "model.add(MaxPool2D(pool_size=(2,2),strides=(2,2)))\n",
        "model.add(Dropout(0.6))\n",
        "\n",
        "#model.add(Flatten())\n",
        "model.add(GlobalAveragePooling2D())\n",
        "\n",
        "model.add(Dense(512,activation='relu'))\n",
        "model.add(Dropout(0.5))\n",
        "model.add(Dense(512,activation='relu'))\n",
        "model.add(Dropout(0.5))\n",
        "\n",
        "model.add(Dense(units=num_classes, activation='softmax'))\n",
        "\n",
        "# print the model summary\n",
        "model.summary()"
      ],
      "execution_count": 14,
      "outputs": [
        {
          "output_type": "stream",
          "text": [
            "Model: \"sequential\"\n",
            "_________________________________________________________________\n",
            "Layer (type)                 Output Shape              Param #   \n",
            "=================================================================\n",
            "conv2d (Conv2D)              (None, 48, 48, 64)        640       \n",
            "_________________________________________________________________\n",
            "batch_normalization (BatchNo (None, 48, 48, 64)        256       \n",
            "_________________________________________________________________\n",
            "conv2d_1 (Conv2D)            (None, 48, 48, 64)        36928     \n",
            "_________________________________________________________________\n",
            "batch_normalization_1 (Batch (None, 48, 48, 64)        256       \n",
            "_________________________________________________________________\n",
            "max_pooling2d (MaxPooling2D) (None, 24, 24, 64)        0         \n",
            "_________________________________________________________________\n",
            "dropout (Dropout)            (None, 24, 24, 64)        0         \n",
            "_________________________________________________________________\n",
            "conv2d_2 (Conv2D)            (None, 24, 24, 128)       73856     \n",
            "_________________________________________________________________\n",
            "batch_normalization_2 (Batch (None, 24, 24, 128)       512       \n",
            "_________________________________________________________________\n",
            "conv2d_3 (Conv2D)            (None, 24, 24, 128)       147584    \n",
            "_________________________________________________________________\n",
            "batch_normalization_3 (Batch (None, 24, 24, 128)       512       \n",
            "_________________________________________________________________\n",
            "max_pooling2d_1 (MaxPooling2 (None, 12, 12, 128)       0         \n",
            "_________________________________________________________________\n",
            "dropout_1 (Dropout)          (None, 12, 12, 128)       0         \n",
            "_________________________________________________________________\n",
            "conv2d_4 (Conv2D)            (None, 12, 12, 256)       295168    \n",
            "_________________________________________________________________\n",
            "batch_normalization_4 (Batch (None, 12, 12, 256)       1024      \n",
            "_________________________________________________________________\n",
            "conv2d_5 (Conv2D)            (None, 12, 12, 256)       590080    \n",
            "_________________________________________________________________\n",
            "batch_normalization_5 (Batch (None, 12, 12, 256)       1024      \n",
            "_________________________________________________________________\n",
            "conv2d_6 (Conv2D)            (None, 12, 12, 256)       590080    \n",
            "_________________________________________________________________\n",
            "batch_normalization_6 (Batch (None, 12, 12, 256)       1024      \n",
            "_________________________________________________________________\n",
            "max_pooling2d_2 (MaxPooling2 (None, 6, 6, 256)         0         \n",
            "_________________________________________________________________\n",
            "dropout_2 (Dropout)          (None, 6, 6, 256)         0         \n",
            "_________________________________________________________________\n",
            "conv2d_7 (Conv2D)            (None, 6, 6, 512)         1180160   \n",
            "_________________________________________________________________\n",
            "batch_normalization_7 (Batch (None, 6, 6, 512)         2048      \n",
            "_________________________________________________________________\n",
            "conv2d_8 (Conv2D)            (None, 6, 6, 512)         2359808   \n",
            "_________________________________________________________________\n",
            "batch_normalization_8 (Batch (None, 6, 6, 512)         2048      \n",
            "_________________________________________________________________\n",
            "conv2d_9 (Conv2D)            (None, 6, 6, 512)         2359808   \n",
            "_________________________________________________________________\n",
            "batch_normalization_9 (Batch (None, 6, 6, 512)         2048      \n",
            "_________________________________________________________________\n",
            "max_pooling2d_3 (MaxPooling2 (None, 3, 3, 512)         0         \n",
            "_________________________________________________________________\n",
            "dropout_3 (Dropout)          (None, 3, 3, 512)         0         \n",
            "_________________________________________________________________\n",
            "conv2d_10 (Conv2D)           (None, 3, 3, 512)         2359808   \n",
            "_________________________________________________________________\n",
            "batch_normalization_10 (Batc (None, 3, 3, 512)         2048      \n",
            "_________________________________________________________________\n",
            "conv2d_11 (Conv2D)           (None, 3, 3, 512)         2359808   \n",
            "_________________________________________________________________\n",
            "batch_normalization_11 (Batc (None, 3, 3, 512)         2048      \n",
            "_________________________________________________________________\n",
            "conv2d_12 (Conv2D)           (None, 3, 3, 512)         2359808   \n",
            "_________________________________________________________________\n",
            "batch_normalization_12 (Batc (None, 3, 3, 512)         2048      \n",
            "_________________________________________________________________\n",
            "max_pooling2d_4 (MaxPooling2 (None, 1, 1, 512)         0         \n",
            "_________________________________________________________________\n",
            "dropout_4 (Dropout)          (None, 1, 1, 512)         0         \n",
            "_________________________________________________________________\n",
            "global_average_pooling2d (Gl (None, 512)               0         \n",
            "_________________________________________________________________\n",
            "dense (Dense)                (None, 512)               262656    \n",
            "_________________________________________________________________\n",
            "dropout_5 (Dropout)          (None, 512)               0         \n",
            "_________________________________________________________________\n",
            "dense_1 (Dense)              (None, 512)               262656    \n",
            "_________________________________________________________________\n",
            "dropout_6 (Dropout)          (None, 512)               0         \n",
            "_________________________________________________________________\n",
            "dense_2 (Dense)              (None, 7)                 3591      \n",
            "=================================================================\n",
            "Total params: 15,259,335\n",
            "Trainable params: 15,250,887\n",
            "Non-trainable params: 8,448\n",
            "_________________________________________________________________\n"
          ],
          "name": "stdout"
        }
      ]
    },
    {
      "cell_type": "code",
      "metadata": {
        "id": "8jkwdE30MBT1"
      },
      "source": [
        "#Model ori\n",
        "'''from keras.models import Sequential\n",
        "from keras.layers import Input, Dense, Flatten, Conv2D, MaxPool2D\n",
        "\n",
        "input_shape = (48, 48, 1)\n",
        "\n",
        "model = Sequential()\n",
        "\n",
        "model.add(Conv2D(filters=64,input_shape=(input_shape),kernel_size=(3,3),padding=\"same\", activation=\"relu\", kernel_initializer = glorot_uniform(seed=0)))\n",
        "model.add(Conv2D(filters=64,kernel_size=(3,3),padding=\"same\", activation=\"relu\", kernel_initializer = glorot_uniform(seed=0)))\n",
        "model.add(MaxPool2D(pool_size=(2,2),strides=(2,2)))\n",
        "\n",
        "model.add(Conv2D(filters=128, kernel_size=(3,3), padding=\"same\", activation=\"relu\", kernel_initializer = glorot_uniform(seed=0)))\n",
        "model.add(Conv2D(filters=128, kernel_size=(3,3), padding=\"same\", activation=\"relu\", kernel_initializer = glorot_uniform(seed=0)))\n",
        "model.add(MaxPool2D(pool_size=(2,2),strides=(2,2)))\n",
        "\n",
        "model.add(Conv2D(filters=256, kernel_size=(3,3), padding=\"same\", activation=\"relu\", kernel_initializer = glorot_uniform(seed=0)))\n",
        "model.add(Conv2D(filters=256, kernel_size=(3,3), padding=\"same\", activation=\"relu\", kernel_initializer = glorot_uniform(seed=0)))\n",
        "model.add(Conv2D(filters=256, kernel_size=(3,3), padding=\"same\", activation=\"relu\", kernel_initializer = glorot_uniform(seed=1)))\n",
        "model.add(MaxPool2D(pool_size=(2,2),strides=(2,2)))\n",
        "\n",
        "model.add(Conv2D(filters=512, kernel_size=(3,3), padding=\"same\", activation=\"relu\", kernel_initializer = glorot_uniform(seed=0)))\n",
        "model.add(Conv2D(filters=512, kernel_size=(3,3), padding=\"same\", activation=\"relu\", kernel_initializer = glorot_uniform(seed=0)))\n",
        "model.add(Conv2D(filters=512, kernel_size=(3,3), padding=\"same\", activation=\"relu\", kernel_initializer = glorot_uniform(seed=0)))\n",
        "model.add(MaxPool2D(pool_size=(2,2),strides=(2,2)))\n",
        "\n",
        "model.add(Conv2D(filters=512, kernel_size=(3,3), padding=\"same\", activation=\"relu\", kernel_initializer = glorot_uniform(seed=0)))\n",
        "model.add(Conv2D(filters=512, kernel_size=(3,3), padding=\"same\", activation=\"relu\", kernel_initializer = glorot_uniform(seed=0)))\n",
        "model.add(Conv2D(filters=512, kernel_size=(3,3), padding=\"same\", activation=\"relu\", kernel_initializer = glorot_uniform(seed=0)))\n",
        "model.add(MaxPool2D(pool_size=(2,2),strides=(2,2)))\n",
        "\n",
        "model.add(Flatten())\n",
        "\n",
        "model.add(Dense(4096,activation='relu'))\n",
        "model.add(Dense(4096,activation='relu'))\n",
        "model.add(Dense(units=num_classes, activation='softmax'))\n",
        "\n",
        "# print the model summary\n",
        "model.summary()"
      ],
      "execution_count": null,
      "outputs": []
    },
    {
      "cell_type": "code",
      "metadata": {
        "id": "0S679DUacsgI"
      },
      "source": [
        "#save plot model to file\n",
        "from keras.utils.vis_utils import plot_model\n",
        "plot_model(model, to_file=\"model_fix.png\", show_shapes=True, show_layer_names=False)"
      ],
      "execution_count": null,
      "outputs": []
    },
    {
      "cell_type": "code",
      "metadata": {
        "id": "LhxgJX3brul-"
      },
      "source": [
        "#compile model\n",
        "from keras.optimizers import Adam,SGD,RMSprop\n",
        "\n",
        "opt = Adam(learning_rate=0.00001)\n",
        "model.compile(loss='categorical_crossentropy', optimizer=opt, metrics=['accuracy'])"
      ],
      "execution_count": 15,
      "outputs": []
    },
    {
      "cell_type": "code",
      "metadata": {
        "colab": {
          "base_uri": "https://localhost:8080/"
        },
        "id": "ljPuPM2iryKG",
        "outputId": "523b4be4-b065-4fd8-8e08-478f32a42d9a"
      },
      "source": [
        "# fit the model\n",
        "num_epochs = 100\n",
        "history = model.fit(train_flow, \n",
        "                    steps_per_epoch=len(X_train) // batch_size, \n",
        "                    epochs=num_epochs,  \n",
        "                    verbose=1,  \n",
        "                    validation_data=val_flow,  \n",
        "                    validation_steps=len(X_val) // batch_size)"
      ],
      "execution_count": 16,
      "outputs": [
        {
          "output_type": "stream",
          "text": [
            "Epoch 1/100\n",
            "448/448 [==============================] - 89s 79ms/step - loss: 4.4418 - accuracy: 0.1537 - val_loss: 1.9340 - val_accuracy: 0.1699\n",
            "Epoch 2/100\n",
            "448/448 [==============================] - 34s 75ms/step - loss: 3.1065 - accuracy: 0.1796 - val_loss: 1.8786 - val_accuracy: 0.1861\n",
            "Epoch 3/100\n",
            "448/448 [==============================] - 33s 74ms/step - loss: 2.5543 - accuracy: 0.1839 - val_loss: 1.8583 - val_accuracy: 0.1875\n",
            "Epoch 4/100\n",
            "448/448 [==============================] - 33s 74ms/step - loss: 2.2493 - accuracy: 0.1862 - val_loss: 1.8410 - val_accuracy: 0.2305\n",
            "Epoch 5/100\n",
            "448/448 [==============================] - 33s 75ms/step - loss: 2.0957 - accuracy: 0.1898 - val_loss: 1.8355 - val_accuracy: 0.2439\n",
            "Epoch 6/100\n",
            "448/448 [==============================] - 33s 74ms/step - loss: 2.0046 - accuracy: 0.2002 - val_loss: 1.8365 - val_accuracy: 0.2475\n",
            "Epoch 7/100\n",
            "448/448 [==============================] - 33s 74ms/step - loss: 1.9661 - accuracy: 0.1979 - val_loss: 1.8337 - val_accuracy: 0.2517\n",
            "Epoch 8/100\n",
            "448/448 [==============================] - 33s 74ms/step - loss: 1.9210 - accuracy: 0.2099 - val_loss: 1.8363 - val_accuracy: 0.2497\n",
            "Epoch 9/100\n",
            "448/448 [==============================] - 33s 74ms/step - loss: 1.8995 - accuracy: 0.2118 - val_loss: 1.8314 - val_accuracy: 0.2483\n",
            "Epoch 10/100\n",
            "448/448 [==============================] - 33s 75ms/step - loss: 1.8858 - accuracy: 0.2137 - val_loss: 1.8264 - val_accuracy: 0.2497\n",
            "Epoch 11/100\n",
            "448/448 [==============================] - 33s 74ms/step - loss: 1.8734 - accuracy: 0.2192 - val_loss: 1.8261 - val_accuracy: 0.2494\n",
            "Epoch 12/100\n",
            "448/448 [==============================] - 33s 74ms/step - loss: 1.8609 - accuracy: 0.2179 - val_loss: 1.8218 - val_accuracy: 0.2503\n",
            "Epoch 13/100\n",
            "448/448 [==============================] - 33s 74ms/step - loss: 1.8511 - accuracy: 0.2236 - val_loss: 1.8178 - val_accuracy: 0.2500\n",
            "Epoch 14/100\n",
            "448/448 [==============================] - 33s 74ms/step - loss: 1.8478 - accuracy: 0.2250 - val_loss: 1.8155 - val_accuracy: 0.2486\n",
            "Epoch 15/100\n",
            "448/448 [==============================] - 33s 74ms/step - loss: 1.8397 - accuracy: 0.2241 - val_loss: 1.8141 - val_accuracy: 0.2497\n",
            "Epoch 16/100\n",
            "448/448 [==============================] - 33s 75ms/step - loss: 1.8345 - accuracy: 0.2302 - val_loss: 1.8103 - val_accuracy: 0.2508\n",
            "Epoch 17/100\n",
            "448/448 [==============================] - 33s 74ms/step - loss: 1.8219 - accuracy: 0.2329 - val_loss: 1.8060 - val_accuracy: 0.2506\n",
            "Epoch 18/100\n",
            "448/448 [==============================] - 33s 75ms/step - loss: 1.8157 - accuracy: 0.2346 - val_loss: 1.8058 - val_accuracy: 0.2522\n",
            "Epoch 19/100\n",
            "448/448 [==============================] - 33s 74ms/step - loss: 1.8218 - accuracy: 0.2318 - val_loss: 1.8003 - val_accuracy: 0.2469\n",
            "Epoch 20/100\n",
            "448/448 [==============================] - 33s 74ms/step - loss: 1.8175 - accuracy: 0.2327 - val_loss: 1.8015 - val_accuracy: 0.2503\n",
            "Epoch 21/100\n",
            "448/448 [==============================] - 33s 74ms/step - loss: 1.8126 - accuracy: 0.2367 - val_loss: 1.7976 - val_accuracy: 0.2480\n",
            "Epoch 22/100\n",
            "448/448 [==============================] - 33s 74ms/step - loss: 1.8057 - accuracy: 0.2447 - val_loss: 1.7976 - val_accuracy: 0.2483\n",
            "Epoch 23/100\n",
            "448/448 [==============================] - 33s 74ms/step - loss: 1.8049 - accuracy: 0.2412 - val_loss: 1.7972 - val_accuracy: 0.2494\n",
            "Epoch 24/100\n",
            "448/448 [==============================] - 33s 75ms/step - loss: 1.8050 - accuracy: 0.2407 - val_loss: 1.7929 - val_accuracy: 0.2506\n",
            "Epoch 25/100\n",
            "448/448 [==============================] - 33s 74ms/step - loss: 1.8028 - accuracy: 0.2408 - val_loss: 1.7872 - val_accuracy: 0.2525\n",
            "Epoch 26/100\n",
            "448/448 [==============================] - 33s 74ms/step - loss: 1.8048 - accuracy: 0.2443 - val_loss: 1.7841 - val_accuracy: 0.2556\n",
            "Epoch 27/100\n",
            "448/448 [==============================] - 33s 74ms/step - loss: 1.8012 - accuracy: 0.2378 - val_loss: 1.7805 - val_accuracy: 0.2559\n",
            "Epoch 28/100\n",
            "448/448 [==============================] - 33s 75ms/step - loss: 1.7905 - accuracy: 0.2528 - val_loss: 1.7761 - val_accuracy: 0.2570\n",
            "Epoch 29/100\n",
            "448/448 [==============================] - 33s 74ms/step - loss: 1.7869 - accuracy: 0.2522 - val_loss: 1.7651 - val_accuracy: 0.2648\n",
            "Epoch 30/100\n",
            "448/448 [==============================] - 33s 74ms/step - loss: 1.7876 - accuracy: 0.2553 - val_loss: 1.7775 - val_accuracy: 0.2581\n",
            "Epoch 31/100\n",
            "448/448 [==============================] - 33s 74ms/step - loss: 1.7795 - accuracy: 0.2564 - val_loss: 1.7501 - val_accuracy: 0.2751\n",
            "Epoch 32/100\n",
            "448/448 [==============================] - 33s 74ms/step - loss: 1.7696 - accuracy: 0.2620 - val_loss: 1.7506 - val_accuracy: 0.2754\n",
            "Epoch 33/100\n",
            "448/448 [==============================] - 33s 74ms/step - loss: 1.7596 - accuracy: 0.2672 - val_loss: 1.7655 - val_accuracy: 0.2734\n",
            "Epoch 34/100\n",
            "448/448 [==============================] - 33s 74ms/step - loss: 1.7526 - accuracy: 0.2735 - val_loss: 1.7293 - val_accuracy: 0.2866\n",
            "Epoch 35/100\n",
            "448/448 [==============================] - 33s 74ms/step - loss: 1.7507 - accuracy: 0.2728 - val_loss: 1.7346 - val_accuracy: 0.2905\n",
            "Epoch 36/100\n",
            "448/448 [==============================] - 33s 75ms/step - loss: 1.7349 - accuracy: 0.2833 - val_loss: 1.7330 - val_accuracy: 0.2913\n",
            "Epoch 37/100\n",
            "448/448 [==============================] - 33s 74ms/step - loss: 1.7295 - accuracy: 0.2899 - val_loss: 1.7381 - val_accuracy: 0.2941\n",
            "Epoch 38/100\n",
            "448/448 [==============================] - 33s 74ms/step - loss: 1.7262 - accuracy: 0.2885 - val_loss: 1.7107 - val_accuracy: 0.3027\n",
            "Epoch 39/100\n",
            "448/448 [==============================] - 33s 74ms/step - loss: 1.7266 - accuracy: 0.2849 - val_loss: 1.7224 - val_accuracy: 0.3066\n",
            "Epoch 40/100\n",
            "448/448 [==============================] - 33s 75ms/step - loss: 1.7078 - accuracy: 0.2973 - val_loss: 1.7598 - val_accuracy: 0.2991\n",
            "Epoch 41/100\n",
            "448/448 [==============================] - 33s 74ms/step - loss: 1.7095 - accuracy: 0.2964 - val_loss: 1.7181 - val_accuracy: 0.3158\n",
            "Epoch 42/100\n",
            "448/448 [==============================] - 33s 74ms/step - loss: 1.6999 - accuracy: 0.3023 - val_loss: 1.7156 - val_accuracy: 0.3211\n",
            "Epoch 43/100\n",
            "448/448 [==============================] - 33s 74ms/step - loss: 1.6975 - accuracy: 0.3043 - val_loss: 1.7526 - val_accuracy: 0.3186\n",
            "Epoch 44/100\n",
            "448/448 [==============================] - 33s 74ms/step - loss: 1.6929 - accuracy: 0.3001 - val_loss: 1.7067 - val_accuracy: 0.3253\n",
            "Epoch 45/100\n",
            "448/448 [==============================] - 33s 75ms/step - loss: 1.6854 - accuracy: 0.3074 - val_loss: 1.7566 - val_accuracy: 0.3265\n",
            "Epoch 46/100\n",
            "448/448 [==============================] - 33s 74ms/step - loss: 1.6745 - accuracy: 0.3188 - val_loss: 1.6983 - val_accuracy: 0.3315\n",
            "Epoch 47/100\n",
            "448/448 [==============================] - 33s 74ms/step - loss: 1.6624 - accuracy: 0.3228 - val_loss: 1.7258 - val_accuracy: 0.3329\n",
            "Epoch 48/100\n",
            "448/448 [==============================] - 33s 75ms/step - loss: 1.6568 - accuracy: 0.3235 - val_loss: 1.7201 - val_accuracy: 0.3371\n",
            "Epoch 49/100\n",
            "448/448 [==============================] - 33s 74ms/step - loss: 1.6432 - accuracy: 0.3421 - val_loss: 1.6850 - val_accuracy: 0.3485\n",
            "Epoch 50/100\n",
            "448/448 [==============================] - 33s 75ms/step - loss: 1.6338 - accuracy: 0.3510 - val_loss: 1.6759 - val_accuracy: 0.3655\n",
            "Epoch 51/100\n",
            "448/448 [==============================] - 33s 75ms/step - loss: 1.6284 - accuracy: 0.3476 - val_loss: 1.6618 - val_accuracy: 0.3683\n",
            "Epoch 52/100\n",
            "448/448 [==============================] - 33s 75ms/step - loss: 1.6185 - accuracy: 0.3557 - val_loss: 1.7060 - val_accuracy: 0.3733\n",
            "Epoch 53/100\n",
            "448/448 [==============================] - 33s 74ms/step - loss: 1.6065 - accuracy: 0.3712 - val_loss: 1.6670 - val_accuracy: 0.3898\n",
            "Epoch 54/100\n",
            "448/448 [==============================] - 33s 75ms/step - loss: 1.5916 - accuracy: 0.3756 - val_loss: 1.6166 - val_accuracy: 0.3968\n",
            "Epoch 55/100\n",
            "448/448 [==============================] - 33s 75ms/step - loss: 1.5819 - accuracy: 0.3762 - val_loss: 1.6126 - val_accuracy: 0.4079\n",
            "Epoch 56/100\n",
            "448/448 [==============================] - 33s 75ms/step - loss: 1.5740 - accuracy: 0.3796 - val_loss: 1.5982 - val_accuracy: 0.4093\n",
            "Epoch 57/100\n",
            "448/448 [==============================] - 34s 75ms/step - loss: 1.5516 - accuracy: 0.3891 - val_loss: 1.5240 - val_accuracy: 0.4163\n",
            "Epoch 58/100\n",
            "448/448 [==============================] - 33s 75ms/step - loss: 1.5353 - accuracy: 0.3994 - val_loss: 1.5253 - val_accuracy: 0.4213\n",
            "Epoch 59/100\n",
            "448/448 [==============================] - 33s 75ms/step - loss: 1.5405 - accuracy: 0.3978 - val_loss: 1.4778 - val_accuracy: 0.4291\n",
            "Epoch 60/100\n",
            "448/448 [==============================] - 33s 74ms/step - loss: 1.5364 - accuracy: 0.4035 - val_loss: 1.4829 - val_accuracy: 0.4353\n",
            "Epoch 61/100\n",
            "448/448 [==============================] - 34s 75ms/step - loss: 1.5195 - accuracy: 0.4056 - val_loss: 1.4920 - val_accuracy: 0.4392\n",
            "Epoch 62/100\n",
            "448/448 [==============================] - 33s 75ms/step - loss: 1.5040 - accuracy: 0.4156 - val_loss: 1.4360 - val_accuracy: 0.4459\n",
            "Epoch 63/100\n",
            "448/448 [==============================] - 33s 74ms/step - loss: 1.5001 - accuracy: 0.4169 - val_loss: 1.4287 - val_accuracy: 0.4515\n",
            "Epoch 64/100\n",
            "448/448 [==============================] - 34s 75ms/step - loss: 1.4895 - accuracy: 0.4277 - val_loss: 1.4055 - val_accuracy: 0.4665\n",
            "Epoch 65/100\n",
            "448/448 [==============================] - 33s 75ms/step - loss: 1.4739 - accuracy: 0.4324 - val_loss: 1.3814 - val_accuracy: 0.4741\n",
            "Epoch 66/100\n",
            "448/448 [==============================] - 34s 75ms/step - loss: 1.4749 - accuracy: 0.4321 - val_loss: 1.3575 - val_accuracy: 0.4785\n",
            "Epoch 67/100\n",
            "448/448 [==============================] - 33s 75ms/step - loss: 1.4555 - accuracy: 0.4399 - val_loss: 1.3580 - val_accuracy: 0.4813\n",
            "Epoch 68/100\n",
            "448/448 [==============================] - 33s 75ms/step - loss: 1.4429 - accuracy: 0.4450 - val_loss: 1.3403 - val_accuracy: 0.4869\n",
            "Epoch 69/100\n",
            "448/448 [==============================] - 34s 75ms/step - loss: 1.4409 - accuracy: 0.4473 - val_loss: 1.3225 - val_accuracy: 0.4860\n",
            "Epoch 70/100\n",
            "448/448 [==============================] - 33s 75ms/step - loss: 1.4276 - accuracy: 0.4523 - val_loss: 1.3089 - val_accuracy: 0.4902\n",
            "Epoch 71/100\n",
            "448/448 [==============================] - 33s 75ms/step - loss: 1.4200 - accuracy: 0.4579 - val_loss: 1.3004 - val_accuracy: 0.5014\n",
            "Epoch 72/100\n",
            "448/448 [==============================] - 33s 75ms/step - loss: 1.4147 - accuracy: 0.4569 - val_loss: 1.2946 - val_accuracy: 0.5039\n",
            "Epoch 73/100\n",
            "448/448 [==============================] - 34s 75ms/step - loss: 1.4181 - accuracy: 0.4607 - val_loss: 1.2970 - val_accuracy: 0.4953\n",
            "Epoch 74/100\n",
            "448/448 [==============================] - 33s 75ms/step - loss: 1.4045 - accuracy: 0.4558 - val_loss: 1.2859 - val_accuracy: 0.4994\n",
            "Epoch 75/100\n",
            "448/448 [==============================] - 33s 74ms/step - loss: 1.3913 - accuracy: 0.4643 - val_loss: 1.2653 - val_accuracy: 0.5056\n",
            "Epoch 76/100\n",
            "448/448 [==============================] - 34s 75ms/step - loss: 1.4032 - accuracy: 0.4565 - val_loss: 1.2605 - val_accuracy: 0.5095\n",
            "Epoch 77/100\n",
            "448/448 [==============================] - 34s 75ms/step - loss: 1.3818 - accuracy: 0.4705 - val_loss: 1.2543 - val_accuracy: 0.5131\n",
            "Epoch 78/100\n",
            "448/448 [==============================] - 33s 74ms/step - loss: 1.3733 - accuracy: 0.4791 - val_loss: 1.2525 - val_accuracy: 0.5137\n",
            "Epoch 79/100\n",
            "448/448 [==============================] - 34s 75ms/step - loss: 1.3609 - accuracy: 0.4867 - val_loss: 1.2547 - val_accuracy: 0.5159\n",
            "Epoch 80/100\n",
            "448/448 [==============================] - 34s 75ms/step - loss: 1.3717 - accuracy: 0.4775 - val_loss: 1.2476 - val_accuracy: 0.5134\n",
            "Epoch 81/100\n",
            "448/448 [==============================] - 34s 75ms/step - loss: 1.3590 - accuracy: 0.4860 - val_loss: 1.2413 - val_accuracy: 0.5198\n",
            "Epoch 82/100\n",
            "448/448 [==============================] - 34s 75ms/step - loss: 1.3473 - accuracy: 0.4824 - val_loss: 1.2447 - val_accuracy: 0.5220\n",
            "Epoch 83/100\n",
            "448/448 [==============================] - 34s 75ms/step - loss: 1.3415 - accuracy: 0.4899 - val_loss: 1.2226 - val_accuracy: 0.5240\n",
            "Epoch 84/100\n",
            "448/448 [==============================] - 34s 75ms/step - loss: 1.3376 - accuracy: 0.4905 - val_loss: 1.2182 - val_accuracy: 0.5265\n",
            "Epoch 85/100\n",
            "448/448 [==============================] - 34s 75ms/step - loss: 1.3362 - accuracy: 0.4952 - val_loss: 1.2171 - val_accuracy: 0.5257\n",
            "Epoch 86/100\n",
            "448/448 [==============================] - 34s 75ms/step - loss: 1.3294 - accuracy: 0.4930 - val_loss: 1.2184 - val_accuracy: 0.5273\n",
            "Epoch 87/100\n",
            "448/448 [==============================] - 34s 75ms/step - loss: 1.3275 - accuracy: 0.4946 - val_loss: 1.2027 - val_accuracy: 0.5335\n",
            "Epoch 88/100\n",
            "448/448 [==============================] - 34s 75ms/step - loss: 1.3161 - accuracy: 0.5022 - val_loss: 1.2121 - val_accuracy: 0.5262\n",
            "Epoch 89/100\n",
            "448/448 [==============================] - 34s 75ms/step - loss: 1.3096 - accuracy: 0.5041 - val_loss: 1.2026 - val_accuracy: 0.5326\n",
            "Epoch 90/100\n",
            "448/448 [==============================] - 34s 75ms/step - loss: 1.3096 - accuracy: 0.5056 - val_loss: 1.1958 - val_accuracy: 0.5352\n",
            "Epoch 91/100\n",
            "448/448 [==============================] - 34s 75ms/step - loss: 1.2950 - accuracy: 0.5067 - val_loss: 1.1900 - val_accuracy: 0.5354\n",
            "Epoch 92/100\n",
            "448/448 [==============================] - 34s 75ms/step - loss: 1.2929 - accuracy: 0.5084 - val_loss: 1.1994 - val_accuracy: 0.5366\n",
            "Epoch 93/100\n",
            "448/448 [==============================] - 34s 75ms/step - loss: 1.2914 - accuracy: 0.5116 - val_loss: 1.1807 - val_accuracy: 0.5377\n",
            "Epoch 94/100\n",
            "448/448 [==============================] - 34s 75ms/step - loss: 1.2808 - accuracy: 0.5120 - val_loss: 1.1739 - val_accuracy: 0.5446\n",
            "Epoch 95/100\n",
            "448/448 [==============================] - 34s 75ms/step - loss: 1.2768 - accuracy: 0.5171 - val_loss: 1.1760 - val_accuracy: 0.5435\n",
            "Epoch 96/100\n",
            "448/448 [==============================] - 33s 75ms/step - loss: 1.2691 - accuracy: 0.5175 - val_loss: 1.1755 - val_accuracy: 0.5407\n",
            "Epoch 97/100\n",
            "448/448 [==============================] - 34s 75ms/step - loss: 1.2697 - accuracy: 0.5211 - val_loss: 1.1698 - val_accuracy: 0.5491\n",
            "Epoch 98/100\n",
            "448/448 [==============================] - 33s 75ms/step - loss: 1.2586 - accuracy: 0.5209 - val_loss: 1.1602 - val_accuracy: 0.5525\n",
            "Epoch 99/100\n",
            "448/448 [==============================] - 33s 75ms/step - loss: 1.2571 - accuracy: 0.5240 - val_loss: 1.1676 - val_accuracy: 0.5494\n",
            "Epoch 100/100\n",
            "448/448 [==============================] - 33s 75ms/step - loss: 1.2557 - accuracy: 0.5232 - val_loss: 1.1564 - val_accuracy: 0.5494\n"
          ],
          "name": "stdout"
        }
      ]
    },
    {
      "cell_type": "markdown",
      "metadata": {
        "id": "zdn-Ud-Ca4LG"
      },
      "source": [
        "# Evaluate"
      ]
    },
    {
      "cell_type": "code",
      "metadata": {
        "id": "d8D97Qq4bUxn",
        "colab": {
          "base_uri": "https://localhost:8080/",
          "height": 573
        },
        "outputId": "c20b44cf-4ca9-4338-a834-844d26b560ed"
      },
      "source": [
        "accuracy = history.history['accuracy']\n",
        "val_accuracy = history.history['val_accuracy']\n",
        "loss = history.history['loss']\n",
        "val_loss = history.history['val_loss']\n",
        "num_epochs = range(len(accuracy))\n",
        "plt.plot(num_epochs, accuracy, 'r', label='Training acc')\n",
        "plt.plot(num_epochs, val_accuracy, 'b', label='Validation acc')\n",
        "plt.title('Training and validation accuracy')\n",
        "plt.ylabel('accuracy')  \n",
        "plt.xlabel('epoch')\n",
        "plt.legend()\n",
        "plt.figure()\n",
        "plt.plot(num_epochs, loss, 'r', label='Training loss')\n",
        "plt.plot(num_epochs, val_loss, 'b', label='Validation loss')\n",
        "plt.title('Training and validation loss')\n",
        "plt.ylabel('loss')  \n",
        "plt.xlabel('epoch')\n",
        "plt.legend()\n",
        "plt.show()"
      ],
      "execution_count": 17,
      "outputs": [
        {
          "output_type": "display_data",
          "data": {
            "image/png": "[encoded data removed]",
            "text/plain": [
              "<Figure size 432x288 with 1 Axes>"
            ]
          },
          "metadata": {
            "tags": [],
            "needs_background": "light"
          }
        },
        {
          "output_type": "display_data",
          "data": {
            "image/png": "[encoded data removed]",
            "text/plain": [
              "<Figure size 432x288 with 1 Axes>"
            ]
          },
          "metadata": {
            "tags": [],
            "needs_background": "light"
          }
        }
      ]
    },
    {
      "cell_type": "code",
      "metadata": {
        "id": "v2FEkE4pr8vN",
        "colab": {
          "base_uri": "https://localhost:8080/"
        },
        "outputId": "4d3d4796-ea42-4b32-8ec3-1335b67dbab7"
      },
      "source": [
        "trainloss = model.evaluate(train_flow, steps=len(X_train) / batch_size) \n",
        "print(\"Train Loss \" + str(trainloss[0]))\n",
        "print(\"Train Acc: \" + str(trainloss[1]))\n",
        "valloss = model.evaluate(val_flow, steps=len(X_val) / batch_size) \n",
        "print(\"Val Loss \" + str(valloss[0]))\n",
        "print(\"Val Acc: \" + str(valloss[1]))\n",
        "testloss = model.evaluate(test_flow, steps=len(X_test) / batch_size) \n",
        "print(\"Test Loss \" + str(testloss[0]))\n",
        "print(\"Test Acc: \" + str(testloss[1]))"
      ],
      "execution_count": 18,
      "outputs": [
        {
          "output_type": "stream",
          "text": [
            "448/448 [==============================] - 16s 35ms/step - loss: 1.1648 - accuracy: 0.5591\n",
            "Train Loss 1.1648157835006714\n",
            "Train Acc: 0.5591278076171875\n",
            "56/56 [==============================] - 2s 28ms/step - loss: 1.1567 - accuracy: 0.5495\n",
            "Val Loss 1.1567283868789673\n",
            "Val Acc: 0.5494566559791565\n",
            "56/56 [==============================] - 1s 22ms/step - loss: 1.1357 - accuracy: 0.5667\n",
            "Test Loss 1.1357073783874512\n",
            "Test Acc: 0.5667316913604736\n"
          ],
          "name": "stdout"
        }
      ]
    },
    {
      "cell_type": "code",
      "metadata": {
        "id": "lzHC1YQabqNF"
      },
      "source": [
        "def plot_confusion_matrix(y_test, y_pred, classes,\n",
        "                          normalize=False,\n",
        "                          title='Unnormalized confusion matrix',\n",
        "                          cmap=plt.cm.Blues):\n",
        "    cm = confusion_matrix(y_test, y_pred)\n",
        "    \n",
        "    if normalize:\n",
        "        cm = np.round(cm.astype('float') / cm.sum(axis=1)[:, np.newaxis], 2)\n",
        "        \n",
        "    np.set_printoptions(precision=2)\n",
        "\n",
        "    plt.rcParams[\"figure.figsize\"] = (8,8)\n",
        "    plt.imshow(cm, interpolation='nearest', cmap=cmap)\n",
        "    plt.title(title)\n",
        "    plt.colorbar()\n",
        "    tick_marks = np.arange(len(classes))\n",
        "    plt.xticks(tick_marks, classes, rotation=45)\n",
        "    plt.yticks(tick_marks, classes)\n",
        "\n",
        "    thresh = cm.min() + (cm.max() - cm.min()) / 2.\n",
        "    for i, j in itertools.product(range(cm.shape[0]), range(cm.shape[1])):\n",
        "        plt.text(j, i, cm[i, j],\n",
        "                 horizontalalignment=\"center\",\n",
        "                 color=\"white\" if cm[i, j] > thresh else \"black\")\n",
        "\n",
        "    plt.tight_layout()\n",
        "    plt.ylabel('True expression')\n",
        "    plt.xlabel('Predicted expression')\n",
        "    plt.show()"
      ],
      "execution_count": 19,
      "outputs": []
    },
    {
      "cell_type": "code",
      "metadata": {
        "id": "moInw8fjbqNF",
        "colab": {
          "base_uri": "https://localhost:8080/"
        },
        "outputId": "64030ed9-902b-4223-c83f-04975237a2e3"
      },
      "source": [
        "y_pred_ = model.predict(X_test/255., verbose=1)\n",
        "y_pred = np.argmax(y_pred_, axis=1)\n",
        "t_te = np.argmax(y_test, axis=1)"
      ],
      "execution_count": 20,
      "outputs": [
        {
          "output_type": "stream",
          "text": [
            "113/113 [==============================] - 3s 13ms/step\n"
          ],
          "name": "stdout"
        }
      ]
    },
    {
      "cell_type": "code",
      "metadata": {
        "id": "espEQdo8bqNG",
        "colab": {
          "base_uri": "https://localhost:8080/",
          "height": 585
        },
        "outputId": "6bae2b92-839f-44ef-de1c-8e74d6a56c47"
      },
      "source": [
        "from sklearn.metrics import confusion_matrix, classification_report\n",
        "import itertools\n",
        "\n",
        "fig = plot_confusion_matrix(y_test=t_te, y_pred=y_pred,\n",
        "                      classes=labels,\n",
        "                      normalize=True,\n",
        "                      cmap=plt.cm.Blues,\n",
        "                      title='Average accuracy: ' + str(np.sum(y_pred == t_te)/len(t_te)) + '\\n')"
      ],
      "execution_count": 21,
      "outputs": [
        {
          "output_type": "display_data",
          "data": {
            "image/png": "[encoded data removed]",
            "text/plain": [
              "<Figure size 576x576 with 2 Axes>"
            ]
          },
          "metadata": {
            "tags": [],
            "needs_background": "light"
          }
        }
      ]
    },
    {
      "cell_type": "code",
      "metadata": {
        "id": "4vauS7IKbqNG",
        "colab": {
          "base_uri": "https://localhost:8080/"
        },
        "outputId": "5c1d2720-3bc0-4f82-ec6e-98ee99c5dd4a"
      },
      "source": [
        "emotions = {0: 'Angry', 1: 'Disgust', 2: 'Fear', 3: 'Happy', 4: 'Sad', 5: 'Surprise', 6: 'Neutral'}\n",
        "print(classification_report(t_te, y_pred, target_names=emotions.values()))"
      ],
      "execution_count": 22,
      "outputs": [
        {
          "output_type": "stream",
          "text": [
            "              precision    recall  f1-score   support\n",
            "\n",
            "       Angry       0.40      0.56      0.46       491\n",
            "     Disgust       0.00      0.00      0.00        55\n",
            "        Fear       0.35      0.10      0.15       528\n",
            "       Happy       0.84      0.82      0.83       879\n",
            "         Sad       0.44      0.40      0.42       594\n",
            "    Surprise       0.68      0.76      0.72       416\n",
            "     Neutral       0.49      0.70      0.57       626\n",
            "\n",
            "    accuracy                           0.57      3589\n",
            "   macro avg       0.46      0.48      0.45      3589\n",
            "weighted avg       0.55      0.57      0.54      3589\n",
            "\n"
          ],
          "name": "stdout"
        },
        {
          "output_type": "stream",
          "text": [
            "/usr/local/lib/python3.7/dist-packages/sklearn/metrics/_classification.py:1272: UndefinedMetricWarning: Precision and F-score are ill-defined and being set to 0.0 in labels with no predicted samples. Use `zero_division` parameter to control this behavior.\n",
            "  _warn_prf(average, modifier, msg_start, len(result))\n"
          ],
          "name": "stderr"
        }
      ]
    },
    {
      "cell_type": "code",
      "metadata": {
        "id": "KKWxaaYRba3j",
        "colab": {
          "base_uri": "https://localhost:8080/"
        },
        "outputId": "21dc2cf0-2a4b-4cb7-97f2-0cdae24df527"
      },
      "source": [
        "model.save(\"/content/drive/MyDrive/Colab Notebooks/Model/ModelFix_Adam0.00001_epoch100_Aug.h5\")\n",
        "print(\"saved\")"
      ],
      "execution_count": 23,
      "outputs": [
        {
          "output_type": "stream",
          "text": [
            "saved\n"
          ],
          "name": "stdout"
        }
      ]
    },
    {
      "cell_type": "markdown",
      "metadata": {
        "id": "aqLRhlr4b7t5"
      },
      "source": [
        "#Load Model"
      ]
    },
    {
      "cell_type": "code",
      "metadata": {
        "id": "J45lyUtcJ-6F",
        "colab": {
          "base_uri": "https://localhost:8080/"
        },
        "outputId": "9fa7837b-ca4c-4f84-99da-a4ce4661c18e"
      },
      "source": [
        "from keras.models import load_model\n",
        "model_load = load_model('/content/drive/MyDrive/Colab Notebooks/Model/ModelFix_Adam0.00001_epoch100_Aug.h5')\n",
        "\n",
        "model_load.summary()"
      ],
      "execution_count": 24,
      "outputs": [
        {
          "output_type": "stream",
          "text": [
            "Model: \"sequential\"\n",
            "_________________________________________________________________\n",
            "Layer (type)                 Output Shape              Param #   \n",
            "=================================================================\n",
            "conv2d (Conv2D)              (None, 48, 48, 64)        640       \n",
            "_________________________________________________________________\n",
            "batch_normalization (BatchNo (None, 48, 48, 64)        256       \n",
            "_________________________________________________________________\n",
            "conv2d_1 (Conv2D)            (None, 48, 48, 64)        36928     \n",
            "_________________________________________________________________\n",
            "batch_normalization_1 (Batch (None, 48, 48, 64)        256       \n",
            "_________________________________________________________________\n",
            "max_pooling2d (MaxPooling2D) (None, 24, 24, 64)        0         \n",
            "_________________________________________________________________\n",
            "dropout (Dropout)            (None, 24, 24, 64)        0         \n",
            "_________________________________________________________________\n",
            "conv2d_2 (Conv2D)            (None, 24, 24, 128)       73856     \n",
            "_________________________________________________________________\n",
            "batch_normalization_2 (Batch (None, 24, 24, 128)       512       \n",
            "_________________________________________________________________\n",
            "conv2d_3 (Conv2D)            (None, 24, 24, 128)       147584    \n",
            "_________________________________________________________________\n",
            "batch_normalization_3 (Batch (None, 24, 24, 128)       512       \n",
            "_________________________________________________________________\n",
            "max_pooling2d_1 (MaxPooling2 (None, 12, 12, 128)       0         \n",
            "_________________________________________________________________\n",
            "dropout_1 (Dropout)          (None, 12, 12, 128)       0         \n",
            "_________________________________________________________________\n",
            "conv2d_4 (Conv2D)            (None, 12, 12, 256)       295168    \n",
            "_________________________________________________________________\n",
            "batch_normalization_4 (Batch (None, 12, 12, 256)       1024      \n",
            "_________________________________________________________________\n",
            "conv2d_5 (Conv2D)            (None, 12, 12, 256)       590080    \n",
            "_________________________________________________________________\n",
            "batch_normalization_5 (Batch (None, 12, 12, 256)       1024      \n",
            "_________________________________________________________________\n",
            "conv2d_6 (Conv2D)            (None, 12, 12, 256)       590080    \n",
            "_________________________________________________________________\n",
            "batch_normalization_6 (Batch (None, 12, 12, 256)       1024      \n",
            "_________________________________________________________________\n",
            "max_pooling2d_2 (MaxPooling2 (None, 6, 6, 256)         0         \n",
            "_________________________________________________________________\n",
            "dropout_2 (Dropout)          (None, 6, 6, 256)         0         \n",
            "_________________________________________________________________\n",
            "conv2d_7 (Conv2D)            (None, 6, 6, 512)         1180160   \n",
            "_________________________________________________________________\n",
            "batch_normalization_7 (Batch (None, 6, 6, 512)         2048      \n",
            "_________________________________________________________________\n",
            "conv2d_8 (Conv2D)            (None, 6, 6, 512)         2359808   \n",
            "_________________________________________________________________\n",
            "batch_normalization_8 (Batch (None, 6, 6, 512)         2048      \n",
            "_________________________________________________________________\n",
            "conv2d_9 (Conv2D)            (None, 6, 6, 512)         2359808   \n",
            "_________________________________________________________________\n",
            "batch_normalization_9 (Batch (None, 6, 6, 512)         2048      \n",
            "_________________________________________________________________\n",
            "max_pooling2d_3 (MaxPooling2 (None, 3, 3, 512)         0         \n",
            "_________________________________________________________________\n",
            "dropout_3 (Dropout)          (None, 3, 3, 512)         0         \n",
            "_________________________________________________________________\n",
            "conv2d_10 (Conv2D)           (None, 3, 3, 512)         2359808   \n",
            "_________________________________________________________________\n",
            "batch_normalization_10 (Batc (None, 3, 3, 512)         2048      \n",
            "_________________________________________________________________\n",
            "conv2d_11 (Conv2D)           (None, 3, 3, 512)         2359808   \n",
            "_________________________________________________________________\n",
            "batch_normalization_11 (Batc (None, 3, 3, 512)         2048      \n",
            "_________________________________________________________________\n",
            "conv2d_12 (Conv2D)           (None, 3, 3, 512)         2359808   \n",
            "_________________________________________________________________\n",
            "batch_normalization_12 (Batc (None, 3, 3, 512)         2048      \n",
            "_________________________________________________________________\n",
            "max_pooling2d_4 (MaxPooling2 (None, 1, 1, 512)         0         \n",
            "_________________________________________________________________\n",
            "dropout_4 (Dropout)          (None, 1, 1, 512)         0         \n",
            "_________________________________________________________________\n",
            "global_average_pooling2d (Gl (None, 512)               0         \n",
            "_________________________________________________________________\n",
            "dense (Dense)                (None, 512)               262656    \n",
            "_________________________________________________________________\n",
            "dropout_5 (Dropout)          (None, 512)               0         \n",
            "_________________________________________________________________\n",
            "dense_1 (Dense)              (None, 512)               262656    \n",
            "_________________________________________________________________\n",
            "dropout_6 (Dropout)          (None, 512)               0         \n",
            "_________________________________________________________________\n",
            "dense_2 (Dense)              (None, 7)                 3591      \n",
            "=================================================================\n",
            "Total params: 15,259,335\n",
            "Trainable params: 15,250,887\n",
            "Non-trainable params: 8,448\n",
            "_________________________________________________________________\n"
          ],
          "name": "stdout"
        }
      ]
    },
    {
      "cell_type": "code",
      "metadata": {
        "id": "nQd7m45qfWBW",
        "colab": {
          "base_uri": "https://localhost:8080/"
        },
        "outputId": "c55674ba-dd37-4516-d828-e3a3f5cd31d8"
      },
      "source": [
        "trainloss = model_load.evaluate(train_flow, steps=len(X_train) / batch_size) \n",
        "print(\"Train Loss \" + str(trainloss[0]))\n",
        "print(\"Train Acc: \" + str(trainloss[1]))\n",
        "valloss = model_load.evaluate(val_flow, steps=len(X_val) / batch_size) \n",
        "print(\"Val Loss \" + str(valloss[0]))\n",
        "print(\"Val Acc: \" + str(valloss[1]))\n",
        "testloss = model_load.evaluate(test_flow, steps=len(X_test) / batch_size) \n",
        "print(\"Test Loss \" + str(testloss[0]))\n",
        "print(\"Test Acc: \" + str(testloss[1]))"
      ],
      "execution_count": 25,
      "outputs": [
        {
          "output_type": "stream",
          "text": [
            "448/448 [==============================] - 18s 37ms/step - loss: 1.1650 - accuracy: 0.5558\n",
            "Train Loss 1.1650028228759766\n",
            "Train Acc: 0.5558187365531921\n",
            "56/56 [==============================] - 1s 23ms/step - loss: 1.1567 - accuracy: 0.5495\n",
            "Val Loss 1.1567286252975464\n",
            "Val Acc: 0.5494566559791565\n",
            "56/56 [==============================] - 1s 22ms/step - loss: 1.1357 - accuracy: 0.5667\n",
            "Test Loss 1.1357072591781616\n",
            "Test Acc: 0.5667316913604736\n"
          ],
          "name": "stdout"
        }
      ]
    },
    {
      "cell_type": "code",
      "metadata": {
        "id": "t87NY2ZdFwVP"
      },
      "source": [
        "def plot_confusion_matrix(y_test, y_pred, classes,\n",
        "                          normalize=False,\n",
        "                          title='Unnormalized confusion matrix',\n",
        "                          cmap=plt.cm.Blues):\n",
        "    cm = confusion_matrix(y_test, y_pred)\n",
        "    \n",
        "    if normalize:\n",
        "        cm = np.round(cm.astype('float') / cm.sum(axis=1)[:, np.newaxis], 2)\n",
        "        \n",
        "    np.set_printoptions(precision=2)\n",
        "\n",
        "    plt.rcParams[\"figure.figsize\"] = (8,8)        \n",
        "    plt.imshow(cm, interpolation='nearest', cmap=cmap)\n",
        "    plt.title(title)\n",
        "    plt.colorbar()\n",
        "    tick_marks = np.arange(len(classes))\n",
        "    plt.xticks(tick_marks, classes, rotation=45)\n",
        "    plt.yticks(tick_marks, classes)\n",
        "\n",
        "    thresh = cm.min() + (cm.max() - cm.min()) / 2.\n",
        "    for i, j in itertools.product(range(cm.shape[0]), range(cm.shape[1])):\n",
        "        plt.text(j, i, cm[i, j],\n",
        "                 horizontalalignment=\"center\",\n",
        "                 color=\"white\" if cm[i, j] > thresh else \"black\")\n",
        "\n",
        "    plt.tight_layout()\n",
        "    plt.ylabel('True expression')\n",
        "    plt.xlabel('Predicted expression')\n",
        "    plt.show()"
      ],
      "execution_count": 26,
      "outputs": []
    },
    {
      "cell_type": "code",
      "metadata": {
        "id": "Tc5JLl9HGFmh",
        "colab": {
          "base_uri": "https://localhost:8080/"
        },
        "outputId": "bb76cdda-e86e-47ef-e7bd-472eec8d055b"
      },
      "source": [
        "y_pred_ = model_load.predict(X_test/255., verbose=1)\n",
        "y_pred = np.argmax(y_pred_, axis=1)\n",
        "t_te = np.argmax(y_test, axis=1)"
      ],
      "execution_count": 27,
      "outputs": [
        {
          "output_type": "stream",
          "text": [
            "113/113 [==============================] - 3s 13ms/step\n"
          ],
          "name": "stdout"
        }
      ]
    },
    {
      "cell_type": "code",
      "metadata": {
        "id": "WUeZP3q-GJrl",
        "colab": {
          "base_uri": "https://localhost:8080/",
          "height": 585
        },
        "outputId": "aaee7b28-8976-49a4-ebdb-e04980fffe77"
      },
      "source": [
        "from sklearn.metrics import confusion_matrix, classification_report\n",
        "import itertools\n",
        "\n",
        "fig = plot_confusion_matrix(y_test=t_te, y_pred=y_pred,\n",
        "                      classes=labels,\n",
        "                      normalize=True,\n",
        "                      cmap=plt.cm.Blues,\n",
        "                      title='Average accuracy: ' + str(np.sum(y_pred == t_te)/len(t_te)) + '\\n')"
      ],
      "execution_count": 28,
      "outputs": [
        {
          "output_type": "display_data",
          "data": {
            "image/png": "[encoded data removed]",
            "text/plain": [
              "<Figure size 576x576 with 2 Axes>"
            ]
          },
          "metadata": {
            "tags": [],
            "needs_background": "light"
          }
        }
      ]
    },
    {
      "cell_type": "code",
      "metadata": {
        "id": "qes0jsNJG8TF",
        "colab": {
          "base_uri": "https://localhost:8080/"
        },
        "outputId": "74772297-b6ae-4912-a882-0a7de309b02f"
      },
      "source": [
        "emotions = {0: 'Angry', 1: 'Disgust', 2: 'Fear', 3: 'Happy', 4: 'Sad', 5: 'Surprise', 6: 'Neutral'}\n",
        "print(classification_report(t_te, y_pred, target_names=emotions.values()))"
      ],
      "execution_count": 29,
      "outputs": [
        {
          "output_type": "stream",
          "text": [
            "              precision    recall  f1-score   support\n",
            "\n",
            "       Angry       0.40      0.56      0.46       491\n",
            "     Disgust       0.00      0.00      0.00        55\n",
            "        Fear       0.35      0.10      0.15       528\n",
            "       Happy       0.84      0.82      0.83       879\n",
            "         Sad       0.44      0.40      0.42       594\n",
            "    Surprise       0.68      0.76      0.72       416\n",
            "     Neutral       0.49      0.70      0.57       626\n",
            "\n",
            "    accuracy                           0.57      3589\n",
            "   macro avg       0.46      0.48      0.45      3589\n",
            "weighted avg       0.55      0.57      0.54      3589\n",
            "\n"
          ],
          "name": "stdout"
        },
        {
          "output_type": "stream",
          "text": [
            "/usr/local/lib/python3.7/dist-packages/sklearn/metrics/_classification.py:1272: UndefinedMetricWarning: Precision and F-score are ill-defined and being set to 0.0 in labels with no predicted samples. Use `zero_division` parameter to control this behavior.\n",
            "  _warn_prf(average, modifier, msg_start, len(result))\n"
          ],
          "name": "stderr"
        }
      ]
    }
  ]
}