{
  "nbformat": 4,
  "nbformat_minor": 0,
  "metadata": {
    "accelerator": "GPU",
    "colab": {
      "name": "FINAL.ipynb",
      "provenance": [],
      "collapsed_sections": [],
      "include_colab_link": true
    },
    "kernelspec": {
      "display_name": "Python 3",
      "name": "python3"
    },
    "language_info": {
      "name": "python"
    }
  },
  "cells": [
    {
      "cell_type": "markdown",
      "metadata": {
        "id": "view-in-github",
        "colab_type": "text"
      },
      "source": [
        "<a href=\"https://colab.research.google.com/github/rizqyjoe/FER2013_VGG16_Modified/blob/main/VGG16/With%20Aug/Epoch%2050/006.ipynb\" target=\"_parent\"><img src=\"https://colab.research.google.com/assets/colab-badge.svg\" alt=\"Open In Colab\"/></a>"
      ]
    },
    {
      "cell_type": "code",
      "metadata": {
        "colab": {
          "base_uri": "https://localhost:8080/"
        },
        "id": "sX-0w3h_sh6U",
        "outputId": "6fc09da8-6353-4123-940c-431b113e0227"
      },
      "source": [
        "#mount drive\n",
        "from google.colab import drive\n",
        "drive.mount('/content/drive')"
      ],
      "execution_count": 1,
      "outputs": [
        {
          "output_type": "stream",
          "text": [
            "Mounted at /content/drive\n"
          ],
          "name": "stdout"
        }
      ]
    },
    {
      "cell_type": "markdown",
      "metadata": {
        "id": "58jrp8yObBBA"
      },
      "source": [
        "# Pre-processing"
      ]
    },
    {
      "cell_type": "code",
      "metadata": {
        "id": "7nrYTmGLrD2A"
      },
      "source": [
        "import tensorflow as tf\n",
        "import keras\n",
        "from keras import backend as K\n",
        "import pandas as pd\n",
        "import numpy as np\n",
        "import matplotlib.pyplot as plt\n",
        "from keras.preprocessing import image\n",
        "from keras.preprocessing.image import ImageDataGenerator\n",
        "from keras import regularizers\n",
        "from keras.utils import np_utils\n",
        "\n",
        "import random\n",
        "\n",
        "tf.random.set_seed(1234)\n",
        "np.random.seed(1234)\n",
        "\n",
        "from keras.initializers import glorot_uniform"
      ],
      "execution_count": 1,
      "outputs": []
    },
    {
      "cell_type": "code",
      "metadata": {
        "colab": {
          "base_uri": "https://localhost:8080/",
          "height": 204
        },
        "id": "0vTjzHIRrW53",
        "outputId": "c0e35138-52e7-4f90-a0ed-7098330adfc9"
      },
      "source": [
        "#load file\n",
        "data= pd.read_csv('/content/drive/MyDrive/dataset/fer2013 dataset/fer2013/fer2013.csv')\n",
        "data.head()"
      ],
      "execution_count": 2,
      "outputs": [
        {
          "output_type": "execute_result",
          "data": {
            "text/html": [
              "<div>\n",
              "<style scoped>\n",
              "    .dataframe tbody tr th:only-of-type {\n",
              "        vertical-align: middle;\n",
              "    }\n",
              "\n",
              "    .dataframe tbody tr th {\n",
              "        vertical-align: top;\n",
              "    }\n",
              "\n",
              "    .dataframe thead th {\n",
              "        text-align: right;\n",
              "    }\n",
              "</style>\n",
              "<table border=\"1\" class=\"dataframe\">\n",
              "  <thead>\n",
              "    <tr style=\"text-align: right;\">\n",
              "      <th></th>\n",
              "      <th>emotion</th>\n",
              "      <th>pixels</th>\n",
              "      <th>Usage</th>\n",
              "    </tr>\n",
              "  </thead>\n",
              "  <tbody>\n",
              "    <tr>\n",
              "      <th>0</th>\n",
              "      <td>0</td>\n",
              "      <td>70 80 82 72 58 58 60 63 54 58 60 48 89 115 121...</td>\n",
              "      <td>Training</td>\n",
              "    </tr>\n",
              "    <tr>\n",
              "      <th>1</th>\n",
              "      <td>0</td>\n",
              "      <td>151 150 147 155 148 133 111 140 170 174 182 15...</td>\n",
              "      <td>Training</td>\n",
              "    </tr>\n",
              "    <tr>\n",
              "      <th>2</th>\n",
              "      <td>2</td>\n",
              "      <td>231 212 156 164 174 138 161 173 182 200 106 38...</td>\n",
              "      <td>Training</td>\n",
              "    </tr>\n",
              "    <tr>\n",
              "      <th>3</th>\n",
              "      <td>4</td>\n",
              "      <td>24 32 36 30 32 23 19 20 30 41 21 22 32 34 21 1...</td>\n",
              "      <td>Training</td>\n",
              "    </tr>\n",
              "    <tr>\n",
              "      <th>4</th>\n",
              "      <td>6</td>\n",
              "      <td>4 0 0 0 0 0 0 0 0 0 0 0 3 15 23 28 48 50 58 84...</td>\n",
              "      <td>Training</td>\n",
              "    </tr>\n",
              "  </tbody>\n",
              "</table>\n",
              "</div>"
            ],
            "text/plain": [
              "   emotion                                             pixels     Usage\n",
              "0        0  70 80 82 72 58 58 60 63 54 58 60 48 89 115 121...  Training\n",
              "1        0  151 150 147 155 148 133 111 140 170 174 182 15...  Training\n",
              "2        2  231 212 156 164 174 138 161 173 182 200 106 38...  Training\n",
              "3        4  24 32 36 30 32 23 19 20 30 41 21 22 32 34 21 1...  Training\n",
              "4        6  4 0 0 0 0 0 0 0 0 0 0 0 3 15 23 28 48 50 58 84...  Training"
            ]
          },
          "metadata": {
            "tags": []
          },
          "execution_count": 2
        }
      ]
    },
    {
      "cell_type": "code",
      "metadata": {
        "colab": {
          "base_uri": "https://localhost:8080/"
        },
        "id": "NU40Z0ynrau2",
        "outputId": "dae063f0-7107-435c-9106-4b707ac86293"
      },
      "source": [
        "data.emotion.value_counts()"
      ],
      "execution_count": 3,
      "outputs": [
        {
          "output_type": "execute_result",
          "data": {
            "text/plain": [
              "3    8989\n",
              "6    6198\n",
              "4    6077\n",
              "2    5121\n",
              "0    4953\n",
              "5    4002\n",
              "1     547\n",
              "Name: emotion, dtype: int64"
            ]
          },
          "metadata": {
            "tags": []
          },
          "execution_count": 3
        }
      ]
    },
    {
      "cell_type": "code",
      "metadata": {
        "id": "IeBaq6_7rdMu"
      },
      "source": [
        "emotion_labels = [\"Angry\", \"Disgust\", \"Fear\", \"Happy\", \"Sad\", \"Surprise\", \"Neutral\"]\n",
        "labels=np.array((\"Angry\", \"Disgust\", \"Fear\", \"Happy\", \"Sad\", \"Surprise\", \"Neutral\"))"
      ],
      "execution_count": 4,
      "outputs": []
    },
    {
      "cell_type": "code",
      "metadata": {
        "colab": {
          "base_uri": "https://localhost:8080/"
        },
        "id": "8MQKKFDare4e",
        "outputId": "91e792d5-02d8-46d2-c993-8be5dda4e424"
      },
      "source": [
        "data.Usage.value_counts()"
      ],
      "execution_count": 5,
      "outputs": [
        {
          "output_type": "execute_result",
          "data": {
            "text/plain": [
              "Training       28709\n",
              "PrivateTest     3589\n",
              "PublicTest      3589\n",
              "Name: Usage, dtype: int64"
            ]
          },
          "metadata": {
            "tags": []
          },
          "execution_count": 5
        }
      ]
    },
    {
      "cell_type": "code",
      "metadata": {
        "id": "RQlblEnwrgkW"
      },
      "source": [
        "#split data \n",
        "train_set = data[(data.Usage == 'Training')] \n",
        "val_set = data[(data.Usage == 'PublicTest')]\n",
        "test_set = data[(data.Usage == 'PrivateTest')] \n",
        "X_train = np.array(list(map(str.split, train_set.pixels)), np.float32) \n",
        "X_val = np.array(list(map(str.split, val_set.pixels)), np.float32) \n",
        "X_test = np.array(list(map(str.split, test_set.pixels)), np.float32) \n",
        "X_train = X_train.reshape(X_train.shape[0], 48, 48, 1) \n",
        "X_val = X_val.reshape(X_val.shape[0], 48, 48, 1)\n",
        "X_test = X_test.reshape(X_test.shape[0], 48, 48, 1)"
      ],
      "execution_count": 6,
      "outputs": []
    },
    {
      "cell_type": "code",
      "metadata": {
        "id": "MVqY8ftoriHW"
      },
      "source": [
        "num_classes = 7\n",
        "\n",
        "y_train = train_set.emotion \n",
        "y_train = np_utils.to_categorical(y_train, num_classes) \n",
        "y_val = val_set.emotion \n",
        "y_val = np_utils.to_categorical(y_val, num_classes) \n",
        "y_test = test_set.emotion \n",
        "y_test = np_utils.to_categorical(y_test, num_classes)"
      ],
      "execution_count": 7,
      "outputs": []
    },
    {
      "cell_type": "code",
      "metadata": {
        "colab": {
          "base_uri": "https://localhost:8080/"
        },
        "id": "WaMwvF5vrju-",
        "outputId": "55b54cac-60ea-4098-a55b-f331a7484290"
      },
      "source": [
        "print(\"x_train:\",X_train.shape)\n",
        "print(\"y_train:\",y_train.shape)\n",
        "print(\"x_val:\",X_val.shape)\n",
        "print(\"y_val:\",y_val.shape)\n",
        "print(\"x_test:\",X_test.shape)\n",
        "print(\"y_test:\",y_test.shape)"
      ],
      "execution_count": 8,
      "outputs": [
        {
          "output_type": "stream",
          "text": [
            "x_train: (28709, 48, 48, 1)\n",
            "y_train: (28709, 7)\n",
            "x_val: (3589, 48, 48, 1)\n",
            "y_val: (3589, 7)\n",
            "x_test: (3589, 48, 48, 1)\n",
            "y_test: (3589, 7)\n"
          ],
          "name": "stdout"
        }
      ]
    },
    {
      "cell_type": "code",
      "metadata": {
        "id": "DzChH8hGrldw"
      },
      "source": [
        "#data augmentation\n",
        "datagen = ImageDataGenerator(rescale=1./255,\n",
        "                             rotation_range=10,\n",
        "                             width_shift_range=0.2,\n",
        "                             height_shift_range=0.2, \n",
        "                             zoom_range=0.2,\n",
        "                             horizontal_flip=True)\n",
        "\n",
        "#datagen = ImageDataGenerator(rescale=1./255)\n",
        "\n",
        "testgen = ImageDataGenerator(rescale=1./255)\n",
        "\n",
        "datagen.fit(X_train)\n",
        "batch_size = 64"
      ],
      "execution_count": 9,
      "outputs": []
    },
    {
      "cell_type": "code",
      "metadata": {
        "id": "d-nkOZUfrm_e"
      },
      "source": [
        "train_flow = datagen.flow(X_train, y_train, batch_size=batch_size) \n",
        "val_flow = testgen.flow(X_val, y_val, batch_size=batch_size) \n",
        "test_flow = testgen.flow(X_test, y_test, batch_size=batch_size)"
      ],
      "execution_count": 10,
      "outputs": []
    },
    {
      "cell_type": "code",
      "metadata": {
        "id": "3u6vR_8CroMG"
      },
      "source": [
        "from tensorflow.keras.utils import plot_model\n",
        "from matplotlib import pyplot"
      ],
      "execution_count": 11,
      "outputs": []
    },
    {
      "cell_type": "code",
      "metadata": {
        "colab": {
          "base_uri": "https://localhost:8080/",
          "height": 248
        },
        "id": "HZ6sB7a0rp0O",
        "outputId": "479f6d8c-5847-43e5-be6d-00912858db79"
      },
      "source": [
        "#displaying sample images\n",
        "for X_batch, y_batch in datagen.flow(X_train, y_train, batch_size=9):\n",
        "    for i in range(0, 9): \n",
        "        pyplot.axis('off') \n",
        "        pyplot.subplot(330 + 1 + i) \n",
        "        pyplot.imshow(X_batch[i].reshape(48, 48), cmap=pyplot.get_cmap('gray'))\n",
        "    pyplot.axis('off') \n",
        "    pyplot.show() \n",
        "    break"
      ],
      "execution_count": 12,
      "outputs": [
        {
          "output_type": "display_data",
          "data": {
            "image/png": "[encoded data removed]",
            "text/plain": [
              "<Figure size 432x288 with 9 Axes>"
            ]
          },
          "metadata": {
            "tags": [],
            "needs_background": "light"
          }
        }
      ]
    },
    {
      "cell_type": "markdown",
      "metadata": {
        "id": "mH061hQUbJsv"
      },
      "source": [
        "# Training Model"
      ]
    },
    {
      "cell_type": "code",
      "metadata": {
        "id": "rxqJ_jM_mSTg"
      },
      "source": [
        "#Model Fix\n",
        "'''from keras.models import Sequential\n",
        "from keras.layers import Input, Dense, Flatten, Dropout, Conv2D, MaxPool2D, BatchNormalization, GlobalAveragePooling2D\n",
        "\n",
        "input_shape = (48, 48, 1)\n",
        "\n",
        "model = Sequential()\n",
        "\n",
        "model.add(Conv2D(filters=64,input_shape=(input_shape),kernel_size=(3,3),padding=\"same\", activation=\"relu\", kernel_initializer = glorot_uniform(seed=0)))\n",
        "model.add(BatchNormalization())\n",
        "model.add(Conv2D(filters=64,kernel_size=(3,3),padding=\"same\", activation=\"relu\", kernel_initializer = glorot_uniform(seed=0)))\n",
        "model.add(BatchNormalization())\n",
        "model.add(MaxPool2D(pool_size=(2,2),strides=(2,2)))\n",
        "model.add(Dropout(0.2))\n",
        "\n",
        "model.add(Conv2D(filters=128, kernel_size=(3,3), padding=\"same\", activation=\"relu\", kernel_initializer = glorot_uniform(seed=0)))\n",
        "model.add(BatchNormalization())\n",
        "model.add(Conv2D(filters=128, kernel_size=(3,3), padding=\"same\", activation=\"relu\", kernel_initializer = glorot_uniform(seed=0)))\n",
        "model.add(BatchNormalization())\n",
        "model.add(MaxPool2D(pool_size=(2,2),strides=(2,2)))\n",
        "model.add(Dropout(0.3))\n",
        "\n",
        "model.add(Conv2D(filters=256, kernel_size=(3,3), padding=\"same\", activation=\"relu\", kernel_initializer = glorot_uniform(seed=0)))\n",
        "model.add(BatchNormalization())\n",
        "model.add(Conv2D(filters=256, kernel_size=(3,3), padding=\"same\", activation=\"relu\", kernel_initializer = glorot_uniform(seed=0)))\n",
        "model.add(BatchNormalization())\n",
        "model.add(Conv2D(filters=256, kernel_size=(3,3), padding=\"same\", activation=\"relu\", kernel_initializer = glorot_uniform(seed=0)))\n",
        "model.add(BatchNormalization())\n",
        "model.add(MaxPool2D(pool_size=(2,2),strides=(2,2)))\n",
        "model.add(Dropout(0.4))\n",
        "\n",
        "model.add(Conv2D(filters=512, kernel_size=(3,3), padding=\"same\", activation=\"relu\", kernel_initializer = glorot_uniform(seed=0)))\n",
        "model.add(BatchNormalization())\n",
        "model.add(Conv2D(filters=512, kernel_size=(3,3), padding=\"same\", activation=\"relu\", kernel_initializer = glorot_uniform(seed=0)))\n",
        "model.add(BatchNormalization())\n",
        "model.add(Conv2D(filters=512, kernel_size=(3,3), padding=\"same\", activation=\"relu\", kernel_initializer = glorot_uniform(seed=0)))\n",
        "model.add(BatchNormalization())\n",
        "model.add(MaxPool2D(pool_size=(2,2),strides=(2,2)))\n",
        "model.add(Dropout(0.5))\n",
        "\n",
        "model.add(Conv2D(filters=512, kernel_size=(3,3), padding=\"same\", activation=\"relu\", kernel_initializer = glorot_uniform(seed=0)))\n",
        "model.add(BatchNormalization())\n",
        "model.add(Conv2D(filters=512, kernel_size=(3,3), padding=\"same\", activation=\"relu\", kernel_initializer = glorot_uniform(seed=0)))\n",
        "model.add(BatchNormalization())\n",
        "model.add(Conv2D(filters=512, kernel_size=(3,3), padding=\"same\", activation=\"relu\", kernel_initializer = glorot_uniform(seed=0)))\n",
        "model.add(BatchNormalization())\n",
        "model.add(MaxPool2D(pool_size=(2,2),strides=(2,2)))\n",
        "model.add(Dropout(0.6))\n",
        "\n",
        "#model.add(Flatten())\n",
        "model.add(GlobalAveragePooling2D())\n",
        "\n",
        "model.add(Dense(512,activation='relu'))\n",
        "model.add(Dropout(0.5))\n",
        "model.add(Dense(512,activation='relu'))\n",
        "model.add(Dropout(0.5))\n",
        "\n",
        "model.add(Dense(units=num_classes, activation='softmax'))\n",
        "\n",
        "# print the model summary\n",
        "model.summary()"
      ],
      "execution_count": null,
      "outputs": []
    },
    {
      "cell_type": "code",
      "metadata": {
        "colab": {
          "base_uri": "https://localhost:8080/"
        },
        "id": "BhY-kPssJ-RW",
        "outputId": "b99a6bae-52d1-41a8-dbda-dbcb7b5ed2f9"
      },
      "source": [
        "#Model ori\n",
        "from keras.models import Sequential\n",
        "from keras.layers import Input, Dense, Flatten, Conv2D, MaxPool2D\n",
        "\n",
        "input_shape = (48, 48, 1)\n",
        "\n",
        "model = Sequential()\n",
        "\n",
        "model.add(Conv2D(filters=64,input_shape=(input_shape),kernel_size=(3,3),padding=\"same\", activation=\"relu\", kernel_initializer = glorot_uniform(seed=0)))\n",
        "model.add(Conv2D(filters=64,kernel_size=(3,3),padding=\"same\", activation=\"relu\", kernel_initializer = glorot_uniform(seed=0)))\n",
        "model.add(MaxPool2D(pool_size=(2,2),strides=(2,2)))\n",
        "\n",
        "model.add(Conv2D(filters=128, kernel_size=(3,3), padding=\"same\", activation=\"relu\", kernel_initializer = glorot_uniform(seed=0)))\n",
        "model.add(Conv2D(filters=128, kernel_size=(3,3), padding=\"same\", activation=\"relu\", kernel_initializer = glorot_uniform(seed=0)))\n",
        "model.add(MaxPool2D(pool_size=(2,2),strides=(2,2)))\n",
        "\n",
        "model.add(Conv2D(filters=256, kernel_size=(3,3), padding=\"same\", activation=\"relu\", kernel_initializer = glorot_uniform(seed=0)))\n",
        "model.add(Conv2D(filters=256, kernel_size=(3,3), padding=\"same\", activation=\"relu\", kernel_initializer = glorot_uniform(seed=0)))\n",
        "model.add(Conv2D(filters=256, kernel_size=(3,3), padding=\"same\", activation=\"relu\", kernel_initializer = glorot_uniform(seed=1)))\n",
        "model.add(MaxPool2D(pool_size=(2,2),strides=(2,2)))\n",
        "\n",
        "model.add(Conv2D(filters=512, kernel_size=(3,3), padding=\"same\", activation=\"relu\", kernel_initializer = glorot_uniform(seed=0)))\n",
        "model.add(Conv2D(filters=512, kernel_size=(3,3), padding=\"same\", activation=\"relu\", kernel_initializer = glorot_uniform(seed=0)))\n",
        "model.add(Conv2D(filters=512, kernel_size=(3,3), padding=\"same\", activation=\"relu\", kernel_initializer = glorot_uniform(seed=0)))\n",
        "model.add(MaxPool2D(pool_size=(2,2),strides=(2,2)))\n",
        "\n",
        "model.add(Conv2D(filters=512, kernel_size=(3,3), padding=\"same\", activation=\"relu\", kernel_initializer = glorot_uniform(seed=0)))\n",
        "model.add(Conv2D(filters=512, kernel_size=(3,3), padding=\"same\", activation=\"relu\", kernel_initializer = glorot_uniform(seed=0)))\n",
        "model.add(Conv2D(filters=512, kernel_size=(3,3), padding=\"same\", activation=\"relu\", kernel_initializer = glorot_uniform(seed=0)))\n",
        "model.add(MaxPool2D(pool_size=(2,2),strides=(2,2)))\n",
        "\n",
        "model.add(Flatten())\n",
        "\n",
        "model.add(Dense(4096,activation='relu'))\n",
        "model.add(Dense(4096,activation='relu'))\n",
        "model.add(Dense(units=num_classes, activation='softmax'))\n",
        "\n",
        "# print the model summary\n",
        "model.summary()"
      ],
      "execution_count": 13,
      "outputs": [
        {
          "output_type": "stream",
          "text": [
            "Model: \"sequential\"\n",
            "_________________________________________________________________\n",
            "Layer (type)                 Output Shape              Param #   \n",
            "=================================================================\n",
            "conv2d (Conv2D)              (None, 48, 48, 64)        640       \n",
            "_________________________________________________________________\n",
            "conv2d_1 (Conv2D)            (None, 48, 48, 64)        36928     \n",
            "_________________________________________________________________\n",
            "max_pooling2d (MaxPooling2D) (None, 24, 24, 64)        0         \n",
            "_________________________________________________________________\n",
            "conv2d_2 (Conv2D)            (None, 24, 24, 128)       73856     \n",
            "_________________________________________________________________\n",
            "conv2d_3 (Conv2D)            (None, 24, 24, 128)       147584    \n",
            "_________________________________________________________________\n",
            "max_pooling2d_1 (MaxPooling2 (None, 12, 12, 128)       0         \n",
            "_________________________________________________________________\n",
            "conv2d_4 (Conv2D)            (None, 12, 12, 256)       295168    \n",
            "_________________________________________________________________\n",
            "conv2d_5 (Conv2D)            (None, 12, 12, 256)       590080    \n",
            "_________________________________________________________________\n",
            "conv2d_6 (Conv2D)            (None, 12, 12, 256)       590080    \n",
            "_________________________________________________________________\n",
            "max_pooling2d_2 (MaxPooling2 (None, 6, 6, 256)         0         \n",
            "_________________________________________________________________\n",
            "conv2d_7 (Conv2D)            (None, 6, 6, 512)         1180160   \n",
            "_________________________________________________________________\n",
            "conv2d_8 (Conv2D)            (None, 6, 6, 512)         2359808   \n",
            "_________________________________________________________________\n",
            "conv2d_9 (Conv2D)            (None, 6, 6, 512)         2359808   \n",
            "_________________________________________________________________\n",
            "max_pooling2d_3 (MaxPooling2 (None, 3, 3, 512)         0         \n",
            "_________________________________________________________________\n",
            "conv2d_10 (Conv2D)           (None, 3, 3, 512)         2359808   \n",
            "_________________________________________________________________\n",
            "conv2d_11 (Conv2D)           (None, 3, 3, 512)         2359808   \n",
            "_________________________________________________________________\n",
            "conv2d_12 (Conv2D)           (None, 3, 3, 512)         2359808   \n",
            "_________________________________________________________________\n",
            "max_pooling2d_4 (MaxPooling2 (None, 1, 1, 512)         0         \n",
            "_________________________________________________________________\n",
            "flatten (Flatten)            (None, 512)               0         \n",
            "_________________________________________________________________\n",
            "dense (Dense)                (None, 4096)              2101248   \n",
            "_________________________________________________________________\n",
            "dense_1 (Dense)              (None, 4096)              16781312  \n",
            "_________________________________________________________________\n",
            "dense_2 (Dense)              (None, 7)                 28679     \n",
            "=================================================================\n",
            "Total params: 33,624,775\n",
            "Trainable params: 33,624,775\n",
            "Non-trainable params: 0\n",
            "_________________________________________________________________\n"
          ],
          "name": "stdout"
        }
      ]
    },
    {
      "cell_type": "code",
      "metadata": {
        "id": "0S679DUacsgI"
      },
      "source": [
        "#save plot model to file\n",
        "from keras.utils.vis_utils import plot_model\n",
        "plot_model(model, to_file=\"model.png\", show_shapes=True, show_layer_names=False)"
      ],
      "execution_count": null,
      "outputs": []
    },
    {
      "cell_type": "code",
      "metadata": {
        "id": "LhxgJX3brul-"
      },
      "source": [
        "#compile model\n",
        "from keras.optimizers import Adam,SGD,RMSprop\n",
        "\n",
        "opt = Adam(learning_rate=0.00001)\n",
        "model.compile(loss='categorical_crossentropy', optimizer=opt, metrics=['accuracy'])"
      ],
      "execution_count": 15,
      "outputs": []
    },
    {
      "cell_type": "code",
      "metadata": {
        "colab": {
          "base_uri": "https://localhost:8080/"
        },
        "id": "ljPuPM2iryKG",
        "outputId": "4d828b31-59a0-4ba8-98bc-cd42eb3b47bf"
      },
      "source": [
        "# fit the model\n",
        "num_epochs = 50\n",
        "history = model.fit(train_flow, \n",
        "                    steps_per_epoch=len(X_train) // batch_size, \n",
        "                    epochs=num_epochs,  \n",
        "                    verbose=1,  \n",
        "                    validation_data=val_flow,  \n",
        "                    validation_steps=len(X_val) // batch_size)"
      ],
      "execution_count": 16,
      "outputs": [
        {
          "output_type": "stream",
          "text": [
            "Epoch 1/50\n",
            "448/448 [==============================] - 50s 71ms/step - loss: 1.8545 - accuracy: 0.2453 - val_loss: 1.8174 - val_accuracy: 0.2494\n",
            "Epoch 2/50\n",
            "448/448 [==============================] - 30s 67ms/step - loss: 1.8199 - accuracy: 0.2454 - val_loss: 1.8116 - val_accuracy: 0.2494\n",
            "Epoch 3/50\n",
            "448/448 [==============================] - 30s 68ms/step - loss: 1.8136 - accuracy: 0.2512 - val_loss: 1.7894 - val_accuracy: 0.2489\n",
            "Epoch 4/50\n",
            "448/448 [==============================] - 31s 69ms/step - loss: 1.7944 - accuracy: 0.2469 - val_loss: 1.7755 - val_accuracy: 0.2497\n",
            "Epoch 5/50\n",
            "448/448 [==============================] - 31s 70ms/step - loss: 1.7802 - accuracy: 0.2551 - val_loss: 1.7639 - val_accuracy: 0.2584\n",
            "Epoch 6/50\n",
            "448/448 [==============================] - 31s 70ms/step - loss: 1.7721 - accuracy: 0.2614 - val_loss: 1.7293 - val_accuracy: 0.3039\n",
            "Epoch 7/50\n",
            "448/448 [==============================] - 31s 70ms/step - loss: 1.7539 - accuracy: 0.2764 - val_loss: 1.6889 - val_accuracy: 0.3111\n",
            "Epoch 8/50\n",
            "448/448 [==============================] - 31s 70ms/step - loss: 1.7262 - accuracy: 0.2968 - val_loss: 1.6504 - val_accuracy: 0.3460\n",
            "Epoch 9/50\n",
            "448/448 [==============================] - 32s 70ms/step - loss: 1.6856 - accuracy: 0.3192 - val_loss: 1.5797 - val_accuracy: 0.3850\n",
            "Epoch 10/50\n",
            "448/448 [==============================] - 32s 70ms/step - loss: 1.6557 - accuracy: 0.3342 - val_loss: 1.5882 - val_accuracy: 0.3624\n",
            "Epoch 11/50\n",
            "448/448 [==============================] - 32s 71ms/step - loss: 1.6310 - accuracy: 0.3428 - val_loss: 1.5793 - val_accuracy: 0.3744\n",
            "Epoch 12/50\n",
            "448/448 [==============================] - 32s 71ms/step - loss: 1.5909 - accuracy: 0.3670 - val_loss: 1.5460 - val_accuracy: 0.3920\n",
            "Epoch 13/50\n",
            "448/448 [==============================] - 32s 71ms/step - loss: 1.5781 - accuracy: 0.3742 - val_loss: 1.4854 - val_accuracy: 0.4177\n",
            "Epoch 14/50\n",
            "448/448 [==============================] - 32s 72ms/step - loss: 1.5580 - accuracy: 0.3811 - val_loss: 1.4704 - val_accuracy: 0.4244\n",
            "Epoch 15/50\n",
            "448/448 [==============================] - 32s 72ms/step - loss: 1.5432 - accuracy: 0.3886 - val_loss: 1.4507 - val_accuracy: 0.4302\n",
            "Epoch 16/50\n",
            "448/448 [==============================] - 32s 71ms/step - loss: 1.5169 - accuracy: 0.3981 - val_loss: 1.5152 - val_accuracy: 0.4060\n",
            "Epoch 17/50\n",
            "448/448 [==============================] - 32s 72ms/step - loss: 1.5062 - accuracy: 0.4069 - val_loss: 1.4323 - val_accuracy: 0.4397\n",
            "Epoch 18/50\n",
            "448/448 [==============================] - 32s 71ms/step - loss: 1.4769 - accuracy: 0.4246 - val_loss: 1.4116 - val_accuracy: 0.4495\n",
            "Epoch 19/50\n",
            "448/448 [==============================] - 32s 71ms/step - loss: 1.4688 - accuracy: 0.4269 - val_loss: 1.3863 - val_accuracy: 0.4540\n",
            "Epoch 20/50\n",
            "448/448 [==============================] - 32s 71ms/step - loss: 1.4350 - accuracy: 0.4454 - val_loss: 1.3693 - val_accuracy: 0.4581\n",
            "Epoch 21/50\n",
            "448/448 [==============================] - 32s 71ms/step - loss: 1.4331 - accuracy: 0.4477 - val_loss: 1.3702 - val_accuracy: 0.4515\n",
            "Epoch 22/50\n",
            "448/448 [==============================] - 32s 72ms/step - loss: 1.4164 - accuracy: 0.4474 - val_loss: 1.3704 - val_accuracy: 0.4581\n",
            "Epoch 23/50\n",
            "448/448 [==============================] - 32s 71ms/step - loss: 1.4033 - accuracy: 0.4553 - val_loss: 1.3752 - val_accuracy: 0.4618\n",
            "Epoch 24/50\n",
            "448/448 [==============================] - 32s 71ms/step - loss: 1.3880 - accuracy: 0.4577 - val_loss: 1.3702 - val_accuracy: 0.4660\n",
            "Epoch 25/50\n",
            "448/448 [==============================] - 32s 71ms/step - loss: 1.3729 - accuracy: 0.4715 - val_loss: 1.3040 - val_accuracy: 0.4958\n",
            "Epoch 26/50\n",
            "448/448 [==============================] - 32s 71ms/step - loss: 1.3678 - accuracy: 0.4712 - val_loss: 1.2992 - val_accuracy: 0.4916\n",
            "Epoch 27/50\n",
            "448/448 [==============================] - 32s 71ms/step - loss: 1.3545 - accuracy: 0.4792 - val_loss: 1.3207 - val_accuracy: 0.4841\n",
            "Epoch 28/50\n",
            "448/448 [==============================] - 32s 71ms/step - loss: 1.3506 - accuracy: 0.4813 - val_loss: 1.3273 - val_accuracy: 0.4819\n",
            "Epoch 29/50\n",
            "448/448 [==============================] - 32s 71ms/step - loss: 1.3434 - accuracy: 0.4825 - val_loss: 1.2995 - val_accuracy: 0.4855\n",
            "Epoch 30/50\n",
            "448/448 [==============================] - 32s 71ms/step - loss: 1.3330 - accuracy: 0.4855 - val_loss: 1.2905 - val_accuracy: 0.5014\n",
            "Epoch 31/50\n",
            "448/448 [==============================] - 32s 71ms/step - loss: 1.3059 - accuracy: 0.4961 - val_loss: 1.2554 - val_accuracy: 0.5170\n",
            "Epoch 32/50\n",
            "448/448 [==============================] - 32s 71ms/step - loss: 1.3008 - accuracy: 0.4957 - val_loss: 1.2782 - val_accuracy: 0.5003\n",
            "Epoch 33/50\n",
            "448/448 [==============================] - 32s 71ms/step - loss: 1.2962 - accuracy: 0.5001 - val_loss: 1.3113 - val_accuracy: 0.4760\n",
            "Epoch 34/50\n",
            "448/448 [==============================] - 32s 72ms/step - loss: 1.2956 - accuracy: 0.4987 - val_loss: 1.2513 - val_accuracy: 0.5098\n",
            "Epoch 35/50\n",
            "448/448 [==============================] - 32s 71ms/step - loss: 1.2804 - accuracy: 0.5028 - val_loss: 1.3023 - val_accuracy: 0.4958\n",
            "Epoch 36/50\n",
            "448/448 [==============================] - 32s 71ms/step - loss: 1.2757 - accuracy: 0.5032 - val_loss: 1.2361 - val_accuracy: 0.5117\n",
            "Epoch 37/50\n",
            "448/448 [==============================] - 32s 71ms/step - loss: 1.2692 - accuracy: 0.5070 - val_loss: 1.2396 - val_accuracy: 0.5148\n",
            "Epoch 38/50\n",
            "448/448 [==============================] - 32s 71ms/step - loss: 1.2536 - accuracy: 0.5168 - val_loss: 1.2702 - val_accuracy: 0.5045\n",
            "Epoch 39/50\n",
            "448/448 [==============================] - 32s 71ms/step - loss: 1.2490 - accuracy: 0.5166 - val_loss: 1.2319 - val_accuracy: 0.5251\n",
            "Epoch 40/50\n",
            "448/448 [==============================] - 32s 71ms/step - loss: 1.2425 - accuracy: 0.5220 - val_loss: 1.2262 - val_accuracy: 0.5201\n",
            "Epoch 41/50\n",
            "448/448 [==============================] - 32s 72ms/step - loss: 1.2408 - accuracy: 0.5248 - val_loss: 1.2218 - val_accuracy: 0.5312\n",
            "Epoch 42/50\n",
            "448/448 [==============================] - 32s 71ms/step - loss: 1.2226 - accuracy: 0.5269 - val_loss: 1.2264 - val_accuracy: 0.5209\n",
            "Epoch 43/50\n",
            "448/448 [==============================] - 32s 72ms/step - loss: 1.2292 - accuracy: 0.5272 - val_loss: 1.2196 - val_accuracy: 0.5234\n",
            "Epoch 44/50\n",
            "448/448 [==============================] - 32s 72ms/step - loss: 1.2156 - accuracy: 0.5341 - val_loss: 1.1871 - val_accuracy: 0.5452\n",
            "Epoch 45/50\n",
            "448/448 [==============================] - 32s 72ms/step - loss: 1.2068 - accuracy: 0.5345 - val_loss: 1.1773 - val_accuracy: 0.5407\n",
            "Epoch 46/50\n",
            "448/448 [==============================] - 32s 72ms/step - loss: 1.2055 - accuracy: 0.5363 - val_loss: 1.1768 - val_accuracy: 0.5438\n",
            "Epoch 47/50\n",
            "448/448 [==============================] - 32s 72ms/step - loss: 1.1988 - accuracy: 0.5421 - val_loss: 1.1962 - val_accuracy: 0.5432\n",
            "Epoch 48/50\n",
            "448/448 [==============================] - 32s 71ms/step - loss: 1.1945 - accuracy: 0.5410 - val_loss: 1.1884 - val_accuracy: 0.5458\n",
            "Epoch 49/50\n",
            "448/448 [==============================] - 32s 71ms/step - loss: 1.1963 - accuracy: 0.5406 - val_loss: 1.2297 - val_accuracy: 0.5304\n",
            "Epoch 50/50\n",
            "448/448 [==============================] - 32s 71ms/step - loss: 1.1790 - accuracy: 0.5458 - val_loss: 1.1723 - val_accuracy: 0.5547\n"
          ],
          "name": "stdout"
        }
      ]
    },
    {
      "cell_type": "markdown",
      "metadata": {
        "id": "zdn-Ud-Ca4LG"
      },
      "source": [
        "# Evaluate"
      ]
    },
    {
      "cell_type": "code",
      "metadata": {
        "colab": {
          "base_uri": "https://localhost:8080/",
          "height": 573
        },
        "id": "d8D97Qq4bUxn",
        "outputId": "51d7a33e-7bc3-436f-a7c3-0d80ece23ee8"
      },
      "source": [
        "accuracy = history.history['accuracy']\n",
        "val_accuracy = history.history['val_accuracy']\n",
        "loss = history.history['loss']\n",
        "val_loss = history.history['val_loss']\n",
        "num_epochs = range(len(accuracy))\n",
        "plt.plot(num_epochs, accuracy, 'r', label='Training acc')\n",
        "plt.plot(num_epochs, val_accuracy, 'b', label='Validation acc')\n",
        "plt.title('Training and validation accuracy')\n",
        "plt.ylabel('accuracy')  \n",
        "plt.xlabel('epoch')\n",
        "plt.legend()\n",
        "plt.figure()\n",
        "plt.plot(num_epochs, loss, 'r', label='Training loss')\n",
        "plt.plot(num_epochs, val_loss, 'b', label='Validation loss')\n",
        "plt.title('Training and validation loss')\n",
        "plt.ylabel('loss')  \n",
        "plt.xlabel('epoch')\n",
        "plt.legend()\n",
        "plt.show()"
      ],
      "execution_count": 17,
      "outputs": [
        {
          "output_type": "display_data",
          "data": {
            "image/png": "[encoded data removed]",
            "text/plain": [
              "<Figure size 432x288 with 1 Axes>"
            ]
          },
          "metadata": {
            "tags": [],
            "needs_background": "light"
          }
        },
        {
          "output_type": "display_data",
          "data": {
            "image/png": "[encoded data removed]",
            "text/plain": [
              "<Figure size 432x288 with 1 Axes>"
            ]
          },
          "metadata": {
            "tags": [],
            "needs_background": "light"
          }
        }
      ]
    },
    {
      "cell_type": "code",
      "metadata": {
        "id": "v2FEkE4pr8vN",
        "colab": {
          "base_uri": "https://localhost:8080/"
        },
        "outputId": "18736541-f531-4bde-95b2-66e28862e80b"
      },
      "source": [
        "trainloss = model.evaluate(train_flow, steps=len(X_train) / batch_size) \n",
        "print(\"Train Loss \" + str(trainloss[0]))\n",
        "print(\"Train Acc: \" + str(trainloss[1]))\n",
        "valloss = model.evaluate(val_flow, steps=len(X_val) / batch_size) \n",
        "print(\"Val Loss \" + str(valloss[0]))\n",
        "print(\"Val Acc: \" + str(valloss[1]))\n",
        "testloss = model.evaluate(test_flow, steps=len(X_test) / batch_size) \n",
        "print(\"Test Loss \" + str(testloss[0]))\n",
        "print(\"Test Acc: \" + str(testloss[1]))"
      ],
      "execution_count": 18,
      "outputs": [
        {
          "output_type": "stream",
          "text": [
            "448/448 [==============================] - 15s 33ms/step - loss: 1.1656 - accuracy: 0.5552\n",
            "Train Loss 1.165550947189331\n",
            "Train Acc: 0.5551917552947998\n",
            "56/56 [==============================] - 2s 27ms/step - loss: 1.1720 - accuracy: 0.5548\n",
            "Val Loss 1.1719504594802856\n",
            "Val Acc: 0.5547506213188171\n",
            "56/56 [==============================] - 1s 20ms/step - loss: 1.1255 - accuracy: 0.5684\n",
            "Test Loss 1.1255491971969604\n",
            "Test Acc: 0.5684034824371338\n"
          ],
          "name": "stdout"
        }
      ]
    },
    {
      "cell_type": "code",
      "metadata": {
        "id": "lzHC1YQabqNF"
      },
      "source": [
        "def plot_confusion_matrix(y_test, y_pred, classes,\n",
        "                          normalize=False,\n",
        "                          title='Unnormalized confusion matrix',\n",
        "                          cmap=plt.cm.Blues):\n",
        "    cm = confusion_matrix(y_test, y_pred)\n",
        "    \n",
        "    if normalize:\n",
        "        cm = np.round(cm.astype('float') / cm.sum(axis=1)[:, np.newaxis], 2)\n",
        "        \n",
        "    np.set_printoptions(precision=2)\n",
        "\n",
        "    plt.rcParams[\"figure.figsize\"] = (8,8)        \n",
        "    plt.imshow(cm, interpolation='nearest', cmap=cmap)\n",
        "    plt.title(title)\n",
        "    plt.colorbar()\n",
        "    tick_marks = np.arange(len(classes))\n",
        "    plt.xticks(tick_marks, classes, rotation=45)\n",
        "    plt.yticks(tick_marks, classes)\n",
        "\n",
        "    thresh = cm.min() + (cm.max() - cm.min()) / 2.\n",
        "    for i, j in itertools.product(range(cm.shape[0]), range(cm.shape[1])):\n",
        "        plt.text(j, i, cm[i, j],\n",
        "                 horizontalalignment=\"center\",\n",
        "                 color=\"white\" if cm[i, j] > thresh else \"black\")\n",
        "\n",
        "    plt.tight_layout()\n",
        "    plt.ylabel('True expression')\n",
        "    plt.xlabel('Predicted expression')\n",
        "    plt.show()"
      ],
      "execution_count": 19,
      "outputs": []
    },
    {
      "cell_type": "code",
      "metadata": {
        "id": "moInw8fjbqNF",
        "colab": {
          "base_uri": "https://localhost:8080/"
        },
        "outputId": "340de498-04cc-4a81-ca8e-cb15fbbe753f"
      },
      "source": [
        "y_pred_ = model.predict(X_test/255., verbose=1)\n",
        "y_pred = np.argmax(y_pred_, axis=1)\n",
        "t_te = np.argmax(y_test, axis=1)"
      ],
      "execution_count": 20,
      "outputs": [
        {
          "output_type": "stream",
          "text": [
            "113/113 [==============================] - 3s 12ms/step\n"
          ],
          "name": "stdout"
        }
      ]
    },
    {
      "cell_type": "code",
      "metadata": {
        "colab": {
          "base_uri": "https://localhost:8080/",
          "height": 585
        },
        "id": "espEQdo8bqNG",
        "outputId": "446dad34-af9b-4078-8884-3e86ecbf3207"
      },
      "source": [
        "from sklearn.metrics import confusion_matrix, classification_report\n",
        "import itertools\n",
        "\n",
        "fig = plot_confusion_matrix(y_test=t_te, y_pred=y_pred,\n",
        "                      classes=labels,\n",
        "                      normalize=True,\n",
        "                      cmap=plt.cm.Blues,\n",
        "                      title='Average accuracy: ' + str(np.sum(y_pred == t_te)/len(t_te)) + '\\n')"
      ],
      "execution_count": 21,
      "outputs": [
        {
          "output_type": "display_data",
          "data": {
            "image/png": "[encoded data removed]",
            "text/plain": [
              "<Figure size 576x576 with 2 Axes>"
            ]
          },
          "metadata": {
            "tags": [],
            "needs_background": "light"
          }
        }
      ]
    },
    {
      "cell_type": "code",
      "metadata": {
        "id": "4vauS7IKbqNG",
        "colab": {
          "base_uri": "https://localhost:8080/"
        },
        "outputId": "28e979f9-ec82-4e17-e090-ab918559c85e"
      },
      "source": [
        "emotions = {0: 'Angry', 1: 'Disgust', 2: 'Fear', 3: 'Happy', 4: 'Sad', 5: 'Surprise', 6: 'Neutral'}\n",
        "print(classification_report(t_te, y_pred, target_names=emotions.values()))"
      ],
      "execution_count": 22,
      "outputs": [
        {
          "output_type": "stream",
          "text": [
            "              precision    recall  f1-score   support\n",
            "\n",
            "       Angry       0.47      0.41      0.43       491\n",
            "     Disgust       0.00      0.00      0.00        55\n",
            "        Fear       0.34      0.31      0.33       528\n",
            "       Happy       0.84      0.81      0.82       879\n",
            "         Sad       0.44      0.42      0.43       594\n",
            "    Surprise       0.67      0.71      0.69       416\n",
            "     Neutral       0.51      0.68      0.58       626\n",
            "\n",
            "    accuracy                           0.57      3589\n",
            "   macro avg       0.47      0.48      0.47      3589\n",
            "weighted avg       0.56      0.57      0.56      3589\n",
            "\n"
          ],
          "name": "stdout"
        },
        {
          "output_type": "stream",
          "text": [
            "/usr/local/lib/python3.7/dist-packages/sklearn/metrics/_classification.py:1272: UndefinedMetricWarning: Precision and F-score are ill-defined and being set to 0.0 in labels with no predicted samples. Use `zero_division` parameter to control this behavior.\n",
            "  _warn_prf(average, modifier, msg_start, len(result))\n"
          ],
          "name": "stderr"
        }
      ]
    },
    {
      "cell_type": "code",
      "metadata": {
        "id": "KKWxaaYRba3j",
        "colab": {
          "base_uri": "https://localhost:8080/"
        },
        "outputId": "935f2c3a-74b7-46bf-a172-d58ad5c24062"
      },
      "source": [
        "model.save(\"/content/drive/MyDrive/Colab Notebooks/Model/ModelVGG16_Adam0.00001_epoch50_Aug.h5\")\n",
        "print(\"saved\")"
      ],
      "execution_count": 23,
      "outputs": [
        {
          "output_type": "stream",
          "text": [
            "saved\n"
          ],
          "name": "stdout"
        }
      ]
    },
    {
      "cell_type": "markdown",
      "metadata": {
        "id": "aqLRhlr4b7t5"
      },
      "source": [
        "#Load Model"
      ]
    },
    {
      "cell_type": "code",
      "metadata": {
        "colab": {
          "base_uri": "https://localhost:8080/"
        },
        "id": "J45lyUtcJ-6F",
        "outputId": "2a4f51d8-8ae8-4757-be78-df049dc2f560"
      },
      "source": [
        "from keras.models import load_model\n",
        "model_load = load_model('/content/drive/MyDrive/Colab Notebooks/Model/ModelVGG16_Adam0.00001_epoch50_Aug.h5')\n",
        "\n",
        "model_load.summary()"
      ],
      "execution_count": 24,
      "outputs": [
        {
          "output_type": "stream",
          "text": [
            "Model: \"sequential\"\n",
            "_________________________________________________________________\n",
            "Layer (type)                 Output Shape              Param #   \n",
            "=================================================================\n",
            "conv2d (Conv2D)              (None, 48, 48, 64)        640       \n",
            "_________________________________________________________________\n",
            "conv2d_1 (Conv2D)            (None, 48, 48, 64)        36928     \n",
            "_________________________________________________________________\n",
            "max_pooling2d (MaxPooling2D) (None, 24, 24, 64)        0         \n",
            "_________________________________________________________________\n",
            "conv2d_2 (Conv2D)            (None, 24, 24, 128)       73856     \n",
            "_________________________________________________________________\n",
            "conv2d_3 (Conv2D)            (None, 24, 24, 128)       147584    \n",
            "_________________________________________________________________\n",
            "max_pooling2d_1 (MaxPooling2 (None, 12, 12, 128)       0         \n",
            "_________________________________________________________________\n",
            "conv2d_4 (Conv2D)            (None, 12, 12, 256)       295168    \n",
            "_________________________________________________________________\n",
            "conv2d_5 (Conv2D)            (None, 12, 12, 256)       590080    \n",
            "_________________________________________________________________\n",
            "conv2d_6 (Conv2D)            (None, 12, 12, 256)       590080    \n",
            "_________________________________________________________________\n",
            "max_pooling2d_2 (MaxPooling2 (None, 6, 6, 256)         0         \n",
            "_________________________________________________________________\n",
            "conv2d_7 (Conv2D)            (None, 6, 6, 512)         1180160   \n",
            "_________________________________________________________________\n",
            "conv2d_8 (Conv2D)            (None, 6, 6, 512)         2359808   \n",
            "_________________________________________________________________\n",
            "conv2d_9 (Conv2D)            (None, 6, 6, 512)         2359808   \n",
            "_________________________________________________________________\n",
            "max_pooling2d_3 (MaxPooling2 (None, 3, 3, 512)         0         \n",
            "_________________________________________________________________\n",
            "conv2d_10 (Conv2D)           (None, 3, 3, 512)         2359808   \n",
            "_________________________________________________________________\n",
            "conv2d_11 (Conv2D)           (None, 3, 3, 512)         2359808   \n",
            "_________________________________________________________________\n",
            "conv2d_12 (Conv2D)           (None, 3, 3, 512)         2359808   \n",
            "_________________________________________________________________\n",
            "max_pooling2d_4 (MaxPooling2 (None, 1, 1, 512)         0         \n",
            "_________________________________________________________________\n",
            "flatten (Flatten)            (None, 512)               0         \n",
            "_________________________________________________________________\n",
            "dense (Dense)                (None, 4096)              2101248   \n",
            "_________________________________________________________________\n",
            "dense_1 (Dense)              (None, 4096)              16781312  \n",
            "_________________________________________________________________\n",
            "dense_2 (Dense)              (None, 7)                 28679     \n",
            "=================================================================\n",
            "Total params: 33,624,775\n",
            "Trainable params: 33,624,775\n",
            "Non-trainable params: 0\n",
            "_________________________________________________________________\n"
          ],
          "name": "stdout"
        }
      ]
    },
    {
      "cell_type": "code",
      "metadata": {
        "colab": {
          "base_uri": "https://localhost:8080/"
        },
        "id": "nQd7m45qfWBW",
        "outputId": "801013af-e4f7-41ca-bb8a-b446651abe77"
      },
      "source": [
        "trainloss = model_load.evaluate(train_flow, steps=len(X_train) / batch_size) \n",
        "print(\"Train Loss \" + str(trainloss[0]))\n",
        "print(\"Train Acc: \" + str(trainloss[1]))\n",
        "valloss = model_load.evaluate(val_flow, steps=len(X_val) / batch_size) \n",
        "print(\"Val Loss \" + str(valloss[0]))\n",
        "print(\"Val Acc: \" + str(valloss[1]))\n",
        "testloss = model_load.evaluate(test_flow, steps=len(X_test) / batch_size) \n",
        "print(\"Test Loss \" + str(testloss[0]))\n",
        "print(\"Test Acc: \" + str(testloss[1]))"
      ],
      "execution_count": 25,
      "outputs": [
        {
          "output_type": "stream",
          "text": [
            "448/448 [==============================] - 17s 35ms/step - loss: 1.1613 - accuracy: 0.5559\n",
            "Train Loss 1.1612974405288696\n",
            "Train Acc: 0.5559232234954834\n",
            "56/56 [==============================] - 1s 20ms/step - loss: 1.1720 - accuracy: 0.5548\n",
            "Val Loss 1.171950340270996\n",
            "Val Acc: 0.5547506213188171\n",
            "56/56 [==============================] - 1s 20ms/step - loss: 1.1255 - accuracy: 0.5684\n",
            "Test Loss 1.12554931640625\n",
            "Test Acc: 0.5684034824371338\n"
          ],
          "name": "stdout"
        }
      ]
    },
    {
      "cell_type": "code",
      "metadata": {
        "id": "t87NY2ZdFwVP"
      },
      "source": [
        "def plot_confusion_matrix(y_test, y_pred, classes,\n",
        "                          normalize=False,\n",
        "                          title='Unnormalized confusion matrix',\n",
        "                          cmap=plt.cm.Blues):\n",
        "    cm = confusion_matrix(y_test, y_pred)\n",
        "    \n",
        "    if normalize:\n",
        "        cm = np.round(cm.astype('float') / cm.sum(axis=1)[:, np.newaxis], 2)\n",
        "        \n",
        "    np.set_printoptions(precision=2)\n",
        "\n",
        "    plt.rcParams[\"figure.figsize\"] = (8,8)    \n",
        "    plt.imshow(cm, interpolation='nearest', cmap=cmap)\n",
        "    plt.title(title)\n",
        "    plt.colorbar()\n",
        "    tick_marks = np.arange(len(classes))\n",
        "    plt.xticks(tick_marks, classes, rotation=45)\n",
        "    plt.yticks(tick_marks, classes)\n",
        "\n",
        "    thresh = cm.min() + (cm.max() - cm.min()) / 2.\n",
        "    for i, j in itertools.product(range(cm.shape[0]), range(cm.shape[1])):\n",
        "        plt.text(j, i, cm[i, j],\n",
        "                 horizontalalignment=\"center\",\n",
        "                 color=\"white\" if cm[i, j] > thresh else \"black\")\n",
        "\n",
        "    plt.tight_layout()\n",
        "    plt.ylabel('True expression')\n",
        "    plt.xlabel('Predicted expression')\n",
        "    plt.show()"
      ],
      "execution_count": 26,
      "outputs": []
    },
    {
      "cell_type": "code",
      "metadata": {
        "colab": {
          "base_uri": "https://localhost:8080/"
        },
        "id": "Tc5JLl9HGFmh",
        "outputId": "d5208d92-d00b-4166-ed4b-3e5eb6b971a1"
      },
      "source": [
        "y_pred_ = model_load.predict(X_test/255., verbose=1)\n",
        "y_pred = np.argmax(y_pred_, axis=1)\n",
        "t_te = np.argmax(y_test, axis=1)"
      ],
      "execution_count": 27,
      "outputs": [
        {
          "output_type": "stream",
          "text": [
            "113/113 [==============================] - 2s 12ms/step\n"
          ],
          "name": "stdout"
        }
      ]
    },
    {
      "cell_type": "code",
      "metadata": {
        "colab": {
          "base_uri": "https://localhost:8080/",
          "height": 585
        },
        "id": "WUeZP3q-GJrl",
        "outputId": "11057574-036f-41d5-c54d-409835a40edc"
      },
      "source": [
        "from sklearn.metrics import confusion_matrix, classification_report\n",
        "import itertools\n",
        "\n",
        "fig = plot_confusion_matrix(y_test=t_te, y_pred=y_pred,\n",
        "                      classes=labels,\n",
        "                      normalize=True,\n",
        "                      cmap=plt.cm.Blues,\n",
        "                      title='Average accuracy: ' + str(np.sum(y_pred == t_te)/len(t_te)) + '\\n')"
      ],
      "execution_count": 28,
      "outputs": [
        {
          "output_type": "display_data",
          "data": {
            "image/png": "[encoded data removed]",
            "text/plain": [
              "<Figure size 576x576 with 2 Axes>"
            ]
          },
          "metadata": {
            "tags": [],
            "needs_background": "light"
          }
        }
      ]
    },
    {
      "cell_type": "code",
      "metadata": {
        "colab": {
          "base_uri": "https://localhost:8080/"
        },
        "id": "qes0jsNJG8TF",
        "outputId": "83ad70f3-1215-42bb-b613-99659dc5d7a5"
      },
      "source": [
        "emotions = {0: 'Angry', 1: 'Disgust', 2: 'Fear', 3: 'Happy', 4: 'Sad', 5: 'Surprise', 6: 'Neutral'}\n",
        "print(classification_report(t_te, y_pred, target_names=emotions.values()))"
      ],
      "execution_count": 29,
      "outputs": [
        {
          "output_type": "stream",
          "text": [
            "              precision    recall  f1-score   support\n",
            "\n",
            "       Angry       0.47      0.41      0.43       491\n",
            "     Disgust       0.00      0.00      0.00        55\n",
            "        Fear       0.34      0.31      0.33       528\n",
            "       Happy       0.84      0.81      0.82       879\n",
            "         Sad       0.44      0.42      0.43       594\n",
            "    Surprise       0.67      0.71      0.69       416\n",
            "     Neutral       0.51      0.68      0.58       626\n",
            "\n",
            "    accuracy                           0.57      3589\n",
            "   macro avg       0.47      0.48      0.47      3589\n",
            "weighted avg       0.56      0.57      0.56      3589\n",
            "\n"
          ],
          "name": "stdout"
        },
        {
          "output_type": "stream",
          "text": [
            "/usr/local/lib/python3.7/dist-packages/sklearn/metrics/_classification.py:1272: UndefinedMetricWarning: Precision and F-score are ill-defined and being set to 0.0 in labels with no predicted samples. Use `zero_division` parameter to control this behavior.\n",
            "  _warn_prf(average, modifier, msg_start, len(result))\n"
          ],
          "name": "stderr"
        }
      ]
    }
  ]
}