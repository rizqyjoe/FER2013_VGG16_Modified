{
  "nbformat": 4,
  "nbformat_minor": 0,
  "metadata": {
    "colab": {
      "name": "FINAL.ipynb",
      "provenance": [],
      "collapsed_sections": [],
      "include_colab_link": true
    },
    "kernelspec": {
      "name": "python3",
      "display_name": "Python 3"
    },
    "language_info": {
      "name": "python"
    },
    "accelerator": "GPU"
  },
  "cells": [
    {
      "cell_type": "markdown",
      "metadata": {
        "id": "view-in-github",
        "colab_type": "text"
      },
      "source": [
        "<a href=\"https://colab.research.google.com/github/rizqyjoe/FER2013_VGG16_Modified/blob/main/VGG16/With%20Aug/Epoch%2050/009.ipynb\" target=\"_parent\"><img src=\"https://colab.research.google.com/assets/colab-badge.svg\" alt=\"Open In Colab\"/></a>"
      ]
    },
    {
      "cell_type": "code",
      "metadata": {
        "id": "sX-0w3h_sh6U",
        "colab": {
          "base_uri": "https://localhost:8080/"
        },
        "outputId": "ba1e912f-1ba1-4734-e6d9-1667e90d5b4a"
      },
      "source": [
        "#mount drive\n",
        "from google.colab import drive\n",
        "drive.mount('/content/drive')"
      ],
      "execution_count": 1,
      "outputs": [
        {
          "output_type": "stream",
          "text": [
            "Mounted at /content/drive\n"
          ],
          "name": "stdout"
        }
      ]
    },
    {
      "cell_type": "markdown",
      "metadata": {
        "id": "58jrp8yObBBA"
      },
      "source": [
        "# Pre-processing"
      ]
    },
    {
      "cell_type": "code",
      "metadata": {
        "id": "7nrYTmGLrD2A"
      },
      "source": [
        "import tensorflow as tf\n",
        "import keras\n",
        "from keras import backend as K\n",
        "import pandas as pd\n",
        "import numpy as np\n",
        "import matplotlib.pyplot as plt\n",
        "from keras.preprocessing import image\n",
        "from keras.preprocessing.image import ImageDataGenerator\n",
        "from keras import regularizers\n",
        "from keras.utils import np_utils\n",
        "\n",
        "import random\n",
        "\n",
        "tf.random.set_seed(1234)\n",
        "np.random.seed(1234)\n",
        "\n",
        "from keras.initializers import glorot_uniform"
      ],
      "execution_count": 2,
      "outputs": []
    },
    {
      "cell_type": "code",
      "metadata": {
        "colab": {
          "base_uri": "https://localhost:8080/",
          "height": 204
        },
        "id": "0vTjzHIRrW53",
        "outputId": "8950a74c-6535-44a7-ced9-330e7c8e708f"
      },
      "source": [
        "#load file\n",
        "data= pd.read_csv('/content/drive/MyDrive/Dataset/fer2013 dataset/fer2013/fer2013.csv')\n",
        "data.head()"
      ],
      "execution_count": 3,
      "outputs": [
        {
          "output_type": "execute_result",
          "data": {
            "text/html": [
              "<div>\n",
              "<style scoped>\n",
              "    .dataframe tbody tr th:only-of-type {\n",
              "        vertical-align: middle;\n",
              "    }\n",
              "\n",
              "    .dataframe tbody tr th {\n",
              "        vertical-align: top;\n",
              "    }\n",
              "\n",
              "    .dataframe thead th {\n",
              "        text-align: right;\n",
              "    }\n",
              "</style>\n",
              "<table border=\"1\" class=\"dataframe\">\n",
              "  <thead>\n",
              "    <tr style=\"text-align: right;\">\n",
              "      <th></th>\n",
              "      <th>emotion</th>\n",
              "      <th>pixels</th>\n",
              "      <th>Usage</th>\n",
              "    </tr>\n",
              "  </thead>\n",
              "  <tbody>\n",
              "    <tr>\n",
              "      <th>0</th>\n",
              "      <td>0</td>\n",
              "      <td>70 80 82 72 58 58 60 63 54 58 60 48 89 115 121...</td>\n",
              "      <td>Training</td>\n",
              "    </tr>\n",
              "    <tr>\n",
              "      <th>1</th>\n",
              "      <td>0</td>\n",
              "      <td>151 150 147 155 148 133 111 140 170 174 182 15...</td>\n",
              "      <td>Training</td>\n",
              "    </tr>\n",
              "    <tr>\n",
              "      <th>2</th>\n",
              "      <td>2</td>\n",
              "      <td>231 212 156 164 174 138 161 173 182 200 106 38...</td>\n",
              "      <td>Training</td>\n",
              "    </tr>\n",
              "    <tr>\n",
              "      <th>3</th>\n",
              "      <td>4</td>\n",
              "      <td>24 32 36 30 32 23 19 20 30 41 21 22 32 34 21 1...</td>\n",
              "      <td>Training</td>\n",
              "    </tr>\n",
              "    <tr>\n",
              "      <th>4</th>\n",
              "      <td>6</td>\n",
              "      <td>4 0 0 0 0 0 0 0 0 0 0 0 3 15 23 28 48 50 58 84...</td>\n",
              "      <td>Training</td>\n",
              "    </tr>\n",
              "  </tbody>\n",
              "</table>\n",
              "</div>"
            ],
            "text/plain": [
              "   emotion                                             pixels     Usage\n",
              "0        0  70 80 82 72 58 58 60 63 54 58 60 48 89 115 121...  Training\n",
              "1        0  151 150 147 155 148 133 111 140 170 174 182 15...  Training\n",
              "2        2  231 212 156 164 174 138 161 173 182 200 106 38...  Training\n",
              "3        4  24 32 36 30 32 23 19 20 30 41 21 22 32 34 21 1...  Training\n",
              "4        6  4 0 0 0 0 0 0 0 0 0 0 0 3 15 23 28 48 50 58 84...  Training"
            ]
          },
          "metadata": {
            "tags": []
          },
          "execution_count": 3
        }
      ]
    },
    {
      "cell_type": "code",
      "metadata": {
        "colab": {
          "base_uri": "https://localhost:8080/"
        },
        "id": "NU40Z0ynrau2",
        "outputId": "fbdf26b8-7477-49d1-a05f-f610b8c77201"
      },
      "source": [
        "data.emotion.value_counts()"
      ],
      "execution_count": 4,
      "outputs": [
        {
          "output_type": "execute_result",
          "data": {
            "text/plain": [
              "3    8989\n",
              "6    6198\n",
              "4    6077\n",
              "2    5121\n",
              "0    4953\n",
              "5    4002\n",
              "1     547\n",
              "Name: emotion, dtype: int64"
            ]
          },
          "metadata": {
            "tags": []
          },
          "execution_count": 4
        }
      ]
    },
    {
      "cell_type": "code",
      "metadata": {
        "id": "IeBaq6_7rdMu"
      },
      "source": [
        "emotion_labels = [\"Angry\", \"Disgust\", \"Fear\", \"Happy\", \"Sad\", \"Surprise\", \"Neutral\"]\n",
        "labels=np.array((\"Angry\", \"Disgust\", \"Fear\", \"Happy\", \"Sad\", \"Surprise\", \"Neutral\"))"
      ],
      "execution_count": 5,
      "outputs": []
    },
    {
      "cell_type": "code",
      "metadata": {
        "colab": {
          "base_uri": "https://localhost:8080/"
        },
        "id": "8MQKKFDare4e",
        "outputId": "9a758921-7fb0-465c-d585-15fd92d21710"
      },
      "source": [
        "data.Usage.value_counts()"
      ],
      "execution_count": 6,
      "outputs": [
        {
          "output_type": "execute_result",
          "data": {
            "text/plain": [
              "Training       28709\n",
              "PrivateTest     3589\n",
              "PublicTest      3589\n",
              "Name: Usage, dtype: int64"
            ]
          },
          "metadata": {
            "tags": []
          },
          "execution_count": 6
        }
      ]
    },
    {
      "cell_type": "code",
      "metadata": {
        "id": "RQlblEnwrgkW"
      },
      "source": [
        "#split data \n",
        "train_set = data[(data.Usage == 'Training')] \n",
        "val_set = data[(data.Usage == 'PublicTest')]\n",
        "test_set = data[(data.Usage == 'PrivateTest')] \n",
        "X_train = np.array(list(map(str.split, train_set.pixels)), np.float32) \n",
        "X_val = np.array(list(map(str.split, val_set.pixels)), np.float32) \n",
        "X_test = np.array(list(map(str.split, test_set.pixels)), np.float32) \n",
        "X_train = X_train.reshape(X_train.shape[0], 48, 48, 1) \n",
        "X_val = X_val.reshape(X_val.shape[0], 48, 48, 1)\n",
        "X_test = X_test.reshape(X_test.shape[0], 48, 48, 1)"
      ],
      "execution_count": 7,
      "outputs": []
    },
    {
      "cell_type": "code",
      "metadata": {
        "id": "MVqY8ftoriHW"
      },
      "source": [
        "num_classes = 7\n",
        "\n",
        "y_train = train_set.emotion \n",
        "y_train = np_utils.to_categorical(y_train, num_classes) \n",
        "y_val = val_set.emotion \n",
        "y_val = np_utils.to_categorical(y_val, num_classes) \n",
        "y_test = test_set.emotion \n",
        "y_test = np_utils.to_categorical(y_test, num_classes)"
      ],
      "execution_count": 8,
      "outputs": []
    },
    {
      "cell_type": "code",
      "metadata": {
        "colab": {
          "base_uri": "https://localhost:8080/"
        },
        "id": "WaMwvF5vrju-",
        "outputId": "8342ce86-603a-43c7-8959-d40533427d50"
      },
      "source": [
        "print(\"x_train:\",X_train.shape)\n",
        "print(\"y_train:\",y_train.shape)\n",
        "print(\"x_val:\",X_val.shape)\n",
        "print(\"y_val:\",y_val.shape)\n",
        "print(\"x_test:\",X_test.shape)\n",
        "print(\"y_test:\",y_test.shape)"
      ],
      "execution_count": 9,
      "outputs": [
        {
          "output_type": "stream",
          "text": [
            "x_train: (28709, 48, 48, 1)\n",
            "y_train: (28709, 7)\n",
            "x_val: (3589, 48, 48, 1)\n",
            "y_val: (3589, 7)\n",
            "x_test: (3589, 48, 48, 1)\n",
            "y_test: (3589, 7)\n"
          ],
          "name": "stdout"
        }
      ]
    },
    {
      "cell_type": "code",
      "metadata": {
        "id": "DzChH8hGrldw"
      },
      "source": [
        "#data augmentation\n",
        "datagen = ImageDataGenerator(rescale=1./255,\n",
        "                             rotation_range=10,\n",
        "                             width_shift_range=0.2,\n",
        "                             height_shift_range=0.2, \n",
        "                             zoom_range=0.2,\n",
        "                             horizontal_flip=True)\n",
        "\n",
        "#datagen = ImageDataGenerator(rescale=1./255)\n",
        "\n",
        "testgen = ImageDataGenerator(rescale=1./255)\n",
        "\n",
        "datagen.fit(X_train)\n",
        "batch_size = 64"
      ],
      "execution_count": 10,
      "outputs": []
    },
    {
      "cell_type": "code",
      "metadata": {
        "id": "d-nkOZUfrm_e"
      },
      "source": [
        "train_flow = datagen.flow(X_train, y_train, batch_size=batch_size) \n",
        "val_flow = testgen.flow(X_val, y_val, batch_size=batch_size) \n",
        "test_flow = testgen.flow(X_test, y_test, batch_size=batch_size)"
      ],
      "execution_count": 11,
      "outputs": []
    },
    {
      "cell_type": "code",
      "metadata": {
        "id": "3u6vR_8CroMG"
      },
      "source": [
        "from matplotlib import pyplot"
      ],
      "execution_count": 12,
      "outputs": []
    },
    {
      "cell_type": "code",
      "metadata": {
        "colab": {
          "base_uri": "https://localhost:8080/",
          "height": 248
        },
        "id": "HZ6sB7a0rp0O",
        "outputId": "19d2c5de-0bd3-47e8-af43-1603369f8948"
      },
      "source": [
        "#displaying sample images\n",
        "for X_batch, y_batch in datagen.flow(X_train, y_train, batch_size=9):\n",
        "    for i in range(0, 9): \n",
        "        pyplot.axis('off') \n",
        "        pyplot.subplot(330 + 1 + i) \n",
        "        pyplot.imshow(X_batch[i].reshape(48, 48), cmap=pyplot.get_cmap('gray'))\n",
        "    pyplot.axis('off') \n",
        "    pyplot.show() \n",
        "    break"
      ],
      "execution_count": 13,
      "outputs": [
        {
          "output_type": "display_data",
          "data": {
            "image/png": "[encoded data removed]",
            "text/plain": [
              "<Figure size 432x288 with 9 Axes>"
            ]
          },
          "metadata": {
            "tags": [],
            "needs_background": "light"
          }
        }
      ]
    },
    {
      "cell_type": "markdown",
      "metadata": {
        "id": "mH061hQUbJsv"
      },
      "source": [
        "# Training Model"
      ]
    },
    {
      "cell_type": "code",
      "metadata": {
        "id": "rxqJ_jM_mSTg"
      },
      "source": [
        "#Model Fix\n",
        "'''from keras.models import Sequential\n",
        "from keras.layers import Input, Dense, Flatten, Dropout, Conv2D, MaxPool2D, BatchNormalization, GlobalAveragePooling2D\n",
        "\n",
        "input_shape = (48, 48, 1)\n",
        "\n",
        "model = Sequential()\n",
        "\n",
        "model.add(Conv2D(filters=64,input_shape=(input_shape),kernel_size=(3,3),padding=\"same\", activation=\"relu\", kernel_initializer = glorot_uniform(seed=0)))\n",
        "model.add(BatchNormalization())\n",
        "model.add(Conv2D(filters=64,kernel_size=(3,3),padding=\"same\", activation=\"relu\", kernel_initializer = glorot_uniform(seed=0)))\n",
        "model.add(BatchNormalization())\n",
        "model.add(MaxPool2D(pool_size=(2,2),strides=(2,2)))\n",
        "model.add(Dropout(0.2))\n",
        "\n",
        "model.add(Conv2D(filters=128, kernel_size=(3,3), padding=\"same\", activation=\"relu\", kernel_initializer = glorot_uniform(seed=0)))\n",
        "model.add(BatchNormalization())\n",
        "model.add(Conv2D(filters=128, kernel_size=(3,3), padding=\"same\", activation=\"relu\", kernel_initializer = glorot_uniform(seed=0)))\n",
        "model.add(BatchNormalization())\n",
        "model.add(MaxPool2D(pool_size=(2,2),strides=(2,2)))\n",
        "model.add(Dropout(0.3))\n",
        "\n",
        "model.add(Conv2D(filters=256, kernel_size=(3,3), padding=\"same\", activation=\"relu\", kernel_initializer = glorot_uniform(seed=0)))\n",
        "model.add(BatchNormalization())\n",
        "model.add(Conv2D(filters=256, kernel_size=(3,3), padding=\"same\", activation=\"relu\", kernel_initializer = glorot_uniform(seed=0)))\n",
        "model.add(BatchNormalization())\n",
        "model.add(Conv2D(filters=256, kernel_size=(3,3), padding=\"same\", activation=\"relu\", kernel_initializer = glorot_uniform(seed=0)))\n",
        "model.add(BatchNormalization())\n",
        "model.add(MaxPool2D(pool_size=(2,2),strides=(2,2)))\n",
        "model.add(Dropout(0.4))\n",
        "\n",
        "model.add(Conv2D(filters=512, kernel_size=(3,3), padding=\"same\", activation=\"relu\", kernel_initializer = glorot_uniform(seed=0)))\n",
        "model.add(BatchNormalization())\n",
        "model.add(Conv2D(filters=512, kernel_size=(3,3), padding=\"same\", activation=\"relu\", kernel_initializer = glorot_uniform(seed=0)))\n",
        "model.add(BatchNormalization())\n",
        "model.add(Conv2D(filters=512, kernel_size=(3,3), padding=\"same\", activation=\"relu\", kernel_initializer = glorot_uniform(seed=0)))\n",
        "model.add(BatchNormalization())\n",
        "model.add(MaxPool2D(pool_size=(2,2),strides=(2,2)))\n",
        "model.add(Dropout(0.5))\n",
        "\n",
        "model.add(Conv2D(filters=512, kernel_size=(3,3), padding=\"same\", activation=\"relu\", kernel_initializer = glorot_uniform(seed=0)))\n",
        "model.add(BatchNormalization())\n",
        "model.add(Conv2D(filters=512, kernel_size=(3,3), padding=\"same\", activation=\"relu\", kernel_initializer = glorot_uniform(seed=0)))\n",
        "model.add(BatchNormalization())\n",
        "model.add(Conv2D(filters=512, kernel_size=(3,3), padding=\"same\", activation=\"relu\", kernel_initializer = glorot_uniform(seed=0)))\n",
        "model.add(BatchNormalization())\n",
        "model.add(MaxPool2D(pool_size=(2,2),strides=(2,2)))\n",
        "model.add(Dropout(0.6))\n",
        "\n",
        "#model.add(Flatten())\n",
        "model.add(GlobalAveragePooling2D())\n",
        "\n",
        "model.add(Dense(512,activation='relu'))\n",
        "model.add(Dropout(0.5))\n",
        "model.add(Dense(512,activation='relu'))\n",
        "model.add(Dropout(0.5))\n",
        "\n",
        "model.add(Dense(units=num_classes, activation='softmax'))\n",
        "\n",
        "# print the model summary\n",
        "model.summary()"
      ],
      "execution_count": null,
      "outputs": []
    },
    {
      "cell_type": "code",
      "metadata": {
        "id": "8jkwdE30MBT1",
        "colab": {
          "base_uri": "https://localhost:8080/"
        },
        "outputId": "6e6c1d69-c4d5-46ff-b545-a8968fa57b1e"
      },
      "source": [
        "#Model ori\n",
        "from keras.models import Sequential\n",
        "from keras.layers import Input, Dense, Flatten, Conv2D, MaxPool2D\n",
        "\n",
        "input_shape = (48, 48, 1)\n",
        "\n",
        "model = Sequential()\n",
        "\n",
        "model.add(Conv2D(filters=64,input_shape=(input_shape),kernel_size=(3,3),padding=\"same\", activation=\"relu\", kernel_initializer = glorot_uniform(seed=0)))\n",
        "model.add(Conv2D(filters=64,kernel_size=(3,3),padding=\"same\", activation=\"relu\", kernel_initializer = glorot_uniform(seed=0)))\n",
        "model.add(MaxPool2D(pool_size=(2,2),strides=(2,2)))\n",
        "\n",
        "model.add(Conv2D(filters=128, kernel_size=(3,3), padding=\"same\", activation=\"relu\", kernel_initializer = glorot_uniform(seed=0)))\n",
        "model.add(Conv2D(filters=128, kernel_size=(3,3), padding=\"same\", activation=\"relu\", kernel_initializer = glorot_uniform(seed=0)))\n",
        "model.add(MaxPool2D(pool_size=(2,2),strides=(2,2)))\n",
        "\n",
        "model.add(Conv2D(filters=256, kernel_size=(3,3), padding=\"same\", activation=\"relu\", kernel_initializer = glorot_uniform(seed=0)))\n",
        "model.add(Conv2D(filters=256, kernel_size=(3,3), padding=\"same\", activation=\"relu\", kernel_initializer = glorot_uniform(seed=0)))\n",
        "model.add(Conv2D(filters=256, kernel_size=(3,3), padding=\"same\", activation=\"relu\", kernel_initializer = glorot_uniform(seed=1)))\n",
        "model.add(MaxPool2D(pool_size=(2,2),strides=(2,2)))\n",
        "\n",
        "model.add(Conv2D(filters=512, kernel_size=(3,3), padding=\"same\", activation=\"relu\", kernel_initializer = glorot_uniform(seed=0)))\n",
        "model.add(Conv2D(filters=512, kernel_size=(3,3), padding=\"same\", activation=\"relu\", kernel_initializer = glorot_uniform(seed=0)))\n",
        "model.add(Conv2D(filters=512, kernel_size=(3,3), padding=\"same\", activation=\"relu\", kernel_initializer = glorot_uniform(seed=0)))\n",
        "model.add(MaxPool2D(pool_size=(2,2),strides=(2,2)))\n",
        "\n",
        "model.add(Conv2D(filters=512, kernel_size=(3,3), padding=\"same\", activation=\"relu\", kernel_initializer = glorot_uniform(seed=0)))\n",
        "model.add(Conv2D(filters=512, kernel_size=(3,3), padding=\"same\", activation=\"relu\", kernel_initializer = glorot_uniform(seed=0)))\n",
        "model.add(Conv2D(filters=512, kernel_size=(3,3), padding=\"same\", activation=\"relu\", kernel_initializer = glorot_uniform(seed=0)))\n",
        "model.add(MaxPool2D(pool_size=(2,2),strides=(2,2)))\n",
        "\n",
        "model.add(Flatten())\n",
        "\n",
        "model.add(Dense(4096,activation='relu'))\n",
        "model.add(Dense(4096,activation='relu'))\n",
        "model.add(Dense(units=num_classes, activation='softmax'))\n",
        "\n",
        "# print the model summary\n",
        "model.summary()"
      ],
      "execution_count": 14,
      "outputs": [
        {
          "output_type": "stream",
          "text": [
            "Model: \"sequential\"\n",
            "_________________________________________________________________\n",
            "Layer (type)                 Output Shape              Param #   \n",
            "=================================================================\n",
            "conv2d (Conv2D)              (None, 48, 48, 64)        640       \n",
            "_________________________________________________________________\n",
            "conv2d_1 (Conv2D)            (None, 48, 48, 64)        36928     \n",
            "_________________________________________________________________\n",
            "max_pooling2d (MaxPooling2D) (None, 24, 24, 64)        0         \n",
            "_________________________________________________________________\n",
            "conv2d_2 (Conv2D)            (None, 24, 24, 128)       73856     \n",
            "_________________________________________________________________\n",
            "conv2d_3 (Conv2D)            (None, 24, 24, 128)       147584    \n",
            "_________________________________________________________________\n",
            "max_pooling2d_1 (MaxPooling2 (None, 12, 12, 128)       0         \n",
            "_________________________________________________________________\n",
            "conv2d_4 (Conv2D)            (None, 12, 12, 256)       295168    \n",
            "_________________________________________________________________\n",
            "conv2d_5 (Conv2D)            (None, 12, 12, 256)       590080    \n",
            "_________________________________________________________________\n",
            "conv2d_6 (Conv2D)            (None, 12, 12, 256)       590080    \n",
            "_________________________________________________________________\n",
            "max_pooling2d_2 (MaxPooling2 (None, 6, 6, 256)         0         \n",
            "_________________________________________________________________\n",
            "conv2d_7 (Conv2D)            (None, 6, 6, 512)         1180160   \n",
            "_________________________________________________________________\n",
            "conv2d_8 (Conv2D)            (None, 6, 6, 512)         2359808   \n",
            "_________________________________________________________________\n",
            "conv2d_9 (Conv2D)            (None, 6, 6, 512)         2359808   \n",
            "_________________________________________________________________\n",
            "max_pooling2d_3 (MaxPooling2 (None, 3, 3, 512)         0         \n",
            "_________________________________________________________________\n",
            "conv2d_10 (Conv2D)           (None, 3, 3, 512)         2359808   \n",
            "_________________________________________________________________\n",
            "conv2d_11 (Conv2D)           (None, 3, 3, 512)         2359808   \n",
            "_________________________________________________________________\n",
            "conv2d_12 (Conv2D)           (None, 3, 3, 512)         2359808   \n",
            "_________________________________________________________________\n",
            "max_pooling2d_4 (MaxPooling2 (None, 1, 1, 512)         0         \n",
            "_________________________________________________________________\n",
            "flatten (Flatten)            (None, 512)               0         \n",
            "_________________________________________________________________\n",
            "dense (Dense)                (None, 4096)              2101248   \n",
            "_________________________________________________________________\n",
            "dense_1 (Dense)              (None, 4096)              16781312  \n",
            "_________________________________________________________________\n",
            "dense_2 (Dense)              (None, 7)                 28679     \n",
            "=================================================================\n",
            "Total params: 33,624,775\n",
            "Trainable params: 33,624,775\n",
            "Non-trainable params: 0\n",
            "_________________________________________________________________\n"
          ],
          "name": "stdout"
        }
      ]
    },
    {
      "cell_type": "code",
      "metadata": {
        "id": "0S679DUacsgI"
      },
      "source": [
        "#save plot model to file\n",
        "from keras.utils.vis_utils import plot_model\n",
        "plot_model(model, to_file=\"model.png\", show_shapes=True, show_layer_names=False)"
      ],
      "execution_count": null,
      "outputs": []
    },
    {
      "cell_type": "code",
      "metadata": {
        "id": "LhxgJX3brul-"
      },
      "source": [
        "#compile model\n",
        "from keras.optimizers import Adam,SGD,RMSprop\n",
        "\n",
        "opt = RMSprop(learning_rate=0.0001)\n",
        "model.compile(loss='categorical_crossentropy', optimizer=opt, metrics=['accuracy'])"
      ],
      "execution_count": 15,
      "outputs": []
    },
    {
      "cell_type": "code",
      "metadata": {
        "colab": {
          "base_uri": "https://localhost:8080/"
        },
        "id": "ljPuPM2iryKG",
        "outputId": "591f68ba-79dd-4166-811f-cdd9f9977e4d"
      },
      "source": [
        "# fit the model\n",
        "num_epochs = 50\n",
        "history = model.fit(train_flow, \n",
        "                    steps_per_epoch=len(X_train) // batch_size, \n",
        "                    epochs=num_epochs,  \n",
        "                    verbose=1,  \n",
        "                    validation_data=val_flow,  \n",
        "                    validation_steps=len(X_val) // batch_size)"
      ],
      "execution_count": 16,
      "outputs": [
        {
          "output_type": "stream",
          "text": [
            "Epoch 1/50\n",
            "448/448 [==============================] - 84s 77ms/step - loss: 1.8464 - accuracy: 0.2401 - val_loss: 1.8157 - val_accuracy: 0.2494\n",
            "Epoch 2/50\n",
            "448/448 [==============================] - 33s 73ms/step - loss: 1.8080 - accuracy: 0.2543 - val_loss: 1.7979 - val_accuracy: 0.2595\n",
            "Epoch 3/50\n",
            "448/448 [==============================] - 33s 75ms/step - loss: 1.7639 - accuracy: 0.2733 - val_loss: 1.7009 - val_accuracy: 0.3033\n",
            "Epoch 4/50\n",
            "448/448 [==============================] - 34s 75ms/step - loss: 1.7131 - accuracy: 0.3030 - val_loss: 1.5477 - val_accuracy: 0.3878\n",
            "Epoch 5/50\n",
            "448/448 [==============================] - 34s 76ms/step - loss: 1.6207 - accuracy: 0.3472 - val_loss: 1.4461 - val_accuracy: 0.4275\n",
            "Epoch 6/50\n",
            "448/448 [==============================] - 34s 76ms/step - loss: 1.5349 - accuracy: 0.3890 - val_loss: 1.3821 - val_accuracy: 0.4576\n",
            "Epoch 7/50\n",
            "448/448 [==============================] - 34s 77ms/step - loss: 1.4409 - accuracy: 0.4361 - val_loss: 1.3137 - val_accuracy: 0.4939\n",
            "Epoch 8/50\n",
            "448/448 [==============================] - 35s 77ms/step - loss: 1.3821 - accuracy: 0.4670 - val_loss: 1.2636 - val_accuracy: 0.5103\n",
            "Epoch 9/50\n",
            "448/448 [==============================] - 35s 77ms/step - loss: 1.3099 - accuracy: 0.4991 - val_loss: 1.2082 - val_accuracy: 0.5357\n",
            "Epoch 10/50\n",
            "448/448 [==============================] - 35s 77ms/step - loss: 1.2695 - accuracy: 0.5152 - val_loss: 1.2040 - val_accuracy: 0.5424\n",
            "Epoch 11/50\n",
            "448/448 [==============================] - 35s 77ms/step - loss: 1.2306 - accuracy: 0.5263 - val_loss: 1.1842 - val_accuracy: 0.5324\n",
            "Epoch 12/50\n",
            "448/448 [==============================] - 35s 77ms/step - loss: 1.2170 - accuracy: 0.5382 - val_loss: 1.1350 - val_accuracy: 0.5614\n",
            "Epoch 13/50\n",
            "448/448 [==============================] - 35s 77ms/step - loss: 1.1907 - accuracy: 0.5457 - val_loss: 1.1239 - val_accuracy: 0.5770\n",
            "Epoch 14/50\n",
            "448/448 [==============================] - 35s 77ms/step - loss: 1.1581 - accuracy: 0.5627 - val_loss: 1.1644 - val_accuracy: 0.5695\n",
            "Epoch 15/50\n",
            "448/448 [==============================] - 35s 77ms/step - loss: 1.1406 - accuracy: 0.5685 - val_loss: 1.0995 - val_accuracy: 0.5865\n",
            "Epoch 16/50\n",
            "448/448 [==============================] - 35s 77ms/step - loss: 1.1174 - accuracy: 0.5797 - val_loss: 1.1065 - val_accuracy: 0.5898\n",
            "Epoch 17/50\n",
            "448/448 [==============================] - 34s 77ms/step - loss: 1.1041 - accuracy: 0.5817 - val_loss: 1.0764 - val_accuracy: 0.6044\n",
            "Epoch 18/50\n",
            "448/448 [==============================] - 35s 77ms/step - loss: 1.0871 - accuracy: 0.5957 - val_loss: 1.0701 - val_accuracy: 0.6088\n",
            "Epoch 19/50\n",
            "448/448 [==============================] - 35s 77ms/step - loss: 1.0872 - accuracy: 0.5922 - val_loss: 1.0970 - val_accuracy: 0.5985\n",
            "Epoch 20/50\n",
            "448/448 [==============================] - 35s 77ms/step - loss: 1.0737 - accuracy: 0.5992 - val_loss: 1.0878 - val_accuracy: 0.5965\n",
            "Epoch 21/50\n",
            "448/448 [==============================] - 34s 77ms/step - loss: 1.0611 - accuracy: 0.6033 - val_loss: 1.0672 - val_accuracy: 0.6049\n",
            "Epoch 22/50\n",
            "448/448 [==============================] - 35s 77ms/step - loss: 1.0472 - accuracy: 0.6092 - val_loss: 1.0289 - val_accuracy: 0.6272\n",
            "Epoch 23/50\n",
            "448/448 [==============================] - 34s 77ms/step - loss: 1.0380 - accuracy: 0.6130 - val_loss: 1.0276 - val_accuracy: 0.6164\n",
            "Epoch 24/50\n",
            "448/448 [==============================] - 35s 77ms/step - loss: 1.0331 - accuracy: 0.6143 - val_loss: 1.0908 - val_accuracy: 0.5938\n",
            "Epoch 25/50\n",
            "448/448 [==============================] - 34s 77ms/step - loss: 1.0263 - accuracy: 0.6174 - val_loss: 1.1060 - val_accuracy: 0.6083\n",
            "Epoch 26/50\n",
            "448/448 [==============================] - 34s 77ms/step - loss: 1.0200 - accuracy: 0.6209 - val_loss: 1.0850 - val_accuracy: 0.6116\n",
            "Epoch 27/50\n",
            "448/448 [==============================] - 34s 77ms/step - loss: 1.0113 - accuracy: 0.6228 - val_loss: 1.0929 - val_accuracy: 0.6097\n",
            "Epoch 28/50\n",
            "448/448 [==============================] - 34s 77ms/step - loss: 1.0108 - accuracy: 0.6282 - val_loss: 1.0266 - val_accuracy: 0.6236\n",
            "Epoch 29/50\n",
            "448/448 [==============================] - 34s 77ms/step - loss: 1.0030 - accuracy: 0.6291 - val_loss: 1.0324 - val_accuracy: 0.6222\n",
            "Epoch 30/50\n",
            "448/448 [==============================] - 34s 77ms/step - loss: 0.9851 - accuracy: 0.6325 - val_loss: 0.9868 - val_accuracy: 0.6334\n",
            "Epoch 31/50\n",
            "448/448 [==============================] - 34s 77ms/step - loss: 0.9942 - accuracy: 0.6304 - val_loss: 1.0392 - val_accuracy: 0.6155\n",
            "Epoch 32/50\n",
            "448/448 [==============================] - 34s 77ms/step - loss: 0.9873 - accuracy: 0.6322 - val_loss: 1.0704 - val_accuracy: 0.6353\n",
            "Epoch 33/50\n",
            "448/448 [==============================] - 34s 76ms/step - loss: 0.9968 - accuracy: 0.6312 - val_loss: 1.2061 - val_accuracy: 0.6177\n",
            "Epoch 34/50\n",
            "448/448 [==============================] - 34s 76ms/step - loss: 1.0048 - accuracy: 0.6335 - val_loss: 1.0395 - val_accuracy: 0.6219\n",
            "Epoch 35/50\n",
            "448/448 [==============================] - 34s 77ms/step - loss: 0.9844 - accuracy: 0.6409 - val_loss: 1.1400 - val_accuracy: 0.6147\n",
            "Epoch 36/50\n",
            "448/448 [==============================] - 34s 77ms/step - loss: 0.9925 - accuracy: 0.6406 - val_loss: 1.0493 - val_accuracy: 0.6309\n",
            "Epoch 37/50\n",
            "448/448 [==============================] - 34s 77ms/step - loss: 0.9697 - accuracy: 0.6424 - val_loss: 1.1927 - val_accuracy: 0.6387\n",
            "Epoch 38/50\n",
            "448/448 [==============================] - 34s 76ms/step - loss: 0.9719 - accuracy: 0.6469 - val_loss: 1.0844 - val_accuracy: 0.6292\n",
            "Epoch 39/50\n",
            "448/448 [==============================] - 34s 77ms/step - loss: 0.9676 - accuracy: 0.6444 - val_loss: 1.0948 - val_accuracy: 0.6099\n",
            "Epoch 40/50\n",
            "448/448 [==============================] - 34s 77ms/step - loss: 0.9743 - accuracy: 0.6381 - val_loss: 1.0174 - val_accuracy: 0.6328\n",
            "Epoch 41/50\n",
            "448/448 [==============================] - 34s 77ms/step - loss: 0.9632 - accuracy: 0.6484 - val_loss: 1.1556 - val_accuracy: 0.6186\n",
            "Epoch 42/50\n",
            "448/448 [==============================] - 34s 77ms/step - loss: 0.9929 - accuracy: 0.6408 - val_loss: 1.0010 - val_accuracy: 0.6473\n",
            "Epoch 43/50\n",
            "448/448 [==============================] - 34s 76ms/step - loss: 0.9748 - accuracy: 0.6407 - val_loss: 1.1322 - val_accuracy: 0.6013\n",
            "Epoch 44/50\n",
            "448/448 [==============================] - 34s 76ms/step - loss: 0.9685 - accuracy: 0.6475 - val_loss: 1.0428 - val_accuracy: 0.6247\n",
            "Epoch 45/50\n",
            "448/448 [==============================] - 34s 76ms/step - loss: 0.9637 - accuracy: 0.6478 - val_loss: 2.2764 - val_accuracy: 0.6030\n",
            "Epoch 46/50\n",
            "448/448 [==============================] - 34s 76ms/step - loss: 0.9893 - accuracy: 0.6465 - val_loss: 1.0064 - val_accuracy: 0.6183\n",
            "Epoch 47/50\n",
            "448/448 [==============================] - 34s 76ms/step - loss: 0.9564 - accuracy: 0.6490 - val_loss: 3.1858 - val_accuracy: 0.6283\n",
            "Epoch 48/50\n",
            "448/448 [==============================] - 34s 76ms/step - loss: 1.0056 - accuracy: 0.6399 - val_loss: 1.2668 - val_accuracy: 0.6055\n",
            "Epoch 49/50\n",
            "448/448 [==============================] - 34s 76ms/step - loss: 0.9909 - accuracy: 0.6416 - val_loss: 1.0109 - val_accuracy: 0.6289\n",
            "Epoch 50/50\n",
            "448/448 [==============================] - 34s 76ms/step - loss: 0.9760 - accuracy: 0.6454 - val_loss: 1.0993 - val_accuracy: 0.6211\n"
          ],
          "name": "stdout"
        }
      ]
    },
    {
      "cell_type": "markdown",
      "metadata": {
        "id": "zdn-Ud-Ca4LG"
      },
      "source": [
        "# Evaluate"
      ]
    },
    {
      "cell_type": "code",
      "metadata": {
        "id": "d8D97Qq4bUxn",
        "colab": {
          "base_uri": "https://localhost:8080/",
          "height": 573
        },
        "outputId": "9e85717f-018d-42a9-9ba9-84a6fd0decdc"
      },
      "source": [
        "accuracy = history.history['accuracy']\n",
        "val_accuracy = history.history['val_accuracy']\n",
        "loss = history.history['loss']\n",
        "val_loss = history.history['val_loss']\n",
        "num_epochs = range(len(accuracy))\n",
        "plt.plot(num_epochs, accuracy, 'r', label='Training acc')\n",
        "plt.plot(num_epochs, val_accuracy, 'b', label='Validation acc')\n",
        "plt.title('Training and validation accuracy')\n",
        "plt.ylabel('accuracy')  \n",
        "plt.xlabel('epoch')\n",
        "plt.legend()\n",
        "plt.figure()\n",
        "plt.plot(num_epochs, loss, 'r', label='Training loss')\n",
        "plt.plot(num_epochs, val_loss, 'b', label='Validation loss')\n",
        "plt.title('Training and validation loss')\n",
        "plt.ylabel('loss')  \n",
        "plt.xlabel('epoch')\n",
        "plt.legend()\n",
        "plt.show()"
      ],
      "execution_count": 17,
      "outputs": [
        {
          "output_type": "display_data",
          "data": {
            "image/png": "[encoded data removed]",
            "text/plain": [
              "<Figure size 432x288 with 1 Axes>"
            ]
          },
          "metadata": {
            "tags": [],
            "needs_background": "light"
          }
        },
        {
          "output_type": "display_data",
          "data": {
            "image/png": "[encoded data removed]",
            "text/plain": [
              "<Figure size 432x288 with 1 Axes>"
            ]
          },
          "metadata": {
            "tags": [],
            "needs_background": "light"
          }
        }
      ]
    },
    {
      "cell_type": "code",
      "metadata": {
        "id": "v2FEkE4pr8vN",
        "colab": {
          "base_uri": "https://localhost:8080/"
        },
        "outputId": "05e551d5-fc2d-441b-87d7-beb102cf2281"
      },
      "source": [
        "trainloss = model.evaluate(train_flow, steps=len(X_train) / batch_size) \n",
        "print(\"Train Loss \" + str(trainloss[0]))\n",
        "print(\"Train Acc: \" + str(trainloss[1]))\n",
        "valloss = model.evaluate(val_flow, steps=len(X_val) / batch_size) \n",
        "print(\"Val Loss \" + str(valloss[0]))\n",
        "print(\"Val Acc: \" + str(valloss[1]))\n",
        "testloss = model.evaluate(test_flow, steps=len(X_test) / batch_size) \n",
        "print(\"Test Loss \" + str(testloss[0]))\n",
        "print(\"Test Acc: \" + str(testloss[1]))"
      ],
      "execution_count": 18,
      "outputs": [
        {
          "output_type": "stream",
          "text": [
            "448/448 [==============================] - 16s 35ms/step - loss: 0.9415 - accuracy: 0.6485\n",
            "Train Loss 0.941478431224823\n",
            "Train Acc: 0.6485422849655151\n",
            "56/56 [==============================] - 2s 28ms/step - loss: 1.0986 - accuracy: 0.6213\n",
            "Val Loss 1.098633050918579\n",
            "Val Acc: 0.6213430166244507\n",
            "56/56 [==============================] - 1s 20ms/step - loss: 1.0207 - accuracy: 0.6361\n",
            "Test Loss 1.020719051361084\n",
            "Test Acc: 0.6361103653907776\n"
          ],
          "name": "stdout"
        }
      ]
    },
    {
      "cell_type": "code",
      "metadata": {
        "id": "lzHC1YQabqNF"
      },
      "source": [
        "def plot_confusion_matrix(y_test, y_pred, classes,\n",
        "                          normalize=False,\n",
        "                          title='Unnormalized confusion matrix',\n",
        "                          cmap=plt.cm.Blues):\n",
        "    cm = confusion_matrix(y_test, y_pred)\n",
        "    \n",
        "    if normalize:\n",
        "        cm = np.round(cm.astype('float') / cm.sum(axis=1)[:, np.newaxis], 2)\n",
        "        \n",
        "    np.set_printoptions(precision=2)\n",
        "\n",
        "    plt.rcParams[\"figure.figsize\"] = (8,8)\n",
        "    plt.imshow(cm, interpolation='nearest', cmap=cmap)\n",
        "    plt.title(title)\n",
        "    plt.colorbar()\n",
        "    tick_marks = np.arange(len(classes))\n",
        "    plt.xticks(tick_marks, classes, rotation=45)\n",
        "    plt.yticks(tick_marks, classes)\n",
        "\n",
        "    thresh = cm.min() + (cm.max() - cm.min()) / 2.\n",
        "    for i, j in itertools.product(range(cm.shape[0]), range(cm.shape[1])):\n",
        "        plt.text(j, i, cm[i, j],\n",
        "                 horizontalalignment=\"center\",\n",
        "                 color=\"white\" if cm[i, j] > thresh else \"black\")\n",
        "\n",
        "    plt.tight_layout()\n",
        "    plt.ylabel('True expression')\n",
        "    plt.xlabel('Predicted expression')\n",
        "    plt.show()"
      ],
      "execution_count": 19,
      "outputs": []
    },
    {
      "cell_type": "code",
      "metadata": {
        "id": "moInw8fjbqNF",
        "colab": {
          "base_uri": "https://localhost:8080/"
        },
        "outputId": "743bc0fa-2885-4ddf-c8cb-8e59e60196bf"
      },
      "source": [
        "y_pred_ = model.predict(X_test/255., verbose=1)\n",
        "y_pred = np.argmax(y_pred_, axis=1)\n",
        "t_te = np.argmax(y_test, axis=1)"
      ],
      "execution_count": 20,
      "outputs": [
        {
          "output_type": "stream",
          "text": [
            "113/113 [==============================] - 3s 12ms/step\n"
          ],
          "name": "stdout"
        }
      ]
    },
    {
      "cell_type": "code",
      "metadata": {
        "id": "espEQdo8bqNG",
        "colab": {
          "base_uri": "https://localhost:8080/",
          "height": 585
        },
        "outputId": "b96ae40d-1ad4-4ae1-f6d9-2cd01caa075a"
      },
      "source": [
        "from sklearn.metrics import confusion_matrix, classification_report\n",
        "import itertools\n",
        "\n",
        "fig = plot_confusion_matrix(y_test=t_te, y_pred=y_pred,\n",
        "                      classes=labels,\n",
        "                      normalize=True,\n",
        "                      cmap=plt.cm.Blues,\n",
        "                      title='Average accuracy: ' + str(np.sum(y_pred == t_te)/len(t_te)) + '\\n')"
      ],
      "execution_count": 21,
      "outputs": [
        {
          "output_type": "display_data",
          "data": {
            "image/png": "[encoded data removed]",
            "text/plain": [
              "<Figure size 576x576 with 2 Axes>"
            ]
          },
          "metadata": {
            "tags": [],
            "needs_background": "light"
          }
        }
      ]
    },
    {
      "cell_type": "code",
      "metadata": {
        "id": "4vauS7IKbqNG",
        "colab": {
          "base_uri": "https://localhost:8080/"
        },
        "outputId": "46b34550-49ea-46c1-a13c-d88dc81c249e"
      },
      "source": [
        "emotions = {0: 'Angry', 1: 'Disgust', 2: 'Fear', 3: 'Happy', 4: 'Sad', 5: 'Surprise', 6: 'Neutral'}\n",
        "print(classification_report(t_te, y_pred, target_names=emotions.values()))"
      ],
      "execution_count": 22,
      "outputs": [
        {
          "output_type": "stream",
          "text": [
            "              precision    recall  f1-score   support\n",
            "\n",
            "       Angry       0.61      0.46      0.53       491\n",
            "     Disgust       0.53      0.15      0.23        55\n",
            "        Fear       0.56      0.31      0.40       528\n",
            "       Happy       0.84      0.90      0.87       879\n",
            "         Sad       0.58      0.39      0.47       594\n",
            "    Surprise       0.73      0.75      0.74       416\n",
            "     Neutral       0.48      0.86      0.62       626\n",
            "\n",
            "    accuracy                           0.64      3589\n",
            "   macro avg       0.62      0.55      0.55      3589\n",
            "weighted avg       0.64      0.64      0.62      3589\n",
            "\n"
          ],
          "name": "stdout"
        }
      ]
    },
    {
      "cell_type": "code",
      "metadata": {
        "id": "KKWxaaYRba3j",
        "colab": {
          "base_uri": "https://localhost:8080/"
        },
        "outputId": "21682bfc-94fd-4d5b-b9ce-6391784bd612"
      },
      "source": [
        "model.save(\"/content/drive/MyDrive/Colab Notebooks/Model/ModelVGG16_RMSprop0.0001_epoch50_Aug.h5\")\n",
        "print(\"saved\")"
      ],
      "execution_count": 23,
      "outputs": [
        {
          "output_type": "stream",
          "text": [
            "saved\n"
          ],
          "name": "stdout"
        }
      ]
    },
    {
      "cell_type": "markdown",
      "metadata": {
        "id": "aqLRhlr4b7t5"
      },
      "source": [
        "#Load Model"
      ]
    },
    {
      "cell_type": "code",
      "metadata": {
        "id": "J45lyUtcJ-6F",
        "colab": {
          "base_uri": "https://localhost:8080/"
        },
        "outputId": "3007728b-d855-4a27-81cd-375330074c5e"
      },
      "source": [
        "from keras.models import load_model\n",
        "model_load = load_model('/content/drive/MyDrive/Colab Notebooks/Model/ModelVGG16_RMSprop0.0001_epoch50_Aug.h5')\n",
        "\n",
        "model_load.summary()"
      ],
      "execution_count": 24,
      "outputs": [
        {
          "output_type": "stream",
          "text": [
            "Model: \"sequential\"\n",
            "_________________________________________________________________\n",
            "Layer (type)                 Output Shape              Param #   \n",
            "=================================================================\n",
            "conv2d (Conv2D)              (None, 48, 48, 64)        640       \n",
            "_________________________________________________________________\n",
            "conv2d_1 (Conv2D)            (None, 48, 48, 64)        36928     \n",
            "_________________________________________________________________\n",
            "max_pooling2d (MaxPooling2D) (None, 24, 24, 64)        0         \n",
            "_________________________________________________________________\n",
            "conv2d_2 (Conv2D)            (None, 24, 24, 128)       73856     \n",
            "_________________________________________________________________\n",
            "conv2d_3 (Conv2D)            (None, 24, 24, 128)       147584    \n",
            "_________________________________________________________________\n",
            "max_pooling2d_1 (MaxPooling2 (None, 12, 12, 128)       0         \n",
            "_________________________________________________________________\n",
            "conv2d_4 (Conv2D)            (None, 12, 12, 256)       295168    \n",
            "_________________________________________________________________\n",
            "conv2d_5 (Conv2D)            (None, 12, 12, 256)       590080    \n",
            "_________________________________________________________________\n",
            "conv2d_6 (Conv2D)            (None, 12, 12, 256)       590080    \n",
            "_________________________________________________________________\n",
            "max_pooling2d_2 (MaxPooling2 (None, 6, 6, 256)         0         \n",
            "_________________________________________________________________\n",
            "conv2d_7 (Conv2D)            (None, 6, 6, 512)         1180160   \n",
            "_________________________________________________________________\n",
            "conv2d_8 (Conv2D)            (None, 6, 6, 512)         2359808   \n",
            "_________________________________________________________________\n",
            "conv2d_9 (Conv2D)            (None, 6, 6, 512)         2359808   \n",
            "_________________________________________________________________\n",
            "max_pooling2d_3 (MaxPooling2 (None, 3, 3, 512)         0         \n",
            "_________________________________________________________________\n",
            "conv2d_10 (Conv2D)           (None, 3, 3, 512)         2359808   \n",
            "_________________________________________________________________\n",
            "conv2d_11 (Conv2D)           (None, 3, 3, 512)         2359808   \n",
            "_________________________________________________________________\n",
            "conv2d_12 (Conv2D)           (None, 3, 3, 512)         2359808   \n",
            "_________________________________________________________________\n",
            "max_pooling2d_4 (MaxPooling2 (None, 1, 1, 512)         0         \n",
            "_________________________________________________________________\n",
            "flatten (Flatten)            (None, 512)               0         \n",
            "_________________________________________________________________\n",
            "dense (Dense)                (None, 4096)              2101248   \n",
            "_________________________________________________________________\n",
            "dense_1 (Dense)              (None, 4096)              16781312  \n",
            "_________________________________________________________________\n",
            "dense_2 (Dense)              (None, 7)                 28679     \n",
            "=================================================================\n",
            "Total params: 33,624,775\n",
            "Trainable params: 33,624,775\n",
            "Non-trainable params: 0\n",
            "_________________________________________________________________\n"
          ],
          "name": "stdout"
        }
      ]
    },
    {
      "cell_type": "code",
      "metadata": {
        "id": "nQd7m45qfWBW",
        "colab": {
          "base_uri": "https://localhost:8080/"
        },
        "outputId": "80477059-cf36-4837-95ef-ee8d3da1c08a"
      },
      "source": [
        "trainloss = model_load.evaluate(train_flow, steps=len(X_train) / batch_size) \n",
        "print(\"Train Loss \" + str(trainloss[0]))\n",
        "print(\"Train Acc: \" + str(trainloss[1]))\n",
        "valloss = model_load.evaluate(val_flow, steps=len(X_val) / batch_size) \n",
        "print(\"Val Loss \" + str(valloss[0]))\n",
        "print(\"Val Acc: \" + str(valloss[1]))\n",
        "testloss = model_load.evaluate(test_flow, steps=len(X_test) / batch_size) \n",
        "print(\"Test Loss \" + str(testloss[0]))\n",
        "print(\"Test Acc: \" + str(testloss[1]))"
      ],
      "execution_count": 25,
      "outputs": [
        {
          "output_type": "stream",
          "text": [
            "448/448 [==============================] - 17s 36ms/step - loss: 0.9380 - accuracy: 0.6517\n",
            "Train Loss 0.938029408454895\n",
            "Train Acc: 0.6516771912574768\n",
            "56/56 [==============================] - 1s 22ms/step - loss: 1.0986 - accuracy: 0.6213\n",
            "Val Loss 1.0986329317092896\n",
            "Val Acc: 0.6213430166244507\n",
            "56/56 [==============================] - 1s 20ms/step - loss: 1.0207 - accuracy: 0.6361\n",
            "Test Loss 1.0207194089889526\n",
            "Test Acc: 0.6361103653907776\n"
          ],
          "name": "stdout"
        }
      ]
    },
    {
      "cell_type": "code",
      "metadata": {
        "id": "t87NY2ZdFwVP"
      },
      "source": [
        "def plot_confusion_matrix(y_test, y_pred, classes,\n",
        "                          normalize=False,\n",
        "                          title='Unnormalized confusion matrix',\n",
        "                          cmap=plt.cm.Blues):\n",
        "    cm = confusion_matrix(y_test, y_pred)\n",
        "    \n",
        "    if normalize:\n",
        "        cm = np.round(cm.astype('float') / cm.sum(axis=1)[:, np.newaxis], 2)\n",
        "        \n",
        "    np.set_printoptions(precision=2)\n",
        "\n",
        "    plt.rcParams[\"figure.figsize\"] = (8,8)        \n",
        "    plt.imshow(cm, interpolation='nearest', cmap=cmap)\n",
        "    plt.title(title)\n",
        "    plt.colorbar()\n",
        "    tick_marks = np.arange(len(classes))\n",
        "    plt.xticks(tick_marks, classes, rotation=45)\n",
        "    plt.yticks(tick_marks, classes)\n",
        "\n",
        "    thresh = cm.min() + (cm.max() - cm.min()) / 2.\n",
        "    for i, j in itertools.product(range(cm.shape[0]), range(cm.shape[1])):\n",
        "        plt.text(j, i, cm[i, j],\n",
        "                 horizontalalignment=\"center\",\n",
        "                 color=\"white\" if cm[i, j] > thresh else \"black\")\n",
        "\n",
        "    plt.tight_layout()\n",
        "    plt.ylabel('True expression')\n",
        "    plt.xlabel('Predicted expression')\n",
        "    plt.show()"
      ],
      "execution_count": 26,
      "outputs": []
    },
    {
      "cell_type": "code",
      "metadata": {
        "id": "Tc5JLl9HGFmh",
        "colab": {
          "base_uri": "https://localhost:8080/"
        },
        "outputId": "fcb7887e-a122-4702-f981-aa13a89f5053"
      },
      "source": [
        "y_pred_ = model_load.predict(X_test/255., verbose=1)\n",
        "y_pred = np.argmax(y_pred_, axis=1)\n",
        "t_te = np.argmax(y_test, axis=1)"
      ],
      "execution_count": 27,
      "outputs": [
        {
          "output_type": "stream",
          "text": [
            "113/113 [==============================] - 2s 12ms/step\n"
          ],
          "name": "stdout"
        }
      ]
    },
    {
      "cell_type": "code",
      "metadata": {
        "id": "WUeZP3q-GJrl",
        "colab": {
          "base_uri": "https://localhost:8080/",
          "height": 585
        },
        "outputId": "2a490242-12bc-4dab-88cd-3d18acd5eb3e"
      },
      "source": [
        "from sklearn.metrics import confusion_matrix, classification_report\n",
        "import itertools\n",
        "\n",
        "fig = plot_confusion_matrix(y_test=t_te, y_pred=y_pred,\n",
        "                      classes=labels,\n",
        "                      normalize=True,\n",
        "                      cmap=plt.cm.Blues,\n",
        "                      title='Average accuracy: ' + str(np.sum(y_pred == t_te)/len(t_te)) + '\\n')"
      ],
      "execution_count": 28,
      "outputs": [
        {
          "output_type": "display_data",
          "data": {
            "image/png": "[encoded data removed]",
            "text/plain": [
              "<Figure size 576x576 with 2 Axes>"
            ]
          },
          "metadata": {
            "tags": [],
            "needs_background": "light"
          }
        }
      ]
    },
    {
      "cell_type": "code",
      "metadata": {
        "id": "qes0jsNJG8TF",
        "colab": {
          "base_uri": "https://localhost:8080/"
        },
        "outputId": "94282807-c92c-47d1-82b0-8e9d8d33d63b"
      },
      "source": [
        "emotions = {0: 'Angry', 1: 'Disgust', 2: 'Fear', 3: 'Happy', 4: 'Sad', 5: 'Surprise', 6: 'Neutral'}\n",
        "print(classification_report(t_te, y_pred, target_names=emotions.values()))"
      ],
      "execution_count": 29,
      "outputs": [
        {
          "output_type": "stream",
          "text": [
            "              precision    recall  f1-score   support\n",
            "\n",
            "       Angry       0.61      0.46      0.53       491\n",
            "     Disgust       0.53      0.15      0.23        55\n",
            "        Fear       0.56      0.31      0.40       528\n",
            "       Happy       0.84      0.90      0.87       879\n",
            "         Sad       0.58      0.39      0.47       594\n",
            "    Surprise       0.73      0.75      0.74       416\n",
            "     Neutral       0.48      0.86      0.62       626\n",
            "\n",
            "    accuracy                           0.64      3589\n",
            "   macro avg       0.62      0.55      0.55      3589\n",
            "weighted avg       0.64      0.64      0.62      3589\n",
            "\n"
          ],
          "name": "stdout"
        }
      ]
    }
  ]
}