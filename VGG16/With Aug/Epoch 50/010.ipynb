{
  "nbformat": 4,
  "nbformat_minor": 0,
  "metadata": {
    "accelerator": "GPU",
    "colab": {
      "name": "FINAL.ipynb",
      "provenance": [],
      "collapsed_sections": [],
      "include_colab_link": true
    },
    "kernelspec": {
      "display_name": "Python 3",
      "name": "python3"
    },
    "language_info": {
      "name": "python"
    }
  },
  "cells": [
    {
      "cell_type": "markdown",
      "metadata": {
        "id": "view-in-github",
        "colab_type": "text"
      },
      "source": [
        "<a href=\"https://colab.research.google.com/github/rizqyjoe/FER2013_VGG16_Modified/blob/main/VGG16/With%20Aug/Epoch%2050/010.ipynb\" target=\"_parent\"><img src=\"https://colab.research.google.com/assets/colab-badge.svg\" alt=\"Open In Colab\"/></a>"
      ]
    },
    {
      "cell_type": "code",
      "metadata": {
        "colab": {
          "base_uri": "https://localhost:8080/"
        },
        "id": "sX-0w3h_sh6U",
        "outputId": "841e2111-0ab7-4161-d72f-791b0197c907"
      },
      "source": [
        "#mount drive\n",
        "from google.colab import drive\n",
        "drive.mount('/content/drive')"
      ],
      "execution_count": 1,
      "outputs": [
        {
          "output_type": "stream",
          "text": [
            "Mounted at /content/drive\n"
          ],
          "name": "stdout"
        }
      ]
    },
    {
      "cell_type": "markdown",
      "metadata": {
        "id": "58jrp8yObBBA"
      },
      "source": [
        "# Pre-processing"
      ]
    },
    {
      "cell_type": "code",
      "metadata": {
        "id": "7nrYTmGLrD2A"
      },
      "source": [
        "import tensorflow as tf\n",
        "import keras\n",
        "from keras import backend as K\n",
        "import pandas as pd\n",
        "import numpy as np\n",
        "import matplotlib.pyplot as plt\n",
        "from keras.preprocessing import image\n",
        "from keras.preprocessing.image import ImageDataGenerator\n",
        "from keras import regularizers\n",
        "from keras.utils import np_utils\n",
        "\n",
        "import random\n",
        "\n",
        "tf.random.set_seed(1234)\n",
        "np.random.seed(1234)\n",
        "\n",
        "from keras.initializers import glorot_uniform"
      ],
      "execution_count": 2,
      "outputs": []
    },
    {
      "cell_type": "code",
      "metadata": {
        "colab": {
          "base_uri": "https://localhost:8080/",
          "height": 204
        },
        "id": "0vTjzHIRrW53",
        "outputId": "0640f7a6-e765-4902-e403-c02f7b55e09a"
      },
      "source": [
        "#load file\n",
        "data= pd.read_csv('/content/drive/MyDrive/Dataset/fer2013 dataset/fer2013/fer2013.csv')\n",
        "data.head()"
      ],
      "execution_count": 3,
      "outputs": [
        {
          "output_type": "execute_result",
          "data": {
            "text/html": [
              "<div>\n",
              "<style scoped>\n",
              "    .dataframe tbody tr th:only-of-type {\n",
              "        vertical-align: middle;\n",
              "    }\n",
              "\n",
              "    .dataframe tbody tr th {\n",
              "        vertical-align: top;\n",
              "    }\n",
              "\n",
              "    .dataframe thead th {\n",
              "        text-align: right;\n",
              "    }\n",
              "</style>\n",
              "<table border=\"1\" class=\"dataframe\">\n",
              "  <thead>\n",
              "    <tr style=\"text-align: right;\">\n",
              "      <th></th>\n",
              "      <th>emotion</th>\n",
              "      <th>pixels</th>\n",
              "      <th>Usage</th>\n",
              "    </tr>\n",
              "  </thead>\n",
              "  <tbody>\n",
              "    <tr>\n",
              "      <th>0</th>\n",
              "      <td>0</td>\n",
              "      <td>70 80 82 72 58 58 60 63 54 58 60 48 89 115 121...</td>\n",
              "      <td>Training</td>\n",
              "    </tr>\n",
              "    <tr>\n",
              "      <th>1</th>\n",
              "      <td>0</td>\n",
              "      <td>151 150 147 155 148 133 111 140 170 174 182 15...</td>\n",
              "      <td>Training</td>\n",
              "    </tr>\n",
              "    <tr>\n",
              "      <th>2</th>\n",
              "      <td>2</td>\n",
              "      <td>231 212 156 164 174 138 161 173 182 200 106 38...</td>\n",
              "      <td>Training</td>\n",
              "    </tr>\n",
              "    <tr>\n",
              "      <th>3</th>\n",
              "      <td>4</td>\n",
              "      <td>24 32 36 30 32 23 19 20 30 41 21 22 32 34 21 1...</td>\n",
              "      <td>Training</td>\n",
              "    </tr>\n",
              "    <tr>\n",
              "      <th>4</th>\n",
              "      <td>6</td>\n",
              "      <td>4 0 0 0 0 0 0 0 0 0 0 0 3 15 23 28 48 50 58 84...</td>\n",
              "      <td>Training</td>\n",
              "    </tr>\n",
              "  </tbody>\n",
              "</table>\n",
              "</div>"
            ],
            "text/plain": [
              "   emotion                                             pixels     Usage\n",
              "0        0  70 80 82 72 58 58 60 63 54 58 60 48 89 115 121...  Training\n",
              "1        0  151 150 147 155 148 133 111 140 170 174 182 15...  Training\n",
              "2        2  231 212 156 164 174 138 161 173 182 200 106 38...  Training\n",
              "3        4  24 32 36 30 32 23 19 20 30 41 21 22 32 34 21 1...  Training\n",
              "4        6  4 0 0 0 0 0 0 0 0 0 0 0 3 15 23 28 48 50 58 84...  Training"
            ]
          },
          "metadata": {
            "tags": []
          },
          "execution_count": 3
        }
      ]
    },
    {
      "cell_type": "code",
      "metadata": {
        "colab": {
          "base_uri": "https://localhost:8080/"
        },
        "id": "NU40Z0ynrau2",
        "outputId": "c7fd33c1-cd0d-4ece-ece5-8d6ac2a20936"
      },
      "source": [
        "data.emotion.value_counts()"
      ],
      "execution_count": 4,
      "outputs": [
        {
          "output_type": "execute_result",
          "data": {
            "text/plain": [
              "3    8989\n",
              "6    6198\n",
              "4    6077\n",
              "2    5121\n",
              "0    4953\n",
              "5    4002\n",
              "1     547\n",
              "Name: emotion, dtype: int64"
            ]
          },
          "metadata": {
            "tags": []
          },
          "execution_count": 4
        }
      ]
    },
    {
      "cell_type": "code",
      "metadata": {
        "colab": {
          "base_uri": "https://localhost:8080/"
        },
        "id": "8MQKKFDare4e",
        "outputId": "2b61c84e-5541-4990-b461-dd5aad25a84f"
      },
      "source": [
        "data.Usage.value_counts()"
      ],
      "execution_count": 5,
      "outputs": [
        {
          "output_type": "execute_result",
          "data": {
            "text/plain": [
              "Training       28709\n",
              "PrivateTest     3589\n",
              "PublicTest      3589\n",
              "Name: Usage, dtype: int64"
            ]
          },
          "metadata": {
            "tags": []
          },
          "execution_count": 5
        }
      ]
    },
    {
      "cell_type": "code",
      "metadata": {
        "id": "H1M2PtN54iSK"
      },
      "source": [
        "emotion_labels = [\"Angry\", \"Disgust\", \"Fear\", \"Happy\", \"Sad\", \"Surprise\", \"Neutral\"]\n",
        "labels=np.array((\"Angry\", \"Disgust\", \"Fear\", \"Happy\", \"Sad\", \"Surprise\", \"Neutral\"))"
      ],
      "execution_count": 6,
      "outputs": []
    },
    {
      "cell_type": "code",
      "metadata": {
        "id": "RQlblEnwrgkW"
      },
      "source": [
        "#split data \n",
        "train_set = data[(data.Usage == 'Training')] \n",
        "val_set = data[(data.Usage == 'PublicTest')]\n",
        "test_set = data[(data.Usage == 'PrivateTest')] \n",
        "X_train = np.array(list(map(str.split, train_set.pixels)), np.float32) \n",
        "X_val = np.array(list(map(str.split, val_set.pixels)), np.float32) \n",
        "X_test = np.array(list(map(str.split, test_set.pixels)), np.float32) \n",
        "X_train = X_train.reshape(X_train.shape[0], 48, 48, 1) \n",
        "X_val = X_val.reshape(X_val.shape[0], 48, 48, 1)\n",
        "X_test = X_test.reshape(X_test.shape[0], 48, 48, 1)"
      ],
      "execution_count": 7,
      "outputs": []
    },
    {
      "cell_type": "code",
      "metadata": {
        "id": "MVqY8ftoriHW"
      },
      "source": [
        "num_classes = 7\n",
        "\n",
        "y_train = train_set.emotion \n",
        "y_train = np_utils.to_categorical(y_train, num_classes) \n",
        "y_val = val_set.emotion \n",
        "y_val = np_utils.to_categorical(y_val, num_classes) \n",
        "y_test = test_set.emotion \n",
        "y_test = np_utils.to_categorical(y_test, num_classes)"
      ],
      "execution_count": 8,
      "outputs": []
    },
    {
      "cell_type": "code",
      "metadata": {
        "colab": {
          "base_uri": "https://localhost:8080/"
        },
        "id": "WaMwvF5vrju-",
        "outputId": "3a7cbf52-3e2a-429f-c10d-5039bff79eeb"
      },
      "source": [
        "print(\"x_train:\",X_train.shape)\n",
        "print(\"y_train:\",y_train.shape)\n",
        "print(\"x_val:\",X_val.shape)\n",
        "print(\"y_val:\",y_val.shape)\n",
        "print(\"x_test:\",X_test.shape)\n",
        "print(\"y_test:\",y_test.shape)"
      ],
      "execution_count": 9,
      "outputs": [
        {
          "output_type": "stream",
          "text": [
            "x_train: (28709, 48, 48, 1)\n",
            "y_train: (28709, 7)\n",
            "x_val: (3589, 48, 48, 1)\n",
            "y_val: (3589, 7)\n",
            "x_test: (3589, 48, 48, 1)\n",
            "y_test: (3589, 7)\n"
          ],
          "name": "stdout"
        }
      ]
    },
    {
      "cell_type": "code",
      "metadata": {
        "id": "DzChH8hGrldw"
      },
      "source": [
        "#data augmentation\n",
        "datagen = ImageDataGenerator(rescale=1./255,\n",
        "                             rotation_range=10,\n",
        "                             width_shift_range=0.2,\n",
        "                             height_shift_range=0.2, \n",
        "                             zoom_range=0.2,\n",
        "                             horizontal_flip=True)\n",
        "\n",
        "#datagen = ImageDataGenerator(rescale=1./255)\n",
        "\n",
        "testgen = ImageDataGenerator(rescale=1./255)\n",
        "\n",
        "datagen.fit(X_train)\n",
        "batch_size = 64"
      ],
      "execution_count": 10,
      "outputs": []
    },
    {
      "cell_type": "code",
      "metadata": {
        "id": "d-nkOZUfrm_e"
      },
      "source": [
        "train_flow = datagen.flow(X_train, y_train, batch_size=batch_size) \n",
        "val_flow = testgen.flow(X_val, y_val, batch_size=batch_size) \n",
        "test_flow = testgen.flow(X_test, y_test, batch_size=batch_size)"
      ],
      "execution_count": 11,
      "outputs": []
    },
    {
      "cell_type": "code",
      "metadata": {
        "id": "3u6vR_8CroMG"
      },
      "source": [
        "from tensorflow.keras.utils import plot_model\n",
        "from matplotlib import pyplot"
      ],
      "execution_count": 12,
      "outputs": []
    },
    {
      "cell_type": "code",
      "metadata": {
        "colab": {
          "base_uri": "https://localhost:8080/",
          "height": 248
        },
        "id": "HZ6sB7a0rp0O",
        "outputId": "94c0bab9-d03c-40b5-f49f-942b001de398"
      },
      "source": [
        "#displaying sample images\n",
        "for X_batch, y_batch in datagen.flow(X_train, y_train, batch_size=9):\n",
        "    for i in range(0, 9): \n",
        "        pyplot.axis('off') \n",
        "        pyplot.subplot(330 + 1 + i) \n",
        "        pyplot.imshow(X_batch[i].reshape(48, 48), cmap=pyplot.get_cmap('gray'))\n",
        "    pyplot.axis('off') \n",
        "    pyplot.show() \n",
        "    break"
      ],
      "execution_count": 13,
      "outputs": [
        {
          "output_type": "display_data",
          "data": {
            "image/png": "[encoded data removed]",
            "text/plain": [
              "<Figure size 432x288 with 9 Axes>"
            ]
          },
          "metadata": {
            "tags": [],
            "needs_background": "light"
          }
        }
      ]
    },
    {
      "cell_type": "markdown",
      "metadata": {
        "id": "mH061hQUbJsv"
      },
      "source": [
        "# Training Model"
      ]
    },
    {
      "cell_type": "code",
      "metadata": {
        "id": "rxqJ_jM_mSTg"
      },
      "source": [
        "#Model Fix\n",
        "'''from keras.models import Sequential\n",
        "from keras.layers import Input, Dense, Flatten, Dropout, Conv2D, MaxPool2D, BatchNormalization, GlobalAveragePooling2D\n",
        "\n",
        "input_shape = (48, 48, 1)\n",
        "\n",
        "model = Sequential()\n",
        "\n",
        "model.add(Conv2D(filters=64,input_shape=(input_shape),kernel_size=(3,3),padding=\"same\", activation=\"relu\", kernel_initializer = glorot_uniform(seed=0)))\n",
        "model.add(BatchNormalization())\n",
        "model.add(Conv2D(filters=64,kernel_size=(3,3),padding=\"same\", activation=\"relu\", kernel_initializer = glorot_uniform(seed=0)))\n",
        "model.add(BatchNormalization())\n",
        "model.add(MaxPool2D(pool_size=(2,2),strides=(2,2)))\n",
        "model.add(Dropout(0.2))\n",
        "\n",
        "model.add(Conv2D(filters=128, kernel_size=(3,3), padding=\"same\", activation=\"relu\", kernel_initializer = glorot_uniform(seed=0)))\n",
        "model.add(BatchNormalization())\n",
        "model.add(Conv2D(filters=128, kernel_size=(3,3), padding=\"same\", activation=\"relu\", kernel_initializer = glorot_uniform(seed=0)))\n",
        "model.add(BatchNormalization())\n",
        "model.add(MaxPool2D(pool_size=(2,2),strides=(2,2)))\n",
        "model.add(Dropout(0.3))\n",
        "\n",
        "model.add(Conv2D(filters=256, kernel_size=(3,3), padding=\"same\", activation=\"relu\", kernel_initializer = glorot_uniform(seed=0)))\n",
        "model.add(BatchNormalization())\n",
        "model.add(Conv2D(filters=256, kernel_size=(3,3), padding=\"same\", activation=\"relu\", kernel_initializer = glorot_uniform(seed=0)))\n",
        "model.add(BatchNormalization())\n",
        "model.add(Conv2D(filters=256, kernel_size=(3,3), padding=\"same\", activation=\"relu\", kernel_initializer = glorot_uniform(seed=0)))\n",
        "model.add(BatchNormalization())\n",
        "model.add(MaxPool2D(pool_size=(2,2),strides=(2,2)))\n",
        "model.add(Dropout(0.4))\n",
        "\n",
        "model.add(Conv2D(filters=512, kernel_size=(3,3), padding=\"same\", activation=\"relu\", kernel_initializer = glorot_uniform(seed=0)))\n",
        "model.add(BatchNormalization())\n",
        "model.add(Conv2D(filters=512, kernel_size=(3,3), padding=\"same\", activation=\"relu\", kernel_initializer = glorot_uniform(seed=0)))\n",
        "model.add(BatchNormalization())\n",
        "model.add(Conv2D(filters=512, kernel_size=(3,3), padding=\"same\", activation=\"relu\", kernel_initializer = glorot_uniform(seed=0)))\n",
        "model.add(BatchNormalization())\n",
        "model.add(MaxPool2D(pool_size=(2,2),strides=(2,2)))\n",
        "model.add(Dropout(0.5))\n",
        "\n",
        "model.add(Conv2D(filters=512, kernel_size=(3,3), padding=\"same\", activation=\"relu\", kernel_initializer = glorot_uniform(seed=0)))\n",
        "model.add(BatchNormalization())\n",
        "model.add(Conv2D(filters=512, kernel_size=(3,3), padding=\"same\", activation=\"relu\", kernel_initializer = glorot_uniform(seed=0)))\n",
        "model.add(BatchNormalization())\n",
        "model.add(Conv2D(filters=512, kernel_size=(3,3), padding=\"same\", activation=\"relu\", kernel_initializer = glorot_uniform(seed=0)))\n",
        "model.add(BatchNormalization())\n",
        "model.add(MaxPool2D(pool_size=(2,2),strides=(2,2)))\n",
        "model.add(Dropout(0.6))\n",
        "\n",
        "#model.add(Flatten())\n",
        "model.add(GlobalAveragePooling2D())\n",
        "\n",
        "model.add(Dense(512,activation='relu'))\n",
        "model.add(Dropout(0.5))\n",
        "model.add(Dense(512,activation='relu'))\n",
        "model.add(Dropout(0.5))\n",
        "\n",
        "model.add(Dense(units=num_classes, activation='softmax'))\n",
        "\n",
        "# print the model summary\n",
        "model.summary()"
      ],
      "execution_count": null,
      "outputs": []
    },
    {
      "cell_type": "code",
      "metadata": {
        "colab": {
          "base_uri": "https://localhost:8080/"
        },
        "id": "U_xUOaqHI-wi",
        "outputId": "7c8c6a4e-829b-4cfe-ad20-f1495e1ee489"
      },
      "source": [
        "#Model ori\n",
        "from keras.models import Sequential\n",
        "from keras.layers import Input, Dense, Flatten, Conv2D, MaxPool2D\n",
        "\n",
        "input_shape = (48, 48, 1)\n",
        "\n",
        "model = Sequential()\n",
        "\n",
        "model.add(Conv2D(filters=64,input_shape=(input_shape),kernel_size=(3,3),padding=\"same\", activation=\"relu\", kernel_initializer = glorot_uniform(seed=0)))\n",
        "model.add(Conv2D(filters=64,kernel_size=(3,3),padding=\"same\", activation=\"relu\", kernel_initializer = glorot_uniform(seed=0)))\n",
        "model.add(MaxPool2D(pool_size=(2,2),strides=(2,2)))\n",
        "\n",
        "model.add(Conv2D(filters=128, kernel_size=(3,3), padding=\"same\", activation=\"relu\", kernel_initializer = glorot_uniform(seed=0)))\n",
        "model.add(Conv2D(filters=128, kernel_size=(3,3), padding=\"same\", activation=\"relu\", kernel_initializer = glorot_uniform(seed=0)))\n",
        "model.add(MaxPool2D(pool_size=(2,2),strides=(2,2)))\n",
        "\n",
        "model.add(Conv2D(filters=256, kernel_size=(3,3), padding=\"same\", activation=\"relu\", kernel_initializer = glorot_uniform(seed=0)))\n",
        "model.add(Conv2D(filters=256, kernel_size=(3,3), padding=\"same\", activation=\"relu\", kernel_initializer = glorot_uniform(seed=0)))\n",
        "model.add(Conv2D(filters=256, kernel_size=(3,3), padding=\"same\", activation=\"relu\", kernel_initializer = glorot_uniform(seed=1)))\n",
        "model.add(MaxPool2D(pool_size=(2,2),strides=(2,2)))\n",
        "\n",
        "model.add(Conv2D(filters=512, kernel_size=(3,3), padding=\"same\", activation=\"relu\", kernel_initializer = glorot_uniform(seed=0)))\n",
        "model.add(Conv2D(filters=512, kernel_size=(3,3), padding=\"same\", activation=\"relu\", kernel_initializer = glorot_uniform(seed=0)))\n",
        "model.add(Conv2D(filters=512, kernel_size=(3,3), padding=\"same\", activation=\"relu\", kernel_initializer = glorot_uniform(seed=0)))\n",
        "model.add(MaxPool2D(pool_size=(2,2),strides=(2,2)))\n",
        "\n",
        "model.add(Conv2D(filters=512, kernel_size=(3,3), padding=\"same\", activation=\"relu\", kernel_initializer = glorot_uniform(seed=0)))\n",
        "model.add(Conv2D(filters=512, kernel_size=(3,3), padding=\"same\", activation=\"relu\", kernel_initializer = glorot_uniform(seed=0)))\n",
        "model.add(Conv2D(filters=512, kernel_size=(3,3), padding=\"same\", activation=\"relu\", kernel_initializer = glorot_uniform(seed=0)))\n",
        "model.add(MaxPool2D(pool_size=(2,2),strides=(2,2)))\n",
        "\n",
        "model.add(Flatten())\n",
        "\n",
        "model.add(Dense(4096,activation='relu'))\n",
        "model.add(Dense(4096,activation='relu'))\n",
        "model.add(Dense(units=num_classes, activation='softmax'))\n",
        "\n",
        "# print the model summary\n",
        "model.summary()"
      ],
      "execution_count": 14,
      "outputs": [
        {
          "output_type": "stream",
          "text": [
            "Model: \"sequential\"\n",
            "_________________________________________________________________\n",
            "Layer (type)                 Output Shape              Param #   \n",
            "=================================================================\n",
            "conv2d (Conv2D)              (None, 48, 48, 64)        640       \n",
            "_________________________________________________________________\n",
            "conv2d_1 (Conv2D)            (None, 48, 48, 64)        36928     \n",
            "_________________________________________________________________\n",
            "max_pooling2d (MaxPooling2D) (None, 24, 24, 64)        0         \n",
            "_________________________________________________________________\n",
            "conv2d_2 (Conv2D)            (None, 24, 24, 128)       73856     \n",
            "_________________________________________________________________\n",
            "conv2d_3 (Conv2D)            (None, 24, 24, 128)       147584    \n",
            "_________________________________________________________________\n",
            "max_pooling2d_1 (MaxPooling2 (None, 12, 12, 128)       0         \n",
            "_________________________________________________________________\n",
            "conv2d_4 (Conv2D)            (None, 12, 12, 256)       295168    \n",
            "_________________________________________________________________\n",
            "conv2d_5 (Conv2D)            (None, 12, 12, 256)       590080    \n",
            "_________________________________________________________________\n",
            "conv2d_6 (Conv2D)            (None, 12, 12, 256)       590080    \n",
            "_________________________________________________________________\n",
            "max_pooling2d_2 (MaxPooling2 (None, 6, 6, 256)         0         \n",
            "_________________________________________________________________\n",
            "conv2d_7 (Conv2D)            (None, 6, 6, 512)         1180160   \n",
            "_________________________________________________________________\n",
            "conv2d_8 (Conv2D)            (None, 6, 6, 512)         2359808   \n",
            "_________________________________________________________________\n",
            "conv2d_9 (Conv2D)            (None, 6, 6, 512)         2359808   \n",
            "_________________________________________________________________\n",
            "max_pooling2d_3 (MaxPooling2 (None, 3, 3, 512)         0         \n",
            "_________________________________________________________________\n",
            "conv2d_10 (Conv2D)           (None, 3, 3, 512)         2359808   \n",
            "_________________________________________________________________\n",
            "conv2d_11 (Conv2D)           (None, 3, 3, 512)         2359808   \n",
            "_________________________________________________________________\n",
            "conv2d_12 (Conv2D)           (None, 3, 3, 512)         2359808   \n",
            "_________________________________________________________________\n",
            "max_pooling2d_4 (MaxPooling2 (None, 1, 1, 512)         0         \n",
            "_________________________________________________________________\n",
            "flatten (Flatten)            (None, 512)               0         \n",
            "_________________________________________________________________\n",
            "dense (Dense)                (None, 4096)              2101248   \n",
            "_________________________________________________________________\n",
            "dense_1 (Dense)              (None, 4096)              16781312  \n",
            "_________________________________________________________________\n",
            "dense_2 (Dense)              (None, 7)                 28679     \n",
            "=================================================================\n",
            "Total params: 33,624,775\n",
            "Trainable params: 33,624,775\n",
            "Non-trainable params: 0\n",
            "_________________________________________________________________\n"
          ],
          "name": "stdout"
        }
      ]
    },
    {
      "cell_type": "code",
      "metadata": {
        "id": "0S679DUacsgI"
      },
      "source": [
        "#save plot model to file\n",
        "from keras.utils.vis_utils import plot_model\n",
        "plot_model(model, to_file=\"model.png\", show_shapes=True, show_layer_names=False)"
      ],
      "execution_count": null,
      "outputs": []
    },
    {
      "cell_type": "code",
      "metadata": {
        "id": "LhxgJX3brul-"
      },
      "source": [
        "#compile model\n",
        "from keras.optimizers import Adam,SGD,RMSprop\n",
        "\n",
        "opt = RMSprop(learning_rate=0.0005)\n",
        "model.compile(loss='categorical_crossentropy', optimizer=opt, metrics=['accuracy'])"
      ],
      "execution_count": 15,
      "outputs": []
    },
    {
      "cell_type": "code",
      "metadata": {
        "colab": {
          "base_uri": "https://localhost:8080/"
        },
        "id": "ljPuPM2iryKG",
        "outputId": "708ebc18-018b-42e9-bce5-e346a6c9f514"
      },
      "source": [
        "# fit the model\n",
        "num_epochs = 50\n",
        "history = model.fit(train_flow, \n",
        "                    steps_per_epoch=len(X_train) // batch_size, \n",
        "                    epochs=num_epochs,  \n",
        "                    verbose=1,  \n",
        "                    validation_data=val_flow,  \n",
        "                    validation_steps=len(X_val) // batch_size)"
      ],
      "execution_count": 16,
      "outputs": [
        {
          "output_type": "stream",
          "text": [
            "Epoch 1/50\n",
            "448/448 [==============================] - 78s 72ms/step - loss: 1.8686 - accuracy: 0.2436 - val_loss: 1.8144 - val_accuracy: 0.2494\n",
            "Epoch 2/50\n",
            "448/448 [==============================] - 31s 69ms/step - loss: 1.8149 - accuracy: 0.2495 - val_loss: 1.8107 - val_accuracy: 0.2494\n",
            "Epoch 3/50\n",
            "448/448 [==============================] - 31s 69ms/step - loss: 1.8087 - accuracy: 0.2523 - val_loss: 1.8139 - val_accuracy: 0.2492\n",
            "Epoch 4/50\n",
            "448/448 [==============================] - 31s 69ms/step - loss: 1.8131 - accuracy: 0.2497 - val_loss: 1.8124 - val_accuracy: 0.2497\n",
            "Epoch 5/50\n",
            "448/448 [==============================] - 31s 69ms/step - loss: 1.8054 - accuracy: 0.2560 - val_loss: 1.8124 - val_accuracy: 0.2494\n",
            "Epoch 6/50\n",
            "448/448 [==============================] - 31s 69ms/step - loss: 1.8095 - accuracy: 0.2528 - val_loss: 1.8129 - val_accuracy: 0.2497\n",
            "Epoch 7/50\n",
            "448/448 [==============================] - 31s 70ms/step - loss: 1.8105 - accuracy: 0.2529 - val_loss: 1.8115 - val_accuracy: 0.2492\n",
            "Epoch 8/50\n",
            "448/448 [==============================] - 31s 69ms/step - loss: 1.8091 - accuracy: 0.2512 - val_loss: 1.8110 - val_accuracy: 0.2492\n",
            "Epoch 9/50\n",
            "448/448 [==============================] - 31s 69ms/step - loss: 1.8116 - accuracy: 0.2500 - val_loss: 1.8122 - val_accuracy: 0.2494\n",
            "Epoch 10/50\n",
            "448/448 [==============================] - 31s 70ms/step - loss: 1.8083 - accuracy: 0.2538 - val_loss: 1.8118 - val_accuracy: 0.2494\n",
            "Epoch 11/50\n",
            "448/448 [==============================] - 31s 69ms/step - loss: 1.8099 - accuracy: 0.2550 - val_loss: 1.8108 - val_accuracy: 0.2494\n",
            "Epoch 12/50\n",
            "448/448 [==============================] - 31s 69ms/step - loss: 1.8082 - accuracy: 0.2542 - val_loss: 1.8106 - val_accuracy: 0.2494\n",
            "Epoch 13/50\n",
            "448/448 [==============================] - 31s 70ms/step - loss: 1.8131 - accuracy: 0.2481 - val_loss: 1.8127 - val_accuracy: 0.2494\n",
            "Epoch 14/50\n",
            "448/448 [==============================] - 31s 70ms/step - loss: 1.8091 - accuracy: 0.2551 - val_loss: 1.8110 - val_accuracy: 0.2497\n",
            "Epoch 15/50\n",
            "448/448 [==============================] - 31s 69ms/step - loss: 1.8117 - accuracy: 0.2497 - val_loss: 1.8132 - val_accuracy: 0.2497\n",
            "Epoch 16/50\n",
            "448/448 [==============================] - 31s 70ms/step - loss: 1.8130 - accuracy: 0.2508 - val_loss: 1.8128 - val_accuracy: 0.2494\n",
            "Epoch 17/50\n",
            "448/448 [==============================] - 31s 69ms/step - loss: 1.8144 - accuracy: 0.2466 - val_loss: 1.8123 - val_accuracy: 0.2492\n",
            "Epoch 18/50\n",
            "448/448 [==============================] - 31s 69ms/step - loss: 1.8065 - accuracy: 0.2552 - val_loss: 1.8111 - val_accuracy: 0.2494\n",
            "Epoch 19/50\n",
            "448/448 [==============================] - 31s 69ms/step - loss: 1.8091 - accuracy: 0.2534 - val_loss: 1.8117 - val_accuracy: 0.2494\n",
            "Epoch 20/50\n",
            "448/448 [==============================] - 31s 69ms/step - loss: 1.8081 - accuracy: 0.2510 - val_loss: 1.8115 - val_accuracy: 0.2497\n",
            "Epoch 21/50\n",
            "448/448 [==============================] - 31s 70ms/step - loss: 1.8107 - accuracy: 0.2516 - val_loss: 1.8119 - val_accuracy: 0.2497\n",
            "Epoch 22/50\n",
            "448/448 [==============================] - 31s 70ms/step - loss: 1.8109 - accuracy: 0.2505 - val_loss: 1.8113 - val_accuracy: 0.2494\n",
            "Epoch 23/50\n",
            "448/448 [==============================] - 31s 69ms/step - loss: 1.8117 - accuracy: 0.2525 - val_loss: 1.8121 - val_accuracy: 0.2492\n",
            "Epoch 24/50\n",
            "448/448 [==============================] - 31s 70ms/step - loss: 1.8112 - accuracy: 0.2501 - val_loss: 1.8116 - val_accuracy: 0.2492\n",
            "Epoch 25/50\n",
            "448/448 [==============================] - 31s 70ms/step - loss: 1.8076 - accuracy: 0.2521 - val_loss: 1.8132 - val_accuracy: 0.2489\n",
            "Epoch 26/50\n",
            "448/448 [==============================] - 32s 70ms/step - loss: 1.8061 - accuracy: 0.2557 - val_loss: 1.8129 - val_accuracy: 0.2492\n",
            "Epoch 27/50\n",
            "448/448 [==============================] - 31s 70ms/step - loss: 1.8057 - accuracy: 0.2535 - val_loss: 1.8116 - val_accuracy: 0.2497\n",
            "Epoch 28/50\n",
            "448/448 [==============================] - 31s 70ms/step - loss: 1.8107 - accuracy: 0.2545 - val_loss: 1.8121 - val_accuracy: 0.2494\n",
            "Epoch 29/50\n",
            "448/448 [==============================] - 31s 69ms/step - loss: 1.8095 - accuracy: 0.2546 - val_loss: 1.8119 - val_accuracy: 0.2494\n",
            "Epoch 30/50\n",
            "448/448 [==============================] - 31s 69ms/step - loss: 1.8084 - accuracy: 0.2506 - val_loss: 1.8116 - val_accuracy: 0.2494\n",
            "Epoch 31/50\n",
            "448/448 [==============================] - 31s 70ms/step - loss: 1.8080 - accuracy: 0.2523 - val_loss: 1.8113 - val_accuracy: 0.2497\n",
            "Epoch 32/50\n",
            "448/448 [==============================] - 31s 70ms/step - loss: 1.8156 - accuracy: 0.2457 - val_loss: 1.8133 - val_accuracy: 0.2497\n",
            "Epoch 33/50\n",
            "448/448 [==============================] - 31s 70ms/step - loss: 1.8093 - accuracy: 0.2508 - val_loss: 1.8113 - val_accuracy: 0.2492\n",
            "Epoch 34/50\n",
            "448/448 [==============================] - 31s 70ms/step - loss: 1.8131 - accuracy: 0.2497 - val_loss: 1.8106 - val_accuracy: 0.2497\n",
            "Epoch 35/50\n",
            "448/448 [==============================] - 31s 70ms/step - loss: 1.8132 - accuracy: 0.2473 - val_loss: 1.8123 - val_accuracy: 0.2494\n",
            "Epoch 36/50\n",
            "448/448 [==============================] - 31s 70ms/step - loss: 1.8104 - accuracy: 0.2512 - val_loss: 1.8119 - val_accuracy: 0.2492\n",
            "Epoch 37/50\n",
            "448/448 [==============================] - 31s 70ms/step - loss: 1.8112 - accuracy: 0.2531 - val_loss: 1.8108 - val_accuracy: 0.2494\n",
            "Epoch 38/50\n",
            "448/448 [==============================] - 31s 70ms/step - loss: 1.8109 - accuracy: 0.2474 - val_loss: 1.8116 - val_accuracy: 0.2492\n",
            "Epoch 39/50\n",
            "448/448 [==============================] - 31s 70ms/step - loss: 1.8095 - accuracy: 0.2501 - val_loss: 1.8123 - val_accuracy: 0.2489\n",
            "Epoch 40/50\n",
            "448/448 [==============================] - 31s 70ms/step - loss: 1.8096 - accuracy: 0.2499 - val_loss: 1.8115 - val_accuracy: 0.2492\n",
            "Epoch 41/50\n",
            "448/448 [==============================] - 31s 69ms/step - loss: 1.8114 - accuracy: 0.2521 - val_loss: 1.8116 - val_accuracy: 0.2497\n",
            "Epoch 42/50\n",
            "448/448 [==============================] - 31s 70ms/step - loss: 1.8126 - accuracy: 0.2506 - val_loss: 1.8124 - val_accuracy: 0.2492\n",
            "Epoch 43/50\n",
            "448/448 [==============================] - 31s 70ms/step - loss: 1.8120 - accuracy: 0.2508 - val_loss: 1.8126 - val_accuracy: 0.2492\n",
            "Epoch 44/50\n",
            "448/448 [==============================] - 31s 70ms/step - loss: 1.8083 - accuracy: 0.2539 - val_loss: 1.8112 - val_accuracy: 0.2494\n",
            "Epoch 45/50\n",
            "448/448 [==============================] - 31s 70ms/step - loss: 1.8107 - accuracy: 0.2502 - val_loss: 1.8134 - val_accuracy: 0.2497\n",
            "Epoch 46/50\n",
            "448/448 [==============================] - 32s 71ms/step - loss: 1.8078 - accuracy: 0.2499 - val_loss: 1.8121 - val_accuracy: 0.2492\n",
            "Epoch 47/50\n",
            "448/448 [==============================] - 31s 70ms/step - loss: 1.8090 - accuracy: 0.2489 - val_loss: 1.8118 - val_accuracy: 0.2494\n",
            "Epoch 48/50\n",
            "448/448 [==============================] - 31s 70ms/step - loss: 1.8075 - accuracy: 0.2542 - val_loss: 1.8111 - val_accuracy: 0.2497\n",
            "Epoch 49/50\n",
            "448/448 [==============================] - 31s 70ms/step - loss: 1.8115 - accuracy: 0.2531 - val_loss: 1.8124 - val_accuracy: 0.2494\n",
            "Epoch 50/50\n",
            "448/448 [==============================] - 31s 70ms/step - loss: 1.8086 - accuracy: 0.2557 - val_loss: 1.8114 - val_accuracy: 0.2494\n"
          ],
          "name": "stdout"
        }
      ]
    },
    {
      "cell_type": "markdown",
      "metadata": {
        "id": "zdn-Ud-Ca4LG"
      },
      "source": [
        "# Evaluate"
      ]
    },
    {
      "cell_type": "code",
      "metadata": {
        "id": "d8D97Qq4bUxn",
        "colab": {
          "base_uri": "https://localhost:8080/",
          "height": 573
        },
        "outputId": "8aba995f-4241-4072-9cae-c89241d161f2"
      },
      "source": [
        "accuracy = history.history['accuracy']\n",
        "val_accuracy = history.history['val_accuracy']\n",
        "loss = history.history['loss']\n",
        "val_loss = history.history['val_loss']\n",
        "num_epochs = range(len(accuracy))\n",
        "plt.plot(num_epochs, accuracy, 'r', label='Training acc')\n",
        "plt.plot(num_epochs, val_accuracy, 'b', label='Validation acc')\n",
        "plt.title('Training and validation accuracy')\n",
        "plt.ylabel('accuracy')  \n",
        "plt.xlabel('epoch')\n",
        "plt.legend()\n",
        "plt.figure()\n",
        "plt.plot(num_epochs, loss, 'r', label='Training loss')\n",
        "plt.plot(num_epochs, val_loss, 'b', label='Validation loss')\n",
        "plt.title('Training and validation loss')\n",
        "plt.ylabel('loss')  \n",
        "plt.xlabel('epoch')\n",
        "plt.legend()\n",
        "plt.show()"
      ],
      "execution_count": 17,
      "outputs": [
        {
          "output_type": "display_data",
          "data": {
            "image/png": "[encoded data removed]",
            "text/plain": [
              "<Figure size 432x288 with 1 Axes>"
            ]
          },
          "metadata": {
            "tags": [],
            "needs_background": "light"
          }
        },
        {
          "output_type": "display_data",
          "data": {
            "image/png": "[encoded data removed]",
            "text/plain": [
              "<Figure size 432x288 with 1 Axes>"
            ]
          },
          "metadata": {
            "tags": [],
            "needs_background": "light"
          }
        }
      ]
    },
    {
      "cell_type": "code",
      "metadata": {
        "id": "v2FEkE4pr8vN",
        "colab": {
          "base_uri": "https://localhost:8080/"
        },
        "outputId": "af128a2c-6683-4e51-d4e2-ed3a9fa9938b"
      },
      "source": [
        "trainloss = model.evaluate(train_flow, steps=len(X_train) / batch_size) \n",
        "print(\"Train Loss \" + str(trainloss[0]))\n",
        "print(\"Train Acc: \" + str(trainloss[1]))\n",
        "valloss = model.evaluate(val_flow, steps=len(X_val) / batch_size) \n",
        "print(\"Val Loss \" + str(valloss[0]))\n",
        "print(\"Val Acc: \" + str(valloss[1]))\n",
        "testloss = model.evaluate(test_flow, steps=len(X_test) / batch_size) \n",
        "print(\"Test Loss \" + str(testloss[0]))\n",
        "print(\"Test Acc: \" + str(testloss[1]))"
      ],
      "execution_count": 18,
      "outputs": [
        {
          "output_type": "stream",
          "text": [
            "448/448 [==============================] - 14s 31ms/step - loss: 1.8098 - accuracy: 0.2513\n",
            "Train Loss 1.8097580671310425\n",
            "Train Acc: 0.2513149082660675\n",
            "56/56 [==============================] - 1s 25ms/step - loss: 1.8115 - accuracy: 0.2494\n",
            "Val Loss 1.811458706855774\n",
            "Val Acc: 0.24937307834625244\n",
            "56/56 [==============================] - 1s 18ms/step - loss: 1.8151 - accuracy: 0.2449\n",
            "Test Loss 1.8150779008865356\n",
            "Test Acc: 0.24491502344608307\n"
          ],
          "name": "stdout"
        }
      ]
    },
    {
      "cell_type": "code",
      "metadata": {
        "id": "ChuRTIjeFBXJ"
      },
      "source": [
        "def plot_confusion_matrix(y_test, y_pred, classes,\n",
        "                          normalize=False,\n",
        "                          title='Unnormalized confusion matrix',\n",
        "                          cmap=plt.cm.Blues):\n",
        "    cm = confusion_matrix(y_test, y_pred)\n",
        "    \n",
        "    if normalize:\n",
        "        cm = np.round(cm.astype('float') / cm.sum(axis=1)[:, np.newaxis], 2)\n",
        "        \n",
        "    np.set_printoptions(precision=2)\n",
        "    \n",
        "    plt.rcParams[\"figure.figsize\"] = (8,8)  \n",
        "    plt.imshow(cm, interpolation='nearest', cmap=cmap)\n",
        "    plt.title(title)\n",
        "    plt.colorbar()\n",
        "    tick_marks = np.arange(len(classes))\n",
        "    plt.xticks(tick_marks, classes, rotation=45)\n",
        "    plt.yticks(tick_marks, classes)\n",
        "\n",
        "    thresh = cm.min() + (cm.max() - cm.min()) / 2.\n",
        "    for i, j in itertools.product(range(cm.shape[0]), range(cm.shape[1])):\n",
        "        plt.text(j, i, cm[i, j],\n",
        "                 horizontalalignment=\"center\",\n",
        "                 color=\"white\" if cm[i, j] > thresh else \"black\")\n",
        "\n",
        "    plt.tight_layout()\n",
        "    plt.ylabel('True expression')\n",
        "    plt.xlabel('Predicted expression')\n",
        "    plt.show()"
      ],
      "execution_count": 19,
      "outputs": []
    },
    {
      "cell_type": "code",
      "metadata": {
        "id": "hAiFwTR_FCpW",
        "colab": {
          "base_uri": "https://localhost:8080/"
        },
        "outputId": "60023433-6cf6-4037-e70d-8cd0db0bce5a"
      },
      "source": [
        "y_pred_ = model.predict(X_test/255., verbose=1)\n",
        "y_pred = np.argmax(y_pred_, axis=1)\n",
        "t_te = np.argmax(y_test, axis=1)"
      ],
      "execution_count": 20,
      "outputs": [
        {
          "output_type": "stream",
          "text": [
            "113/113 [==============================] - 2s 11ms/step\n"
          ],
          "name": "stdout"
        }
      ]
    },
    {
      "cell_type": "code",
      "metadata": {
        "id": "CZiiWYfQ7yVt",
        "colab": {
          "base_uri": "https://localhost:8080/",
          "height": 585
        },
        "outputId": "1f9a68bc-e1dd-4123-83e1-c35dfe3cb2c6"
      },
      "source": [
        "from sklearn.metrics import confusion_matrix, classification_report\n",
        "import itertools\n",
        "\n",
        "fig = plot_confusion_matrix(y_test=t_te, y_pred=y_pred,\n",
        "                      classes=labels,\n",
        "                      normalize=True,\n",
        "                      cmap=plt.cm.Blues,\n",
        "                      title='Average accuracy: ' + str(np.sum(y_pred == t_te)/len(t_te)) + '\\n')"
      ],
      "execution_count": 21,
      "outputs": [
        {
          "output_type": "display_data",
          "data": {
            "image/png": "[encoded data removed]",
            "text/plain": [
              "<Figure size 576x576 with 2 Axes>"
            ]
          },
          "metadata": {
            "tags": [],
            "needs_background": "light"
          }
        }
      ]
    },
    {
      "cell_type": "code",
      "metadata": {
        "id": "4vauS7IKbqNG",
        "colab": {
          "base_uri": "https://localhost:8080/"
        },
        "outputId": "d0f7be51-8669-4fe6-fbd1-dff591b23f66"
      },
      "source": [
        "emotions = {0: 'Angry', 1: 'Disgust', 2: 'Fear', 3: 'Happy', 4: 'Sad', 5: 'Surprise', 6: 'Neutral'}\n",
        "print(classification_report(t_te, y_pred, target_names=emotions.values()))"
      ],
      "execution_count": 22,
      "outputs": [
        {
          "output_type": "stream",
          "text": [
            "              precision    recall  f1-score   support\n",
            "\n",
            "       Angry       0.00      0.00      0.00       491\n",
            "     Disgust       0.00      0.00      0.00        55\n",
            "        Fear       0.00      0.00      0.00       528\n",
            "       Happy       0.24      1.00      0.39       879\n",
            "         Sad       0.00      0.00      0.00       594\n",
            "    Surprise       0.00      0.00      0.00       416\n",
            "     Neutral       0.00      0.00      0.00       626\n",
            "\n",
            "    accuracy                           0.24      3589\n",
            "   macro avg       0.03      0.14      0.06      3589\n",
            "weighted avg       0.06      0.24      0.10      3589\n",
            "\n"
          ],
          "name": "stdout"
        },
        {
          "output_type": "stream",
          "text": [
            "/usr/local/lib/python3.7/dist-packages/sklearn/metrics/_classification.py:1272: UndefinedMetricWarning: Precision and F-score are ill-defined and being set to 0.0 in labels with no predicted samples. Use `zero_division` parameter to control this behavior.\n",
            "  _warn_prf(average, modifier, msg_start, len(result))\n"
          ],
          "name": "stderr"
        }
      ]
    },
    {
      "cell_type": "code",
      "metadata": {
        "id": "KKWxaaYRba3j",
        "colab": {
          "base_uri": "https://localhost:8080/"
        },
        "outputId": "4c3f3bd5-a4a9-4de1-df23-4437bab75968"
      },
      "source": [
        "model.save(\"/content/drive/MyDrive/Colab Notebooks/Model/ModelVGG16_RMSprop0.0005_epoch50_Aug.h5\")\n",
        "print(\"saved\")"
      ],
      "execution_count": 23,
      "outputs": [
        {
          "output_type": "stream",
          "text": [
            "saved\n"
          ],
          "name": "stdout"
        }
      ]
    },
    {
      "cell_type": "markdown",
      "metadata": {
        "id": "aqLRhlr4b7t5"
      },
      "source": [
        "#Load Model"
      ]
    },
    {
      "cell_type": "code",
      "metadata": {
        "id": "J45lyUtcJ-6F",
        "colab": {
          "base_uri": "https://localhost:8080/"
        },
        "outputId": "e5715946-d32a-486d-c0be-a54e36b1174a"
      },
      "source": [
        "from keras.models import load_model\n",
        "model_load = load_model('/content/drive/MyDrive/Colab Notebooks/Model/ModelVGG16_RMSprop0.0005_epoch50_Aug.h5')\n",
        "\n",
        "model_load.summary()"
      ],
      "execution_count": 24,
      "outputs": [
        {
          "output_type": "stream",
          "text": [
            "Model: \"sequential\"\n",
            "_________________________________________________________________\n",
            "Layer (type)                 Output Shape              Param #   \n",
            "=================================================================\n",
            "conv2d (Conv2D)              (None, 48, 48, 64)        640       \n",
            "_________________________________________________________________\n",
            "conv2d_1 (Conv2D)            (None, 48, 48, 64)        36928     \n",
            "_________________________________________________________________\n",
            "max_pooling2d (MaxPooling2D) (None, 24, 24, 64)        0         \n",
            "_________________________________________________________________\n",
            "conv2d_2 (Conv2D)            (None, 24, 24, 128)       73856     \n",
            "_________________________________________________________________\n",
            "conv2d_3 (Conv2D)            (None, 24, 24, 128)       147584    \n",
            "_________________________________________________________________\n",
            "max_pooling2d_1 (MaxPooling2 (None, 12, 12, 128)       0         \n",
            "_________________________________________________________________\n",
            "conv2d_4 (Conv2D)            (None, 12, 12, 256)       295168    \n",
            "_________________________________________________________________\n",
            "conv2d_5 (Conv2D)            (None, 12, 12, 256)       590080    \n",
            "_________________________________________________________________\n",
            "conv2d_6 (Conv2D)            (None, 12, 12, 256)       590080    \n",
            "_________________________________________________________________\n",
            "max_pooling2d_2 (MaxPooling2 (None, 6, 6, 256)         0         \n",
            "_________________________________________________________________\n",
            "conv2d_7 (Conv2D)            (None, 6, 6, 512)         1180160   \n",
            "_________________________________________________________________\n",
            "conv2d_8 (Conv2D)            (None, 6, 6, 512)         2359808   \n",
            "_________________________________________________________________\n",
            "conv2d_9 (Conv2D)            (None, 6, 6, 512)         2359808   \n",
            "_________________________________________________________________\n",
            "max_pooling2d_3 (MaxPooling2 (None, 3, 3, 512)         0         \n",
            "_________________________________________________________________\n",
            "conv2d_10 (Conv2D)           (None, 3, 3, 512)         2359808   \n",
            "_________________________________________________________________\n",
            "conv2d_11 (Conv2D)           (None, 3, 3, 512)         2359808   \n",
            "_________________________________________________________________\n",
            "conv2d_12 (Conv2D)           (None, 3, 3, 512)         2359808   \n",
            "_________________________________________________________________\n",
            "max_pooling2d_4 (MaxPooling2 (None, 1, 1, 512)         0         \n",
            "_________________________________________________________________\n",
            "flatten (Flatten)            (None, 512)               0         \n",
            "_________________________________________________________________\n",
            "dense (Dense)                (None, 4096)              2101248   \n",
            "_________________________________________________________________\n",
            "dense_1 (Dense)              (None, 4096)              16781312  \n",
            "_________________________________________________________________\n",
            "dense_2 (Dense)              (None, 7)                 28679     \n",
            "=================================================================\n",
            "Total params: 33,624,775\n",
            "Trainable params: 33,624,775\n",
            "Non-trainable params: 0\n",
            "_________________________________________________________________\n"
          ],
          "name": "stdout"
        }
      ]
    },
    {
      "cell_type": "code",
      "metadata": {
        "id": "nQd7m45qfWBW",
        "colab": {
          "base_uri": "https://localhost:8080/"
        },
        "outputId": "7de4cc84-10d4-4373-e275-ba32c4226c9d"
      },
      "source": [
        "trainloss = model_load.evaluate(train_flow, steps=len(X_train) / batch_size) \n",
        "print(\"Train Loss \" + str(trainloss[0]))\n",
        "print(\"Train Acc: \" + str(trainloss[1]))\n",
        "valloss = model_load.evaluate(val_flow, steps=len(X_val) / batch_size) \n",
        "print(\"Val Loss \" + str(valloss[0]))\n",
        "print(\"Val Acc: \" + str(valloss[1]))\n",
        "testloss = model_load.evaluate(test_flow, steps=len(X_test) / batch_size) \n",
        "print(\"Test Loss \" + str(testloss[0]))\n",
        "print(\"Test Acc: \" + str(testloss[1]))"
      ],
      "execution_count": 25,
      "outputs": [
        {
          "output_type": "stream",
          "text": [
            "448/448 [==============================] - 16s 34ms/step - loss: 1.8098 - accuracy: 0.2513\n",
            "Train Loss 1.8097584247589111\n",
            "Train Acc: 0.2513149082660675\n",
            "56/56 [==============================] - 1s 20ms/step - loss: 1.8115 - accuracy: 0.2494\n",
            "Val Loss 1.8114585876464844\n",
            "Val Acc: 0.24937307834625244\n",
            "56/56 [==============================] - 1s 18ms/step - loss: 1.8151 - accuracy: 0.2449\n",
            "Test Loss 1.8150779008865356\n",
            "Test Acc: 0.24491502344608307\n"
          ],
          "name": "stdout"
        }
      ]
    },
    {
      "cell_type": "code",
      "metadata": {
        "id": "kSd2i1YBFFJ2"
      },
      "source": [
        "def plot_confusion_matrix(y_test, y_pred, classes,\n",
        "                          normalize=False,\n",
        "                          title='Unnormalized confusion matrix',\n",
        "                          cmap=plt.cm.Blues):\n",
        "    cm = confusion_matrix(y_test, y_pred)\n",
        "    \n",
        "    if normalize:\n",
        "        cm = np.round(cm.astype('float') / cm.sum(axis=1)[:, np.newaxis], 2)\n",
        "        \n",
        "    np.set_printoptions(precision=2)\n",
        "        \n",
        "    plt.rcParams[\"figure.figsize\"] = (8,8)\n",
        "    plt.imshow(cm, interpolation='nearest', cmap=cmap)\n",
        "    plt.title(title)\n",
        "    plt.colorbar()\n",
        "    tick_marks = np.arange(len(classes))\n",
        "    plt.xticks(tick_marks, classes, rotation=45)\n",
        "    plt.yticks(tick_marks, classes)\n",
        "\n",
        "    thresh = cm.min() + (cm.max() - cm.min()) / 2.\n",
        "    for i, j in itertools.product(range(cm.shape[0]), range(cm.shape[1])):\n",
        "        plt.text(j, i, cm[i, j],\n",
        "                 horizontalalignment=\"center\",\n",
        "                 color=\"white\" if cm[i, j] > thresh else \"black\")\n",
        "\n",
        "    plt.tight_layout()\n",
        "    plt.ylabel('True expression')\n",
        "    plt.xlabel('Predicted expression')\n",
        "    plt.show()"
      ],
      "execution_count": 26,
      "outputs": []
    },
    {
      "cell_type": "code",
      "metadata": {
        "id": "1XLskQQMFGOX",
        "colab": {
          "base_uri": "https://localhost:8080/"
        },
        "outputId": "a5fa6387-5120-42fe-82f8-4a270778caa3"
      },
      "source": [
        "y_pred_ = model_load.predict(X_test/255., verbose=1)\n",
        "y_pred = np.argmax(y_pred_, axis=1)\n",
        "t_te = np.argmax(y_test, axis=1)"
      ],
      "execution_count": 27,
      "outputs": [
        {
          "output_type": "stream",
          "text": [
            "113/113 [==============================] - 2s 11ms/step\n"
          ],
          "name": "stdout"
        }
      ]
    },
    {
      "cell_type": "code",
      "metadata": {
        "id": "k0FjKZ6IFHat",
        "colab": {
          "base_uri": "https://localhost:8080/",
          "height": 585
        },
        "outputId": "ed638a2a-44b0-4258-b64e-9cdec8feeed8"
      },
      "source": [
        "from sklearn.metrics import confusion_matrix, classification_report\n",
        "import itertools\n",
        "\n",
        "fig = plot_confusion_matrix(y_test=t_te, y_pred=y_pred,\n",
        "                      classes=labels,\n",
        "                      normalize=True,\n",
        "                      cmap=plt.cm.Blues,\n",
        "                      title='Average accuracy: ' + str(np.sum(y_pred == t_te)/len(t_te)) + '\\n')"
      ],
      "execution_count": 28,
      "outputs": [
        {
          "output_type": "display_data",
          "data": {
            "image/png": "[encoded data removed]",
            "text/plain": [
              "<Figure size 576x576 with 2 Axes>"
            ]
          },
          "metadata": {
            "tags": [],
            "needs_background": "light"
          }
        }
      ]
    },
    {
      "cell_type": "code",
      "metadata": {
        "id": "NaoOE0okFIUd",
        "colab": {
          "base_uri": "https://localhost:8080/"
        },
        "outputId": "1be003e9-7570-47fe-fce7-6ddef505af49"
      },
      "source": [
        "emotions = {0: 'Angry', 1: 'Disgust', 2: 'Fear', 3: 'Happy', 4: 'Sad', 5: 'Surprise', 6: 'Neutral'}\n",
        "print(classification_report(t_te, y_pred, target_names=emotions.values()))"
      ],
      "execution_count": 29,
      "outputs": [
        {
          "output_type": "stream",
          "text": [
            "              precision    recall  f1-score   support\n",
            "\n",
            "       Angry       0.00      0.00      0.00       491\n",
            "     Disgust       0.00      0.00      0.00        55\n",
            "        Fear       0.00      0.00      0.00       528\n",
            "       Happy       0.24      1.00      0.39       879\n",
            "         Sad       0.00      0.00      0.00       594\n",
            "    Surprise       0.00      0.00      0.00       416\n",
            "     Neutral       0.00      0.00      0.00       626\n",
            "\n",
            "    accuracy                           0.24      3589\n",
            "   macro avg       0.03      0.14      0.06      3589\n",
            "weighted avg       0.06      0.24      0.10      3589\n",
            "\n"
          ],
          "name": "stdout"
        },
        {
          "output_type": "stream",
          "text": [
            "/usr/local/lib/python3.7/dist-packages/sklearn/metrics/_classification.py:1272: UndefinedMetricWarning: Precision and F-score are ill-defined and being set to 0.0 in labels with no predicted samples. Use `zero_division` parameter to control this behavior.\n",
            "  _warn_prf(average, modifier, msg_start, len(result))\n"
          ],
          "name": "stderr"
        }
      ]
    }
  ]
}